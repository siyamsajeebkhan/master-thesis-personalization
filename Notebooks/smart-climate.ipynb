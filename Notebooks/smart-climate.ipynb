{
 "cells": [
  {
   "cell_type": "code",
   "execution_count": 1,
   "metadata": {},
   "outputs": [],
   "source": [
    "import pandas as pd\n",
    "import numpy as np\n",
    "import os\n",
    "from matplotlib import pyplot as pyplot\n",
    "import seaborn as sns"
   ]
  },
  {
   "cell_type": "code",
   "execution_count": 2,
   "metadata": {},
   "outputs": [],
   "source": [
    "smart_climate_data_path = \"/home/q621464/Desktop/Thesis/code/decision-transformer/gym/data/smart-climate/t_airflow_control_2022.csv\""
   ]
  },
  {
   "cell_type": "code",
   "execution_count": 3,
   "metadata": {},
   "outputs": [
    {
     "data": {
      "text/plain": [
       "(10, 69)"
      ]
     },
     "execution_count": 3,
     "metadata": {},
     "output_type": "execute_result"
    }
   ],
   "source": [
    "climate_data = pd.read_csv(smart_climate_data_path)\n",
    "climate_data.shape"
   ]
  },
  {
   "cell_type": "code",
   "execution_count": 5,
   "metadata": {},
   "outputs": [
    {
     "data": {
      "text/plain": [
       "Index(['c_van17', 'c_driveid', 'c_drive_timestamp_start',\n",
       "       'c_drive_timestamp_stop', 'c_msg_creation_timestamp', 'c_target_temp',\n",
       "       'c_blower_combined', 'c_air_mode_combined', 'c_blower_level',\n",
       "       'c_min_diff_ms_blower_level', 'c_blower_style',\n",
       "       'c_min_diff_ms_blower_style', 'c_air_dist', 'c_min_diff_ms_air_dist',\n",
       "       'c_auto_mode', 'c_min_diff_ms_auto_mode', 'c_pwf', 'c_pwf_group',\n",
       "       'c_row_number_drive', 'c_number_of_rows_drive',\n",
       "       'c_only_driving_duration_sec', 'c_event_duration_sec',\n",
       "       'c_min_diff_ms_target_temp', 'c_min_exteriortemperature_celsius',\n",
       "       'c_exteriortemperature_avg_celsius',\n",
       "       'c_max_exteriortemperature_celsius',\n",
       "       'c_interiortemperature_startup_celsius', 'c_drive_duration_sec',\n",
       "       'c_drive_duration_minutes', 'c_drive_weekday', 'c_year_month_day',\n",
       "       'c_weekofyear_year', 'c_weekend_drive', 'c_vehicle_live_time_days',\n",
       "       'c_avg_drives_per_day', 'c_avg_drives_per_week',\n",
       "       'c_avg_drives_per_month', 'c_timezonedelta', 'c_gpsregion_city_drive',\n",
       "       'c_gpsregion_lat_drive', 'c_gpsregion_long_drive',\n",
       "       'c_gpsregion_geohash_drive', 'c_gps_data_source', 'c_hub',\n",
       "       'c_country_iso_code', 'c_order_country', 'c_brand', 'c_derivat',\n",
       "       'c_marketing_name', 'c_steering_wheel_position', 'c_product_line',\n",
       "       'c_hybridkennzeichen', 'c_fuel_type_corrected_description',\n",
       "       'c_vehicle_class', 'c_script_version', 'c_mean_speed',\n",
       "       'c_mileage_start', 'c_mileage_stop', 'c_mileage_delta',\n",
       "       'c_bcbehvenergystart_kwh', 'c_bcbehvenergyend_kwh',\n",
       "       'c_drive_number_per_car', 'c_number_of_drives_per_car', 'c_gcad',\n",
       "       'c_is_active_profile', 'c_is_guest_profile', 'c_touchscreen_used',\n",
       "       'c_touchscreen_used_count', 'c_first_last_mode'],\n",
       "      dtype='object')"
      ]
     },
     "execution_count": 5,
     "metadata": {},
     "output_type": "execute_result"
    }
   ],
   "source": [
    "climate_data.columns"
   ]
  },
  {
   "cell_type": "code",
   "execution_count": 10,
   "metadata": {},
   "outputs": [
    {
     "data": {
      "text/html": [
       "<div>\n",
       "<style scoped>\n",
       "    .dataframe tbody tr th:only-of-type {\n",
       "        vertical-align: middle;\n",
       "    }\n",
       "\n",
       "    .dataframe tbody tr th {\n",
       "        vertical-align: top;\n",
       "    }\n",
       "\n",
       "    .dataframe thead th {\n",
       "        text-align: right;\n",
       "    }\n",
       "</style>\n",
       "<table border=\"1\" class=\"dataframe\">\n",
       "  <thead>\n",
       "    <tr style=\"text-align: right;\">\n",
       "      <th></th>\n",
       "      <th>c_van17</th>\n",
       "      <th>c_driveid</th>\n",
       "      <th>c_drive_timestamp_start</th>\n",
       "      <th>c_drive_timestamp_stop</th>\n",
       "      <th>c_msg_creation_timestamp</th>\n",
       "      <th>c_target_temp</th>\n",
       "      <th>c_blower_combined</th>\n",
       "      <th>c_air_mode_combined</th>\n",
       "      <th>c_blower_level</th>\n",
       "      <th>c_min_diff_ms_blower_level</th>\n",
       "      <th>...</th>\n",
       "      <th>c_bcbehvenergystart_kwh</th>\n",
       "      <th>c_bcbehvenergyend_kwh</th>\n",
       "      <th>c_drive_number_per_car</th>\n",
       "      <th>c_number_of_drives_per_car</th>\n",
       "      <th>c_gcad</th>\n",
       "      <th>c_is_active_profile</th>\n",
       "      <th>c_is_guest_profile</th>\n",
       "      <th>c_touchscreen_used</th>\n",
       "      <th>c_touchscreen_used_count</th>\n",
       "      <th>c_first_last_mode</th>\n",
       "    </tr>\n",
       "  </thead>\n",
       "  <tbody>\n",
       "    <tr>\n",
       "      <th>0</th>\n",
       "      <td>AAK6oMLNysOcUUcn1PCkXJqo3WoUzJ+HpCJ06jY2R82f0U...</td>\n",
       "      <td>000M5CD3CRQ1C4416</td>\n",
       "      <td>2020-10-20 05:56:34.178</td>\n",
       "      <td>2020-10-20 06:17:45.800</td>\n",
       "      <td>2020-10-20 05:56:35.991</td>\n",
       "      <td>22.0</td>\n",
       "      <td>KS_1</td>\n",
       "      <td>AUTO</td>\n",
       "      <td>BL_1</td>\n",
       "      <td>1265127.0</td>\n",
       "      <td>...</td>\n",
       "      <td>NaN</td>\n",
       "      <td>NaN</td>\n",
       "      <td>177</td>\n",
       "      <td>2841</td>\n",
       "      <td>NOT_AVAILABLE</td>\n",
       "      <td>False</td>\n",
       "      <td>False</td>\n",
       "      <td>True</td>\n",
       "      <td>2</td>\n",
       "      <td>AUTO -&gt; OFF</td>\n",
       "    </tr>\n",
       "    <tr>\n",
       "      <th>1</th>\n",
       "      <td>AAK6oMLNysOcUUcn1PCkXJqo3WoUzJ+HpCJ06jY2R82f0U...</td>\n",
       "      <td>000M5CD3CRQ1C4416</td>\n",
       "      <td>2020-10-20 05:56:34.178</td>\n",
       "      <td>2020-10-20 06:17:45.800</td>\n",
       "      <td>2020-10-20 06:17:41.118</td>\n",
       "      <td>22.0</td>\n",
       "      <td>KS_1</td>\n",
       "      <td>OFF</td>\n",
       "      <td>Off</td>\n",
       "      <td>1265127.0</td>\n",
       "      <td>...</td>\n",
       "      <td>NaN</td>\n",
       "      <td>NaN</td>\n",
       "      <td>177</td>\n",
       "      <td>2841</td>\n",
       "      <td>NOT_AVAILABLE</td>\n",
       "      <td>False</td>\n",
       "      <td>False</td>\n",
       "      <td>True</td>\n",
       "      <td>2</td>\n",
       "      <td>AUTO -&gt; OFF</td>\n",
       "    </tr>\n",
       "    <tr>\n",
       "      <th>2</th>\n",
       "      <td>AAK6oMLNysOcUUcn1PCkXJqo3WoUzJ+HpCJ06jY2R82f0U...</td>\n",
       "      <td>000M5CD3CRQ1C4416</td>\n",
       "      <td>2020-10-20 05:56:34.178</td>\n",
       "      <td>2020-10-20 06:17:45.800</td>\n",
       "      <td>2020-10-20 06:17:44.594</td>\n",
       "      <td>22.0</td>\n",
       "      <td>KS_1</td>\n",
       "      <td>OFF</td>\n",
       "      <td>Off</td>\n",
       "      <td>1265127.0</td>\n",
       "      <td>...</td>\n",
       "      <td>NaN</td>\n",
       "      <td>NaN</td>\n",
       "      <td>177</td>\n",
       "      <td>2841</td>\n",
       "      <td>NOT_AVAILABLE</td>\n",
       "      <td>False</td>\n",
       "      <td>False</td>\n",
       "      <td>True</td>\n",
       "      <td>2</td>\n",
       "      <td>AUTO -&gt; OFF</td>\n",
       "    </tr>\n",
       "  </tbody>\n",
       "</table>\n",
       "<p>3 rows × 69 columns</p>\n",
       "</div>"
      ],
      "text/plain": [
       "                                             c_van17          c_driveid  \\\n",
       "0  AAK6oMLNysOcUUcn1PCkXJqo3WoUzJ+HpCJ06jY2R82f0U...  000M5CD3CRQ1C4416   \n",
       "1  AAK6oMLNysOcUUcn1PCkXJqo3WoUzJ+HpCJ06jY2R82f0U...  000M5CD3CRQ1C4416   \n",
       "2  AAK6oMLNysOcUUcn1PCkXJqo3WoUzJ+HpCJ06jY2R82f0U...  000M5CD3CRQ1C4416   \n",
       "\n",
       "   c_drive_timestamp_start   c_drive_timestamp_stop c_msg_creation_timestamp  \\\n",
       "0  2020-10-20 05:56:34.178  2020-10-20 06:17:45.800  2020-10-20 05:56:35.991   \n",
       "1  2020-10-20 05:56:34.178  2020-10-20 06:17:45.800  2020-10-20 06:17:41.118   \n",
       "2  2020-10-20 05:56:34.178  2020-10-20 06:17:45.800  2020-10-20 06:17:44.594   \n",
       "\n",
       "   c_target_temp c_blower_combined c_air_mode_combined c_blower_level  \\\n",
       "0           22.0              KS_1                AUTO           BL_1   \n",
       "1           22.0              KS_1                 OFF            Off   \n",
       "2           22.0              KS_1                 OFF            Off   \n",
       "\n",
       "   c_min_diff_ms_blower_level  ... c_bcbehvenergystart_kwh  \\\n",
       "0                   1265127.0  ...                     NaN   \n",
       "1                   1265127.0  ...                     NaN   \n",
       "2                   1265127.0  ...                     NaN   \n",
       "\n",
       "   c_bcbehvenergyend_kwh c_drive_number_per_car  c_number_of_drives_per_car  \\\n",
       "0                    NaN                    177                        2841   \n",
       "1                    NaN                    177                        2841   \n",
       "2                    NaN                    177                        2841   \n",
       "\n",
       "          c_gcad  c_is_active_profile c_is_guest_profile c_touchscreen_used  \\\n",
       "0  NOT_AVAILABLE                False              False               True   \n",
       "1  NOT_AVAILABLE                False              False               True   \n",
       "2  NOT_AVAILABLE                False              False               True   \n",
       "\n",
       "   c_touchscreen_used_count  c_first_last_mode  \n",
       "0                         2        AUTO -> OFF  \n",
       "1                         2        AUTO -> OFF  \n",
       "2                         2        AUTO -> OFF  \n",
       "\n",
       "[3 rows x 69 columns]"
      ]
     },
     "execution_count": 10,
     "metadata": {},
     "output_type": "execute_result"
    }
   ],
   "source": [
    "climate_data[climate_data['c_van17'] == \"AAK6oMLNysOcUUcn1PCkXJqo3WoUzJ+HpCJ06jY2R82f0UAZHEKtgE0Uz50sWpzRehsczP11IFzg+59/EmvuP0BMjfnY1uczIpJErvg5b44YMVjTGXg=\"]"
   ]
  },
  {
   "cell_type": "code",
   "execution_count": null,
   "metadata": {},
   "outputs": [],
   "source": []
  }
 ],
 "metadata": {
  "kernelspec": {
   "display_name": "dt-gym",
   "language": "python",
   "name": "python3"
  },
  "language_info": {
   "codemirror_mode": {
    "name": "ipython",
    "version": 3
   },
   "file_extension": ".py",
   "mimetype": "text/x-python",
   "name": "python",
   "nbconvert_exporter": "python",
   "pygments_lexer": "ipython3",
   "version": "3.8.5"
  },
  "orig_nbformat": 4
 },
 "nbformat": 4,
 "nbformat_minor": 2
}
