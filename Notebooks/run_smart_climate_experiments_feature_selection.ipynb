{
 "cells": [
  {
   "cell_type": "code",
   "execution_count": 1,
   "metadata": {},
   "outputs": [],
   "source": [
    "import sys\n",
    "sys.path.append(\"/home/q621464/Desktop/Thesis/code/decision-transformer-thesis\")\n",
    "sys.path.append(\"/home/q621464/Desktop/Thesis/code/decision-transformer-thesis/atari\")"
   ]
  },
  {
   "cell_type": "code",
   "execution_count": 2,
   "metadata": {},
   "outputs": [],
   "source": [
    "# %load_ext autoreload\n",
    "# %autoreload 2"
   ]
  },
  {
   "cell_type": "code",
   "execution_count": 3,
   "metadata": {},
   "outputs": [
    {
     "name": "stderr",
     "output_type": "stream",
     "text": [
      "2023-08-01 11:26:47.779176: I tensorflow/core/platform/cpu_feature_guard.cc:193] This TensorFlow binary is optimized with oneAPI Deep Neural Network Library (oneDNN) to use the following CPU instructions in performance-critical operations:  AVX2 FMA\n",
      "To enable them in other operations, rebuild TensorFlow with the appropriate compiler flags.\n",
      "2023-08-01 11:26:47.887639: W tensorflow/compiler/xla/stream_executor/platform/default/dso_loader.cc:64] Could not load dynamic library 'libcudart.so.11.0'; dlerror: libcudart.so.11.0: cannot open shared object file: No such file or directory; LD_LIBRARY_PATH: /home/q621464/miniconda3/envs/decision-transformer-atari/lib/python3.7/site-packages/cv2/../../lib64::/home/q621464/.mujoco/mujoco200/bin\n",
      "2023-08-01 11:26:47.887655: I tensorflow/compiler/xla/stream_executor/cuda/cudart_stub.cc:29] Ignore above cudart dlerror if you do not have a GPU set up on your machine.\n",
      "2023-08-01 11:26:48.376257: W tensorflow/compiler/xla/stream_executor/platform/default/dso_loader.cc:64] Could not load dynamic library 'libnvinfer.so.7'; dlerror: libnvinfer.so.7: cannot open shared object file: No such file or directory; LD_LIBRARY_PATH: /home/q621464/miniconda3/envs/decision-transformer-atari/lib/python3.7/site-packages/cv2/../../lib64::/home/q621464/.mujoco/mujoco200/bin\n",
      "2023-08-01 11:26:48.376311: W tensorflow/compiler/xla/stream_executor/platform/default/dso_loader.cc:64] Could not load dynamic library 'libnvinfer_plugin.so.7'; dlerror: libnvinfer_plugin.so.7: cannot open shared object file: No such file or directory; LD_LIBRARY_PATH: /home/q621464/miniconda3/envs/decision-transformer-atari/lib/python3.7/site-packages/cv2/../../lib64::/home/q621464/.mujoco/mujoco200/bin\n",
      "2023-08-01 11:26:48.376317: W tensorflow/compiler/tf2tensorrt/utils/py_utils.cc:38] TF-TRT Warning: Cannot dlopen some TensorRT libraries. If you would like to use Nvidia GPU with TensorRT, please make sure the missing libraries mentioned above are installed properly.\n",
      "/home/q621464/miniconda3/envs/decision-transformer-atari/lib/python3.7/site-packages/gin/tf/__init__.py:48: DeprecationWarning: distutils Version classes are deprecated. Use packaging.version instead.\n",
      "  if (distutils.version.LooseVersion(tf.__version__) <\n"
     ]
    }
   ],
   "source": [
    "import csv\n",
    "import logging\n",
    "# make deterministic\n",
    "from atari.mingpt.utils import set_seed\n",
    "import numpy as np\n",
    "import torch\n",
    "import torch.nn as nn\n",
    "from torch.nn import functional as F\n",
    "import math\n",
    "from torch.utils.data import Dataset\n",
    "from atari.mingpt.model_atari import GPT, GPTConfig\n",
    "from atari.mingpt.trainer_atari import Trainer, TrainerConfig\n",
    "from atari.mingpt.utils import sample\n",
    "from collections import deque\n",
    "import random\n",
    "import torch\n",
    "import pickle\n",
    "import blosc\n",
    "import argparse\n",
    "from atari.create_dataset import create_dataset\n",
    "import seaborn as sns\n",
    "from matplotlib import pyplot as plt\n",
    "\n",
    "from sklearn.metrics import confusion_matrix\n",
    "import seaborn as sn\n",
    "import pandas as pd\n",
    "import numpy as np\n",
    "from matplotlib import pyplot as plt\n",
    "\n",
    "# Apply dimensionality reduction here\n",
    "import numpy as np\n",
    "import pandas as pd\n",
    "from sklearn.datasets import load_iris\n",
    "from sklearn.decomposition import PCA\n",
    "from sklearn.model_selection import train_test_split\n",
    "from sklearn.ensemble import RandomForestClassifier\n",
    "from sklearn.metrics import accuracy_score\n",
    "from sklearn.preprocessing import StandardScaler"
   ]
  },
  {
   "cell_type": "code",
   "execution_count": 4,
   "metadata": {},
   "outputs": [],
   "source": [
    "# set up logging\n",
    "logging.basicConfig(\n",
    "        format=\"%(asctime)s - %(levelname)s - %(name)s -   %(message)s\",\n",
    "        datefmt=\"%m/%d/%Y %H:%M:%S\",\n",
    "        level=logging.INFO,\n",
    ")"
   ]
  },
  {
   "cell_type": "code",
   "execution_count": 5,
   "metadata": {},
   "outputs": [],
   "source": [
    "class Config():\n",
    "    def __init__(self, seed=123, context_length=30, epochs=5, model_type='reward_conditioned', num_steps=500000, num_buffers=50, env='SmartClimate', batch_size=128, log_to_wandb=False, trajectories_per_buffer=10, train_data_dir='../atari/data-for-dt/smart-climate-train-trajectories-v2.pkl', val_data_dir='../atari/data-for-dt/smart-climate-val-trajectories-v2.pkl', test_data_dir='../atari/data-for-dt/smart-climate-test-trajectories-v2.pkl') -> None:\n",
    "        self.seed = seed\n",
    "        self.context_length = context_length\n",
    "        self.epochs = epochs\n",
    "        self.model_type = model_type\n",
    "        self.num_steps =num_steps\n",
    "        self.num_buffers = num_buffers\n",
    "        self.env = env\n",
    "        self.batch_size = batch_size\n",
    "        self.log_to_wandb = log_to_wandb\n",
    "        self.trajectories_per_buffer = trajectories_per_buffer\n",
    "        self.train_data_dir = train_data_dir\n",
    "        self.val_data_dir = val_data_dir\n",
    "        self.test_data_dir = test_data_dir\n",
    "        self.dim_reductor = None"
   ]
  },
  {
   "cell_type": "code",
   "execution_count": 6,
   "metadata": {},
   "outputs": [],
   "source": [
    "args = Config(env='SmartClimate', epochs=30, seed=123, context_length=20, train_data_dir='../atari/data-for-dt/smart-climate-train-trajectories-v2.pkl')\n",
    "set_seed(args.seed)"
   ]
  },
  {
   "cell_type": "code",
   "execution_count": 7,
   "metadata": {},
   "outputs": [],
   "source": [
    "def reduce_dimensionality(obss):\n",
    "    X_train = obss\n",
    "    # Data normalizationd\n",
    "    scaler = StandardScaler()\n",
    "    # Fit and transform the data to perform z-score normalization\n",
    "    X_train_normalized = scaler.fit_transform(X_train)\n",
    "\n",
    "    # Initialize PCA with the desired number of components (e.g., None for all components)\n",
    "    pca = PCA(n_components=None)\n",
    "\n",
    "    # Fit and transform the training data using PCA\n",
    "    X_train_pca = pca.fit_transform(X_train_normalized)\n",
    "\n",
    "    # Get the explained variance ratio\n",
    "    explained_variance_ratio = pca.explained_variance_ratio_\n",
    "\n",
    "    # Get the cumulative explained variance ratio\n",
    "    cumulative_variance_ratio = np.cumsum(explained_variance_ratio)\n",
    "\n",
    "    # Set a threshold for the cumulative explained variance ratio (e.g., 95% or 99%)\n",
    "    threshold_variance = 0.85\n",
    "\n",
    "    # Determine the number of components required to achieve the threshold\n",
    "    n_components = np.argmax(cumulative_variance_ratio >= threshold_variance) + 1\n",
    "    print(f\"Number of selected components: {n_components}\")\n",
    "\n",
    "    # Reduce the dimensionality to the selected number of components\n",
    "    pca = PCA(n_components=n_components)\n",
    "    X_train_pca = pca.fit_transform(X_train_normalized)\n",
    "    print(f\"Shape of the reeduced dimensionality dataset: {X_train_pca.shape}\")\n",
    "\n",
    "    obss_reduced = X_train_pca\n",
    "    return obss_reduced, pca\n",
    "    # X_test_pca = pca.transform(X_test)"
   ]
  },
  {
   "cell_type": "code",
   "execution_count": 8,
   "metadata": {},
   "outputs": [],
   "source": [
    "def create_dataset(data_dir, total_trajectories=8000):\n",
    "    with open(data_dir, 'rb') as f:\n",
    "        trajectories = pickle.load(f)[0:total_trajectories]\n",
    "    obss = []\n",
    "    actions = []\n",
    "    returns = [0]\n",
    "    done_idxs = []\n",
    "    stepwise_returns = []    \n",
    "    for traj in trajectories:\n",
    "        obss += traj['observations'].tolist()\n",
    "        actions += traj['actions'].tolist()\n",
    "        stepwise_returns += traj['rewards'].tolist()\n",
    "        done_idxs += [len(obss)]\n",
    "        returns += [0]\n",
    "\n",
    "    actions = np.array(actions)\n",
    "    returns = np.array(returns)\n",
    "    stepwise_returns = np.array(stepwise_returns)\n",
    "    done_idxs = np.array(done_idxs)\n",
    "\n",
    "    # -- create reward-to-go dataset\n",
    "    start_index = 0\n",
    "    rtg = np.zeros_like(stepwise_returns)\n",
    "    for i in done_idxs:\n",
    "        i = int(i)\n",
    "        curr_traj_returns = stepwise_returns[start_index:i]\n",
    "        for j in range(i-1, start_index-1, -1): # start from i-1\n",
    "            rtg_j = curr_traj_returns[j-start_index:i-start_index]\n",
    "            rtg[j] = sum(rtg_j)\n",
    "        start_index = i\n",
    "    print('max rtg is %d' % max(rtg))\n",
    "\n",
    "    # -- create timestep dataset\n",
    "    start_index = 0\n",
    "    timesteps = np.zeros(len(actions)+1, dtype=int)\n",
    "    print(f\"total done idx: {len(done_idxs)}\")\n",
    "    for i in done_idxs:\n",
    "        # print(f\"done_idx: {i}\")\n",
    "        i = int(i)\n",
    "        # print(f\"start_idx: {start_index}, i: {i}\")\n",
    "        timesteps[start_index:i+1] = np.arange(i+1 - start_index)\n",
    "        start_index = i+1\n",
    "    print('max timestep is %d' % max(timesteps))\n",
    "    \n",
    "    # if apply_dim_reduction:\n",
    "    #     obss, dim_reductor = reduce_dimensionality(obss)\n",
    "    return obss, actions, returns, done_idxs, rtg, timesteps"
   ]
  },
  {
   "cell_type": "code",
   "execution_count": 9,
   "metadata": {},
   "outputs": [],
   "source": [
    "class StateActionReturnDataset(Dataset):\n",
    "\n",
    "    def __init__(self, data, block_size, actions, done_idxs, rtgs, timesteps, mean=0, std=1):\n",
    "        self.block_size = block_size\n",
    "        self.vocab_size = max(actions) + 1 # TODO: needs to be changed. Does it change dynamically based on the sampled data?\n",
    "        self.data = data\n",
    "        self.actions = actions\n",
    "        self.done_idxs = done_idxs\n",
    "        self.rtgs = rtgs\n",
    "        self.timesteps = timesteps\n",
    "        self.mean = mean\n",
    "        self.std = std\n",
    "    def __len__(self):\n",
    "        return len(self.data) - self.block_size\n",
    "\n",
    "    def __getitem__(self, idx):\n",
    "        # print(f\"Sampled idx: {idx}\")\n",
    "        block_size = self.block_size // 3\n",
    "        states = torch.tensor(np.array(self.data[idx:idx+block_size]), dtype=torch.float32).reshape(block_size, -1) # \n",
    "        # (block_size, 4*84*84)\n",
    "        \n",
    "        # print(f\"There are nan values in the dataloader's batch: {torch.isnan(states).any()}\")\n",
    "        # mean = torch.mean(states)\n",
    "        # std = torch.std(states)\n",
    "        # states = (states - self.mean) / self.std\n",
    "        # print(f\"mean: {mean}, std: {std} of the batch\\n\")\n",
    "        # states = states / 255.\n",
    "        # print(f\"There are nan values in the dataloader's batch after normalization: {torch.isnan(states).any()}\")\n",
    "        actions = torch.tensor(self.actions[idx:idx+block_size], dtype=torch.long).unsqueeze(1) # (block_size, 1)\n",
    "        rtgs = torch.tensor(self.rtgs[idx:idx+block_size], dtype=torch.float32).unsqueeze(1)\n",
    "        timesteps = torch.tensor(self.timesteps[idx:idx+1], dtype=torch.int64).unsqueeze(1)\n",
    "        # print(f\"timesteps shape: {timesteps.shape}\")\n",
    "\n",
    "        return states, actions, rtgs, timesteps"
   ]
  },
  {
   "cell_type": "code",
   "execution_count": 24,
   "metadata": {},
   "outputs": [
    {
     "name": "stdout",
     "output_type": "stream",
     "text": [
      "max rtg is 0\n",
      "total done idx: 800\n",
      "max timestep is 46\n",
      "max rtg is 0\n",
      "total done idx: 100\n",
      "max timestep is 36\n",
      "There are nan values in the obss: False\n",
      "***********************\n",
      "SmartClimate Environment\n",
      "***********************\n",
      "total obss: 13263\n",
      "total actions: (13263,)\n",
      "total returns: (801,)\n",
      "timesteps: 13264\n"
     ]
    }
   ],
   "source": [
    "# Create the train dataset first\n",
    "obss, actions, returns, done_idxs, rtgs, timesteps = create_dataset(args.train_data_dir, total_trajectories=800)\n",
    "\n",
    "# Create the validation dataset\n",
    "obss_val, actions_val, returns_val, done_idxs_val, rtgs_val, timesteps_val = create_dataset(args.val_data_dir, total_trajectories=100)\n",
    "\n",
    "# Sanity check\n",
    "# Are there any nan values in the obss\n",
    "print(f\"There are nan values in the obss: {np.isnan(np.array(obss)).any()}\")\n",
    "\n",
    "print(\"*\" * len(args.env + \"Environment\"))\n",
    "print(f\"{args.env} Environment\")\n",
    "print(\"*\" * len(args.env + \"Environment\"))\n",
    "print(f\"total obss: {len(obss)}\\ntotal actions: {actions.shape}\\ntotal returns: {returns.shape}\\ntimesteps: {len(timesteps)}\")"
   ]
  },
  {
   "cell_type": "code",
   "execution_count": 11,
   "metadata": {},
   "outputs": [],
   "source": [
    "# obss, dim_reductor = reduce_dimensionality(obss)\n",
    "# obss_val = dim_reductor.transform(obss_val)"
   ]
  },
  {
   "cell_type": "markdown",
   "metadata": {},
   "source": [
    "##### Best hyperparameters from hyperparameter tuning: \n",
    "1. Aimed at minimizing val_loss: {'learning_rate': 0.00019714606731026987, 'num_hidden_units': 40, 'context_length': 20, 'n_layer': 4}\n",
    "2. Aimed at increasing val_accuracy: {'learning_rate': 0.0003999625589556598, 'num_hidden_units': 208, 'context_length': 10, 'n_layer': 8}"
   ]
  },
  {
   "cell_type": "markdown",
   "metadata": {},
   "source": [
    "### Feature Selection"
   ]
  },
  {
   "cell_type": "code",
   "execution_count": 12,
   "metadata": {},
   "outputs": [
    {
     "data": {
      "text/plain": [
       "(128257, 324)"
      ]
     },
     "execution_count": 12,
     "metadata": {},
     "output_type": "execute_result"
    }
   ],
   "source": [
    "# First load the Smart Climate Curated Dataset\n",
    "climate_data_2021 = pd.read_csv(\"../data/smart_climate_curated.csv\")\n",
    "climate_data_2021.drop(['d_drive_uid', 'c_msg_creation_timestamp', 'c_drive_timestamp_start', 'c_target_temp'], axis=1, inplace=True)\n",
    "climate_data_2021.shape"
   ]
  },
  {
   "cell_type": "code",
   "execution_count": 13,
   "metadata": {},
   "outputs": [
    {
     "data": {
      "text/html": [
       "<div>\n",
       "<style scoped>\n",
       "    .dataframe tbody tr th:only-of-type {\n",
       "        vertical-align: middle;\n",
       "    }\n",
       "\n",
       "    .dataframe tbody tr th {\n",
       "        vertical-align: top;\n",
       "    }\n",
       "\n",
       "    .dataframe thead th {\n",
       "        text-align: right;\n",
       "    }\n",
       "</style>\n",
       "<table border=\"1\" class=\"dataframe\">\n",
       "  <thead>\n",
       "    <tr style=\"text-align: right;\">\n",
       "      <th></th>\n",
       "      <th>c_min_exteriortemperature_celsius</th>\n",
       "      <th>c_exteriortemperature_avg_celsius</th>\n",
       "      <th>c_max_exteriortemperature_celsius</th>\n",
       "      <th>c_drive_duration_sec</th>\n",
       "      <th>c_weekend_drive</th>\n",
       "      <th>c_mean_speed</th>\n",
       "      <th>c_is_active_profile</th>\n",
       "      <th>c_is_guest_profile</th>\n",
       "      <th>c_touchscreen_used</th>\n",
       "      <th>c_touchscreen_used_count</th>\n",
       "      <th>...</th>\n",
       "      <th>c_vehicle_class_KKL+</th>\n",
       "      <th>c_vehicle_class_MKL+</th>\n",
       "      <th>c_vehicle_class_UKL2+</th>\n",
       "      <th>c_script_version_MGUV5</th>\n",
       "      <th>c_script_version_MGUV6</th>\n",
       "      <th>c_script_version_MGUV7</th>\n",
       "      <th>c_gcad_ACTIVE_PROFILE</th>\n",
       "      <th>c_gcad_GUEST_PROFILE</th>\n",
       "      <th>c_gcad_NOT VALID GCAD</th>\n",
       "      <th>c_gcad_NOT_AVAILABLE</th>\n",
       "    </tr>\n",
       "  </thead>\n",
       "  <tbody>\n",
       "    <tr>\n",
       "      <th>0</th>\n",
       "      <td>23.0</td>\n",
       "      <td>24.25</td>\n",
       "      <td>25.5</td>\n",
       "      <td>4692</td>\n",
       "      <td>0</td>\n",
       "      <td>19.65</td>\n",
       "      <td>1</td>\n",
       "      <td>0</td>\n",
       "      <td>1</td>\n",
       "      <td>18</td>\n",
       "      <td>...</td>\n",
       "      <td>1</td>\n",
       "      <td>0</td>\n",
       "      <td>0</td>\n",
       "      <td>0</td>\n",
       "      <td>1</td>\n",
       "      <td>0</td>\n",
       "      <td>1</td>\n",
       "      <td>0</td>\n",
       "      <td>0</td>\n",
       "      <td>0</td>\n",
       "    </tr>\n",
       "    <tr>\n",
       "      <th>1</th>\n",
       "      <td>23.0</td>\n",
       "      <td>24.25</td>\n",
       "      <td>25.5</td>\n",
       "      <td>4692</td>\n",
       "      <td>0</td>\n",
       "      <td>19.65</td>\n",
       "      <td>1</td>\n",
       "      <td>0</td>\n",
       "      <td>1</td>\n",
       "      <td>18</td>\n",
       "      <td>...</td>\n",
       "      <td>1</td>\n",
       "      <td>0</td>\n",
       "      <td>0</td>\n",
       "      <td>0</td>\n",
       "      <td>1</td>\n",
       "      <td>0</td>\n",
       "      <td>1</td>\n",
       "      <td>0</td>\n",
       "      <td>0</td>\n",
       "      <td>0</td>\n",
       "    </tr>\n",
       "    <tr>\n",
       "      <th>2</th>\n",
       "      <td>23.0</td>\n",
       "      <td>24.25</td>\n",
       "      <td>25.5</td>\n",
       "      <td>4692</td>\n",
       "      <td>0</td>\n",
       "      <td>19.65</td>\n",
       "      <td>1</td>\n",
       "      <td>0</td>\n",
       "      <td>1</td>\n",
       "      <td>18</td>\n",
       "      <td>...</td>\n",
       "      <td>1</td>\n",
       "      <td>0</td>\n",
       "      <td>0</td>\n",
       "      <td>0</td>\n",
       "      <td>1</td>\n",
       "      <td>0</td>\n",
       "      <td>1</td>\n",
       "      <td>0</td>\n",
       "      <td>0</td>\n",
       "      <td>0</td>\n",
       "    </tr>\n",
       "    <tr>\n",
       "      <th>3</th>\n",
       "      <td>23.0</td>\n",
       "      <td>24.25</td>\n",
       "      <td>25.5</td>\n",
       "      <td>4692</td>\n",
       "      <td>0</td>\n",
       "      <td>19.65</td>\n",
       "      <td>1</td>\n",
       "      <td>0</td>\n",
       "      <td>1</td>\n",
       "      <td>18</td>\n",
       "      <td>...</td>\n",
       "      <td>1</td>\n",
       "      <td>0</td>\n",
       "      <td>0</td>\n",
       "      <td>0</td>\n",
       "      <td>1</td>\n",
       "      <td>0</td>\n",
       "      <td>1</td>\n",
       "      <td>0</td>\n",
       "      <td>0</td>\n",
       "      <td>0</td>\n",
       "    </tr>\n",
       "    <tr>\n",
       "      <th>4</th>\n",
       "      <td>23.0</td>\n",
       "      <td>24.25</td>\n",
       "      <td>25.5</td>\n",
       "      <td>4692</td>\n",
       "      <td>0</td>\n",
       "      <td>19.65</td>\n",
       "      <td>1</td>\n",
       "      <td>0</td>\n",
       "      <td>1</td>\n",
       "      <td>18</td>\n",
       "      <td>...</td>\n",
       "      <td>1</td>\n",
       "      <td>0</td>\n",
       "      <td>0</td>\n",
       "      <td>0</td>\n",
       "      <td>1</td>\n",
       "      <td>0</td>\n",
       "      <td>1</td>\n",
       "      <td>0</td>\n",
       "      <td>0</td>\n",
       "      <td>0</td>\n",
       "    </tr>\n",
       "  </tbody>\n",
       "</table>\n",
       "<p>5 rows × 324 columns</p>\n",
       "</div>"
      ],
      "text/plain": [
       "   c_min_exteriortemperature_celsius  c_exteriortemperature_avg_celsius  \\\n",
       "0                               23.0                              24.25   \n",
       "1                               23.0                              24.25   \n",
       "2                               23.0                              24.25   \n",
       "3                               23.0                              24.25   \n",
       "4                               23.0                              24.25   \n",
       "\n",
       "   c_max_exteriortemperature_celsius  c_drive_duration_sec  c_weekend_drive  \\\n",
       "0                               25.5                  4692                0   \n",
       "1                               25.5                  4692                0   \n",
       "2                               25.5                  4692                0   \n",
       "3                               25.5                  4692                0   \n",
       "4                               25.5                  4692                0   \n",
       "\n",
       "   c_mean_speed  c_is_active_profile  c_is_guest_profile  c_touchscreen_used  \\\n",
       "0         19.65                    1                   0                   1   \n",
       "1         19.65                    1                   0                   1   \n",
       "2         19.65                    1                   0                   1   \n",
       "3         19.65                    1                   0                   1   \n",
       "4         19.65                    1                   0                   1   \n",
       "\n",
       "   c_touchscreen_used_count  ...  c_vehicle_class_KKL+  c_vehicle_class_MKL+  \\\n",
       "0                        18  ...                     1                     0   \n",
       "1                        18  ...                     1                     0   \n",
       "2                        18  ...                     1                     0   \n",
       "3                        18  ...                     1                     0   \n",
       "4                        18  ...                     1                     0   \n",
       "\n",
       "   c_vehicle_class_UKL2+  c_script_version_MGUV5  c_script_version_MGUV6  \\\n",
       "0                      0                       0                       1   \n",
       "1                      0                       0                       1   \n",
       "2                      0                       0                       1   \n",
       "3                      0                       0                       1   \n",
       "4                      0                       0                       1   \n",
       "\n",
       "   c_script_version_MGUV7  c_gcad_ACTIVE_PROFILE  c_gcad_GUEST_PROFILE  \\\n",
       "0                       0                      1                     0   \n",
       "1                       0                      1                     0   \n",
       "2                       0                      1                     0   \n",
       "3                       0                      1                     0   \n",
       "4                       0                      1                     0   \n",
       "\n",
       "   c_gcad_NOT VALID GCAD  c_gcad_NOT_AVAILABLE  \n",
       "0                      0                     0  \n",
       "1                      0                     0  \n",
       "2                      0                     0  \n",
       "3                      0                     0  \n",
       "4                      0                     0  \n",
       "\n",
       "[5 rows x 324 columns]"
      ]
     },
     "execution_count": 13,
     "metadata": {},
     "output_type": "execute_result"
    }
   ],
   "source": [
    "climate_data_2021.head()"
   ]
  },
  {
   "cell_type": "code",
   "execution_count": 14,
   "metadata": {},
   "outputs": [],
   "source": [
    "# from sklearn.feature_selection import SelectKBest\n",
    "# from sklearn.feature_selection import f_classif\n",
    "\n",
    "# selector = SelectKBest(f_classif, k=10)\n",
    "# selected_features = selector.fit_transform(X, y)"
   ]
  },
  {
   "cell_type": "code",
   "execution_count": 15,
   "metadata": {},
   "outputs": [],
   "source": [
    "from sklearn.utils import Bunch\n",
    "def load_data(obss, actions):\n",
    "    data = {\n",
    "        'data': obss,\n",
    "        'target': actions,\n",
    "        'feature_names': climate_data_2021.columns.tolist(),\n",
    "        'target_names': [str(target) for target in np.arange(16.0, 28.5, 0.5)]\n",
    "    }\n",
    "    dataset_bunch = Bunch(**data)\n",
    "    return dataset_bunch"
   ]
  },
  {
   "cell_type": "markdown",
   "metadata": {},
   "source": [
    "#### F-score calculation for feature selection"
   ]
  },
  {
   "cell_type": "code",
   "execution_count": 16,
   "metadata": {},
   "outputs": [
    {
     "name": "stderr",
     "output_type": "stream",
     "text": [
      "/home/q621464/miniconda3/envs/decision-transformer-atari/lib/python3.7/site-packages/sklearn/feature_selection/_univariate_selection.py:112: UserWarning: Features [ 66  70  81  82  86  88  90  91  92  96  97  98  99 104 105 106 107 110\n",
      " 115 120 124 132 133 137 138 145 146 147 149 152 153 154 155 156 157 158\n",
      " 159 160 161 162 164 165 170 172 174 175 176 177 180 183 184 186 187 188\n",
      " 189 192 193 194 195 198 200 201 205 210 211 212 213 214 215 217 218 219\n",
      " 220 221 222 224 226 227 228 229 232 233 234 236 237 238 239 240 241 242\n",
      " 243 244 245 246 247 248 249 250 251 252 253 255 256 258 259 260 261 263\n",
      " 264 265 268 271 274 275 276 277 279 280 281 282 284 288 290 291 299 307\n",
      " 308] are constant.\n",
      "  warnings.warn(\"Features %s are constant.\" % constant_features_idx, UserWarning)\n",
      "/home/q621464/miniconda3/envs/decision-transformer-atari/lib/python3.7/site-packages/sklearn/feature_selection/_univariate_selection.py:113: RuntimeWarning: invalid value encountered in true_divide\n",
      "  f = msb / msw\n"
     ]
    },
    {
     "data": {
      "image/png": "[encoded data removed]",
      "text/plain": [
       "<Figure size 1500x600 with 1 Axes>"
      ]
     },
     "metadata": {},
     "output_type": "display_data"
    }
   ],
   "source": [
    "# import numpy as np\n",
    "# import pandas as pd\n",
    "# import matplotlib.pyplot as plt\n",
    "# # from sklearn.datasets import load_iris\n",
    "# from sklearn.feature_selection import SelectKBest, f_classif\n",
    "# from sklearn.model_selection import train_test_split\n",
    "# from sklearn.preprocessing import MinMaxScaler\n",
    "# # Load the iris dataset as an example\n",
    "# data = load_data(obss_val, actions_val)\n",
    "# X, y = data.data, data.target\n",
    "# feature_names = data.feature_names\n",
    "\n",
    "# # Split the data\n",
    "# X_train, X_val, y_train, y_val = train_test_split(X, y, test_size=0.3, random_state=123)\n",
    "# scaler = MinMaxScaler()\n",
    "# X_train_normalized = scaler.fit_transform(X_train)\n",
    "# # Calculate F-scores and p-values using f_classif\n",
    "# f_scores, p_values = f_classif(X_train_normalized, y_train)\n",
    "\n",
    "# # Create a DataFrame to store the results\n",
    "# results_df = pd.DataFrame({'Feature': feature_names, 'F-Score': f_scores, 'P-Value': p_values})\n",
    "\n",
    "# # Sort the DataFrame by F-Score in descending order\n",
    "# results_df.sort_values(by='F-Score', ascending=False, inplace=True)\n",
    "\n",
    "# # Take the top 50 features\n",
    "# top_features_df = results_df.head(20)\n",
    "\n",
    "# # Plot the top 50 features based on F-Score using a bar plot\n",
    "# plt.figure(figsize=(15, 6))\n",
    "# plt.bar(top_features_df['Feature'], top_features_df['F-Score'])\n",
    "# plt.xticks(rotation=45, ha='right')\n",
    "# plt.xlabel('Feature')\n",
    "# plt.ylabel('F-Score')\n",
    "# plt.title('Top 50 Most Important Features (F-Score) using f_classif')\n",
    "# plt.tight_layout()\n",
    "# plt.show()\n"
   ]
  },
  {
   "cell_type": "markdown",
   "metadata": {},
   "source": [
    "#### RFE"
   ]
  },
  {
   "cell_type": "code",
   "execution_count": 17,
   "metadata": {},
   "outputs": [
    {
     "name": "stdout",
     "output_type": "stream",
     "text": [
      "Selected Features:\n",
      "['c_min_exteriortemperature_celsius', 'c_exteriortemperature_avg_celsius', 'c_max_exteriortemperature_celsius', 'c_drive_duration_sec', 'c_weekend_drive', 'c_mean_speed', 'c_touchscreen_used_count', 'c_air_mode_combined_OFF', 'c_blower_level_BL_1', 'c_blower_level_BL_2', 'c_blower_level_BL_3', 'c_blower_level_Off', 'c_blower_style_KS_1', 'c_air_dist_MITTE', 'c_auto_mode_AUTO_ON', 'c_pwf_FAHREN', 'c_pwf_WOHNEN', 'c_pwf_group_WOHNEN', 'c_fuel_type_corrected_description_petrol', 'c_vehicle_class_KKL+']\n"
     ]
    }
   ],
   "source": [
    "import numpy as np\n",
    "import pandas as pd\n",
    "# from sklearn.datasets import load_iris\n",
    "from sklearn.model_selection import train_test_split\n",
    "from sklearn.feature_selection import RFE\n",
    "from sklearn.ensemble import RandomForestClassifier\n",
    "from sklearn.preprocessing import MinMaxScaler\n",
    "\n",
    "# Load the iris dataset as an example\n",
    "data = load_data(obss_val, actions_val)\n",
    "X, y = data.data, data.target\n",
    "feature_names = data.feature_names\n",
    "\n",
    "# Split the data into training and validation sets\n",
    "X_train, X_val, y_train, y_val = train_test_split(X, y, test_size=0.3, random_state=123)\n",
    "scaler = MinMaxScaler()\n",
    "X_train_normalized = scaler.fit_transform(X_train)\n",
    "X_val_normalized = scaler.transform(X_val)\n",
    "# Create a Random Forest classifier as the estimator\n",
    "estimator = RandomForestClassifier(n_estimators=100, random_state=123)\n",
    "\n",
    "# Specify the number of features you want to keep after feature selection\n",
    "num_features_to_keep = 20\n",
    "\n",
    "# RFE feature selection\n",
    "rfe = RFE(estimator=estimator, n_features_to_select=num_features_to_keep)\n",
    "X_train_selected = rfe.fit_transform(X_train_normalized, y_train)\n",
    "X_val_selected = rfe.transform(X_val_normalized)\n",
    "\n",
    "# Get the support (mask) of selected features\n",
    "selected_feature_indices = rfe.support_\n",
    "\n",
    "# Get the names of the selected features\n",
    "selected_feature_names = [feature_names[i] for i in np.where(selected_feature_indices)[0]]\n",
    "\n",
    "# Print the names of the selected features\n",
    "print(\"Selected Features:\")\n",
    "print(selected_feature_names)"
   ]
  },
  {
   "cell_type": "code",
   "execution_count": 18,
   "metadata": {},
   "outputs": [],
   "source": [
    "top_features_f_classif = set(top_features_df['Feature'].tolist())\n",
    "top_features_rfe = set(selected_feature_names)"
   ]
  },
  {
   "cell_type": "code",
   "execution_count": 19,
   "metadata": {},
   "outputs": [
    {
     "data": {
      "text/plain": [
       "1"
      ]
     },
     "execution_count": 19,
     "metadata": {},
     "output_type": "execute_result"
    }
   ],
   "source": [
    "len(top_features_f_classif.intersection(top_features_rfe))"
   ]
  },
  {
   "cell_type": "code",
   "execution_count": 21,
   "metadata": {},
   "outputs": [],
   "source": [
    "# Load the test data\n",
    "obss_test, actions_test, returns_test, done_idxs_test, rtgs_test, timesteps_test = create_dataset(args.test_data_dir, total_trajectories=2000)\n",
    "len(obss_test), len(actions_test)\n",
    "\n",
    "X_test, y_test = obss_test, actions_test\n",
    "X_test_normalized = scaler.transform(X_test)\n",
    "X_test_selected = rfe.transform(X_test_normalized)"
   ]
  },
  {
   "cell_type": "code",
   "execution_count": 22,
   "metadata": {},
   "outputs": [
    {
     "name": "stdout",
     "output_type": "stream",
     "text": [
      "Test Accuracy: 0.74\n"
     ]
    }
   ],
   "source": [
    "# Test on the whole test data using RF\n",
    "\n",
    "# Step 3: Train a model using the selected features on the training set\n",
    "model = RandomForestClassifier(n_estimators=100, random_state=123)\n",
    "model.fit(X_test_selected, y_test)\n",
    "\n",
    "# Step 4: Test the model's performance on the testing set using the selected features\n",
    "y_pred = model.predict(X_test_selected)\n",
    "accuracy = accuracy_score(y_test, y_pred)\n",
    "\n",
    "print(f\"Test Accuracy: {accuracy:.2f}\")"
   ]
  },
  {
   "cell_type": "code",
   "execution_count": 40,
   "metadata": {},
   "outputs": [
    {
     "name": "stdout",
     "output_type": "stream",
     "text": [
      "13263 13263\n",
      "(13263, 324)\n",
      "(4297212,)\n"
     ]
    },
    {
     "ename": "ValueError",
     "evalue": "Expected 2D array, got 1D array instead:\narray=[ 8.5 12.5 16.5 ...  0.   1.   0. ].\nReshape your data either using array.reshape(-1, 1) if your data has a single feature or array.reshape(1, -1) if it contains a single sample.",
     "output_type": "error",
     "traceback": [
      "\u001b[0;31m---------------------------------------------------------------------------\u001b[0m",
      "\u001b[0;31mValueError\u001b[0m                                Traceback (most recent call last)",
      "\u001b[0;32m/tmp/ipykernel_15130/710758945.py\u001b[0m in \u001b[0;36m<module>\u001b[0;34m\u001b[0m\n\u001b[1;32m     23\u001b[0m \u001b[0;34m\u001b[0m\u001b[0m\n\u001b[1;32m     24\u001b[0m \u001b[0;31m# Step 4: Train the model on the training set\u001b[0m\u001b[0;34m\u001b[0m\u001b[0;34m\u001b[0m\u001b[0;34m\u001b[0m\u001b[0m\n\u001b[0;32m---> 25\u001b[0;31m \u001b[0mmodel\u001b[0m\u001b[0;34m.\u001b[0m\u001b[0mfit\u001b[0m\u001b[0;34m(\u001b[0m\u001b[0mX_train\u001b[0m\u001b[0;34m,\u001b[0m \u001b[0my_train\u001b[0m\u001b[0;34m)\u001b[0m\u001b[0;34m\u001b[0m\u001b[0;34m\u001b[0m\u001b[0m\n\u001b[0m\u001b[1;32m     26\u001b[0m \u001b[0;34m\u001b[0m\u001b[0m\n\u001b[1;32m     27\u001b[0m \u001b[0;31m# Step 5: Predict labels on the testing set\u001b[0m\u001b[0;34m\u001b[0m\u001b[0;34m\u001b[0m\u001b[0;34m\u001b[0m\u001b[0m\n",
      "\u001b[0;32m~/miniconda3/envs/decision-transformer-atari/lib/python3.7/site-packages/sklearn/neural_network/_multilayer_perceptron.py\u001b[0m in \u001b[0;36mfit\u001b[0;34m(self, X, y)\u001b[0m\n\u001b[1;32m    750\u001b[0m             \u001b[0mReturns\u001b[0m \u001b[0ma\u001b[0m \u001b[0mtrained\u001b[0m \u001b[0mMLP\u001b[0m \u001b[0mmodel\u001b[0m\u001b[0;34m.\u001b[0m\u001b[0;34m\u001b[0m\u001b[0;34m\u001b[0m\u001b[0m\n\u001b[1;32m    751\u001b[0m         \"\"\"\n\u001b[0;32m--> 752\u001b[0;31m         \u001b[0;32mreturn\u001b[0m \u001b[0mself\u001b[0m\u001b[0;34m.\u001b[0m\u001b[0m_fit\u001b[0m\u001b[0;34m(\u001b[0m\u001b[0mX\u001b[0m\u001b[0;34m,\u001b[0m \u001b[0my\u001b[0m\u001b[0;34m,\u001b[0m \u001b[0mincremental\u001b[0m\u001b[0;34m=\u001b[0m\u001b[0;32mFalse\u001b[0m\u001b[0;34m)\u001b[0m\u001b[0;34m\u001b[0m\u001b[0;34m\u001b[0m\u001b[0m\n\u001b[0m\u001b[1;32m    753\u001b[0m \u001b[0;34m\u001b[0m\u001b[0m\n\u001b[1;32m    754\u001b[0m     \u001b[0;32mdef\u001b[0m \u001b[0m_check_solver\u001b[0m\u001b[0;34m(\u001b[0m\u001b[0mself\u001b[0m\u001b[0;34m)\u001b[0m\u001b[0;34m:\u001b[0m\u001b[0;34m\u001b[0m\u001b[0;34m\u001b[0m\u001b[0m\n",
      "\u001b[0;32m~/miniconda3/envs/decision-transformer-atari/lib/python3.7/site-packages/sklearn/neural_network/_multilayer_perceptron.py\u001b[0m in \u001b[0;36m_fit\u001b[0;34m(self, X, y, incremental)\u001b[0m\n\u001b[1;32m    391\u001b[0m         )\n\u001b[1;32m    392\u001b[0m \u001b[0;34m\u001b[0m\u001b[0m\n\u001b[0;32m--> 393\u001b[0;31m         \u001b[0mX\u001b[0m\u001b[0;34m,\u001b[0m \u001b[0my\u001b[0m \u001b[0;34m=\u001b[0m \u001b[0mself\u001b[0m\u001b[0;34m.\u001b[0m\u001b[0m_validate_input\u001b[0m\u001b[0;34m(\u001b[0m\u001b[0mX\u001b[0m\u001b[0;34m,\u001b[0m \u001b[0my\u001b[0m\u001b[0;34m,\u001b[0m \u001b[0mincremental\u001b[0m\u001b[0;34m,\u001b[0m \u001b[0mreset\u001b[0m\u001b[0;34m=\u001b[0m\u001b[0mfirst_pass\u001b[0m\u001b[0;34m)\u001b[0m\u001b[0;34m\u001b[0m\u001b[0;34m\u001b[0m\u001b[0m\n\u001b[0m\u001b[1;32m    394\u001b[0m \u001b[0;34m\u001b[0m\u001b[0m\n\u001b[1;32m    395\u001b[0m         \u001b[0mn_samples\u001b[0m\u001b[0;34m,\u001b[0m \u001b[0mn_features\u001b[0m \u001b[0;34m=\u001b[0m \u001b[0mX\u001b[0m\u001b[0;34m.\u001b[0m\u001b[0mshape\u001b[0m\u001b[0;34m\u001b[0m\u001b[0;34m\u001b[0m\u001b[0m\n",
      "\u001b[0;32m~/miniconda3/envs/decision-transformer-atari/lib/python3.7/site-packages/sklearn/neural_network/_multilayer_perceptron.py\u001b[0m in \u001b[0;36m_validate_input\u001b[0;34m(self, X, y, incremental, reset)\u001b[0m\n\u001b[1;32m   1104\u001b[0m             \u001b[0mmulti_output\u001b[0m\u001b[0;34m=\u001b[0m\u001b[0;32mTrue\u001b[0m\u001b[0;34m,\u001b[0m\u001b[0;34m\u001b[0m\u001b[0;34m\u001b[0m\u001b[0m\n\u001b[1;32m   1105\u001b[0m             \u001b[0mdtype\u001b[0m\u001b[0;34m=\u001b[0m\u001b[0;34m(\u001b[0m\u001b[0mnp\u001b[0m\u001b[0;34m.\u001b[0m\u001b[0mfloat64\u001b[0m\u001b[0;34m,\u001b[0m \u001b[0mnp\u001b[0m\u001b[0;34m.\u001b[0m\u001b[0mfloat32\u001b[0m\u001b[0;34m)\u001b[0m\u001b[0;34m,\u001b[0m\u001b[0;34m\u001b[0m\u001b[0;34m\u001b[0m\u001b[0m\n\u001b[0;32m-> 1106\u001b[0;31m             \u001b[0mreset\u001b[0m\u001b[0;34m=\u001b[0m\u001b[0mreset\u001b[0m\u001b[0;34m,\u001b[0m\u001b[0;34m\u001b[0m\u001b[0;34m\u001b[0m\u001b[0m\n\u001b[0m\u001b[1;32m   1107\u001b[0m         )\n\u001b[1;32m   1108\u001b[0m         \u001b[0;32mif\u001b[0m \u001b[0my\u001b[0m\u001b[0;34m.\u001b[0m\u001b[0mndim\u001b[0m \u001b[0;34m==\u001b[0m \u001b[0;36m2\u001b[0m \u001b[0;32mand\u001b[0m \u001b[0my\u001b[0m\u001b[0;34m.\u001b[0m\u001b[0mshape\u001b[0m\u001b[0;34m[\u001b[0m\u001b[0;36m1\u001b[0m\u001b[0;34m]\u001b[0m \u001b[0;34m==\u001b[0m \u001b[0;36m1\u001b[0m\u001b[0;34m:\u001b[0m\u001b[0;34m\u001b[0m\u001b[0;34m\u001b[0m\u001b[0m\n",
      "\u001b[0;32m~/miniconda3/envs/decision-transformer-atari/lib/python3.7/site-packages/sklearn/base.py\u001b[0m in \u001b[0;36m_validate_data\u001b[0;34m(self, X, y, reset, validate_separately, **check_params)\u001b[0m\n\u001b[1;32m    579\u001b[0m                 \u001b[0my\u001b[0m \u001b[0;34m=\u001b[0m \u001b[0mcheck_array\u001b[0m\u001b[0;34m(\u001b[0m\u001b[0my\u001b[0m\u001b[0;34m,\u001b[0m \u001b[0;34m**\u001b[0m\u001b[0mcheck_y_params\u001b[0m\u001b[0;34m)\u001b[0m\u001b[0;34m\u001b[0m\u001b[0;34m\u001b[0m\u001b[0m\n\u001b[1;32m    580\u001b[0m             \u001b[0;32melse\u001b[0m\u001b[0;34m:\u001b[0m\u001b[0;34m\u001b[0m\u001b[0;34m\u001b[0m\u001b[0m\n\u001b[0;32m--> 581\u001b[0;31m                 \u001b[0mX\u001b[0m\u001b[0;34m,\u001b[0m \u001b[0my\u001b[0m \u001b[0;34m=\u001b[0m \u001b[0mcheck_X_y\u001b[0m\u001b[0;34m(\u001b[0m\u001b[0mX\u001b[0m\u001b[0;34m,\u001b[0m \u001b[0my\u001b[0m\u001b[0;34m,\u001b[0m \u001b[0;34m**\u001b[0m\u001b[0mcheck_params\u001b[0m\u001b[0;34m)\u001b[0m\u001b[0;34m\u001b[0m\u001b[0;34m\u001b[0m\u001b[0m\n\u001b[0m\u001b[1;32m    582\u001b[0m             \u001b[0mout\u001b[0m \u001b[0;34m=\u001b[0m \u001b[0mX\u001b[0m\u001b[0;34m,\u001b[0m \u001b[0my\u001b[0m\u001b[0;34m\u001b[0m\u001b[0;34m\u001b[0m\u001b[0m\n\u001b[1;32m    583\u001b[0m \u001b[0;34m\u001b[0m\u001b[0m\n",
      "\u001b[0;32m~/miniconda3/envs/decision-transformer-atari/lib/python3.7/site-packages/sklearn/utils/validation.py\u001b[0m in \u001b[0;36mcheck_X_y\u001b[0;34m(X, y, accept_sparse, accept_large_sparse, dtype, order, copy, force_all_finite, ensure_2d, allow_nd, multi_output, ensure_min_samples, ensure_min_features, y_numeric, estimator)\u001b[0m\n\u001b[1;32m    974\u001b[0m         \u001b[0mensure_min_samples\u001b[0m\u001b[0;34m=\u001b[0m\u001b[0mensure_min_samples\u001b[0m\u001b[0;34m,\u001b[0m\u001b[0;34m\u001b[0m\u001b[0;34m\u001b[0m\u001b[0m\n\u001b[1;32m    975\u001b[0m         \u001b[0mensure_min_features\u001b[0m\u001b[0;34m=\u001b[0m\u001b[0mensure_min_features\u001b[0m\u001b[0;34m,\u001b[0m\u001b[0;34m\u001b[0m\u001b[0;34m\u001b[0m\u001b[0m\n\u001b[0;32m--> 976\u001b[0;31m         \u001b[0mestimator\u001b[0m\u001b[0;34m=\u001b[0m\u001b[0mestimator\u001b[0m\u001b[0;34m,\u001b[0m\u001b[0;34m\u001b[0m\u001b[0;34m\u001b[0m\u001b[0m\n\u001b[0m\u001b[1;32m    977\u001b[0m     )\n\u001b[1;32m    978\u001b[0m \u001b[0;34m\u001b[0m\u001b[0m\n",
      "\u001b[0;32m~/miniconda3/envs/decision-transformer-atari/lib/python3.7/site-packages/sklearn/utils/validation.py\u001b[0m in \u001b[0;36mcheck_array\u001b[0;34m(array, accept_sparse, accept_large_sparse, dtype, order, copy, force_all_finite, ensure_2d, allow_nd, ensure_min_samples, ensure_min_features, estimator)\u001b[0m\n\u001b[1;32m    771\u001b[0m                     \u001b[0;34m\"Reshape your data either using array.reshape(-1, 1) if \"\u001b[0m\u001b[0;34m\u001b[0m\u001b[0;34m\u001b[0m\u001b[0m\n\u001b[1;32m    772\u001b[0m                     \u001b[0;34m\"your data has a single feature or array.reshape(1, -1) \"\u001b[0m\u001b[0;34m\u001b[0m\u001b[0;34m\u001b[0m\u001b[0m\n\u001b[0;32m--> 773\u001b[0;31m                     \u001b[0;34m\"if it contains a single sample.\"\u001b[0m\u001b[0;34m.\u001b[0m\u001b[0mformat\u001b[0m\u001b[0;34m(\u001b[0m\u001b[0marray\u001b[0m\u001b[0;34m)\u001b[0m\u001b[0;34m\u001b[0m\u001b[0;34m\u001b[0m\u001b[0m\n\u001b[0m\u001b[1;32m    774\u001b[0m                 )\n\u001b[1;32m    775\u001b[0m \u001b[0;34m\u001b[0m\u001b[0m\n",
      "\u001b[0;31mValueError\u001b[0m: Expected 2D array, got 1D array instead:\narray=[ 8.5 12.5 16.5 ...  0.   1.   0. ].\nReshape your data either using array.reshape(-1, 1) if your data has a single feature or array.reshape(1, -1) if it contains a single sample."
     ]
    }
   ],
   "source": [
    "from sklearn.neural_network import MLPClassifier\n",
    "# Train with MLP\n",
    "# Step 3: Create the two-layer MLP model\n",
    "\n",
    "X_train, y_train = obss, actions\n",
    "print(len(X_train), len(y_train))\n",
    "# X_train_normalized = scaler.fit_transform(X_train)\n",
    "# X_train_selected = rfe.fit_transform(X_train_normalized, y_train)\n",
    "\n",
    "X_train = np.array(X_train)\n",
    "# print(X_train.shape)\n",
    "\n",
    "print(X_train.shape)\n",
    "state_mean, state_std = np.mean(X_train, axis=0), np.std(X_train, axis=0) + 1e-6\n",
    "# X_test_selected = X_test_selected\n",
    "X_train = (X_train - state_mean)/state_std\n",
    "\n",
    "learning_rate = 0.0001\n",
    "batch_size = 32\n",
    "model = MLPClassifier(hidden_layer_sizes=(64, 64), activation='tanh', solver='adam',\n",
    "                      learning_rate_init=learning_rate, batch_size=batch_size, random_state=123, max_iter=200)\n",
    "\n",
    "# Step 4: Train the model on the training set\n",
    "model.fit(X_train, y_train)\n",
    "\n",
    "\n",
    "X_test = (np.array(X_test) - state_mean) / state_std\n",
    "# Step 5: Predict labels on the testing set\n",
    "y_pred = model.predict(X_test_selected)\n",
    "\n",
    "# Step 6: Evaluate the model's performance\n",
    "accuracy = accuracy_score(y_test, y_pred)\n",
    "print(f\"Test Accuracy: {accuracy:.4f}\")"
   ]
  },
  {
   "cell_type": "code",
   "execution_count": null,
   "metadata": {},
   "outputs": [],
   "source": [
    "# # Doing some grid search\n",
    "# # Step 3: Create the MLP model\n",
    "# from sklearn.model_selection import train_test_split, GridSearchCV, RandomizedSearchCV\n",
    "# from scipy.stats import randint, uniform\n",
    "# mlp = MLPClassifier(random_state=42)\n",
    "\n",
    "# # Step 4: Define hyperparameters and their search space\n",
    "# param_distributions = {\n",
    "#     'hidden_layer_sizes': [(64, 64), (128, 128), (256, 256)],\n",
    "#     'activation': ['relu', 'tanh'],\n",
    "#     'solver': ['adam', 'sgd'],\n",
    "#     'learning_rate_init': uniform(0.0001, 0.01),\n",
    "#     'max_iter': randint(100, 500),\n",
    "#     'batch_size': [2**i for i in range(4, 8)]\n",
    "# }\n",
    "\n",
    "# # Step 5: Perform randomized search with cross-validation to find the best hyperparameters\n",
    "# randomized_search = RandomizedSearchCV(mlp, param_distributions, n_iter=100, cv=3, n_jobs=-1, verbose=2,  refit='accuracy')\n",
    "# randomized_search.fit(X_train_normalized, y_train)\n",
    "\n",
    "# # Step 6: Get the best hyperparameters and evaluate the model\n",
    "# best_params = randomized_search.best_params_\n",
    "# print(\"Best Hyperparameters:\", best_params)\n",
    "\n",
    "# best_model = randomized_search.best_estimator_\n",
    "# y_pred = best_model.predict(X_test_normalized)\n",
    "# accuracy = accuracy_score(y_test, y_pred)\n",
    "# print(f\"Test Accuracy: {accuracy:.4f}\")"
   ]
  },
  {
   "cell_type": "code",
   "execution_count": null,
   "metadata": {},
   "outputs": [],
   "source": [
    "# # Step 3: Train a model using the selected features on the training set\n",
    "# model = RandomForestClassifier(n_estimators=100, random_state=123)\n",
    "# model.fit(X_train_selected, y_train)\n",
    "\n",
    "# # Step 4: Test the model's performance on the testing set using the selected features\n",
    "# y_pred = model.predict(X_val_selected)\n",
    "# accuracy = accuracy_score(y_val, y_pred)\n",
    "\n",
    "# print(f\"Val Accuracy: {accuracy:.2f}\")"
   ]
  },
  {
   "cell_type": "code",
   "execution_count": null,
   "metadata": {},
   "outputs": [],
   "source": [
    "from sklearn.metrics import f1_score\n",
    "macro_f1 = f1_score(y_test, y_pred, average='macro')\n",
    "\n",
    "# Calculate the micro F1 score\n",
    "micro_f1 = f1_score(y_test, y_pred, average='micro')\n",
    "\n",
    "print(\"Macro F1 Score:\", macro_f1)\n",
    "print(\"Micro F1 Score:\", micro_f1)"
   ]
  },
  {
   "cell_type": "code",
   "execution_count": null,
   "metadata": {},
   "outputs": [],
   "source": [
    "from sklearn.metrics import accuracy_score, classification_report\n",
    "# Calculate and display the classification report for each class\n",
    "class_names = data.target_names\n",
    "report = classification_report(y_test, y_pred, target_names=class_names)\n",
    "print(\"Classification Report:\")\n",
    "print(report)"
   ]
  },
  {
   "cell_type": "code",
   "execution_count": null,
   "metadata": {},
   "outputs": [],
   "source": [
    "classes = np.arange(16, 28.5, 0.5)\n",
    "correct_pred = {classname: 0 for classname in classes}\n",
    "total_pred = {classname: 0 for classname in classes}\n",
    "\n",
    "for target, prediction in zip(y_val, y_pred):\n",
    "    if target == prediction:\n",
    "        correct_pred[target] += 1\n",
    "    total_pred[target] += 1\n",
    "# print accuracy for each class\n",
    "for classname, correct_count in correct_pred.items():\n",
    "    if total_pred[classname] > 0:\n",
    "        accuracy = 100 * float(correct_count) / total_pred[classname]\n",
    "    else:\n",
    "        accuracy = 0\n",
    "    print(f'Accuracy for class: {classname} is {accuracy:.1f} %')"
   ]
  },
  {
   "cell_type": "markdown",
   "metadata": {},
   "source": [
    "### Results investigation"
   ]
  },
  {
   "cell_type": "code",
   "execution_count": null,
   "metadata": {},
   "outputs": [],
   "source": [
    "plt.plot(epoch_losses, label='train_loss')\n",
    "plt.plot(val_losses, label='val_loss')\n",
    "plt.xlabel('Epoch')\n",
    "plt.ylabel('Loss')\n",
    "plt.legend()\n",
    "plt.title(f\"train and val loss for {len(train_dataset)} train and {len(val_dataset)} datapoints\")\n",
    "# plt.show()\n",
    "plt.savefig(f'Figures/train_and_val_loss_for_{len(train_dataset)}_datapoints.jpg')"
   ]
  },
  {
   "cell_type": "code",
   "execution_count": null,
   "metadata": {},
   "outputs": [],
   "source": [
    "from atari.mingpt.envs.smart_climate_env import CustomActionSpace\n",
    "action_map = CustomActionSpace().actions_map\n",
    "\n",
    "train_actions_str = [str(action_map[action]) for action in actions]\n",
    "predicted_actions_str = [str(action) for action in predicted_actions]\n",
    "target_actions_str = [str(action) for action in target_actions]"
   ]
  },
  {
   "cell_type": "code",
   "execution_count": null,
   "metadata": {},
   "outputs": [],
   "source": [
    "train_actions_unique, counts = np.unique(train_actions_str, return_counts=True)\n",
    "train_action_count_dict = dict(zip(train_actions_unique, counts))\n",
    "\n",
    "target_actions_unique, counts = np.unique(target_actions_str, return_counts=True)\n",
    "target_action_count_dict = dict(zip(target_actions_unique, counts))\n",
    "\n",
    "predicted_actions_unique, counts = np.unique(predicted_actions_str, return_counts=True)\n",
    "predicted_action_count_dict = dict(zip(predicted_actions_unique, counts))\n",
    "\n",
    "for action in np.arange(16.0, 28.5, 0.5):\n",
    "    if str(action) not in predicted_action_count_dict.keys():\n",
    "        predicted_action_count_dict[str(action)] = 0\n",
    "    if str(action) not in train_action_count_dict.keys():\n",
    "        train_action_count_dict[str(action)] = 0\n",
    "    if str(action) not in target_action_count_dict.keys():\n",
    "        target_action_count_dict[str(action)] = 0\n",
    "\n",
    "sorted_keys = sorted(predicted_action_count_dict)\n",
    "predicted_action_count_dict = {key: predicted_action_count_dict[key] for key in sorted_keys}\n",
    "train_action_count_dict = {key: train_action_count_dict[key] for key in sorted_keys}\n",
    "target_action_count_dict = {key: target_action_count_dict[key] for key in sorted_keys}\n",
    "\n",
    "sorted(train_action_count_dict.keys()) == sorted(predicted_action_count_dict.keys())"
   ]
  },
  {
   "cell_type": "code",
   "execution_count": null,
   "metadata": {},
   "outputs": [],
   "source": [
    "accuracy = accuracy_score(target_actions_str, predicted_actions_str)\n",
    "print(f\"Evaluation Accuracy: {accuracy * 100:.4f}\")"
   ]
  },
  {
   "cell_type": "code",
   "execution_count": null,
   "metadata": {},
   "outputs": [],
   "source": [
    "from sklearn.metrics import f1_score\n",
    "macro_f1 = f1_score(target_actions_str, predicted_actions_str, average='macro')\n",
    "\n",
    "# Calculate the micro F1 score\n",
    "micro_f1 = f1_score(target_actions_str, predicted_actions_str, average='micro')\n",
    "\n",
    "print(\"Macro F1 Score:\", macro_f1)\n",
    "print(\"Micro F1 Score:\", micro_f1)"
   ]
  },
  {
   "cell_type": "code",
   "execution_count": null,
   "metadata": {},
   "outputs": [],
   "source": [
    "classes = np.arange(16, 28.5, 0.5)\n",
    "correct_pred = {classname: 0 for classname in classes}\n",
    "total_pred = {classname: 0 for classname in classes}\n",
    "\n",
    "for target, prediction in zip(target_actions, predicted_actions):\n",
    "    if target == prediction:\n",
    "        correct_pred[target] += 1\n",
    "    total_pred[target] += 1\n",
    "# print accuracy for each class\n",
    "for classname, correct_count in correct_pred.items():\n",
    "    if total_pred[classname] > 0:\n",
    "        accuracy = 100 * float(correct_count) / total_pred[classname]\n",
    "    else:\n",
    "        accuracy = 0\n",
    "    print(f'Accuracy for class: {classname} is {accuracy:.1f} %')"
   ]
  },
  {
   "cell_type": "code",
   "execution_count": null,
   "metadata": {},
   "outputs": [],
   "source": [
    "# Sample data for three datasets\n",
    "data1 = train_action_count_dict.values()\n",
    "data2 = target_action_count_dict.values()\n",
    "data3 = predicted_action_count_dict.values()\n",
    "\n",
    "# Define the x-axis labels for the bars\n",
    "x_labels = train_action_count_dict.keys()\n",
    "\n",
    "# Create a figure and three subplots side by side\n",
    "fig, axes = plt.subplots(nrows=1, ncols=3, figsize=(15, 5))\n",
    "\n",
    "# Plot the bar plots on each subplot\n",
    "bar_width = 1\n",
    "x = np.arange(len(x_labels))\n",
    "\n",
    "# Bar plot for Dataset 1\n",
    "axes[0].bar(x, data1, bar_width, color='blue', label='train actions', edgecolor='black', alpha=0.5)\n",
    "axes[0].set_xticks(x)\n",
    "axes[0].set_xticklabels(x_labels, rotation=90)\n",
    "axes[0].set_title('Target temperature from train dataset')\n",
    "\n",
    "# Bar plot for Dataset 2\n",
    "axes[1].bar(x, data2, bar_width, color='green', label='target actions', edgecolor='black', alpha=0.5)\n",
    "axes[1].set_xticks(x)\n",
    "axes[1].set_xticklabels(x_labels, rotation=90)\n",
    "axes[1].set_title('Target temperature from evaluation set')\n",
    "\n",
    "# Bar plot for Dataset 3\n",
    "axes[2].bar(x, data3, bar_width, color='red', label='predicted actions', edgecolor='black', alpha=0.5)\n",
    "axes[2].set_xticks(x)\n",
    "axes[2].set_xticklabels(x_labels, rotation=90)\n",
    "axes[2].set_title('Target temperature from the predictions')\n",
    "\n",
    "# Add labels and title to the overall figure\n",
    "plt.suptitle('Bar Plots of Train, Eval and Predicted target temperatures')\n",
    "plt.tight_layout()\n",
    "plt.show()\n"
   ]
  },
  {
   "cell_type": "code",
   "execution_count": null,
   "metadata": {},
   "outputs": [],
   "source": [
    "# Build confusion matrix\n",
    "unique_labels = np.unique(np.concatenate((target_actions_str, predicted_actions_str)))\n",
    "\n",
    "# Build confusion matrix\n",
    "cf_matrix = confusion_matrix(target_actions_str, predicted_actions_str, labels=unique_labels)\n",
    "\n",
    "# Create a DataFrame from the confusion matrix for better visualization\n",
    "df_cm = pd.DataFrame(cf_matrix, index=unique_labels, columns=unique_labels)\n",
    "\n",
    "plt.figure(figsize = (16,16))\n",
    "# plt.plot(df_cm)\n",
    "sn.heatmap(df_cm, annot=True, cmap='Blues', cbar=True)\n",
    "plt.xlabel('Predicted')\n",
    "plt.ylabel('Actual')\n",
    "plt.title(f\"Confusion matrix for {len(train_dataset)} train and {len(predicted_actions)} datapoints\")\n",
    "# plt.show()\n",
    "plt.savefig(f'Figures/Confusion matrix for {len(train_dataset)} train and {len(predicted_actions)} datapoints.jpg')\n"
   ]
  },
  {
   "cell_type": "code",
   "execution_count": null,
   "metadata": {},
   "outputs": [],
   "source": [
    "sns.lineplot(returns)"
   ]
  },
  {
   "cell_type": "code",
   "execution_count": null,
   "metadata": {},
   "outputs": [],
   "source": [
    "sns.histplot(sorted(train_actions_str))\n",
    "plt.xlabel('Target Temperatures')\n",
    "plt.title(\"Target Temperature distribution in the training set\")\n",
    "plt.xticks(rotation=90)\n",
    "plt.show()"
   ]
  },
  {
   "cell_type": "code",
   "execution_count": null,
   "metadata": {},
   "outputs": [],
   "source": [
    "sns.histplot(sorted(target_actions_str))\n",
    "plt.xlabel('Target temperature')\n",
    "plt.title(\"Target temperatures distribution in the evaluation set\")\n",
    "plt.xticks(rotation=90)\n",
    "plt.show()"
   ]
  },
  {
   "cell_type": "code",
   "execution_count": null,
   "metadata": {},
   "outputs": [],
   "source": [
    "sns.histplot(sorted(predicted_actions_str))\n",
    "plt.xlabel('Target temperatures from the evaluation set')\n",
    "plt.title(\"Predicted target temperatures distribution from the evaluation set\")\n",
    "plt.xticks(rotation=90)\n",
    "plt.show()"
   ]
  },
  {
   "cell_type": "code",
   "execution_count": null,
   "metadata": {},
   "outputs": [],
   "source": [
    "# # Numbers of pairs of bars you want\n",
    "# # N = 4\n",
    "\n",
    "# # Data on X-axis\n",
    "\n",
    "# # Specify the values of blue bars (height)\n",
    "# # train_actions = list(train_action_count_dict.values())\n",
    "# target_actions = list(target_action_count_dict.values())\n",
    "\n",
    "\n",
    "# # Specify the values of orange bars (height)\n",
    "# pred_actions = list(predicted_action_count_dict.values())\n",
    "\n",
    "\n",
    "# print(len(target_actions), len(pred_actions))\n",
    "# # Position of bars on x-axis\n",
    "# ind = np.arange(16.0, 28.5, 0.5)\n",
    "# # ind = np.arange(5)\n",
    "# # print(ind)\n",
    "\n",
    "# # Figure size\n",
    "# plt.figure(figsize=(10,5))\n",
    "\n",
    "# # Width of a bar \n",
    "# width = 0.2       \n",
    "\n",
    "# # Plotting\n",
    "# plt.bar(ind, target_actions , width, label='target action')\n",
    "# plt.bar(ind + width, pred_actions, width, label='pred action')\n",
    "\n",
    "# plt.xlabel('Actions')\n",
    "# plt.ylabel('Count')\n",
    "# plt.title('Action distribution comparison between target and predictions')\n",
    "\n",
    "# # # xticks()\n",
    "# # # First argument - A list of positions at which ticks should be placed\n",
    "# # # Second argument -  A list of labels to place at the given locations\n",
    "# # plt.xticks(ind+0.1, train_action_count_dict.keys())\n",
    "# plt.xticks(ind+0.1, ind)\n",
    "\n",
    "# # Finding the best position for legends and putting it\n",
    "# plt.legend(loc='best')\n",
    "# plt.xticks(rotation=90)\n",
    "# plt.show()"
   ]
  },
  {
   "cell_type": "markdown",
   "metadata": {},
   "source": [
    "### Hyperparameter Tuning"
   ]
  },
  {
   "cell_type": "code",
   "execution_count": null,
   "metadata": {},
   "outputs": [],
   "source": [
    "import optuna\n",
    "import torch\n",
    "import torch.nn as nn\n",
    "import torch.optim as optim\n",
    "from sklearn.model_selection import train_test_split\n",
    "# from your_pytorch_model import YourModel  # Import your PyTorch model\n",
    "\n",
    "def objective(trial):\n",
    "    # Sample hyperparameters to be tuned by Optuna\n",
    "    learning_rate = trial.suggest_float('learning_rate', 1e-5, 1e-2, log=True)\n",
    "    num_hidden_units = trial.suggest_int('num_hidden_units', 32, 256)\n",
    "    \n",
    "    # Load the val_dataset\n",
    "    val_data_dir = \"../atari/data-for-dt/smart-climate-val-trajectories-v2.pkl\"\n",
    "    # Create the dataset first\n",
    "    obss, actions, returns, done_idxs, rtgs, timesteps = create_dataset(val_data_dir, total_trajectories=8000, apply_dim_reduction=True)\n",
    "    \n",
    "    # Split your data into train and validation sets\n",
    "    X_train, X_val, y_train, y_val = train_test_split(obss, actions, test_size=0.1, random_state=123)\n",
    "    \n",
    "    val_dataset = StateActionReturnDataset(X_train, args.context_length*3, y_train, done_idxs, rtgs, timesteps)\n",
    "    print(f\"vocab size: {val_dataset.vocab_size}\")\n",
    "    \n",
    "    # Define the model here\n",
    "    mconf = GPTConfig(val_dataset.vocab_size, val_dataset.block_size, n_layer=6, n_head=8, n_embd=128, model_type=args.model_type, max_timestep=max(timesteps), input_dim=len(obss[0]))\n",
    "    model = GPT(mconf)\n",
    "\n",
    "    # Train the model for a fixed number of epochs\n",
    "    epochs = 10\n",
    "    tconf = TrainerConfig(max_epochs=epochs, batch_size=args.batch_size, learning_rate=6e-4, lr_decay=True, warmup_tokens=512*20, final_tokens=2*len(train_dataset)*args.context_length*3, num_workers=4, seed=args.seed, model_type=args.model_type, env=args.env, max_timestep=max(timesteps))\n",
    "    \n",
    "    rtg = 100\n",
    "    max_ep_len = 100\n",
    "    trainer = Trainer(model, train_dataset, None, tconf, args.env, rtg=rtg, max_ep_len=max_ep_len, num_eval_episodes=1)\n",
    "    \n",
    "    trainer.train()\n",
    "    val_loss, val_accuracy = trainer.evaluate_model()\n",
    "\n",
    "    # Return the validation loss as the objective value to be minimized\n",
    "    return val_loss\n"
   ]
  },
  {
   "cell_type": "code",
   "execution_count": null,
   "metadata": {},
   "outputs": [],
   "source": [
    "study = optuna.create_study(direction='minimize')\n",
    "study.optimize(objective, n_trials=100)"
   ]
  },
  {
   "cell_type": "code",
   "execution_count": null,
   "metadata": {},
   "outputs": [],
   "source": [
    "best_params = study.best_params\n",
    "learning_rate = best_params['learning_rate']\n",
    "num_hidden_units = best_params['num_hidden_units']\n",
    "learning_rate, num_hidden_units\n",
    "# # Train your final model using the best hyperparameters\n",
    "# final_model = model(num_hidden_units)\n",
    "# optimizer = optim.Adam(final_model.parameters(), lr=learning_rate)\n",
    "\n",
    "# Train the model on the entire training data\n",
    "# ...\n"
   ]
  },
  {
   "cell_type": "code",
   "execution_count": null,
   "metadata": {},
   "outputs": [],
   "source": [
    "# Load the val_dataset\n",
    "val_data_dir = \"../atari/data-for-dt/smart-climate-val-trajectories-v2.pkl\"\n",
    "# Create the dataset first\n",
    "obss, actions, returns, done_idxs, rtgs, timesteps = create_dataset(val_data_dir, total_trajectories=8000, apply_dim_reduction=True)\n",
    "# Sanity check\n",
    "# Are there any nan values in the obss\n",
    "print(f\"There are nan values in the obss: {np.isnan(np.array(obss)).any()}\")\n",
    "print(\"*\" * len(args.env + \"Environment\"))\n",
    "print(f\"{args.env} Environment\")\n",
    "print(\"*\" * len(args.env + \"Environment\"))\n",
    "print(f\"total obss: {len(obss)}\\ntotal actions: {actions.shape}\\ntotal returns: {returns.shape}\\ntimesteps: {len(timesteps)}\")"
   ]
  },
  {
   "cell_type": "code",
   "execution_count": null,
   "metadata": {},
   "outputs": [],
   "source": [
    "val_dataset = StateActionReturnDataset(obss, args.context_length*3, actions, done_idxs, rtgs, timesteps)\n",
    "print(f\"vocab size: {train_dataset.vocab_size}\")"
   ]
  },
  {
   "cell_type": "code",
   "execution_count": null,
   "metadata": {},
   "outputs": [],
   "source": [
    "# initialize a trainer instance and kick off training\n",
    "epochs = 10\n",
    "tconf = TrainerConfig(max_epochs=epochs, batch_size=args.batch_size, learning_rate=6e-4, lr_decay=True, warmup_tokens=512*20, final_tokens=2*len(train_dataset)*args.context_length*3, num_workers=4, seed=args.seed, model_type=args.model_type, env=args.env, max_timestep=max(timesteps))"
   ]
  },
  {
   "cell_type": "code",
   "execution_count": null,
   "metadata": {},
   "outputs": [],
   "source": [
    "rtg = 100\n",
    "max_ep_len = 100\n",
    "trainer = Trainer(model, train_dataset, None, tconf, args.env, rtg=rtg, max_ep_len=max_ep_len, num_eval_episodes=1)\n",
    "# avg_return, predicted_actions, target_actions, epoch_losses = trainer.train()\n",
    "# print(f\"Average reward achieved: {avg_return:.2f} with RTG: {rtg}\")"
   ]
  },
  {
   "cell_type": "markdown",
   "metadata": {},
   "source": []
  }
 ],
 "metadata": {
  "kernelspec": {
   "display_name": "decision-transformer-atari",
   "language": "python",
   "name": "python3"
  },
  "language_info": {
   "codemirror_mode": {
    "name": "ipython",
    "version": 3
   },
   "file_extension": ".py",
   "mimetype": "text/x-python",
   "name": "python",
   "nbconvert_exporter": "python",
   "pygments_lexer": "ipython3",
   "version": "3.7.12"
  },
  "orig_nbformat": 4
 },
 "nbformat": 4,
 "nbformat_minor": 2
}
