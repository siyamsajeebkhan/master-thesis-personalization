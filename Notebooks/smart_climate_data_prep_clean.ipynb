{
 "cells": [
  {
   "cell_type": "code",
   "execution_count": 47,
   "id": "4b671053-55b7-4037-a696-27d645a687a5",
   "metadata": {
    "tags": []
   },
   "outputs": [],
   "source": [
    "import numpy as np\n",
    "import seaborn as sns\n",
    "from matplotlib import pyplot as plt\n",
    "import pandas as pd\n",
    "import random\n",
    "pd.set_option('display.max_columns', None)\n",
    "# pd.set_option('display.max_rows', None)"
   ]
  },
  {
   "cell_type": "markdown",
   "id": "76ed44cc-2de3-422c-a0aa-393977070f1a",
   "metadata": {},
   "source": [
    "## Loading data from S3"
   ]
  },
  {
   "cell_type": "code",
   "execution_count": 48,
   "id": "9cf13116",
   "metadata": {
    "tags": []
   },
   "outputs": [],
   "source": [
    "# s3_uri = \"s3://aws-athena-query-results-378141045805-eu-west-1/primary/e28fee6c-ad6a-429f-9a52-8dff2c0481c3.csv\""
   ]
  },
  {
   "cell_type": "code",
   "execution_count": 49,
   "id": "302c4c58",
   "metadata": {
    "tags": []
   },
   "outputs": [],
   "source": [
    "# Path to the local data\n",
    "# The variable name is kept unchanged for future references\n",
    "s3_uri = \"../data/smart-climate-2021/c096aced-8c13-4a71-9499-641f559ddf08.csv\""
   ]
  },
  {
   "cell_type": "code",
   "execution_count": 50,
   "id": "998bf0fd-2d9a-46d9-8a01-68a7434365ee",
   "metadata": {
    "tags": []
   },
   "outputs": [
    {
     "data": {
      "text/plain": [
       "(2539685, 69)"
      ]
     },
     "execution_count": 50,
     "metadata": {},
     "output_type": "execute_result"
    }
   ],
   "source": [
    "climate_data_2021 = pd.read_csv(s3_uri)\n",
    "climate_data_2021.shape"
   ]
  },
  {
   "cell_type": "code",
   "execution_count": 5,
   "id": "49f51e1f",
   "metadata": {},
   "outputs": [
    {
     "name": "stdout",
     "output_type": "stream",
     "text": [
      "23843\n",
      "238803\n",
      "5 10.015644004529632 430\n",
      "6 10.635063211098688 99\n"
     ]
    }
   ],
   "source": [
    "# total number of cars\n",
    "print(climate_data_2021['c_van17'].nunique())\n",
    "\n",
    "# total number of drives\n",
    "print(climate_data_2021['c_driveid'].nunique())\n",
    "\n",
    "# number of drives per car\n",
    "print(climate_data_2021.groupby(['c_van17'])['c_driveid'].nunique().min(), climate_data_2021.groupby(['c_van17'])['c_driveid'].nunique().mean(), climate_data_2021.groupby(['c_van17'])['c_driveid'].nunique().max())\n",
    "\n",
    "# min and max events per drive\n",
    "print(climate_data_2021['c_driveid'].value_counts().min(), climate_data_2021['c_driveid'].value_counts().mean(), climate_data_2021['c_driveid'].value_counts().max())"
   ]
  },
  {
   "cell_type": "code",
   "execution_count": 24,
   "id": "588964ac-44c9-4332-ba78-867657599b1a",
   "metadata": {
    "tags": []
   },
   "outputs": [
    {
     "name": "stdout",
     "output_type": "stream",
     "text": [
      "object: 33\n",
      "float64: 24\n",
      "int64: 8\n",
      "bool: 4\n"
     ]
    }
   ],
   "source": [
    "# Let's see the data types\n",
    "data_types = climate_data_2021.dtypes.unique()\n",
    "for dtype in data_types:\n",
    "    print(f\"{dtype}: {(climate_data_2021.dtypes == dtype).sum()}\")"
   ]
  },
  {
   "cell_type": "markdown",
   "id": "d98931b9",
   "metadata": {},
   "source": [
    "### Curate the dataset\n",
    "1. delete the drives which had only temperatures 16 and 28\n",
    "2. delete the events where there was no change in the temp (not yet)\n",
    "3. delet the events with 0 second duration"
   ]
  },
  {
   "cell_type": "markdown",
   "id": "05618eff-063b-44e8-8754-f738a77282aa",
   "metadata": {},
   "source": [
    "### First sort the dataset with c_van17, c_driveid and c_msg_creation_timestamp"
   ]
  },
  {
   "cell_type": "code",
   "execution_count": 28,
   "id": "11f440de-aedc-4bf9-b9d0-e5f5a43be4dc",
   "metadata": {
    "tags": []
   },
   "outputs": [],
   "source": [
    "# Sorting the dataset with c_driveid and c_msg_creation_timestamp ascendingly\n",
    "climate_data_2021.sort_values(['c_van17', 'c_driveid', 'c_msg_creation_timestamp'], inplace=True)"
   ]
  },
  {
   "cell_type": "markdown",
   "id": "9b82a0a9-45af-4e15-bc6b-fd2abd08f8b4",
   "metadata": {},
   "source": [
    "#### Delete non-relevant columns"
   ]
  },
  {
   "cell_type": "code",
   "execution_count": 30,
   "id": "f3c62bdb-d4d4-4a89-93ac-0de0af0d89bf",
   "metadata": {
    "tags": []
   },
   "outputs": [],
   "source": [
    "not_relevant_columns = [\n",
    "    'c_min_diff_ms_blower_level',\n",
    "    'c_min_diff_ms_blower_style',\n",
    "    'c_min_diff_ms_air_dist',\n",
    "    'c_min_diff_ms_auto_mode',\n",
    "    'c_min_diff_ms_target_temp',\n",
    "    'c_interiortemperature_startup_celsius',\n",
    "    'c_vehicle_live_time_days',\n",
    "    'c_gpsregion_geohash_drive',\n",
    "    'c_gps_data_source',\n",
    "    'c_hub',\n",
    "    'c_country_iso_code',\n",
    "    'c_hybridkennzeichen',\n",
    "    'c_bcbehvenergystart_kwh',\n",
    "    'c_bcbehvenergyend_kwh',\n",
    "    'c_touchscreen_used_count',\n",
    "    'c_first_last_mode',\n",
    "    # 'c_auto_mode',\n",
    "    # 'c_pwf',\n",
    "]"
   ]
  },
  {
   "cell_type": "code",
   "execution_count": 31,
   "id": "f76d1bbd-3438-4003-ae3e-f0e9e7b164df",
   "metadata": {
    "tags": []
   },
   "outputs": [
    {
     "data": {
      "text/plain": [
       "(2539685, 53)"
      ]
     },
     "execution_count": 31,
     "metadata": {},
     "output_type": "execute_result"
    }
   ],
   "source": [
    "climate_data_2021 = climate_data_2021.drop(columns = not_relevant_columns)\n",
    "climate_data_2021.shape"
   ]
  },
  {
   "cell_type": "code",
   "execution_count": 32,
   "id": "da948883-6994-4bf6-a02e-41a99ef6dfa5",
   "metadata": {
    "tags": []
   },
   "outputs": [
    {
     "name": "stdout",
     "output_type": "stream",
     "text": [
      "object: 27\n",
      "float64: 15\n",
      "int64: 7\n",
      "bool: 4\n"
     ]
    }
   ],
   "source": [
    "# Let's see the data types\n",
    "data_types = climate_data_2021.dtypes.unique()\n",
    "for dtype in data_types:\n",
    "    print(f\"{dtype}: {(climate_data_2021.dtypes == dtype).sum()}\")"
   ]
  },
  {
   "cell_type": "markdown",
   "id": "f9452123",
   "metadata": {},
   "source": [
    "### Dealing with missing values"
   ]
  },
  {
   "cell_type": "markdown",
   "id": "1b314190-d981-48cc-b674-11a51346ffe9",
   "metadata": {},
   "source": [
    "#### Delete columns with missing values"
   ]
  },
  {
   "cell_type": "code",
   "execution_count": 34,
   "id": "688308b9-5ede-41a3-a7e4-acb56036131b",
   "metadata": {
    "scrolled": true,
    "tags": []
   },
   "outputs": [
    {
     "data": {
      "text/plain": [
       "(['c_min_exteriortemperature_celsius',\n",
       "  'c_exteriortemperature_avg_celsius',\n",
       "  'c_max_exteriortemperature_celsius',\n",
       "  'c_timezonedelta',\n",
       "  'c_gpsregion_city_drive',\n",
       "  'c_gpsregion_lat_drive',\n",
       "  'c_gpsregion_long_drive'],\n",
       " c_min_exteriortemperature_celsius        22\n",
       " c_exteriortemperature_avg_celsius        22\n",
       " c_max_exteriortemperature_celsius        22\n",
       " c_timezonedelta                      334084\n",
       " c_gpsregion_city_drive               213298\n",
       " c_gpsregion_lat_drive                294594\n",
       " c_gpsregion_long_drive               294594\n",
       " dtype: int64)"
      ]
     },
     "execution_count": 34,
     "metadata": {},
     "output_type": "execute_result"
    }
   ],
   "source": [
    "missing_vals_check = climate_data_2021.isna().sum()\n",
    "missing_val_feature_and_count = missing_vals_check[missing_vals_check>0]\n",
    "missing_val_cols = missing_val_feature_and_count.keys().tolist()\n",
    "missing_val_cols, missing_val_feature_and_count"
   ]
  },
  {
   "cell_type": "code",
   "execution_count": 36,
   "id": "ad7e3b60",
   "metadata": {},
   "outputs": [
    {
     "data": {
      "text/plain": [
       "(2539663, 53)"
      ]
     },
     "execution_count": 36,
     "metadata": {},
     "output_type": "execute_result"
    }
   ],
   "source": [
    "# Delete rows with missing values\n",
    "climate_data_2021 = climate_data_2021.dropna(subset=['c_min_exteriortemperature_celsius', 'c_exteriortemperature_avg_celsius', 'c_max_exteriortemperature_celsius'])\n",
    "climate_data_2021.shape"
   ]
  },
  {
   "cell_type": "code",
   "execution_count": 38,
   "id": "bf7be0bb",
   "metadata": {},
   "outputs": [],
   "source": [
    "missing_val_cols = [\n",
    "  'c_timezonedelta',\n",
    "  'c_gpsregion_city_drive',\n",
    "  'c_gpsregion_lat_drive',\n",
    "  'c_gpsregion_long_drive']"
   ]
  },
  {
   "cell_type": "code",
   "execution_count": 39,
   "id": "43b2c5e8",
   "metadata": {
    "tags": []
   },
   "outputs": [
    {
     "name": "stdout",
     "output_type": "stream",
     "text": [
      "c_van17                              0\n",
      "c_driveid                            0\n",
      "c_drive_timestamp_start              0\n",
      "c_drive_timestamp_stop               0\n",
      "c_msg_creation_timestamp             0\n",
      "c_target_temp                        0\n",
      "c_blower_combined                    0\n",
      "c_air_mode_combined                  0\n",
      "c_blower_level                       0\n",
      "c_blower_style                       0\n",
      "c_air_dist                           0\n",
      "c_auto_mode                          0\n",
      "c_pwf                                0\n",
      "c_pwf_group                          0\n",
      "c_row_number_drive                   0\n",
      "c_number_of_rows_drive               0\n",
      "c_only_driving_duration_sec          0\n",
      "c_event_duration_sec                 0\n",
      "c_min_exteriortemperature_celsius    0\n",
      "c_exteriortemperature_avg_celsius    0\n",
      "c_max_exteriortemperature_celsius    0\n",
      "c_drive_duration_sec                 0\n",
      "c_drive_duration_minutes             0\n",
      "c_drive_weekday                      0\n",
      "c_year_month_day                     0\n",
      "c_weekofyear_year                    0\n",
      "c_weekend_drive                      0\n",
      "c_avg_drives_per_day                 0\n",
      "c_avg_drives_per_week                0\n",
      "c_avg_drives_per_month               0\n",
      "c_order_country                      0\n",
      "c_brand                              0\n",
      "c_derivat                            0\n",
      "c_marketing_name                     0\n",
      "c_steering_wheel_position            0\n",
      "c_product_line                       0\n",
      "c_fuel_type_corrected_description    0\n",
      "c_vehicle_class                      0\n",
      "c_script_version                     0\n",
      "c_mean_speed                         0\n",
      "c_mileage_start                      0\n",
      "c_mileage_stop                       0\n",
      "c_mileage_delta                      0\n",
      "c_drive_number_per_car               0\n",
      "c_number_of_drives_per_car           0\n",
      "c_gcad                               0\n",
      "c_is_active_profile                  0\n",
      "c_is_guest_profile                   0\n",
      "c_touchscreen_used                   0\n",
      "dtype: int64\n"
     ]
    },
    {
     "data": {
      "text/plain": [
       "(2539663, 49)"
      ]
     },
     "execution_count": 39,
     "metadata": {},
     "output_type": "execute_result"
    }
   ],
   "source": [
    "# Drop the columns with missing values\n",
    "climate_data_2021 = climate_data_2021.drop(missing_val_cols, axis=1)\n",
    "print(climate_data_2021.isna().sum())\n",
    "climate_data_2021.shape"
   ]
  },
  {
   "cell_type": "markdown",
   "id": "d2033d9e",
   "metadata": {},
   "source": [
    "### Choose only those instances where the vehcile was in FAHREN mode"
   ]
  },
  {
   "cell_type": "code",
   "execution_count": 40,
   "id": "284c26c8",
   "metadata": {},
   "outputs": [
    {
     "data": {
      "text/plain": [
       "(2539663, 49)"
      ]
     },
     "execution_count": 40,
     "metadata": {},
     "output_type": "execute_result"
    }
   ],
   "source": [
    "climate_data_2021 = climate_data_2021[climate_data_2021['c_pwf_group'] == 'FAHREN']\n",
    "climate_data_2021.shape"
   ]
  },
  {
   "cell_type": "markdown",
   "id": "77583597-59a6-4b2e-88e6-9efad161a7bc",
   "metadata": {},
   "source": [
    "#### Delete the events with 0 seconds duration"
   ]
  },
  {
   "cell_type": "code",
   "execution_count": 41,
   "id": "a61ef4a8-1b0d-494d-84d6-ad9fda6c3824",
   "metadata": {
    "tags": []
   },
   "outputs": [
    {
     "data": {
      "text/plain": [
       "(2520827, 49)"
      ]
     },
     "execution_count": 41,
     "metadata": {},
     "output_type": "execute_result"
    }
   ],
   "source": [
    "climate_data_2021 = climate_data_2021[~(climate_data_2021['c_event_duration_sec'] == 0)]\n",
    "climate_data_2021.shape"
   ]
  },
  {
   "cell_type": "code",
   "execution_count": 42,
   "id": "fd45f884",
   "metadata": {},
   "outputs": [
    {
     "data": {
      "text/plain": [
       "(531.2559287091101, 229.0, 809.763147902246)"
      ]
     },
     "execution_count": 42,
     "metadata": {},
     "output_type": "execute_result"
    }
   ],
   "source": [
    "climate_data_2021['c_event_duration_sec'].mean(), climate_data_2021['c_event_duration_sec'].median(), climate_data_2021['c_event_duration_sec'].std()"
   ]
  },
  {
   "cell_type": "markdown",
   "id": "d96848e0-b9a2-42f3-96c2-d7d06853b2da",
   "metadata": {},
   "source": [
    "#### Delete the drives where the temperature didn't change at all."
   ]
  },
  {
   "cell_type": "code",
   "execution_count": 43,
   "id": "bd6aaae4",
   "metadata": {},
   "outputs": [],
   "source": [
    "# # Check across how many drives the temperature didn't change at all\n",
    "# # Check across how many drives the temperature didn't change at all\n",
    "# climate_data_2021['d_diff_in_target_temp'] = climate_data_2021.sort_values(['c_driveid', 'c_msg_creation_timestamp']).groupby('c_driveid')['c_target_temp'].diff()\n",
    "# climate_data_2021.shape"
   ]
  },
  {
   "cell_type": "code",
   "execution_count": 44,
   "id": "37f619a2",
   "metadata": {
    "tags": []
   },
   "outputs": [],
   "source": [
    "# drive_wise_temp_change = (climate_data_2021.groupby('c_driveid')['d_diff_in_target_temp'].agg(lambda x: abs(x).sum()) == 0.0)\n",
    "# print(drive_wise_temp_change.sum())\n",
    "\n",
    "# drive_wise_temp_change = (climate_data_2021.groupby('c_driveid')['d_diff_in_target_temp'].agg(lambda x: abs(x).sum()) == 0.0)\n",
    "# drive_ids_with_no_temp_change = drive_wise_temp_change[drive_wise_temp_change == True].index.tolist()\n",
    "# df_with_no_temp_change = climate_data_2021[climate_data_2021['c_driveid'].isin(drive_ids_with_no_temp_change)]\n",
    "# climate_data_2021 = climate_data_2021[~climate_data_2021['c_driveid'].isin(drive_ids_with_no_temp_change)]\n",
    "# climate_data_2021.shape"
   ]
  },
  {
   "cell_type": "code",
   "execution_count": 45,
   "id": "35281c58-b25d-4ef7-93be-e41517928969",
   "metadata": {
    "tags": []
   },
   "outputs": [],
   "source": [
    "# (climate_data_2021.groupby('c_driveid')['d_diff_in_target_temp'].agg(lambda x: abs(x).sum()) == 0.0).sum()"
   ]
  },
  {
   "cell_type": "markdown",
   "id": "b7edeade",
   "metadata": {},
   "source": [
    "### See the distribution of target_temp"
   ]
  },
  {
   "cell_type": "code",
   "execution_count": 46,
   "id": "1a66ea74",
   "metadata": {
    "tags": []
   },
   "outputs": [
    {
     "data": {
      "image/png": "[encoded data removed]",
      "text/plain": [
       "<Figure size 640x480 with 1 Axes>"
      ]
     },
     "metadata": {},
     "output_type": "display_data"
    }
   ],
   "source": [
    "# ticks = np.arange(16, 28.5, 0.5)\n",
    "target_temps = sorted([str(temp) for temp in climate_data_2021['c_target_temp']])\n",
    "sns.histplot(target_temps)\n",
    "# plt.xticks(ticks)\n",
    "plt.xticks(rotation=90)\n",
    "plt.show()"
   ]
  },
  {
   "cell_type": "code",
   "execution_count": null,
   "id": "00df6469",
   "metadata": {
    "tags": []
   },
   "outputs": [],
   "source": [
    "# How many temperature values are there\n",
    "len(sorted(climate_data_2021['c_target_temp'].unique()))"
   ]
  },
  {
   "cell_type": "markdown",
   "id": "7051db13-d202-44fa-a838-64f07088ed8d",
   "metadata": {},
   "source": [
    "#### Deletion continues"
   ]
  },
  {
   "cell_type": "code",
   "execution_count": null,
   "id": "d677fe35",
   "metadata": {},
   "outputs": [],
   "source": [
    "climate_data_2021_non_contextual = climate_data_2021.copy()"
   ]
  },
  {
   "cell_type": "code",
   "execution_count": null,
   "id": "5f794b7e-1e4a-40e4-9ec9-84c34c6c00c2",
   "metadata": {
    "tags": []
   },
   "outputs": [],
   "source": [
    "columns_to_drop_while_training = [\n",
    "    'c_drive_duration_minutes',\n",
    "    'c_number_of_rows_drive',\n",
    "    'c_event_duration_sec',\n",
    "    'c_year_month_day',\n",
    "    'c_row_number_drive',\n",
    "    'c_weekofyear_year',\n",
    "    'c_avg_drives_per_day',\n",
    "    'c_avg_drives_per_week',\n",
    "    'c_avg_drives_per_month',\n",
    "    'c_mileage_start',\n",
    "    'c_mileage_stop',\n",
    "    'c_mileage_delta',\n",
    "    'c_drive_number_per_car',\n",
    "    'c_number_of_drives_per_car',\n",
    "    # 'd_diff_in_target_temp',\n",
    "    'c_only_driving_duration_sec',\n",
    "    'c_drive_timestamp_stop',\n",
    "    'c_min_exteriortemperature_celsius',\n",
    "    'c_max_exteriortemperature_celsius',\n",
    "    # 'c_exteriortemperature_avg_celsius',\n",
    "    'c_drive_duration_sec',\n",
    "    # 'c_touchscreen_used_count',\n",
    "    'c_mean_speed',\n",
    "]"
   ]
  },
  {
   "cell_type": "code",
   "execution_count": null,
   "id": "37881acf-e1a6-45cd-b99f-65b1b83aab72",
   "metadata": {
    "tags": []
   },
   "outputs": [],
   "source": [
    "climate_data_2021.drop(columns_to_drop_while_training, axis= 1, inplace=True)\n",
    "climate_data_2021.shape"
   ]
  },
  {
   "cell_type": "code",
   "execution_count": null,
   "id": "fde63fab",
   "metadata": {},
   "outputs": [],
   "source": [
    "numerical_columns = climate_data_2021.select_dtypes(include='number').columns\n",
    "correlation_matrix = climate_data_2021[numerical_columns].corr().abs()\n",
    "# print(correlation_matrix)\n",
    "sns.heatmap(correlation_matrix, cmap='Greens')\n",
    "# correlation_matrix"
   ]
  },
  {
   "cell_type": "code",
   "execution_count": null,
   "id": "12e79753-8dd5-4511-ba9f-29e550e7c69c",
   "metadata": {
    "tags": []
   },
   "outputs": [],
   "source": [
    "climate_data_2021.dtypes"
   ]
  },
  {
   "cell_type": "code",
   "execution_count": null,
   "id": "5368d1b1-2966-4840-ae28-acc95c6cac37",
   "metadata": {
    "tags": []
   },
   "outputs": [],
   "source": [
    "numerical_columns = climate_data_2021.select_dtypes(include='number').columns\n",
    "numerical_columns.shape"
   ]
  },
  {
   "cell_type": "markdown",
   "id": "bb74e6d8-f62c-4559-a4d1-fb843f836fa1",
   "metadata": {},
   "source": [
    "### Preprocessing of the features"
   ]
  },
  {
   "cell_type": "code",
   "execution_count": null,
   "id": "c6d544ef",
   "metadata": {},
   "outputs": [],
   "source": [
    "# # Use binnning\n",
    "\n",
    "# # Define temperature range bins\n",
    "# temp_bins = [16, 18, 20, 22, 24, 26, 29]\n",
    "\n",
    "# # Use pd.cut() function to create temperature range feature\n",
    "# climate_data_2021['d_target_temp_range'] = pd.cut(climate_data_2021['c_target_temp'], bins=temp_bins, labels=[f'{x}-{x+2}' for x in temp_bins[:-1]], right=False)\n",
    "\n",
    "# # Print the updated dataframe\n",
    "# climate_data_2021[['c_target_temp', 'd_target_temp_range']]"
   ]
  },
  {
   "cell_type": "markdown",
   "id": "e3bdbd86-00fd-4499-b84d-bb48d5fc0c99",
   "metadata": {},
   "source": [
    "#### One-hot encode the categorical features"
   ]
  },
  {
   "cell_type": "code",
   "execution_count": null,
   "id": "4b15196b-9d4c-42f3-81ff-013290779c9b",
   "metadata": {
    "tags": []
   },
   "outputs": [],
   "source": [
    "categorical_columns = climate_data_2021.select_dtypes(include=['object']).columns.tolist()\n",
    "cat_cols_excluded = ['c_van17', 'c_driveid', 'c_drive_timestamp_start', 'c_msg_creation_timestamp']\n",
    "for cat_col in cat_cols_excluded:\n",
    "    categorical_columns.remove(cat_col)\n",
    "one_hot_cols = categorical_columns\n",
    "len(one_hot_cols)"
   ]
  },
  {
   "cell_type": "code",
   "execution_count": null,
   "id": "cca6e9bb",
   "metadata": {},
   "outputs": [],
   "source": [
    "for cat_col in sorted(categorical_columns):\n",
    "    print(f\"{cat_col}({climate_data_2021[cat_col].nunique()}){'-'*10}> {sorted(climate_data_2021[cat_col].unique())}\")"
   ]
  },
  {
   "cell_type": "code",
   "execution_count": null,
   "id": "87a4ba2e",
   "metadata": {},
   "outputs": [],
   "source": [
    "more_cols_to_drop = [\n",
    "    'c_derivat',\n",
    "    'c_brand',\n",
    "    'c_order_country',\n",
    "    'c_marketing_name',\n",
    "    'c_steering_wheel_position',\n",
    "    'c_product_line',\n",
    "    'c_fuel_type_corrected_description',\n",
    "    'c_vehicle_class',\n",
    "    'c_script_version',\n",
    "    'c_gcad',\n",
    "    # 'c_air_dist',\n",
    "    'c_blower_combined',\n",
    "    # 'c_blower_style',\n",
    "    # 'c_blower_level',\n",
    "    'c_pwf',\n",
    "    # 'c_air_mode_combined',\n",
    "    'c_is_guest_profile',\n",
    "    'c_is_active_profile',\n",
    "    # 'c_auto_mode',\n",
    "    'c_weekend_drive',\n",
    "    'c_touchscreen_used',\n",
    "    'c_drive_weekday',\n",
    "    'c_pwf_group',\n",
    "]"
   ]
  },
  {
   "cell_type": "code",
   "execution_count": null,
   "id": "4786e904",
   "metadata": {},
   "outputs": [],
   "source": [
    "climate_data_2021.drop(more_cols_to_drop, axis=1, inplace=True)\n",
    "climate_data_2021.shape"
   ]
  },
  {
   "cell_type": "code",
   "execution_count": null,
   "id": "bcd1fbb6",
   "metadata": {},
   "outputs": [],
   "source": [
    "contextual_features = climate_data_2021.columns"
   ]
  },
  {
   "cell_type": "code",
   "execution_count": null,
   "id": "f4223566",
   "metadata": {},
   "outputs": [],
   "source": [
    "categorical_columns = climate_data_2021.select_dtypes(include=['object']).columns.tolist()\n",
    "cat_cols_excluded = ['c_van17', 'c_driveid', 'c_drive_timestamp_start', 'c_msg_creation_timestamp']\n",
    "for cat_col in cat_cols_excluded:\n",
    "    categorical_columns.remove(cat_col)\n",
    "one_hot_cols = categorical_columns\n",
    "len(one_hot_cols)"
   ]
  },
  {
   "cell_type": "code",
   "execution_count": null,
   "id": "e042415c-404d-4c3c-870e-2045dbe2dcf5",
   "metadata": {
    "tags": []
   },
   "outputs": [],
   "source": [
    "climate_data_2021[one_hot_cols].head()"
   ]
  },
  {
   "cell_type": "code",
   "execution_count": null,
   "id": "ecfa5549-3ee0-472c-9ef3-82fa5467f0ca",
   "metadata": {
    "tags": []
   },
   "outputs": [],
   "source": [
    "climate_data_2021 = pd.get_dummies(climate_data_2021, columns=one_hot_cols)\n",
    "climate_data_2021.shape"
   ]
  },
  {
   "cell_type": "markdown",
   "id": "e2bc9587-e2cc-4e52-a1da-981b928c1bd6",
   "metadata": {},
   "source": [
    "##### Convert the bool cols to int 0/1"
   ]
  },
  {
   "cell_type": "code",
   "execution_count": null,
   "id": "72bc4b1e-622f-4482-8209-a4e33aff67bc",
   "metadata": {
    "tags": []
   },
   "outputs": [],
   "source": [
    "bool_columns = climate_data_2021.select_dtypes(include=['bool']).columns\n",
    "climate_data_2021[bool_columns] = climate_data_2021[bool_columns].astype('int')\n",
    "climate_data_2021.shape"
   ]
  },
  {
   "cell_type": "code",
   "execution_count": null,
   "id": "037d1f69",
   "metadata": {},
   "outputs": [],
   "source": [
    "target_temps = sorted(np.array([str(temp) for temp in climate_data_2021['c_target_temp']]))\n",
    "sns.histplot(target_temps)\n",
    "plt.xticks(rotation=90)\n",
    "plt.show()"
   ]
  },
  {
   "cell_type": "markdown",
   "id": "f816d92e",
   "metadata": {},
   "source": [
    "### Now fill the events at a certain interval"
   ]
  },
  {
   "cell_type": "markdown",
   "id": "9b9e7cfa",
   "metadata": {},
   "source": [
    "##### Average event duration is 351 seconds with a very high STD of 721\n",
    "The median is 88 seconds (subject to change of the dataset being used)"
   ]
  },
  {
   "cell_type": "code",
   "execution_count": null,
   "id": "3d986aff",
   "metadata": {},
   "outputs": [],
   "source": [
    "climate_data_2021 = climate_data_2021.sort_values(['c_driveid', 'c_msg_creation_timestamp'])"
   ]
  },
  {
   "cell_type": "code",
   "execution_count": null,
   "id": "4e343e7d",
   "metadata": {},
   "outputs": [],
   "source": [
    "# Distribution of the first temp of the drives\n",
    "sns.histplot(climate_data_2021.groupby('c_driveid').first()['c_target_temp'], bins=25)"
   ]
  },
  {
   "cell_type": "code",
   "execution_count": null,
   "id": "6f8b7c4a",
   "metadata": {},
   "outputs": [],
   "source": [
    "climate_data_2021['c_msg_creation_timestamp'] = pd.to_datetime(climate_data_2021['c_msg_creation_timestamp'])"
   ]
  },
  {
   "cell_type": "code",
   "execution_count": null,
   "id": "0f06b53a",
   "metadata": {},
   "outputs": [],
   "source": [
    "# selected_time_interval = 300 # seconds"
   ]
  },
  {
   "cell_type": "code",
   "execution_count": null,
   "id": "8e4c4777",
   "metadata": {},
   "outputs": [],
   "source": [
    "# Filling\n",
    "\n",
    "# from datetime import datetime, timedelta\n",
    "# # Initialize an empty list to store new rows\n",
    "# new_rows = []\n",
    "\n",
    "# # Function to calculate new timestamps at 10-second intervals\n",
    "# def generate_new_timestamps(row, next_row):\n",
    "#     time_diff = (next_row['c_msg_creation_timestamp'] - row['c_msg_creation_timestamp']).total_seconds()\n",
    "#     # print(f\"time difference between subsequent rows: {time_diff}\")\n",
    "#     num_intervals = int(time_diff / selected_time_interval)\n",
    "#     new_timestamps = [row['c_msg_creation_timestamp'] + timedelta(seconds=selected_time_interval * i) for i in range(1, num_intervals)]\n",
    "    \n",
    "#     # Ensure new timestamps do not exceed the next event's timestamp\n",
    "#     new_timestamps = [ts for ts in new_timestamps if ts < next_row['c_msg_creation_timestamp']]\n",
    "#     return new_timestamps"
   ]
  },
  {
   "cell_type": "code",
   "execution_count": null,
   "id": "6e768054",
   "metadata": {},
   "outputs": [],
   "source": [
    "# chosen_driveid = climate_data_2021['c_driveid'].unique()[0]\n",
    "# climate_data_2021[climate_data_2021['c_driveid'] == chosen_driveid]"
   ]
  },
  {
   "cell_type": "code",
   "execution_count": null,
   "id": "e86a0e31",
   "metadata": {},
   "outputs": [],
   "source": [
    "# from tqdm import tqdm\n",
    "# # Iterate through groups (each group is a visit)\n",
    "# for _, group in tqdm(climate_data_2021.groupby('c_driveid')):\n",
    "#     group = group.reset_index(drop=True)\n",
    "    \n",
    "#     # Iterate through the rows within the group to fill gaps\n",
    "#     for i in range(len(group) - 1):\n",
    "#         current_row = group.iloc[i]\n",
    "#         next_row = group.iloc[i + 1]\n",
    "        \n",
    "#         new_rows.append(current_row.to_dict())\n",
    "        \n",
    "#         # Generate new timestamps at 10-second intervals\n",
    "#         new_timestamps = generate_new_timestamps(current_row, next_row)\n",
    "#         for new_timestamp in new_timestamps:\n",
    "#             new_row = current_row.copy()\n",
    "#             new_row['c_msg_creation_timestamp'] = new_timestamp\n",
    "#             new_rows.append(new_row.to_dict())\n",
    "    \n",
    "#     # Add the last row in the group\n",
    "#     new_rows.append(group.iloc[-1].to_dict())"
   ]
  },
  {
   "cell_type": "code",
   "execution_count": null,
   "id": "d55b46a8",
   "metadata": {},
   "outputs": [],
   "source": [
    "# len(new_rows)"
   ]
  },
  {
   "cell_type": "code",
   "execution_count": null,
   "id": "38b561a2",
   "metadata": {},
   "outputs": [],
   "source": [
    "# import pickle\n",
    "\n",
    "# with open('../data/climate_data_2021_only_fahren_3571_drives_only_climate_features_and_temp_change_at_each_step_events_at_180_seconds_interval.pkl', 'wb') as f:\n",
    "#     pickle.dump(new_rows, f)"
   ]
  },
  {
   "cell_type": "code",
   "execution_count": null,
   "id": "bb06fc6d",
   "metadata": {},
   "outputs": [],
   "source": [
    "# import pickle\n",
    "\n",
    "# with open('../data/climate_data_2021_with_filled_events_at_60_seconds_interval.pkl', 'rb') as f:\n",
    "#     new_rows = pickle.load(f)"
   ]
  },
  {
   "cell_type": "code",
   "execution_count": null,
   "id": "24343294",
   "metadata": {},
   "outputs": [],
   "source": [
    "# # Create a new dataframe with the filled gaps\n",
    "# climate_data_2021 = pd.DataFrame(new_rows)\n",
    "\n",
    "# # print(new_df)\n",
    "# climate_data_2021.shape"
   ]
  },
  {
   "cell_type": "code",
   "execution_count": null,
   "id": "52f0f073",
   "metadata": {},
   "outputs": [],
   "source": [
    "# climate_data_2021.to_csv(f'../data/climate_data_2021_only_fahren_3571_drives_only_climate_features_events_at_180_seconds_interval.csv')"
   ]
  },
  {
   "cell_type": "markdown",
   "id": "3fc9296b-8879-42d3-847b-66495ab52c62",
   "metadata": {},
   "source": [
    "### Feature creation"
   ]
  },
  {
   "cell_type": "markdown",
   "id": "837ace27",
   "metadata": {},
   "source": [
    "#### Personalized features using VAE"
   ]
  },
  {
   "cell_type": "code",
   "execution_count": null,
   "id": "5a49c3d9",
   "metadata": {},
   "outputs": [],
   "source": [
    "non_contextual_features = [\n",
    "    # 'c_drive_duration_minutes',\n",
    "    'c_van17',\n",
    "    'c_driveid',\n",
    "    'c_drive_timestamp_start',\n",
    "    'c_msg_creation_timestamp',\n",
    "    'c_number_of_rows_drive',\n",
    "    'c_event_duration_sec',\n",
    "    #  'c_year_month_day',\n",
    "    #  'c_row_number_drive',\n",
    "    'c_weekofyear_year',\n",
    "    'c_avg_drives_per_day',\n",
    "    #  'c_avg_drives_per_week',\n",
    "    #  'c_avg_drives_per_month',\n",
    "    'c_mileage_start',\n",
    "    #  'c_mileage_stop',\n",
    "    'c_mileage_delta',\n",
    "    'c_drive_number_per_car',\n",
    "    'c_number_of_drives_per_car',\n",
    "    'c_only_driving_duration_sec',\n",
    "    #  'c_drive_timestamp_stop',\n",
    "    #  'c_min_exteriortemperature_celsius',\n",
    "    #  'c_max_exteriortemperature_celsius',\n",
    "    #  'c_drive_duration_sec',\n",
    "    'c_mean_speed',\n",
    "    'c_derivat',\n",
    "    #  'c_brand',\n",
    "    'c_order_country',\n",
    "    'c_marketing_name',\n",
    "    'c_steering_wheel_position',\n",
    "    'c_product_line',\n",
    "    'c_fuel_type_corrected_description',\n",
    "    'c_vehicle_class',\n",
    "    #  'c_script_version',\n",
    "    'c_gcad',\n",
    "    #  'c_blower_combined',\n",
    "    #  'c_pwf',\n",
    "    'c_is_guest_profile',\n",
    "    'c_is_active_profile',\n",
    "    #  'c_weekend_drive',\n",
    "    'c_touchscreen_used',\n",
    "    'c_drive_weekday',\n",
    "    #  'c_pwf_group',\n",
    " ]\n",
    "len(non_contextual_features)"
   ]
  },
  {
   "cell_type": "code",
   "execution_count": null,
   "id": "6e67fea4",
   "metadata": {},
   "outputs": [],
   "source": [
    "climate_data_2021_non_contextual = climate_data_2021_non_contextual[non_contextual_features]\n",
    "climate_data_2021_non_contextual"
   ]
  },
  {
   "cell_type": "code",
   "execution_count": null,
   "id": "fe8993b6",
   "metadata": {},
   "outputs": [],
   "source": [
    "a_van_id = climate_data_2021_non_contextual['c_van17'].unique()[0]\n",
    "climate_data_2021_non_contextual[climate_data_2021_non_contextual['c_van17'] == a_van_id]"
   ]
  },
  {
   "cell_type": "code",
   "execution_count": null,
   "id": "0daf23a5",
   "metadata": {},
   "outputs": [],
   "source": [
    "climate_data_2021_non_contextual['c_weekofyear'] = climate_data_2021_non_contextual['c_weekofyear_year'].apply(lambda x: x.split('_')[0])\n",
    "\n",
    "climate_data_2021_non_contextual['c_weekofyear'] = climate_data_2021_non_contextual['c_weekofyear'].astype('uint8')\n",
    "climate_data_2021_non_contextual.drop('c_weekofyear_year', axis=1, inplace=True)"
   ]
  },
  {
   "cell_type": "code",
   "execution_count": null,
   "id": "ebc5604f",
   "metadata": {},
   "outputs": [],
   "source": [
    "climate_data_2021_non_contextual['c_marketing_name'] = climate_data_2021_non_contextual['c_marketing_name'].apply(lambda x: x.lower())"
   ]
  },
  {
   "cell_type": "markdown",
   "id": "515c64e9",
   "metadata": {},
   "source": [
    "##### VAE"
   ]
  },
  {
   "cell_type": "code",
   "execution_count": null,
   "id": "b729fe21",
   "metadata": {},
   "outputs": [],
   "source": [
    "# sort the dataset according to timestamp and also drive_number\n",
    "climate_data_2021_non_contextual = climate_data_2021_non_contextual.sort_values(by=['c_van17', 'c_driveid', 'c_drive_number_per_car'])"
   ]
  },
  {
   "cell_type": "code",
   "execution_count": null,
   "id": "fda0fab6",
   "metadata": {},
   "outputs": [],
   "source": [
    "categorical_columns = climate_data_2021_non_contextual.select_dtypes(include=['object']).columns.tolist()\n",
    "cat_cols_excluded = ['c_van17', 'c_driveid', 'c_drive_timestamp_start', 'c_msg_creation_timestamp']\n",
    "for cat_col in cat_cols_excluded:\n",
    "    categorical_columns.remove(cat_col)\n",
    "one_hot_cols = categorical_columns\n",
    "len(one_hot_cols)\n"
   ]
  },
  {
   "cell_type": "code",
   "execution_count": null,
   "id": "1c898708",
   "metadata": {},
   "outputs": [],
   "source": [
    "climate_data_2021_non_contextual[one_hot_cols]"
   ]
  },
  {
   "cell_type": "code",
   "execution_count": null,
   "id": "d5034eea",
   "metadata": {},
   "outputs": [],
   "source": [
    "climate_data_2021_non_contextual = pd.get_dummies(climate_data_2021_non_contextual, columns=one_hot_cols)\n",
    "climate_data_2021_non_contextual.shape"
   ]
  },
  {
   "cell_type": "code",
   "execution_count": null,
   "id": "ecdb4831",
   "metadata": {},
   "outputs": [],
   "source": [
    "# Convert the bool cols into 0/1 values\n",
    "bool_columns = climate_data_2021_non_contextual.select_dtypes(include=['bool']).columns\n",
    "climate_data_2021_non_contextual[bool_columns] = climate_data_2021_non_contextual[bool_columns].astype('int')\n",
    "climate_data_2021_non_contextual.shape"
   ]
  },
  {
   "cell_type": "code",
   "execution_count": null,
   "id": "e7cbbaf3",
   "metadata": {},
   "outputs": [],
   "source": [
    "import torch; torch.manual_seed(0)\n",
    "import torch.nn as nn\n",
    "import torch.nn.functional as F\n",
    "import torch.utils\n",
    "import torch.distributions\n",
    "import numpy as np\n",
    "import torch.optim as optim\n",
    "import time\n",
    "from tqdm import tqdm\n",
    "from torch.utils.data import DataLoader, TensorDataset\n",
    "from sklearn.preprocessing import StandardScaler\n",
    "import os\n",
    "# import matplotlib.pyplot as plt; plt.rcParams['figure.dpi'] = 200"
   ]
  },
  {
   "cell_type": "markdown",
   "id": "d39029df",
   "metadata": {},
   "source": [
    "#### VAE - second approach"
   ]
  },
  {
   "cell_type": "code",
   "execution_count": null,
   "id": "8df8a2bf",
   "metadata": {},
   "outputs": [],
   "source": [
    "class VariationalEncoder(nn.Module):\n",
    "    def __init__(self, input_dim, latent_dim):\n",
    "        super(VariationalEncoder, self).__init__()\n",
    "        self.encoder = nn.Sequential(\n",
    "            nn.Linear(input_dim, 256),\n",
    "            nn.ReLU(),\n",
    "            nn.Linear(256, 128),\n",
    "            nn.ReLU()\n",
    "        )\n",
    "        self.fc_mu = nn.Linear(128, latent_dim)\n",
    "        self.fc_logvar = nn.Linear(128, latent_dim)\n",
    "        \n",
    "    def reparameterize(self, mu, logvar):\n",
    "        std = torch.exp(0.5 * logvar)\n",
    "        eps = torch.randn_like(std)\n",
    "        return mu + eps * std\n",
    "    \n",
    "    def forward(self, x):\n",
    "        x = self.encoder(x)\n",
    "        mu = self.fc_mu(x)\n",
    "        logvar = self.fc_logvar(x)\n",
    "        z = self.reparameterize(mu, logvar)\n",
    "        return z, mu, logvar\n",
    "    \n",
    "class Decoder(nn.Module):\n",
    "    def __init__(self, input_dim, latent_dim):\n",
    "        super(Decoder, self).__init__()\n",
    "        self.decoder = nn.Sequential(\n",
    "            nn.Linear(latent_dim, 128),\n",
    "            nn.ReLU(),\n",
    "            nn.Linear(128, 256),\n",
    "            nn.ReLU(),\n",
    "            nn.Linear(256, input_dim),\n",
    "        )\n",
    "\n",
    "    def forward(self, z):\n",
    "        reconstructed_x = self.decoder(z)\n",
    "        return reconstructed_x\n",
    "    \n",
    "    \n",
    "class VAE(nn.Module):\n",
    "    def __init__(self, input_dim, latent_dim):\n",
    "        super(VAE, self).__init__()\n",
    "        self.encoder = VariationalEncoder(input_dim, latent_dim)\n",
    "        self.decoder = Decoder(input_dim, latent_dim)\n",
    "\n",
    "    def forward(self, x):\n",
    "        z, mu, logvar = self.encoder(x)\n",
    "        reconstructed_x = self.decoder(z)\n",
    "        return reconstructed_x, mu, logvar\n",
    "    \n",
    "# Define the loss function (ELBO loss)\n",
    "def loss_function(reconstructed_x, x, mu, logvar):\n",
    "    # BCE = nn.functional.binary_cross_entropy(reconstructed_x, x, reduction='sum')  # For binary data\n",
    "    MSE = nn.functional.mse_loss(reconstructed_x, x)  # For real-valued data\n",
    "    KLD = -0.5 * torch.sum(1 + logvar - mu.pow(2) - logvar.exp())\n",
    "    return MSE + KLD"
   ]
  },
  {
   "cell_type": "code",
   "execution_count": null,
   "id": "21d94d09",
   "metadata": {},
   "outputs": [],
   "source": [
    "def train_vae(vae, train_loader, optimizer, epochs):\n",
    "   start = time.time()\n",
    "   vae.train()\n",
    "#    losses = []\n",
    "   for epoch in range(epochs):\n",
    "      for batch_idx, data in enumerate(train_loader):\n",
    "         # print(data.shape)\n",
    "         data = data.to('cpu')  # Move data to the device (e.g., GPU)\n",
    "         optimizer.zero_grad()\n",
    "         reconstructed_x, mu, logvar = vae(data)\n",
    "         loss = loss_function(reconstructed_x, data, mu, logvar)\n",
    "         loss.backward()\n",
    "         optimizer.step()\n",
    "        #  losses.append(loss.cpu().item())\n",
    "         # if batch_idx % 100 == 0:\n",
    "         #       print(f\"Epoch [{epoch+1}/{epochs}] Batch [{batch_idx}/{len(train_loader)}] Loss: {loss.item():.4f}\")\n",
    "   end = time.time()\n",
    "   # print(f\"time required: {(end-start):.2f} seconds\")"
   ]
  },
  {
   "cell_type": "markdown",
   "id": "6dbb351b",
   "metadata": {},
   "source": [
    "### Produce vehicle specific embeddings using VAE"
   ]
  },
  {
   "cell_type": "code",
   "execution_count": null,
   "id": "01dd46c6",
   "metadata": {},
   "outputs": [],
   "source": [
    "orig_vid_to_custom_vid = {}\n",
    "custom_vid_to_orig_vid = {}\n",
    "\n",
    "van_ids = climate_data_2021_non_contextual['c_van17'].unique()\n",
    "\n",
    "for (i, vid) in enumerate(van_ids):\n",
    "    orig_vid_to_custom_vid[vid] = f\"van_{i}\"\n",
    "    custom_vid_to_orig_vid[f\"van_{i}\"] = vid"
   ]
  },
  {
   "cell_type": "code",
   "execution_count": null,
   "id": "0871ccdc",
   "metadata": {},
   "outputs": [],
   "source": [
    "groups = climate_data_2021_non_contextual.groupby('c_van17')\n",
    "latent_dim = 32\n",
    "learning_rate = 1e-3\n",
    "batch_size = 64\n",
    "\n",
    "model_save_path = \"/home/q621464/Desktop/Thesis/code/mlp-master-thesis-personalization/personalized-smart-climate/models\"\n",
    "vehicle_specific_embeddings = {}\n",
    "for group_id, group_df in tqdm(groups):\n",
    "   van_id = group_df['c_van17'].unique()[0]\n",
    "   custom_vid = orig_vid_to_custom_vid[van_id]\n",
    "   \n",
    "   observations_df = group_df.drop(['c_driveid', 'c_van17', 'c_msg_creation_timestamp', 'c_drive_timestamp_start'], axis=1).astype('float32')\n",
    "   observations = torch.from_numpy(observations_df.values)\n",
    "   van_data = observations\n",
    "   \n",
    "   # Scale the datapoints\n",
    "   scaler = StandardScaler()\n",
    "   scaled_data = scaler.fit_transform(van_data).astype('float32')\n",
    "   \n",
    "   # Instantiate the VAE\n",
    "   input_dim = scaled_data.shape[1]\n",
    "   vae = VAE(input_dim, latent_dim)\n",
    "   optimizer = optim.Adam(vae.parameters(), lr=learning_rate)\n",
    "   \n",
    "   # Training loop\n",
    "   train_loader = DataLoader(scaled_data, batch_size=batch_size, shuffle=True)\n",
    "   train_vae(vae, train_loader, optimizer, 10)\n",
    "   \n",
    "   # Store the vehicle specific vae model\n",
    "   torch.save(vae.state_dict(), f\"{model_save_path}/{custom_vid}.pth\")\n",
    "   \n",
    "   # produce the embedding for the vehicle\n",
    "   vae.eval()\n",
    "   vae.encoder.eval()\n",
    "   z, _, _ = vae.encoder(torch.from_numpy(scaled_data))\n",
    "   vehicle_embedding = torch.sum(z, dim=0).detach().numpy()\n",
    "   vehicle_specific_embeddings[van_id] = vehicle_embedding\n",
    "   "
   ]
  },
  {
   "cell_type": "code",
   "execution_count": null,
   "id": "9d82258d",
   "metadata": {},
   "outputs": [],
   "source": [
    "import pickle\n",
    "with open(f'../data/embeddings/van_specific_embeddings.pkl', 'wb') as f:\n",
    "    pickle.dump(vehicle_specific_embeddings, f)"
   ]
  },
  {
   "cell_type": "code",
   "execution_count": null,
   "id": "02545be0",
   "metadata": {},
   "outputs": [],
   "source": [
    "a_sample_drive_id = climate_data_2021_non_contextual['c_driveid'].unique()[10100]\n",
    "a_sample_vanid = climate_data_2021_non_contextual['c_van17'].unique()[2]\n",
    "a_sample_df = climate_data_2021_non_contextual[climate_data_2021_non_contextual['c_van17'] == a_sample_vanid].drop(['c_driveid', 'c_van17', 'c_msg_creation_timestamp', 'c_drive_timestamp_start'], axis=1)"
   ]
  },
  {
   "cell_type": "markdown",
   "id": "c4f7c07d",
   "metadata": {},
   "source": [
    "#### Contextual features"
   ]
  },
  {
   "cell_type": "code",
   "execution_count": null,
   "id": "171c781e",
   "metadata": {},
   "outputs": [],
   "source": [
    "climate_data_2021['c_driveid'].value_counts().min(), climate_data_2021['c_driveid'].value_counts().max(), climate_data_2021['c_driveid'].value_counts().mean()"
   ]
  },
  {
   "cell_type": "code",
   "execution_count": null,
   "id": "9bf81f42-f8f2-41f2-9b33-6dbbd63b15b1",
   "metadata": {
    "tags": []
   },
   "outputs": [],
   "source": [
    "# Sort the dataframe in ascending manner according to timestamp\n",
    "climate_data_2021.sort_values(by=['c_van17', 'c_driveid', 'c_drive_timestamp_start', 'c_msg_creation_timestamp'], inplace=True)\n",
    "climate_data_2021.shape"
   ]
  },
  {
   "cell_type": "code",
   "execution_count": null,
   "id": "c8b7e902-83af-4db3-80f5-7cf4013fd9b5",
   "metadata": {
    "tags": []
   },
   "outputs": [],
   "source": [
    "climate_data_2021['d_drive_uid'] = climate_data_2021['c_van17'] + '_' + climate_data_2021['c_driveid']\n",
    "climate_data_2021['d_drive_uid'].nunique()"
   ]
  },
  {
   "cell_type": "code",
   "execution_count": null,
   "id": "89265a2f",
   "metadata": {},
   "outputs": [],
   "source": [
    "# How many drivs per car now?\n",
    "climate_data_2021.groupby(['c_van17'])['c_driveid'].nunique().max()"
   ]
  },
  {
   "cell_type": "code",
   "execution_count": null,
   "id": "969d5d20",
   "metadata": {},
   "outputs": [],
   "source": [
    "climate_data_2021 = climate_data_2021.reset_index(drop=True)"
   ]
  },
  {
   "cell_type": "code",
   "execution_count": null,
   "id": "df906f02",
   "metadata": {},
   "outputs": [],
   "source": [
    "# Introduce the rewards\n",
    "# Quadratic rewards\n",
    "max_temp_diff = climate_data_2021['c_target_temp'].max() - climate_data_2021['c_target_temp'].min()\n",
    "max_possible_reward = 1.0\n",
    "climate_data_2021['d_prev_target_temp'] = climate_data_2021.groupby('d_drive_uid')['c_target_temp'].apply(lambda x: x.shift(periods=1).fillna(x.iloc[0])).reset_index(drop=True)\n",
    "\n",
    "climate_data_2021['d_reward'] = np.where(climate_data_2021['c_target_temp'] == climate_data_2021['d_prev_target_temp'],\n",
    "                                        1,\n",
    "                                        (1-(abs(climate_data_2021['c_target_temp'] - climate_data_2021['d_prev_target_temp']) / max_temp_diff) * max_possible_reward)**2)"
   ]
  },
  {
   "cell_type": "code",
   "execution_count": null,
   "id": "2674d8c0",
   "metadata": {},
   "outputs": [],
   "source": [
    "# # Introduce the rewards\n",
    "# # Linear rewards\n",
    "# # Introduce the rewards\n",
    "# # Quadratic rewards\n",
    "# max_temp_diff = climate_data_2021['c_target_temp'].max() - climate_data_2021['c_target_temp'].min()\n",
    "# max_possible_reward = 1.0\n",
    "# climate_data_2021['d_prev_target_temp'] = climate_data_2021.groupby('d_drive_uid')['c_target_temp'].apply(lambda x: x.shift(periods=1).fillna(x.iloc[0]))\n",
    "\n",
    "# climate_data_2021['d_reward'] = np.where(climate_data_2021['c_target_temp'] == climate_data_2021['d_prev_target_temp'],\n",
    "#                                         1,\n",
    "#                                         (1-(abs(climate_data_2021['c_target_temp'] - climate_data_2021['d_prev_target_temp']) / max_temp_diff) * max_possible_reward))"
   ]
  },
  {
   "cell_type": "code",
   "execution_count": null,
   "id": "fcdfac35",
   "metadata": {},
   "outputs": [],
   "source": [
    "# # Introduce the rewards\n",
    "# # Binary rewards\n",
    "# max_temp_diff = climate_data_2021['c_target_temp'].max() - climate_data_2021['c_target_temp'].min()\n",
    "# max_possible_reward = 1.0\n",
    "# climate_data_2021['d_prev_target_temp'] = climate_data_2021.groupby('d_drive_uid')['c_target_temp'].apply(lambda x: x.shift(periods=1).fillna(x.iloc[0]))\n",
    "\n",
    "# climate_data_2021['d_reward'] = np.where(climate_data_2021['c_target_temp'] == climate_data_2021['d_prev_target_temp'],\n",
    "#                                         1, 0)"
   ]
  },
  {
   "cell_type": "code",
   "execution_count": null,
   "id": "ff043dff",
   "metadata": {},
   "outputs": [],
   "source": [
    "groups = climate_data_2021.groupby('d_drive_uid')\n",
    "actions = np.arange(16, 28.5, 0.5)\n",
    "# actions = np.array(['16-18', '18-20', '20-22', '22-24', '24-26', '26-28'])\n",
    "\n",
    "custom_act_to_orig_act = {idx: action for idx, action in enumerate(actions)}\n",
    "orig_act_to_custom_act = {action: idx for idx, action in enumerate(actions)}\n",
    "\n",
    "group_list = []\n",
    "train_trajectories, test_trajectories = [], []\n",
    "for group_id, group_df in tqdm(groups):\n",
    "   # group_list.append(group_df)\n",
    "   rewards = group_df['d_reward'].tolist()\n",
    "   van_id = group_df['c_van17'].unique()[0]\n",
    "   \n",
    "   # without prev_target_temp\n",
    "   observations = group_df.drop(['c_driveid', 'c_van17', 'd_drive_uid', 'c_msg_creation_timestamp', 'c_drive_timestamp_start', 'c_target_temp', 'd_reward', 'd_prev_target_temp'], axis=1)\n",
    "   \n",
    "   # # with prev_target_temp\n",
    "   # observations = group_df.drop(['c_driveid', 'c_van17', 'd_drive_uid', 'c_msg_creation_timestamp', 'c_drive_timestamp_start', 'c_target_temp', 'd_reward'], axis=1)\n",
    "   \n",
    "   features = observations.columns\n",
    "   targets = group_df['c_target_temp'].tolist()\n",
    "   observations = observations.values.tolist()\n",
    "   actions = [orig_act_to_custom_act[temp] for temp in targets]\n",
    "\n",
    "   next_observations = observations\n",
    "   \n",
    "   terminals = [False]*(len(observations)-1) + [True]\n",
    "   trajectory = {\n",
    "      'observations': np.array(observations),\n",
    "      'next_observations': np.array(next_observations),\n",
    "      'actions': np.array(actions),\n",
    "      'rewards': np.array(rewards),\n",
    "      'terminals': np.array(terminals),\n",
    "      'features': np.array(features),\n",
    "      'targets': np.array(targets),\n",
    "      'van_id': van_id,\n",
    "   }\n",
    "   train_trajectories.append(trajectory)\n",
    "   "
   ]
  },
  {
   "cell_type": "code",
   "execution_count": null,
   "id": "cdf8f603",
   "metadata": {},
   "outputs": [],
   "source": [
    "# Calculate the size for the training set\n",
    "trajectories = train_trajectories\n",
    "indices = {i for i in range(len(trajectories))}\n",
    "train_indices = list(np.random.choice(list(indices), size=round(0.7*len(indices)), replace=False))\n",
    "remaining_indices = indices.difference(train_indices)\n",
    "test_indices = remaining_indices\n",
    "\n",
    "print(f\"total train drives: {len(train_indices)}\")\n",
    "print(f\"total test drives: {len(test_indices)}\")\n",
    "\n",
    "train_trajectories = [trajectories[idx]for idx in train_indices]\n",
    "test_trajectories = [trajectories[idx]for idx in test_indices]\n",
    "\n",
    "print(\"Train set:\", len(train_trajectories))\n",
    "print(\"Test set:\", len(test_trajectories))"
   ]
  },
  {
   "cell_type": "code",
   "execution_count": null,
   "id": "8ed3244a",
   "metadata": {},
   "outputs": [],
   "source": [
    "# See the distribution\n",
    "actions = np.arange(16, 28.5, 0.5)\n",
    "# actions = np.array(['16-18', '18-20', '20-22', '22-24', '24-26', '26-28'])\n",
    "\n",
    "custom_act_to_orig_act = {idx: action for idx, action in enumerate(actions)}\n",
    "orig_act_to_custom_act = {action: idx for idx, action in enumerate(actions)}\n",
    "def extract_actions(trajs):\n",
    "    actions = [traj['actions'] for traj in trajs]\n",
    "    return actions\n",
    "train_actions = np.concatenate(extract_actions(train_trajectories))\n",
    "train_actions = np.array([str(custom_act_to_orig_act[action]) for action in train_actions])\n",
    "# val_actions = np.concatenate(extract_actions(test_trajectories))\n",
    "test_actions = np.concatenate(extract_actions(test_trajectories))\n",
    "test_actions = np.array([str(custom_act_to_orig_act[action]) for action in test_actions])\n",
    "train_actions.shape, test_actions.shape"
   ]
  },
  {
   "cell_type": "code",
   "execution_count": null,
   "id": "308ea56b",
   "metadata": {},
   "outputs": [],
   "source": [
    "sns.histplot(sorted(train_actions))\n",
    "plt.xticks(rotation=90)\n",
    "plt.show()"
   ]
  },
  {
   "cell_type": "code",
   "execution_count": null,
   "id": "0c5e78cc",
   "metadata": {},
   "outputs": [],
   "source": [
    "sns.histplot(sorted(test_actions))\n",
    "plt.xticks(rotation=90)\n",
    "plt.show()"
   ]
  },
  {
   "cell_type": "code",
   "execution_count": null,
   "id": "3e253a86",
   "metadata": {},
   "outputs": [],
   "source": [
    "# save file name\n",
    "total_drives = climate_data_2021['c_driveid'].nunique()\n",
    "total_events = climate_data_2021.shape[0]\n",
    "total_features = len(train_trajectories[0]['features'])\n",
    "reward_system = 'quadratic'\n",
    "min_event_count = 5\n",
    "# repeat_interval_sec = selected_time_interval\n",
    "repeat_interval_sec = 0\n",
    "version_no = 1\n",
    "\n",
    "all_traj_pkl_file_name = f\"all_trajectories_only_fahren_{total_drives}_drives_{total_events}_events_{total_features}_features_min_events_{min_event_count}_{repeat_interval_sec}s_interval_{reward_system}_rewards_{version_no}.pkl\"\n",
    "all_traj_pkl_file_name"
   ]
  },
  {
   "cell_type": "code",
   "execution_count": null,
   "id": "5a6bf668",
   "metadata": {},
   "outputs": [],
   "source": [
    "# Save the trajectories\n",
    "# Save the train and test trajectories as pickle files to load them later\n",
    "import pickle\n",
    "with open(f'../data/smart-climate-2021/datasets_with_non_filled_events/train-test-sets/smart-climate-train-trajectories-v{version_no}-wo-prev-target-temp.pkl', 'wb') as f:\n",
    "    pickle.dump(train_trajectories, f)\n",
    "with open(f'../data/smart-climate-2021/datasets_with_non_filled_events/train-test-sets/smart-climate-test-trajectories-v{version_no}-wo-prev-target-temp.pkl', 'wb') as f:\n",
    "    pickle.dump(test_trajectories, f)\n",
    "with open(f'../data/smart-climate-2021/all-trajs/{all_traj_pkl_file_name}_wo_prev_target_temp', 'wb') as f:\n",
    "    pickle.dump(trajectories, f)"
   ]
  }
 ],
 "metadata": {
  "kernelspec": {
   "display_name": "decision-transformer-atari",
   "language": "python",
   "name": "python3"
  },
  "language_info": {
   "codemirror_mode": {
    "name": "ipython",
    "version": 3
   },
   "file_extension": ".py",
   "mimetype": "text/x-python",
   "name": "python",
   "nbconvert_exporter": "python",
   "pygments_lexer": "ipython3",
   "version": "3.8.5"
  }
 },
 "nbformat": 4,
 "nbformat_minor": 5
}
