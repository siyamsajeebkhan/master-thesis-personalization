{
 "cells": [
  {
   "cell_type": "code",
   "execution_count": null,
   "metadata": {},
   "outputs": [],
   "source": [
    "import os\n",
    "import pandas as pd\n",
    "from matplotlib import pyplot as plt\n",
    "import seaborn as sns\n",
    "import numpy as np\n",
    "from gym import utils\n",
    "import gym\n",
    "import pickle"
   ]
  },
  {
   "cell_type": "markdown",
   "metadata": {},
   "source": [
    "### MLens Dataset Loading & Preparation"
   ]
  },
  {
   "cell_type": "code",
   "execution_count": null,
   "metadata": {},
   "outputs": [],
   "source": [
    "# Loading the MovieLens dataset\n",
    "ML_LATEST_SMALL_DATA_ROOT_PATH = \"../data/dt-datasets/movielens/ml-latest-small\"\n",
    "ML_LATEST_DATA_ROOT_PATH = \"../data/dt-datasets/movielens/ml-latest\""
   ]
  },
  {
   "cell_type": "markdown",
   "metadata": {},
   "source": [
    "##### Load the ML-latest-small dataset"
   ]
  },
  {
   "cell_type": "code",
   "execution_count": null,
   "metadata": {},
   "outputs": [],
   "source": [
    "links_df = pd.read_csv(os.path.join(ML_LATEST_SMALL_DATA_ROOT_PATH, \"links.csv\"))\n",
    "movies_df = pd.read_csv(os.path.join(ML_LATEST_SMALL_DATA_ROOT_PATH, \"movies.csv\"))\n",
    "ratings_df = pd.read_csv(os.path.join(ML_LATEST_SMALL_DATA_ROOT_PATH, \"ratings.csv\"))\n",
    "tags_df = pd.read_csv(os.path.join(ML_LATEST_SMALL_DATA_ROOT_PATH, \"tags.csv\"))\n",
    "print(f\"links shape: {links_df.shape}\\nmovies shape: {movies_df.shape}\\nratings shape: {ratings_df.shape}\\ntags shape: {tags_df.shape}\")"
   ]
  },
  {
   "cell_type": "code",
   "execution_count": null,
   "metadata": {},
   "outputs": [],
   "source": [
    "# Data distribution of the rating count per user in the small dataset\n",
    "rating_count_per_user = ratings_df.groupby('userId')['movieId'].count().values\n",
    "print(f'min no of rating: {np.min(rating_count_per_user)}, max no of rating: {np.max(rating_count_per_user)}')\n",
    "print(f'average rating per user: {np.mean(rating_count_per_user)}, median rating per user: {np.median(rating_count_per_user)}')\n",
    "print(f'number of users who rated less than 140 movies: {(rating_count_per_user <= 140).sum()}')\n",
    "\n",
    "\n",
    "# Visualize\n",
    "plt.rcParams.update({\n",
    "    'font.family': 'sans-serif',\n",
    "    'font.sans-serif': ['Helvetica']\n",
    "})\n",
    "sns.set_palette(\"rocket\")\n",
    "plt.figure(figsize=(10, 6), dpi=300)\n",
    "sns.histplot(data = rating_count_per_user)\n",
    "plt.ylabel(\"No of movies rated by users\", fontsize=14)\n",
    "plt.xticks(fontsize=12)\n",
    "plt.yticks(fontsize=12)\n",
    "# plt.show()\n",
    "# plt.savefig(\"../Figures/Movielens/dist_of_no_of_rated_movies_for_users.pdf\")\n",
    "plt.savefig(\"../Figures/Movielens/dist_of_no_of_rated_movies_for_users.pdf\", format=\"pdf\", bbox_inches=\"tight\")\n",
    "# sns.boxplot(rating_count_per_user)"
   ]
  },
  {
   "cell_type": "code",
   "execution_count": null,
   "metadata": {},
   "outputs": [],
   "source": [
    "# List of all the genres\n",
    "np.unique(np.concatenate(movies_df['genres'].apply(lambda g: g.split(\"|\")).tolist()))"
   ]
  },
  {
   "cell_type": "code",
   "execution_count": null,
   "metadata": {},
   "outputs": [],
   "source": [
    "# Distribution of the movie ratings\n",
    "\n",
    "plt.figure(figsize=(10, 6), dpi=300)\n",
    "ratings = sorted([str(rating) for rating in ratings_df['rating']])\n",
    "sns.histplot(ratings, binwidth=1)\n",
    "# plt.xticks(ticks)\n",
    "plt.ylabel('Count', fontsize=14)\n",
    "plt.xticks(rotation=90, fontsize=12)\n",
    "plt.yticks(fontsize=12)\n",
    "plt.xlabel(\"Ratings\", fontsize = 14)\n",
    "plt.savefig(\"../Figures/Movielens/dist_of_movie_ratings.pdf\", format=\"pdf\", bbox_inches=\"tight\")\n",
    "# plt.show()"
   ]
  },
  {
   "cell_type": "code",
   "execution_count": null,
   "metadata": {},
   "outputs": [],
   "source": [
    "# import matplotlib.pyplot as plt\n",
    "# import pandas as pd\n",
    "\n",
    "# # Assuming 'ratings' is a column containing string ratings in your DataFrame\n",
    "# ratings = ratings_df['rating']\n",
    "\n",
    "# # Count the occurrences of each rating\n",
    "# rating_counts = ratings.value_counts()\n",
    "\n",
    "# # Plotting a pie chart\n",
    "# plt.figure(figsize=(10, 10), dpi=300)\n",
    "# plt.pie(rating_counts, labels=rating_counts.index, autopct='%1.1f%%', startangle=90, colors=sns.color_palette('pastel'), textprops={'fontsize': 14})\n",
    "# plt.title('Distribution of Movie Ratings', fontsize=16)\n",
    "# plt.show()\n"
   ]
  },
  {
   "cell_type": "code",
   "execution_count": null,
   "metadata": {},
   "outputs": [],
   "source": [
    "# Movie ratings distribution\n",
    "min_rating = np.min(ratings_df['rating'])\n",
    "max_rating = np.max(ratings_df['rating'])\n",
    "avg_rating = np.mean(ratings_df['rating'])\n",
    "median_rating = np.median(ratings_df['rating'])\n",
    "sd = np.std(ratings_df['rating'])\n",
    "print(f\"min: {min_rating}, max: {max_rating}, avg: {avg_rating}, median: {median_rating}, SD: {sd}\")"
   ]
  },
  {
   "cell_type": "markdown",
   "metadata": {},
   "source": [
    "##### Merge the movies and ratings dataframes together"
   ]
  },
  {
   "cell_type": "code",
   "execution_count": null,
   "metadata": {},
   "outputs": [],
   "source": [
    "movies_and_ratings = pd.merge(movies_df, ratings_df, on='movieId')\n",
    "movies_and_ratings.shape"
   ]
  },
  {
   "cell_type": "code",
   "execution_count": null,
   "metadata": {},
   "outputs": [],
   "source": [
    "movies_and_ratings.head()"
   ]
  },
  {
   "cell_type": "code",
   "execution_count": null,
   "metadata": {},
   "outputs": [],
   "source": [
    "# Check if there is any duplicate\n",
    "print(movies_and_ratings.duplicated().sum())\n",
    "\n",
    "print(movies_and_ratings.isna().sum())\n",
    "movies_and_ratings[movies_and_ratings[['movieId', 'userId']].duplicated(keep=False)]"
   ]
  },
  {
   "cell_type": "code",
   "execution_count": null,
   "metadata": {},
   "outputs": [],
   "source": [
    "movies_and_ratings.dtypes"
   ]
  },
  {
   "cell_type": "code",
   "execution_count": null,
   "metadata": {},
   "outputs": [],
   "source": [
    "# Check if there are any null values\n",
    "movies_and_ratings['userId'].isna().sum(),  movies_and_ratings['movieId'].isna().sum()"
   ]
  },
  {
   "cell_type": "code",
   "execution_count": null,
   "metadata": {},
   "outputs": [],
   "source": [
    "# Check if all the userIds are present in the merged df as well\n",
    "sorted(ratings_df.userId.unique()) ==  sorted(movies_and_ratings.userId.unique())"
   ]
  },
  {
   "cell_type": "code",
   "execution_count": null,
   "metadata": {},
   "outputs": [],
   "source": [
    "# Sort the movie ratings by userId and timestamp in an ascending manner\n",
    "movies_and_ratings = movies_and_ratings.sort_values(by=['userId', 'timestamp'])\n",
    "movies_and_ratings.head()"
   ]
  },
  {
   "cell_type": "code",
   "execution_count": null,
   "metadata": {},
   "outputs": [],
   "source": [
    "# Find out the different rating values\n",
    "sorted(movies_and_ratings['rating'].unique())"
   ]
  },
  {
   "cell_type": "code",
   "execution_count": null,
   "metadata": {},
   "outputs": [],
   "source": [
    "# Another reward scheme\n",
    "# Scaling the rewards between 0 & 1\n",
    "highest_rating = 5.0\n",
    "movies_and_ratings['reward'] = (1 - abs(movies_and_ratings['rating'] - highest_rating) / 4.5) ** 2"
   ]
  },
  {
   "cell_type": "code",
   "execution_count": null,
   "metadata": {},
   "outputs": [],
   "source": [
    "# Number of rated movies per user\n",
    "grouped = movies_and_ratings.groupby('userId')"
   ]
  },
  {
   "cell_type": "code",
   "execution_count": null,
   "metadata": {},
   "outputs": [],
   "source": [
    "no_of_ratings_per_user = movies_and_ratings['userId'].value_counts()"
   ]
  },
  {
   "cell_type": "code",
   "execution_count": null,
   "metadata": {},
   "outputs": [],
   "source": [
    "no_of_ratings_per_user.min(), no_of_ratings_per_user.max(), no_of_ratings_per_user.mean(), no_of_ratings_per_user.median()"
   ]
  },
  {
   "cell_type": "code",
   "execution_count": null,
   "metadata": {},
   "outputs": [],
   "source": [
    "# Earliest and latest timestamps\n",
    "movies_and_ratings['timestamp'].min(), movies_and_ratings['timestamp'].max()"
   ]
  },
  {
   "cell_type": "code",
   "execution_count": null,
   "metadata": {},
   "outputs": [],
   "source": [
    "all_genres = movies_and_ratings['genres']"
   ]
  },
  {
   "cell_type": "code",
   "execution_count": null,
   "metadata": {},
   "outputs": [],
   "source": [
    "genres_list = []\n",
    "for genres in all_genres:\n",
    "    genre_splitted = genres.split(\"|\")\n",
    "    genres_list += genre_splitted\n",
    "genres_arr = np.array(genres_list)\n",
    "genres_arr.shape"
   ]
  },
  {
   "cell_type": "code",
   "execution_count": null,
   "metadata": {},
   "outputs": [],
   "source": [
    "unique_elements, counts = np.unique(genres_arr, return_counts=True)"
   ]
  },
  {
   "cell_type": "code",
   "execution_count": null,
   "metadata": {},
   "outputs": [],
   "source": [
    "data = dict(genre=unique_elements, count=counts)\n",
    "genre_count_df = pd.DataFrame(data)\n",
    "genre_count_df"
   ]
  },
  {
   "cell_type": "code",
   "execution_count": null,
   "metadata": {},
   "outputs": [],
   "source": [
    "# Create the bar plot with seaborn\n",
    "plt.figure(figsize=(10, 6), dpi=300)\n",
    "sns.set_palette(\"rocket\")\n",
    "sns.barplot(x=\"genre\", y=\"count\", data=genre_count_df, palette=\"rocket\")\n",
    "\n",
    "plt.xlabel(\"Genres\", fontsize=14)\n",
    "plt.ylabel(\"Count (log scaled)\", fontsize=14)\n",
    "plt.yscale(\"log\")\n",
    "plt.xticks(rotation=90, fontsize=12)\n",
    "plt.yticks(fontsize=12)\n",
    "plt.savefig(\"../Figures/Movielens/dist_of_movie_genres.pdf\", format=\"pdf\", bbox_inches=\"tight\")"
   ]
  },
  {
   "cell_type": "code",
   "execution_count": null,
   "metadata": {},
   "outputs": [],
   "source": [
    "movies_and_ratings[movies_and_ratings['movieId'] == 804]"
   ]
  },
  {
   "cell_type": "code",
   "execution_count": null,
   "metadata": {},
   "outputs": [],
   "source": [
    "movies_and_ratings['genre_count_per_movie'] = movies_and_ratings['genres'].apply(lambda x: len(x.split('|')))"
   ]
  },
  {
   "cell_type": "code",
   "execution_count": null,
   "metadata": {},
   "outputs": [],
   "source": [
    "movies_and_ratings['genre_count_per_movie'].max()"
   ]
  },
  {
   "cell_type": "code",
   "execution_count": null,
   "metadata": {},
   "outputs": [],
   "source": [
    "grouped_tags = tags_df.groupby(['userId', 'movieId'])"
   ]
  },
  {
   "cell_type": "code",
   "execution_count": null,
   "metadata": {},
   "outputs": [],
   "source": [
    "tag_counts_per_user = tags_df[['userId', 'movieId']].value_counts().tolist()"
   ]
  },
  {
   "cell_type": "code",
   "execution_count": null,
   "metadata": {},
   "outputs": [],
   "source": [
    "np.mean(tag_counts_per_user)"
   ]
  },
  {
   "cell_type": "code",
   "execution_count": null,
   "metadata": {},
   "outputs": [],
   "source": []
  },
  {
   "cell_type": "code",
   "execution_count": null,
   "metadata": {},
   "outputs": [],
   "source": [
    "tags_df['tag'].value_counts()"
   ]
  },
  {
   "cell_type": "code",
   "execution_count": null,
   "metadata": {},
   "outputs": [],
   "source": [
    "tags_df['tag'].apply(lambda x: x.lower()).nunique()"
   ]
  },
  {
   "cell_type": "code",
   "execution_count": null,
   "metadata": {},
   "outputs": [],
   "source": [
    "# Outlier analysis\n",
    "\n",
    "sns.boxplot(data = movies_and_ratings['genre_count_per_movie'])\n",
    "plt.xlabel(\"Genres\", fontsize=14)\n",
    "plt.ylabel(\"Count (log scaled)\", fontsize=14)\n",
    "plt.yscale(\"log\")\n",
    "plt.xticks(rotation=90, fontsize=12)\n",
    "plt.yticks(fontsize=12)"
   ]
  },
  {
   "cell_type": "code",
   "execution_count": null,
   "metadata": {},
   "outputs": [],
   "source": [
    "plt.figure(figsize=(10,6), dpi=300)\n",
    "sns.set_palette(\"rocket\")\n",
    "sns.boxplot(data = movies_and_ratings['genre_count_per_movie'], width=0.1)\n",
    "# plt.xlabel(\"Genres\", fontsize=14)\n",
    "plt.ylabel(\"Genre count per movie\", fontsize=14)\n",
    "# plt.yscale(\"log\")\n",
    "plt.xticks(fontsize=12)\n",
    "plt.yticks(fontsize=12)\n",
    "plt.savefig(\"../Figures/Movielens/boxplot_genre_count_per_movie.pdf\", format=\"pdf\", bbox_inches=\"tight\")"
   ]
  },
  {
   "cell_type": "code",
   "execution_count": null,
   "metadata": {},
   "outputs": [],
   "source": [
    "plt.figure(figsize=(10,6), dpi=300)\n",
    "sns.boxplot(data = ratings_df['userId'].value_counts().tolist(), width=0.1, color=\"teal\")\n",
    "# plt.xlabel(\"Genres\", fontsize=14)\n",
    "plt.ylabel(\"Rating count per user (log scaled)\", fontsize=14)\n",
    "plt.yscale(\"log\")\n",
    "plt.xticks(fontsize=12)\n",
    "plt.yticks(fontsize=12)\n",
    "plt.savefig(\"../Figures/Movielens/boxplot_per_user_rating_count.pdf\", format=\"pdf\", bbox_inches=\"tight\")"
   ]
  },
  {
   "cell_type": "code",
   "execution_count": null,
   "metadata": {},
   "outputs": [],
   "source": [
    "plt.figure(figsize=(10,6), dpi=300)\n",
    "sns.boxplot(data = tags_df['tag'].value_counts(), width=0.1, color='maroon')\n",
    "# plt.xlabel(\"Genres\", fontsize=14)\n",
    "plt.ylabel(\"Tag usage count (log sclaed)\", fontsize=14)\n",
    "plt.yscale(\"log\")\n",
    "plt.xticks(fontsize=12)\n",
    "plt.yticks(fontsize=12)\n",
    "plt.savefig(\"../Figures/Movielens/boxplot_tag_usage_count.pdf\", format=\"pdf\", bbox_inches=\"tight\")"
   ]
  },
  {
   "cell_type": "code",
   "execution_count": null,
   "metadata": {},
   "outputs": [],
   "source": [
    "plt.figure(figsize=(10,6), dpi=300)\n",
    "sns.boxplot(data=tag_counts_per_user, width=0.1, color=\"blue\")\n",
    "# plt.xlabel(\"Genres\", fontsize=14)\n",
    "plt.ylabel(\"Tag count (log scaled)\", fontsize=14)\n",
    "plt.yscale(\"log\")\n",
    "plt.xticks(fontsize=12)\n",
    "plt.yticks(fontsize=12)\n",
    "plt.savefig(\"../Figures/Movielens/boxplot_tag_counts_per_user.pdf\", format=\"pdf\", bbox_inches=\"tight\")"
   ]
  },
  {
   "cell_type": "code",
   "execution_count": null,
   "metadata": {},
   "outputs": [],
   "source": [
    "tags_df['movieId'].nunique()"
   ]
  },
  {
   "cell_type": "code",
   "execution_count": null,
   "metadata": {},
   "outputs": [],
   "source": [
    "movies_and_ratings['movieId'].nunique() - tags_df['movieId'].nunique()"
   ]
  }
 ],
 "metadata": {
  "kernelspec": {
   "display_name": "decision-transformer-climate",
   "language": "python",
   "name": "python3"
  },
  "language_info": {
   "codemirror_mode": {
    "name": "ipython",
    "version": 3
   },
   "file_extension": ".py",
   "mimetype": "text/x-python",
   "name": "python",
   "nbconvert_exporter": "python",
   "pygments_lexer": "ipython3",
   "version": "3.8.5"
  }
 },
 "nbformat": 4,
 "nbformat_minor": 2
}
