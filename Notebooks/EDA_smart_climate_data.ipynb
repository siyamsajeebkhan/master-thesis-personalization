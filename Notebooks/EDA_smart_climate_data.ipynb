{
 "cells": [
  {
   "cell_type": "code",
   "execution_count": 1,
   "id": "4b671053-55b7-4037-a696-27d645a687a5",
   "metadata": {
    "tags": []
   },
   "outputs": [],
   "source": [
    "import numpy as np\n",
    "import seaborn as sns\n",
    "from matplotlib import pyplot as plt\n",
    "import pandas as pd\n",
    "import random\n",
    "pd.set_option('display.max_columns', None)"
   ]
  },
  {
   "attachments": {},
   "cell_type": "markdown",
   "id": "76ed44cc-2de3-422c-a0aa-393977070f1a",
   "metadata": {},
   "source": [
    "## Loading data from S3"
   ]
  },
  {
   "cell_type": "code",
   "execution_count": 2,
   "id": "9cf13116",
   "metadata": {
    "tags": []
   },
   "outputs": [],
   "source": [
    "# s3_uri = \"s3://aws-athena-query-results-378141045805-eu-west-1/primary/e28fee6c-ad6a-429f-9a52-8dff2c0481c3.csv\""
   ]
  },
  {
   "cell_type": "code",
   "execution_count": 3,
   "id": "302c4c58",
   "metadata": {
    "tags": []
   },
   "outputs": [],
   "source": [
    "# Path to the local data\n",
    "# The variable name is kept unchanged for future references\n",
    "s3_uri = \"/home/q621464/Desktop/Thesis/code/decision-transformer-thesis/data/smart-climate-2021/e28fee6c-ad6a-429f-9a52-8dff2c0481c3.csv\""
   ]
  },
  {
   "cell_type": "code",
   "execution_count": 4,
   "id": "998bf0fd-2d9a-46d9-8a01-68a7434365ee",
   "metadata": {
    "tags": []
   },
   "outputs": [
    {
     "data": {
      "text/plain": [
       "(176374, 69)"
      ]
     },
     "execution_count": 4,
     "metadata": {},
     "output_type": "execute_result"
    }
   ],
   "source": [
    "climate_data_2021_original = pd.read_csv(s3_uri)\n",
    "climate_data_2021 = climate_data_2021_original.copy()\n",
    "climate_data_2021.shape"
   ]
  },
  {
   "cell_type": "code",
   "execution_count": 9,
   "id": "60d45bd2",
   "metadata": {},
   "outputs": [
    {
     "data": {
      "text/html": [
       "<div>\n",
       "<style scoped>\n",
       "    .dataframe tbody tr th:only-of-type {\n",
       "        vertical-align: middle;\n",
       "    }\n",
       "\n",
       "    .dataframe tbody tr th {\n",
       "        vertical-align: top;\n",
       "    }\n",
       "\n",
       "    .dataframe thead th {\n",
       "        text-align: right;\n",
       "    }\n",
       "</style>\n",
       "<table border=\"1\" class=\"dataframe\">\n",
       "  <thead>\n",
       "    <tr style=\"text-align: right;\">\n",
       "      <th></th>\n",
       "      <th></th>\n",
       "      <th>c_drive_timestamp_start</th>\n",
       "      <th>c_drive_timestamp_stop</th>\n",
       "      <th>c_msg_creation_timestamp</th>\n",
       "      <th>c_target_temp</th>\n",
       "      <th>c_blower_combined</th>\n",
       "      <th>c_air_mode_combined</th>\n",
       "      <th>c_blower_level</th>\n",
       "      <th>c_min_diff_ms_blower_level</th>\n",
       "      <th>c_blower_style</th>\n",
       "      <th>c_min_diff_ms_blower_style</th>\n",
       "      <th>c_air_dist</th>\n",
       "      <th>c_min_diff_ms_air_dist</th>\n",
       "      <th>c_auto_mode</th>\n",
       "      <th>c_min_diff_ms_auto_mode</th>\n",
       "      <th>c_pwf</th>\n",
       "      <th>c_pwf_group</th>\n",
       "      <th>c_row_number_drive</th>\n",
       "      <th>c_number_of_rows_drive</th>\n",
       "      <th>c_only_driving_duration_sec</th>\n",
       "      <th>c_event_duration_sec</th>\n",
       "      <th>c_min_diff_ms_target_temp</th>\n",
       "      <th>c_min_exteriortemperature_celsius</th>\n",
       "      <th>c_exteriortemperature_avg_celsius</th>\n",
       "      <th>c_max_exteriortemperature_celsius</th>\n",
       "      <th>c_interiortemperature_startup_celsius</th>\n",
       "      <th>c_drive_duration_sec</th>\n",
       "      <th>c_drive_duration_minutes</th>\n",
       "      <th>c_drive_weekday</th>\n",
       "      <th>c_year_month_day</th>\n",
       "      <th>c_weekofyear_year</th>\n",
       "      <th>c_weekend_drive</th>\n",
       "      <th>c_vehicle_live_time_days</th>\n",
       "      <th>c_avg_drives_per_day</th>\n",
       "      <th>c_avg_drives_per_week</th>\n",
       "      <th>c_avg_drives_per_month</th>\n",
       "      <th>c_timezonedelta</th>\n",
       "      <th>c_gpsregion_city_drive</th>\n",
       "      <th>c_gpsregion_lat_drive</th>\n",
       "      <th>c_gpsregion_long_drive</th>\n",
       "      <th>c_gpsregion_geohash_drive</th>\n",
       "      <th>c_gps_data_source</th>\n",
       "      <th>c_hub</th>\n",
       "      <th>c_country_iso_code</th>\n",
       "      <th>c_order_country</th>\n",
       "      <th>c_brand</th>\n",
       "      <th>c_derivat</th>\n",
       "      <th>c_marketing_name</th>\n",
       "      <th>c_steering_wheel_position</th>\n",
       "      <th>c_product_line</th>\n",
       "      <th>c_hybridkennzeichen</th>\n",
       "      <th>c_fuel_type_corrected_description</th>\n",
       "      <th>c_vehicle_class</th>\n",
       "      <th>c_script_version</th>\n",
       "      <th>c_mean_speed</th>\n",
       "      <th>c_mileage_start</th>\n",
       "      <th>c_mileage_stop</th>\n",
       "      <th>c_mileage_delta</th>\n",
       "      <th>c_bcbehvenergystart_kwh</th>\n",
       "      <th>c_bcbehvenergyend_kwh</th>\n",
       "      <th>c_drive_number_per_car</th>\n",
       "      <th>c_number_of_drives_per_car</th>\n",
       "      <th>c_gcad</th>\n",
       "      <th>c_is_active_profile</th>\n",
       "      <th>c_is_guest_profile</th>\n",
       "      <th>c_touchscreen_used</th>\n",
       "      <th>c_touchscreen_used_count</th>\n",
       "      <th>c_first_last_mode</th>\n",
       "    </tr>\n",
       "    <tr>\n",
       "      <th>c_van17</th>\n",
       "      <th>c_driveid</th>\n",
       "      <th></th>\n",
       "      <th></th>\n",
       "      <th></th>\n",
       "      <th></th>\n",
       "      <th></th>\n",
       "      <th></th>\n",
       "      <th></th>\n",
       "      <th></th>\n",
       "      <th></th>\n",
       "      <th></th>\n",
       "      <th></th>\n",
       "      <th></th>\n",
       "      <th></th>\n",
       "      <th></th>\n",
       "      <th></th>\n",
       "      <th></th>\n",
       "      <th></th>\n",
       "      <th></th>\n",
       "      <th></th>\n",
       "      <th></th>\n",
       "      <th></th>\n",
       "      <th></th>\n",
       "      <th></th>\n",
       "      <th></th>\n",
       "      <th></th>\n",
       "      <th></th>\n",
       "      <th></th>\n",
       "      <th></th>\n",
       "      <th></th>\n",
       "      <th></th>\n",
       "      <th></th>\n",
       "      <th></th>\n",
       "      <th></th>\n",
       "      <th></th>\n",
       "      <th></th>\n",
       "      <th></th>\n",
       "      <th></th>\n",
       "      <th></th>\n",
       "      <th></th>\n",
       "      <th></th>\n",
       "      <th></th>\n",
       "      <th></th>\n",
       "      <th></th>\n",
       "      <th></th>\n",
       "      <th></th>\n",
       "      <th></th>\n",
       "      <th></th>\n",
       "      <th></th>\n",
       "      <th></th>\n",
       "      <th></th>\n",
       "      <th></th>\n",
       "      <th></th>\n",
       "      <th></th>\n",
       "      <th></th>\n",
       "      <th></th>\n",
       "      <th></th>\n",
       "      <th></th>\n",
       "      <th></th>\n",
       "      <th></th>\n",
       "      <th></th>\n",
       "      <th></th>\n",
       "      <th></th>\n",
       "      <th></th>\n",
       "      <th></th>\n",
       "      <th></th>\n",
       "      <th></th>\n",
       "      <th></th>\n",
       "    </tr>\n",
       "  </thead>\n",
       "  <tbody>\n",
       "    <tr>\n",
       "      <th>AAI++FbFvGFjTRtS+sYQxbLNvUQn4kc+hsP0LGI6S3ve484oWiQVcmGw3udQnFvgGSoKPoNiCuc++IFC/qWCrRGi3ivdX+XTk8huALwG7i7iDPWmRhk=</th>\n",
       "      <th>XDVU1W32WZQ9VWHLM</th>\n",
       "      <td>19</td>\n",
       "      <td>19</td>\n",
       "      <td>19</td>\n",
       "      <td>19</td>\n",
       "      <td>19</td>\n",
       "      <td>19</td>\n",
       "      <td>19</td>\n",
       "      <td>19</td>\n",
       "      <td>19</td>\n",
       "      <td>19</td>\n",
       "      <td>19</td>\n",
       "      <td>19</td>\n",
       "      <td>19</td>\n",
       "      <td>19</td>\n",
       "      <td>19</td>\n",
       "      <td>19</td>\n",
       "      <td>19</td>\n",
       "      <td>19</td>\n",
       "      <td>19</td>\n",
       "      <td>19</td>\n",
       "      <td>19</td>\n",
       "      <td>19</td>\n",
       "      <td>19</td>\n",
       "      <td>19</td>\n",
       "      <td>19</td>\n",
       "      <td>19</td>\n",
       "      <td>19</td>\n",
       "      <td>19</td>\n",
       "      <td>19</td>\n",
       "      <td>19</td>\n",
       "      <td>19</td>\n",
       "      <td>19</td>\n",
       "      <td>19</td>\n",
       "      <td>19</td>\n",
       "      <td>19</td>\n",
       "      <td>19</td>\n",
       "      <td>19</td>\n",
       "      <td>0</td>\n",
       "      <td>0</td>\n",
       "      <td>0</td>\n",
       "      <td>19</td>\n",
       "      <td>19</td>\n",
       "      <td>19</td>\n",
       "      <td>19</td>\n",
       "      <td>19</td>\n",
       "      <td>19</td>\n",
       "      <td>19</td>\n",
       "      <td>19</td>\n",
       "      <td>19</td>\n",
       "      <td>19</td>\n",
       "      <td>19</td>\n",
       "      <td>19</td>\n",
       "      <td>19</td>\n",
       "      <td>19</td>\n",
       "      <td>19</td>\n",
       "      <td>19</td>\n",
       "      <td>19</td>\n",
       "      <td>19</td>\n",
       "      <td>19</td>\n",
       "      <td>19</td>\n",
       "      <td>19</td>\n",
       "      <td>19</td>\n",
       "      <td>19</td>\n",
       "      <td>19</td>\n",
       "      <td>19</td>\n",
       "      <td>19</td>\n",
       "      <td>19</td>\n",
       "    </tr>\n",
       "    <tr>\n",
       "      <th>AAI+26A37RgahMuzcWes4C9Hv4JkH1vGrsUmlWEPfY8bd9alJGFXAxyPtUf5h4tKEXEDHM+645pw41cn5rU84JZZqTul+RQi/xEDmrz5otuKNOR5FDk=</th>\n",
       "      <th>15C7XN9MTXQ7ZR8NE</th>\n",
       "      <td>16</td>\n",
       "      <td>16</td>\n",
       "      <td>16</td>\n",
       "      <td>16</td>\n",
       "      <td>16</td>\n",
       "      <td>16</td>\n",
       "      <td>16</td>\n",
       "      <td>16</td>\n",
       "      <td>16</td>\n",
       "      <td>16</td>\n",
       "      <td>16</td>\n",
       "      <td>16</td>\n",
       "      <td>16</td>\n",
       "      <td>16</td>\n",
       "      <td>16</td>\n",
       "      <td>16</td>\n",
       "      <td>16</td>\n",
       "      <td>16</td>\n",
       "      <td>16</td>\n",
       "      <td>16</td>\n",
       "      <td>16</td>\n",
       "      <td>16</td>\n",
       "      <td>16</td>\n",
       "      <td>16</td>\n",
       "      <td>16</td>\n",
       "      <td>16</td>\n",
       "      <td>16</td>\n",
       "      <td>16</td>\n",
       "      <td>16</td>\n",
       "      <td>16</td>\n",
       "      <td>16</td>\n",
       "      <td>16</td>\n",
       "      <td>16</td>\n",
       "      <td>16</td>\n",
       "      <td>16</td>\n",
       "      <td>16</td>\n",
       "      <td>16</td>\n",
       "      <td>16</td>\n",
       "      <td>16</td>\n",
       "      <td>16</td>\n",
       "      <td>16</td>\n",
       "      <td>16</td>\n",
       "      <td>16</td>\n",
       "      <td>16</td>\n",
       "      <td>16</td>\n",
       "      <td>16</td>\n",
       "      <td>16</td>\n",
       "      <td>16</td>\n",
       "      <td>16</td>\n",
       "      <td>16</td>\n",
       "      <td>16</td>\n",
       "      <td>16</td>\n",
       "      <td>16</td>\n",
       "      <td>16</td>\n",
       "      <td>16</td>\n",
       "      <td>16</td>\n",
       "      <td>16</td>\n",
       "      <td>16</td>\n",
       "      <td>16</td>\n",
       "      <td>16</td>\n",
       "      <td>16</td>\n",
       "      <td>16</td>\n",
       "      <td>16</td>\n",
       "      <td>16</td>\n",
       "      <td>16</td>\n",
       "      <td>16</td>\n",
       "      <td>16</td>\n",
       "    </tr>\n",
       "    <tr>\n",
       "      <th>AAI+7mTyMJjfnMPfU+XvKO3HHyzmfBes7caWhgEJJPgkRsFFVc5+alL9rGS6BfwGBI4VExS719qOg7tqGSUK55cvJ7xZA8BoYAHxu6SgKuyjwKMyeWw=</th>\n",
       "      <th>NBMCRAN0THQGPEEKS</th>\n",
       "      <td>16</td>\n",
       "      <td>16</td>\n",
       "      <td>16</td>\n",
       "      <td>16</td>\n",
       "      <td>16</td>\n",
       "      <td>16</td>\n",
       "      <td>16</td>\n",
       "      <td>16</td>\n",
       "      <td>16</td>\n",
       "      <td>16</td>\n",
       "      <td>16</td>\n",
       "      <td>16</td>\n",
       "      <td>16</td>\n",
       "      <td>16</td>\n",
       "      <td>16</td>\n",
       "      <td>16</td>\n",
       "      <td>16</td>\n",
       "      <td>16</td>\n",
       "      <td>16</td>\n",
       "      <td>16</td>\n",
       "      <td>16</td>\n",
       "      <td>16</td>\n",
       "      <td>16</td>\n",
       "      <td>16</td>\n",
       "      <td>16</td>\n",
       "      <td>16</td>\n",
       "      <td>16</td>\n",
       "      <td>16</td>\n",
       "      <td>16</td>\n",
       "      <td>16</td>\n",
       "      <td>16</td>\n",
       "      <td>16</td>\n",
       "      <td>16</td>\n",
       "      <td>16</td>\n",
       "      <td>16</td>\n",
       "      <td>16</td>\n",
       "      <td>16</td>\n",
       "      <td>16</td>\n",
       "      <td>16</td>\n",
       "      <td>16</td>\n",
       "      <td>16</td>\n",
       "      <td>16</td>\n",
       "      <td>16</td>\n",
       "      <td>16</td>\n",
       "      <td>16</td>\n",
       "      <td>16</td>\n",
       "      <td>16</td>\n",
       "      <td>16</td>\n",
       "      <td>16</td>\n",
       "      <td>16</td>\n",
       "      <td>16</td>\n",
       "      <td>16</td>\n",
       "      <td>16</td>\n",
       "      <td>16</td>\n",
       "      <td>16</td>\n",
       "      <td>16</td>\n",
       "      <td>16</td>\n",
       "      <td>0</td>\n",
       "      <td>0</td>\n",
       "      <td>16</td>\n",
       "      <td>16</td>\n",
       "      <td>16</td>\n",
       "      <td>16</td>\n",
       "      <td>16</td>\n",
       "      <td>16</td>\n",
       "      <td>16</td>\n",
       "      <td>16</td>\n",
       "    </tr>\n",
       "    <tr>\n",
       "      <th>AAI+DfQDiYeMURNBU0dTogguwdbaJBBx9EjUlbwLTZj+MP8BRrArZJo9WEkvoDtVeK599S8w9F+dBnQnQJsuem98BLCwLby2IxS1w1rPxEBdV+sU0Fs=</th>\n",
       "      <th>95F7ERPUHLQG32GTG</th>\n",
       "      <td>15</td>\n",
       "      <td>15</td>\n",
       "      <td>15</td>\n",
       "      <td>15</td>\n",
       "      <td>15</td>\n",
       "      <td>15</td>\n",
       "      <td>15</td>\n",
       "      <td>15</td>\n",
       "      <td>15</td>\n",
       "      <td>15</td>\n",
       "      <td>15</td>\n",
       "      <td>15</td>\n",
       "      <td>15</td>\n",
       "      <td>15</td>\n",
       "      <td>15</td>\n",
       "      <td>15</td>\n",
       "      <td>15</td>\n",
       "      <td>15</td>\n",
       "      <td>15</td>\n",
       "      <td>15</td>\n",
       "      <td>15</td>\n",
       "      <td>15</td>\n",
       "      <td>15</td>\n",
       "      <td>15</td>\n",
       "      <td>15</td>\n",
       "      <td>15</td>\n",
       "      <td>15</td>\n",
       "      <td>15</td>\n",
       "      <td>15</td>\n",
       "      <td>15</td>\n",
       "      <td>15</td>\n",
       "      <td>15</td>\n",
       "      <td>15</td>\n",
       "      <td>15</td>\n",
       "      <td>15</td>\n",
       "      <td>15</td>\n",
       "      <td>15</td>\n",
       "      <td>0</td>\n",
       "      <td>0</td>\n",
       "      <td>0</td>\n",
       "      <td>15</td>\n",
       "      <td>15</td>\n",
       "      <td>15</td>\n",
       "      <td>15</td>\n",
       "      <td>15</td>\n",
       "      <td>15</td>\n",
       "      <td>15</td>\n",
       "      <td>15</td>\n",
       "      <td>15</td>\n",
       "      <td>15</td>\n",
       "      <td>15</td>\n",
       "      <td>15</td>\n",
       "      <td>15</td>\n",
       "      <td>15</td>\n",
       "      <td>15</td>\n",
       "      <td>15</td>\n",
       "      <td>15</td>\n",
       "      <td>0</td>\n",
       "      <td>0</td>\n",
       "      <td>15</td>\n",
       "      <td>15</td>\n",
       "      <td>15</td>\n",
       "      <td>15</td>\n",
       "      <td>15</td>\n",
       "      <td>15</td>\n",
       "      <td>15</td>\n",
       "      <td>15</td>\n",
       "    </tr>\n",
       "    <tr>\n",
       "      <th>AAI+IitPzy4O25EL9NovKdeUbMX1oA/VG1v0k9Rno9243ary5+fZk22BHuLr589CnisIZqaMMKJFR4tr5rO/0wjVYnzbQKKPAx59frAmL6lPQn2mgH8=</th>\n",
       "      <th>UGTNSP6PXFQYXJEED</th>\n",
       "      <td>31</td>\n",
       "      <td>31</td>\n",
       "      <td>31</td>\n",
       "      <td>31</td>\n",
       "      <td>31</td>\n",
       "      <td>31</td>\n",
       "      <td>31</td>\n",
       "      <td>31</td>\n",
       "      <td>31</td>\n",
       "      <td>31</td>\n",
       "      <td>31</td>\n",
       "      <td>31</td>\n",
       "      <td>31</td>\n",
       "      <td>31</td>\n",
       "      <td>31</td>\n",
       "      <td>31</td>\n",
       "      <td>31</td>\n",
       "      <td>31</td>\n",
       "      <td>31</td>\n",
       "      <td>31</td>\n",
       "      <td>31</td>\n",
       "      <td>31</td>\n",
       "      <td>31</td>\n",
       "      <td>31</td>\n",
       "      <td>31</td>\n",
       "      <td>31</td>\n",
       "      <td>31</td>\n",
       "      <td>31</td>\n",
       "      <td>31</td>\n",
       "      <td>31</td>\n",
       "      <td>31</td>\n",
       "      <td>31</td>\n",
       "      <td>31</td>\n",
       "      <td>31</td>\n",
       "      <td>31</td>\n",
       "      <td>31</td>\n",
       "      <td>31</td>\n",
       "      <td>31</td>\n",
       "      <td>31</td>\n",
       "      <td>31</td>\n",
       "      <td>31</td>\n",
       "      <td>31</td>\n",
       "      <td>31</td>\n",
       "      <td>31</td>\n",
       "      <td>31</td>\n",
       "      <td>31</td>\n",
       "      <td>31</td>\n",
       "      <td>31</td>\n",
       "      <td>31</td>\n",
       "      <td>31</td>\n",
       "      <td>31</td>\n",
       "      <td>31</td>\n",
       "      <td>31</td>\n",
       "      <td>31</td>\n",
       "      <td>31</td>\n",
       "      <td>31</td>\n",
       "      <td>31</td>\n",
       "      <td>31</td>\n",
       "      <td>31</td>\n",
       "      <td>31</td>\n",
       "      <td>31</td>\n",
       "      <td>31</td>\n",
       "      <td>31</td>\n",
       "      <td>31</td>\n",
       "      <td>31</td>\n",
       "      <td>31</td>\n",
       "      <td>31</td>\n",
       "    </tr>\n",
       "    <tr>\n",
       "      <th>...</th>\n",
       "      <th>...</th>\n",
       "      <td>...</td>\n",
       "      <td>...</td>\n",
       "      <td>...</td>\n",
       "      <td>...</td>\n",
       "      <td>...</td>\n",
       "      <td>...</td>\n",
       "      <td>...</td>\n",
       "      <td>...</td>\n",
       "      <td>...</td>\n",
       "      <td>...</td>\n",
       "      <td>...</td>\n",
       "      <td>...</td>\n",
       "      <td>...</td>\n",
       "      <td>...</td>\n",
       "      <td>...</td>\n",
       "      <td>...</td>\n",
       "      <td>...</td>\n",
       "      <td>...</td>\n",
       "      <td>...</td>\n",
       "      <td>...</td>\n",
       "      <td>...</td>\n",
       "      <td>...</td>\n",
       "      <td>...</td>\n",
       "      <td>...</td>\n",
       "      <td>...</td>\n",
       "      <td>...</td>\n",
       "      <td>...</td>\n",
       "      <td>...</td>\n",
       "      <td>...</td>\n",
       "      <td>...</td>\n",
       "      <td>...</td>\n",
       "      <td>...</td>\n",
       "      <td>...</td>\n",
       "      <td>...</td>\n",
       "      <td>...</td>\n",
       "      <td>...</td>\n",
       "      <td>...</td>\n",
       "      <td>...</td>\n",
       "      <td>...</td>\n",
       "      <td>...</td>\n",
       "      <td>...</td>\n",
       "      <td>...</td>\n",
       "      <td>...</td>\n",
       "      <td>...</td>\n",
       "      <td>...</td>\n",
       "      <td>...</td>\n",
       "      <td>...</td>\n",
       "      <td>...</td>\n",
       "      <td>...</td>\n",
       "      <td>...</td>\n",
       "      <td>...</td>\n",
       "      <td>...</td>\n",
       "      <td>...</td>\n",
       "      <td>...</td>\n",
       "      <td>...</td>\n",
       "      <td>...</td>\n",
       "      <td>...</td>\n",
       "      <td>...</td>\n",
       "      <td>...</td>\n",
       "      <td>...</td>\n",
       "      <td>...</td>\n",
       "      <td>...</td>\n",
       "      <td>...</td>\n",
       "      <td>...</td>\n",
       "      <td>...</td>\n",
       "      <td>...</td>\n",
       "      <td>...</td>\n",
       "    </tr>\n",
       "    <tr>\n",
       "      <th>AAPztGrxkOpS+Y4Muorqm7CIMpCl3qnQxwznZid4GYd90jnSGaGvaX+H5bNUvpZsOB0khiqPyP2dleJgVq428b7zRO2rvzHt/2Hls6CSjFgBxEDF7yI=</th>\n",
       "      <th>T0WM5S4ZB4QFGY21F</th>\n",
       "      <td>19</td>\n",
       "      <td>19</td>\n",
       "      <td>19</td>\n",
       "      <td>19</td>\n",
       "      <td>19</td>\n",
       "      <td>19</td>\n",
       "      <td>19</td>\n",
       "      <td>19</td>\n",
       "      <td>19</td>\n",
       "      <td>19</td>\n",
       "      <td>19</td>\n",
       "      <td>19</td>\n",
       "      <td>19</td>\n",
       "      <td>19</td>\n",
       "      <td>19</td>\n",
       "      <td>19</td>\n",
       "      <td>19</td>\n",
       "      <td>19</td>\n",
       "      <td>19</td>\n",
       "      <td>19</td>\n",
       "      <td>19</td>\n",
       "      <td>19</td>\n",
       "      <td>19</td>\n",
       "      <td>19</td>\n",
       "      <td>19</td>\n",
       "      <td>19</td>\n",
       "      <td>19</td>\n",
       "      <td>19</td>\n",
       "      <td>19</td>\n",
       "      <td>19</td>\n",
       "      <td>19</td>\n",
       "      <td>19</td>\n",
       "      <td>19</td>\n",
       "      <td>19</td>\n",
       "      <td>19</td>\n",
       "      <td>19</td>\n",
       "      <td>19</td>\n",
       "      <td>19</td>\n",
       "      <td>19</td>\n",
       "      <td>19</td>\n",
       "      <td>19</td>\n",
       "      <td>19</td>\n",
       "      <td>19</td>\n",
       "      <td>19</td>\n",
       "      <td>19</td>\n",
       "      <td>19</td>\n",
       "      <td>19</td>\n",
       "      <td>19</td>\n",
       "      <td>19</td>\n",
       "      <td>19</td>\n",
       "      <td>19</td>\n",
       "      <td>19</td>\n",
       "      <td>19</td>\n",
       "      <td>19</td>\n",
       "      <td>19</td>\n",
       "      <td>19</td>\n",
       "      <td>19</td>\n",
       "      <td>19</td>\n",
       "      <td>19</td>\n",
       "      <td>19</td>\n",
       "      <td>19</td>\n",
       "      <td>19</td>\n",
       "      <td>19</td>\n",
       "      <td>19</td>\n",
       "      <td>19</td>\n",
       "      <td>19</td>\n",
       "      <td>19</td>\n",
       "    </tr>\n",
       "    <tr>\n",
       "      <th>AAPzwJ1qR2Nw+u1zXpqT9uoVf23PFzBqIMvj9hab1cxL1YiGjwNQHFS9ewhLm8IBB6yhh7Co+wE4P/gG1GHS3yawKAxfsLU3p/njQaiTtacGg63Hl4g=</th>\n",
       "      <th>TE2PZ4SAZ1QGTLG21</th>\n",
       "      <td>17</td>\n",
       "      <td>17</td>\n",
       "      <td>17</td>\n",
       "      <td>17</td>\n",
       "      <td>17</td>\n",
       "      <td>17</td>\n",
       "      <td>17</td>\n",
       "      <td>17</td>\n",
       "      <td>17</td>\n",
       "      <td>17</td>\n",
       "      <td>17</td>\n",
       "      <td>17</td>\n",
       "      <td>17</td>\n",
       "      <td>17</td>\n",
       "      <td>17</td>\n",
       "      <td>17</td>\n",
       "      <td>17</td>\n",
       "      <td>17</td>\n",
       "      <td>17</td>\n",
       "      <td>17</td>\n",
       "      <td>17</td>\n",
       "      <td>17</td>\n",
       "      <td>17</td>\n",
       "      <td>17</td>\n",
       "      <td>17</td>\n",
       "      <td>17</td>\n",
       "      <td>17</td>\n",
       "      <td>17</td>\n",
       "      <td>17</td>\n",
       "      <td>17</td>\n",
       "      <td>17</td>\n",
       "      <td>17</td>\n",
       "      <td>17</td>\n",
       "      <td>17</td>\n",
       "      <td>17</td>\n",
       "      <td>17</td>\n",
       "      <td>17</td>\n",
       "      <td>17</td>\n",
       "      <td>17</td>\n",
       "      <td>17</td>\n",
       "      <td>17</td>\n",
       "      <td>17</td>\n",
       "      <td>17</td>\n",
       "      <td>17</td>\n",
       "      <td>17</td>\n",
       "      <td>17</td>\n",
       "      <td>17</td>\n",
       "      <td>17</td>\n",
       "      <td>17</td>\n",
       "      <td>17</td>\n",
       "      <td>17</td>\n",
       "      <td>17</td>\n",
       "      <td>17</td>\n",
       "      <td>17</td>\n",
       "      <td>17</td>\n",
       "      <td>17</td>\n",
       "      <td>17</td>\n",
       "      <td>17</td>\n",
       "      <td>17</td>\n",
       "      <td>17</td>\n",
       "      <td>17</td>\n",
       "      <td>17</td>\n",
       "      <td>17</td>\n",
       "      <td>17</td>\n",
       "      <td>17</td>\n",
       "      <td>17</td>\n",
       "      <td>17</td>\n",
       "    </tr>\n",
       "    <tr>\n",
       "      <th>AAPzxgn9sTmYGgR6BVwE4m1001qPY6aWsytuHqe4BrN9MdYtrqBXKmVQC4P5ezXL0a3q65gKVkz7S3FFlhEVSJ0oD8Bk+ES8+8xRs58M1lLeaM8EDuw=</th>\n",
       "      <th>MNEVLT311HQ09KTCT</th>\n",
       "      <td>27</td>\n",
       "      <td>27</td>\n",
       "      <td>27</td>\n",
       "      <td>27</td>\n",
       "      <td>27</td>\n",
       "      <td>27</td>\n",
       "      <td>27</td>\n",
       "      <td>27</td>\n",
       "      <td>27</td>\n",
       "      <td>27</td>\n",
       "      <td>27</td>\n",
       "      <td>27</td>\n",
       "      <td>27</td>\n",
       "      <td>27</td>\n",
       "      <td>27</td>\n",
       "      <td>27</td>\n",
       "      <td>27</td>\n",
       "      <td>27</td>\n",
       "      <td>27</td>\n",
       "      <td>27</td>\n",
       "      <td>27</td>\n",
       "      <td>27</td>\n",
       "      <td>27</td>\n",
       "      <td>27</td>\n",
       "      <td>27</td>\n",
       "      <td>27</td>\n",
       "      <td>27</td>\n",
       "      <td>27</td>\n",
       "      <td>27</td>\n",
       "      <td>27</td>\n",
       "      <td>27</td>\n",
       "      <td>27</td>\n",
       "      <td>27</td>\n",
       "      <td>27</td>\n",
       "      <td>27</td>\n",
       "      <td>27</td>\n",
       "      <td>27</td>\n",
       "      <td>0</td>\n",
       "      <td>0</td>\n",
       "      <td>0</td>\n",
       "      <td>27</td>\n",
       "      <td>27</td>\n",
       "      <td>27</td>\n",
       "      <td>27</td>\n",
       "      <td>27</td>\n",
       "      <td>27</td>\n",
       "      <td>27</td>\n",
       "      <td>27</td>\n",
       "      <td>27</td>\n",
       "      <td>27</td>\n",
       "      <td>27</td>\n",
       "      <td>27</td>\n",
       "      <td>27</td>\n",
       "      <td>27</td>\n",
       "      <td>27</td>\n",
       "      <td>27</td>\n",
       "      <td>27</td>\n",
       "      <td>27</td>\n",
       "      <td>27</td>\n",
       "      <td>27</td>\n",
       "      <td>27</td>\n",
       "      <td>27</td>\n",
       "      <td>27</td>\n",
       "      <td>27</td>\n",
       "      <td>27</td>\n",
       "      <td>27</td>\n",
       "      <td>27</td>\n",
       "    </tr>\n",
       "    <tr>\n",
       "      <th>AAPzybKsRS1W9u+YhS2OQ6IQlMeL9OuHdoqMqcj5s4I+iUlCeD8vAckhsE2E871VeeNdrlY2rrEPJajhu4iVmfLga3xR+j32n5oEsFjHLFMk1j4AlQY=</th>\n",
       "      <th>CXXPJ0PCU7QMB6KWZ</th>\n",
       "      <td>15</td>\n",
       "      <td>15</td>\n",
       "      <td>15</td>\n",
       "      <td>15</td>\n",
       "      <td>15</td>\n",
       "      <td>15</td>\n",
       "      <td>15</td>\n",
       "      <td>15</td>\n",
       "      <td>15</td>\n",
       "      <td>15</td>\n",
       "      <td>15</td>\n",
       "      <td>15</td>\n",
       "      <td>15</td>\n",
       "      <td>15</td>\n",
       "      <td>15</td>\n",
       "      <td>15</td>\n",
       "      <td>15</td>\n",
       "      <td>15</td>\n",
       "      <td>15</td>\n",
       "      <td>15</td>\n",
       "      <td>15</td>\n",
       "      <td>15</td>\n",
       "      <td>15</td>\n",
       "      <td>15</td>\n",
       "      <td>15</td>\n",
       "      <td>15</td>\n",
       "      <td>15</td>\n",
       "      <td>15</td>\n",
       "      <td>15</td>\n",
       "      <td>15</td>\n",
       "      <td>15</td>\n",
       "      <td>15</td>\n",
       "      <td>15</td>\n",
       "      <td>15</td>\n",
       "      <td>15</td>\n",
       "      <td>15</td>\n",
       "      <td>15</td>\n",
       "      <td>15</td>\n",
       "      <td>15</td>\n",
       "      <td>15</td>\n",
       "      <td>15</td>\n",
       "      <td>15</td>\n",
       "      <td>15</td>\n",
       "      <td>15</td>\n",
       "      <td>15</td>\n",
       "      <td>15</td>\n",
       "      <td>15</td>\n",
       "      <td>15</td>\n",
       "      <td>15</td>\n",
       "      <td>15</td>\n",
       "      <td>15</td>\n",
       "      <td>15</td>\n",
       "      <td>15</td>\n",
       "      <td>15</td>\n",
       "      <td>15</td>\n",
       "      <td>15</td>\n",
       "      <td>15</td>\n",
       "      <td>0</td>\n",
       "      <td>0</td>\n",
       "      <td>15</td>\n",
       "      <td>15</td>\n",
       "      <td>15</td>\n",
       "      <td>15</td>\n",
       "      <td>15</td>\n",
       "      <td>15</td>\n",
       "      <td>15</td>\n",
       "      <td>15</td>\n",
       "    </tr>\n",
       "    <tr>\n",
       "      <th>AAPzycAds1sLPV/CTFu7TIjlqV/n2hcfI5jtTPIfVEpuGQO+S+OOxO0YFlRo3Ho2U8CBcBQAHQXOgUmFxJZANGPackyU32eRFPZ0FMdYTmJkAsDzYZ0=</th>\n",
       "      <th>RKB8X2YW8ZQHJXWH7</th>\n",
       "      <td>15</td>\n",
       "      <td>15</td>\n",
       "      <td>15</td>\n",
       "      <td>15</td>\n",
       "      <td>15</td>\n",
       "      <td>15</td>\n",
       "      <td>15</td>\n",
       "      <td>15</td>\n",
       "      <td>15</td>\n",
       "      <td>15</td>\n",
       "      <td>15</td>\n",
       "      <td>15</td>\n",
       "      <td>15</td>\n",
       "      <td>15</td>\n",
       "      <td>15</td>\n",
       "      <td>15</td>\n",
       "      <td>15</td>\n",
       "      <td>15</td>\n",
       "      <td>15</td>\n",
       "      <td>15</td>\n",
       "      <td>15</td>\n",
       "      <td>15</td>\n",
       "      <td>15</td>\n",
       "      <td>15</td>\n",
       "      <td>15</td>\n",
       "      <td>15</td>\n",
       "      <td>15</td>\n",
       "      <td>15</td>\n",
       "      <td>15</td>\n",
       "      <td>15</td>\n",
       "      <td>15</td>\n",
       "      <td>15</td>\n",
       "      <td>15</td>\n",
       "      <td>15</td>\n",
       "      <td>15</td>\n",
       "      <td>15</td>\n",
       "      <td>15</td>\n",
       "      <td>15</td>\n",
       "      <td>15</td>\n",
       "      <td>15</td>\n",
       "      <td>15</td>\n",
       "      <td>15</td>\n",
       "      <td>15</td>\n",
       "      <td>15</td>\n",
       "      <td>15</td>\n",
       "      <td>15</td>\n",
       "      <td>15</td>\n",
       "      <td>15</td>\n",
       "      <td>15</td>\n",
       "      <td>15</td>\n",
       "      <td>15</td>\n",
       "      <td>15</td>\n",
       "      <td>15</td>\n",
       "      <td>15</td>\n",
       "      <td>15</td>\n",
       "      <td>15</td>\n",
       "      <td>15</td>\n",
       "      <td>15</td>\n",
       "      <td>15</td>\n",
       "      <td>15</td>\n",
       "      <td>15</td>\n",
       "      <td>15</td>\n",
       "      <td>15</td>\n",
       "      <td>15</td>\n",
       "      <td>15</td>\n",
       "      <td>15</td>\n",
       "      <td>15</td>\n",
       "    </tr>\n",
       "  </tbody>\n",
       "</table>\n",
       "<p>10000 rows × 67 columns</p>\n",
       "</div>"
      ],
      "text/plain": [
       "                                                                      c_drive_timestamp_start  \\\n",
       "c_van17                                            c_driveid                                    \n",
       "AAI++FbFvGFjTRtS+sYQxbLNvUQn4kc+hsP0LGI6S3ve484... XDVU1W32WZQ9VWHLM                       19   \n",
       "AAI+26A37RgahMuzcWes4C9Hv4JkH1vGrsUmlWEPfY8bd9a... 15C7XN9MTXQ7ZR8NE                       16   \n",
       "AAI+7mTyMJjfnMPfU+XvKO3HHyzmfBes7caWhgEJJPgkRsF... NBMCRAN0THQGPEEKS                       16   \n",
       "AAI+DfQDiYeMURNBU0dTogguwdbaJBBx9EjUlbwLTZj+MP8... 95F7ERPUHLQG32GTG                       15   \n",
       "AAI+IitPzy4O25EL9NovKdeUbMX1oA/VG1v0k9Rno9243ar... UGTNSP6PXFQYXJEED                       31   \n",
       "...                                                                                       ...   \n",
       "AAPztGrxkOpS+Y4Muorqm7CIMpCl3qnQxwznZid4GYd90jn... T0WM5S4ZB4QFGY21F                       19   \n",
       "AAPzwJ1qR2Nw+u1zXpqT9uoVf23PFzBqIMvj9hab1cxL1Yi... TE2PZ4SAZ1QGTLG21                       17   \n",
       "AAPzxgn9sTmYGgR6BVwE4m1001qPY6aWsytuHqe4BrN9MdY... MNEVLT311HQ09KTCT                       27   \n",
       "AAPzybKsRS1W9u+YhS2OQ6IQlMeL9OuHdoqMqcj5s4I+iUl... CXXPJ0PCU7QMB6KWZ                       15   \n",
       "AAPzycAds1sLPV/CTFu7TIjlqV/n2hcfI5jtTPIfVEpuGQO... RKB8X2YW8ZQHJXWH7                       15   \n",
       "\n",
       "                                                                      c_drive_timestamp_stop  \\\n",
       "c_van17                                            c_driveid                                   \n",
       "AAI++FbFvGFjTRtS+sYQxbLNvUQn4kc+hsP0LGI6S3ve484... XDVU1W32WZQ9VWHLM                      19   \n",
       "AAI+26A37RgahMuzcWes4C9Hv4JkH1vGrsUmlWEPfY8bd9a... 15C7XN9MTXQ7ZR8NE                      16   \n",
       "AAI+7mTyMJjfnMPfU+XvKO3HHyzmfBes7caWhgEJJPgkRsF... NBMCRAN0THQGPEEKS                      16   \n",
       "AAI+DfQDiYeMURNBU0dTogguwdbaJBBx9EjUlbwLTZj+MP8... 95F7ERPUHLQG32GTG                      15   \n",
       "AAI+IitPzy4O25EL9NovKdeUbMX1oA/VG1v0k9Rno9243ar... UGTNSP6PXFQYXJEED                      31   \n",
       "...                                                                                      ...   \n",
       "AAPztGrxkOpS+Y4Muorqm7CIMpCl3qnQxwznZid4GYd90jn... T0WM5S4ZB4QFGY21F                      19   \n",
       "AAPzwJ1qR2Nw+u1zXpqT9uoVf23PFzBqIMvj9hab1cxL1Yi... TE2PZ4SAZ1QGTLG21                      17   \n",
       "AAPzxgn9sTmYGgR6BVwE4m1001qPY6aWsytuHqe4BrN9MdY... MNEVLT311HQ09KTCT                      27   \n",
       "AAPzybKsRS1W9u+YhS2OQ6IQlMeL9OuHdoqMqcj5s4I+iUl... CXXPJ0PCU7QMB6KWZ                      15   \n",
       "AAPzycAds1sLPV/CTFu7TIjlqV/n2hcfI5jtTPIfVEpuGQO... RKB8X2YW8ZQHJXWH7                      15   \n",
       "\n",
       "                                                                      c_msg_creation_timestamp  \\\n",
       "c_van17                                            c_driveid                                     \n",
       "AAI++FbFvGFjTRtS+sYQxbLNvUQn4kc+hsP0LGI6S3ve484... XDVU1W32WZQ9VWHLM                        19   \n",
       "AAI+26A37RgahMuzcWes4C9Hv4JkH1vGrsUmlWEPfY8bd9a... 15C7XN9MTXQ7ZR8NE                        16   \n",
       "AAI+7mTyMJjfnMPfU+XvKO3HHyzmfBes7caWhgEJJPgkRsF... NBMCRAN0THQGPEEKS                        16   \n",
       "AAI+DfQDiYeMURNBU0dTogguwdbaJBBx9EjUlbwLTZj+MP8... 95F7ERPUHLQG32GTG                        15   \n",
       "AAI+IitPzy4O25EL9NovKdeUbMX1oA/VG1v0k9Rno9243ar... UGTNSP6PXFQYXJEED                        31   \n",
       "...                                                                                        ...   \n",
       "AAPztGrxkOpS+Y4Muorqm7CIMpCl3qnQxwznZid4GYd90jn... T0WM5S4ZB4QFGY21F                        19   \n",
       "AAPzwJ1qR2Nw+u1zXpqT9uoVf23PFzBqIMvj9hab1cxL1Yi... TE2PZ4SAZ1QGTLG21                        17   \n",
       "AAPzxgn9sTmYGgR6BVwE4m1001qPY6aWsytuHqe4BrN9MdY... MNEVLT311HQ09KTCT                        27   \n",
       "AAPzybKsRS1W9u+YhS2OQ6IQlMeL9OuHdoqMqcj5s4I+iUl... CXXPJ0PCU7QMB6KWZ                        15   \n",
       "AAPzycAds1sLPV/CTFu7TIjlqV/n2hcfI5jtTPIfVEpuGQO... RKB8X2YW8ZQHJXWH7                        15   \n",
       "\n",
       "                                                                      c_target_temp  \\\n",
       "c_van17                                            c_driveid                          \n",
       "AAI++FbFvGFjTRtS+sYQxbLNvUQn4kc+hsP0LGI6S3ve484... XDVU1W32WZQ9VWHLM             19   \n",
       "AAI+26A37RgahMuzcWes4C9Hv4JkH1vGrsUmlWEPfY8bd9a... 15C7XN9MTXQ7ZR8NE             16   \n",
       "AAI+7mTyMJjfnMPfU+XvKO3HHyzmfBes7caWhgEJJPgkRsF... NBMCRAN0THQGPEEKS             16   \n",
       "AAI+DfQDiYeMURNBU0dTogguwdbaJBBx9EjUlbwLTZj+MP8... 95F7ERPUHLQG32GTG             15   \n",
       "AAI+IitPzy4O25EL9NovKdeUbMX1oA/VG1v0k9Rno9243ar... UGTNSP6PXFQYXJEED             31   \n",
       "...                                                                             ...   \n",
       "AAPztGrxkOpS+Y4Muorqm7CIMpCl3qnQxwznZid4GYd90jn... T0WM5S4ZB4QFGY21F             19   \n",
       "AAPzwJ1qR2Nw+u1zXpqT9uoVf23PFzBqIMvj9hab1cxL1Yi... TE2PZ4SAZ1QGTLG21             17   \n",
       "AAPzxgn9sTmYGgR6BVwE4m1001qPY6aWsytuHqe4BrN9MdY... MNEVLT311HQ09KTCT             27   \n",
       "AAPzybKsRS1W9u+YhS2OQ6IQlMeL9OuHdoqMqcj5s4I+iUl... CXXPJ0PCU7QMB6KWZ             15   \n",
       "AAPzycAds1sLPV/CTFu7TIjlqV/n2hcfI5jtTPIfVEpuGQO... RKB8X2YW8ZQHJXWH7             15   \n",
       "\n",
       "                                                                      c_blower_combined  \\\n",
       "c_van17                                            c_driveid                              \n",
       "AAI++FbFvGFjTRtS+sYQxbLNvUQn4kc+hsP0LGI6S3ve484... XDVU1W32WZQ9VWHLM                 19   \n",
       "AAI+26A37RgahMuzcWes4C9Hv4JkH1vGrsUmlWEPfY8bd9a... 15C7XN9MTXQ7ZR8NE                 16   \n",
       "AAI+7mTyMJjfnMPfU+XvKO3HHyzmfBes7caWhgEJJPgkRsF... NBMCRAN0THQGPEEKS                 16   \n",
       "AAI+DfQDiYeMURNBU0dTogguwdbaJBBx9EjUlbwLTZj+MP8... 95F7ERPUHLQG32GTG                 15   \n",
       "AAI+IitPzy4O25EL9NovKdeUbMX1oA/VG1v0k9Rno9243ar... UGTNSP6PXFQYXJEED                 31   \n",
       "...                                                                                 ...   \n",
       "AAPztGrxkOpS+Y4Muorqm7CIMpCl3qnQxwznZid4GYd90jn... T0WM5S4ZB4QFGY21F                 19   \n",
       "AAPzwJ1qR2Nw+u1zXpqT9uoVf23PFzBqIMvj9hab1cxL1Yi... TE2PZ4SAZ1QGTLG21                 17   \n",
       "AAPzxgn9sTmYGgR6BVwE4m1001qPY6aWsytuHqe4BrN9MdY... MNEVLT311HQ09KTCT                 27   \n",
       "AAPzybKsRS1W9u+YhS2OQ6IQlMeL9OuHdoqMqcj5s4I+iUl... CXXPJ0PCU7QMB6KWZ                 15   \n",
       "AAPzycAds1sLPV/CTFu7TIjlqV/n2hcfI5jtTPIfVEpuGQO... RKB8X2YW8ZQHJXWH7                 15   \n",
       "\n",
       "                                                                      c_air_mode_combined  \\\n",
       "c_van17                                            c_driveid                                \n",
       "AAI++FbFvGFjTRtS+sYQxbLNvUQn4kc+hsP0LGI6S3ve484... XDVU1W32WZQ9VWHLM                   19   \n",
       "AAI+26A37RgahMuzcWes4C9Hv4JkH1vGrsUmlWEPfY8bd9a... 15C7XN9MTXQ7ZR8NE                   16   \n",
       "AAI+7mTyMJjfnMPfU+XvKO3HHyzmfBes7caWhgEJJPgkRsF... NBMCRAN0THQGPEEKS                   16   \n",
       "AAI+DfQDiYeMURNBU0dTogguwdbaJBBx9EjUlbwLTZj+MP8... 95F7ERPUHLQG32GTG                   15   \n",
       "AAI+IitPzy4O25EL9NovKdeUbMX1oA/VG1v0k9Rno9243ar... UGTNSP6PXFQYXJEED                   31   \n",
       "...                                                                                   ...   \n",
       "AAPztGrxkOpS+Y4Muorqm7CIMpCl3qnQxwznZid4GYd90jn... T0WM5S4ZB4QFGY21F                   19   \n",
       "AAPzwJ1qR2Nw+u1zXpqT9uoVf23PFzBqIMvj9hab1cxL1Yi... TE2PZ4SAZ1QGTLG21                   17   \n",
       "AAPzxgn9sTmYGgR6BVwE4m1001qPY6aWsytuHqe4BrN9MdY... MNEVLT311HQ09KTCT                   27   \n",
       "AAPzybKsRS1W9u+YhS2OQ6IQlMeL9OuHdoqMqcj5s4I+iUl... CXXPJ0PCU7QMB6KWZ                   15   \n",
       "AAPzycAds1sLPV/CTFu7TIjlqV/n2hcfI5jtTPIfVEpuGQO... RKB8X2YW8ZQHJXWH7                   15   \n",
       "\n",
       "                                                                      c_blower_level  \\\n",
       "c_van17                                            c_driveid                           \n",
       "AAI++FbFvGFjTRtS+sYQxbLNvUQn4kc+hsP0LGI6S3ve484... XDVU1W32WZQ9VWHLM              19   \n",
       "AAI+26A37RgahMuzcWes4C9Hv4JkH1vGrsUmlWEPfY8bd9a... 15C7XN9MTXQ7ZR8NE              16   \n",
       "AAI+7mTyMJjfnMPfU+XvKO3HHyzmfBes7caWhgEJJPgkRsF... NBMCRAN0THQGPEEKS              16   \n",
       "AAI+DfQDiYeMURNBU0dTogguwdbaJBBx9EjUlbwLTZj+MP8... 95F7ERPUHLQG32GTG              15   \n",
       "AAI+IitPzy4O25EL9NovKdeUbMX1oA/VG1v0k9Rno9243ar... UGTNSP6PXFQYXJEED              31   \n",
       "...                                                                              ...   \n",
       "AAPztGrxkOpS+Y4Muorqm7CIMpCl3qnQxwznZid4GYd90jn... T0WM5S4ZB4QFGY21F              19   \n",
       "AAPzwJ1qR2Nw+u1zXpqT9uoVf23PFzBqIMvj9hab1cxL1Yi... TE2PZ4SAZ1QGTLG21              17   \n",
       "AAPzxgn9sTmYGgR6BVwE4m1001qPY6aWsytuHqe4BrN9MdY... MNEVLT311HQ09KTCT              27   \n",
       "AAPzybKsRS1W9u+YhS2OQ6IQlMeL9OuHdoqMqcj5s4I+iUl... CXXPJ0PCU7QMB6KWZ              15   \n",
       "AAPzycAds1sLPV/CTFu7TIjlqV/n2hcfI5jtTPIfVEpuGQO... RKB8X2YW8ZQHJXWH7              15   \n",
       "\n",
       "                                                                      c_min_diff_ms_blower_level  \\\n",
       "c_van17                                            c_driveid                                       \n",
       "AAI++FbFvGFjTRtS+sYQxbLNvUQn4kc+hsP0LGI6S3ve484... XDVU1W32WZQ9VWHLM                          19   \n",
       "AAI+26A37RgahMuzcWes4C9Hv4JkH1vGrsUmlWEPfY8bd9a... 15C7XN9MTXQ7ZR8NE                          16   \n",
       "AAI+7mTyMJjfnMPfU+XvKO3HHyzmfBes7caWhgEJJPgkRsF... NBMCRAN0THQGPEEKS                          16   \n",
       "AAI+DfQDiYeMURNBU0dTogguwdbaJBBx9EjUlbwLTZj+MP8... 95F7ERPUHLQG32GTG                          15   \n",
       "AAI+IitPzy4O25EL9NovKdeUbMX1oA/VG1v0k9Rno9243ar... UGTNSP6PXFQYXJEED                          31   \n",
       "...                                                                                          ...   \n",
       "AAPztGrxkOpS+Y4Muorqm7CIMpCl3qnQxwznZid4GYd90jn... T0WM5S4ZB4QFGY21F                          19   \n",
       "AAPzwJ1qR2Nw+u1zXpqT9uoVf23PFzBqIMvj9hab1cxL1Yi... TE2PZ4SAZ1QGTLG21                          17   \n",
       "AAPzxgn9sTmYGgR6BVwE4m1001qPY6aWsytuHqe4BrN9MdY... MNEVLT311HQ09KTCT                          27   \n",
       "AAPzybKsRS1W9u+YhS2OQ6IQlMeL9OuHdoqMqcj5s4I+iUl... CXXPJ0PCU7QMB6KWZ                          15   \n",
       "AAPzycAds1sLPV/CTFu7TIjlqV/n2hcfI5jtTPIfVEpuGQO... RKB8X2YW8ZQHJXWH7                          15   \n",
       "\n",
       "                                                                      c_blower_style  \\\n",
       "c_van17                                            c_driveid                           \n",
       "AAI++FbFvGFjTRtS+sYQxbLNvUQn4kc+hsP0LGI6S3ve484... XDVU1W32WZQ9VWHLM              19   \n",
       "AAI+26A37RgahMuzcWes4C9Hv4JkH1vGrsUmlWEPfY8bd9a... 15C7XN9MTXQ7ZR8NE              16   \n",
       "AAI+7mTyMJjfnMPfU+XvKO3HHyzmfBes7caWhgEJJPgkRsF... NBMCRAN0THQGPEEKS              16   \n",
       "AAI+DfQDiYeMURNBU0dTogguwdbaJBBx9EjUlbwLTZj+MP8... 95F7ERPUHLQG32GTG              15   \n",
       "AAI+IitPzy4O25EL9NovKdeUbMX1oA/VG1v0k9Rno9243ar... UGTNSP6PXFQYXJEED              31   \n",
       "...                                                                              ...   \n",
       "AAPztGrxkOpS+Y4Muorqm7CIMpCl3qnQxwznZid4GYd90jn... T0WM5S4ZB4QFGY21F              19   \n",
       "AAPzwJ1qR2Nw+u1zXpqT9uoVf23PFzBqIMvj9hab1cxL1Yi... TE2PZ4SAZ1QGTLG21              17   \n",
       "AAPzxgn9sTmYGgR6BVwE4m1001qPY6aWsytuHqe4BrN9MdY... MNEVLT311HQ09KTCT              27   \n",
       "AAPzybKsRS1W9u+YhS2OQ6IQlMeL9OuHdoqMqcj5s4I+iUl... CXXPJ0PCU7QMB6KWZ              15   \n",
       "AAPzycAds1sLPV/CTFu7TIjlqV/n2hcfI5jtTPIfVEpuGQO... RKB8X2YW8ZQHJXWH7              15   \n",
       "\n",
       "                                                                      c_min_diff_ms_blower_style  \\\n",
       "c_van17                                            c_driveid                                       \n",
       "AAI++FbFvGFjTRtS+sYQxbLNvUQn4kc+hsP0LGI6S3ve484... XDVU1W32WZQ9VWHLM                          19   \n",
       "AAI+26A37RgahMuzcWes4C9Hv4JkH1vGrsUmlWEPfY8bd9a... 15C7XN9MTXQ7ZR8NE                          16   \n",
       "AAI+7mTyMJjfnMPfU+XvKO3HHyzmfBes7caWhgEJJPgkRsF... NBMCRAN0THQGPEEKS                          16   \n",
       "AAI+DfQDiYeMURNBU0dTogguwdbaJBBx9EjUlbwLTZj+MP8... 95F7ERPUHLQG32GTG                          15   \n",
       "AAI+IitPzy4O25EL9NovKdeUbMX1oA/VG1v0k9Rno9243ar... UGTNSP6PXFQYXJEED                          31   \n",
       "...                                                                                          ...   \n",
       "AAPztGrxkOpS+Y4Muorqm7CIMpCl3qnQxwznZid4GYd90jn... T0WM5S4ZB4QFGY21F                          19   \n",
       "AAPzwJ1qR2Nw+u1zXpqT9uoVf23PFzBqIMvj9hab1cxL1Yi... TE2PZ4SAZ1QGTLG21                          17   \n",
       "AAPzxgn9sTmYGgR6BVwE4m1001qPY6aWsytuHqe4BrN9MdY... MNEVLT311HQ09KTCT                          27   \n",
       "AAPzybKsRS1W9u+YhS2OQ6IQlMeL9OuHdoqMqcj5s4I+iUl... CXXPJ0PCU7QMB6KWZ                          15   \n",
       "AAPzycAds1sLPV/CTFu7TIjlqV/n2hcfI5jtTPIfVEpuGQO... RKB8X2YW8ZQHJXWH7                          15   \n",
       "\n",
       "                                                                      c_air_dist  \\\n",
       "c_van17                                            c_driveid                       \n",
       "AAI++FbFvGFjTRtS+sYQxbLNvUQn4kc+hsP0LGI6S3ve484... XDVU1W32WZQ9VWHLM          19   \n",
       "AAI+26A37RgahMuzcWes4C9Hv4JkH1vGrsUmlWEPfY8bd9a... 15C7XN9MTXQ7ZR8NE          16   \n",
       "AAI+7mTyMJjfnMPfU+XvKO3HHyzmfBes7caWhgEJJPgkRsF... NBMCRAN0THQGPEEKS          16   \n",
       "AAI+DfQDiYeMURNBU0dTogguwdbaJBBx9EjUlbwLTZj+MP8... 95F7ERPUHLQG32GTG          15   \n",
       "AAI+IitPzy4O25EL9NovKdeUbMX1oA/VG1v0k9Rno9243ar... UGTNSP6PXFQYXJEED          31   \n",
       "...                                                                          ...   \n",
       "AAPztGrxkOpS+Y4Muorqm7CIMpCl3qnQxwznZid4GYd90jn... T0WM5S4ZB4QFGY21F          19   \n",
       "AAPzwJ1qR2Nw+u1zXpqT9uoVf23PFzBqIMvj9hab1cxL1Yi... TE2PZ4SAZ1QGTLG21          17   \n",
       "AAPzxgn9sTmYGgR6BVwE4m1001qPY6aWsytuHqe4BrN9MdY... MNEVLT311HQ09KTCT          27   \n",
       "AAPzybKsRS1W9u+YhS2OQ6IQlMeL9OuHdoqMqcj5s4I+iUl... CXXPJ0PCU7QMB6KWZ          15   \n",
       "AAPzycAds1sLPV/CTFu7TIjlqV/n2hcfI5jtTPIfVEpuGQO... RKB8X2YW8ZQHJXWH7          15   \n",
       "\n",
       "                                                                      c_min_diff_ms_air_dist  \\\n",
       "c_van17                                            c_driveid                                   \n",
       "AAI++FbFvGFjTRtS+sYQxbLNvUQn4kc+hsP0LGI6S3ve484... XDVU1W32WZQ9VWHLM                      19   \n",
       "AAI+26A37RgahMuzcWes4C9Hv4JkH1vGrsUmlWEPfY8bd9a... 15C7XN9MTXQ7ZR8NE                      16   \n",
       "AAI+7mTyMJjfnMPfU+XvKO3HHyzmfBes7caWhgEJJPgkRsF... NBMCRAN0THQGPEEKS                      16   \n",
       "AAI+DfQDiYeMURNBU0dTogguwdbaJBBx9EjUlbwLTZj+MP8... 95F7ERPUHLQG32GTG                      15   \n",
       "AAI+IitPzy4O25EL9NovKdeUbMX1oA/VG1v0k9Rno9243ar... UGTNSP6PXFQYXJEED                      31   \n",
       "...                                                                                      ...   \n",
       "AAPztGrxkOpS+Y4Muorqm7CIMpCl3qnQxwznZid4GYd90jn... T0WM5S4ZB4QFGY21F                      19   \n",
       "AAPzwJ1qR2Nw+u1zXpqT9uoVf23PFzBqIMvj9hab1cxL1Yi... TE2PZ4SAZ1QGTLG21                      17   \n",
       "AAPzxgn9sTmYGgR6BVwE4m1001qPY6aWsytuHqe4BrN9MdY... MNEVLT311HQ09KTCT                      27   \n",
       "AAPzybKsRS1W9u+YhS2OQ6IQlMeL9OuHdoqMqcj5s4I+iUl... CXXPJ0PCU7QMB6KWZ                      15   \n",
       "AAPzycAds1sLPV/CTFu7TIjlqV/n2hcfI5jtTPIfVEpuGQO... RKB8X2YW8ZQHJXWH7                      15   \n",
       "\n",
       "                                                                      c_auto_mode  \\\n",
       "c_van17                                            c_driveid                        \n",
       "AAI++FbFvGFjTRtS+sYQxbLNvUQn4kc+hsP0LGI6S3ve484... XDVU1W32WZQ9VWHLM           19   \n",
       "AAI+26A37RgahMuzcWes4C9Hv4JkH1vGrsUmlWEPfY8bd9a... 15C7XN9MTXQ7ZR8NE           16   \n",
       "AAI+7mTyMJjfnMPfU+XvKO3HHyzmfBes7caWhgEJJPgkRsF... NBMCRAN0THQGPEEKS           16   \n",
       "AAI+DfQDiYeMURNBU0dTogguwdbaJBBx9EjUlbwLTZj+MP8... 95F7ERPUHLQG32GTG           15   \n",
       "AAI+IitPzy4O25EL9NovKdeUbMX1oA/VG1v0k9Rno9243ar... UGTNSP6PXFQYXJEED           31   \n",
       "...                                                                           ...   \n",
       "AAPztGrxkOpS+Y4Muorqm7CIMpCl3qnQxwznZid4GYd90jn... T0WM5S4ZB4QFGY21F           19   \n",
       "AAPzwJ1qR2Nw+u1zXpqT9uoVf23PFzBqIMvj9hab1cxL1Yi... TE2PZ4SAZ1QGTLG21           17   \n",
       "AAPzxgn9sTmYGgR6BVwE4m1001qPY6aWsytuHqe4BrN9MdY... MNEVLT311HQ09KTCT           27   \n",
       "AAPzybKsRS1W9u+YhS2OQ6IQlMeL9OuHdoqMqcj5s4I+iUl... CXXPJ0PCU7QMB6KWZ           15   \n",
       "AAPzycAds1sLPV/CTFu7TIjlqV/n2hcfI5jtTPIfVEpuGQO... RKB8X2YW8ZQHJXWH7           15   \n",
       "\n",
       "                                                                      c_min_diff_ms_auto_mode  \\\n",
       "c_van17                                            c_driveid                                    \n",
       "AAI++FbFvGFjTRtS+sYQxbLNvUQn4kc+hsP0LGI6S3ve484... XDVU1W32WZQ9VWHLM                       19   \n",
       "AAI+26A37RgahMuzcWes4C9Hv4JkH1vGrsUmlWEPfY8bd9a... 15C7XN9MTXQ7ZR8NE                       16   \n",
       "AAI+7mTyMJjfnMPfU+XvKO3HHyzmfBes7caWhgEJJPgkRsF... NBMCRAN0THQGPEEKS                       16   \n",
       "AAI+DfQDiYeMURNBU0dTogguwdbaJBBx9EjUlbwLTZj+MP8... 95F7ERPUHLQG32GTG                       15   \n",
       "AAI+IitPzy4O25EL9NovKdeUbMX1oA/VG1v0k9Rno9243ar... UGTNSP6PXFQYXJEED                       31   \n",
       "...                                                                                       ...   \n",
       "AAPztGrxkOpS+Y4Muorqm7CIMpCl3qnQxwznZid4GYd90jn... T0WM5S4ZB4QFGY21F                       19   \n",
       "AAPzwJ1qR2Nw+u1zXpqT9uoVf23PFzBqIMvj9hab1cxL1Yi... TE2PZ4SAZ1QGTLG21                       17   \n",
       "AAPzxgn9sTmYGgR6BVwE4m1001qPY6aWsytuHqe4BrN9MdY... MNEVLT311HQ09KTCT                       27   \n",
       "AAPzybKsRS1W9u+YhS2OQ6IQlMeL9OuHdoqMqcj5s4I+iUl... CXXPJ0PCU7QMB6KWZ                       15   \n",
       "AAPzycAds1sLPV/CTFu7TIjlqV/n2hcfI5jtTPIfVEpuGQO... RKB8X2YW8ZQHJXWH7                       15   \n",
       "\n",
       "                                                                      c_pwf  \\\n",
       "c_van17                                            c_driveid                  \n",
       "AAI++FbFvGFjTRtS+sYQxbLNvUQn4kc+hsP0LGI6S3ve484... XDVU1W32WZQ9VWHLM     19   \n",
       "AAI+26A37RgahMuzcWes4C9Hv4JkH1vGrsUmlWEPfY8bd9a... 15C7XN9MTXQ7ZR8NE     16   \n",
       "AAI+7mTyMJjfnMPfU+XvKO3HHyzmfBes7caWhgEJJPgkRsF... NBMCRAN0THQGPEEKS     16   \n",
       "AAI+DfQDiYeMURNBU0dTogguwdbaJBBx9EjUlbwLTZj+MP8... 95F7ERPUHLQG32GTG     15   \n",
       "AAI+IitPzy4O25EL9NovKdeUbMX1oA/VG1v0k9Rno9243ar... UGTNSP6PXFQYXJEED     31   \n",
       "...                                                                     ...   \n",
       "AAPztGrxkOpS+Y4Muorqm7CIMpCl3qnQxwznZid4GYd90jn... T0WM5S4ZB4QFGY21F     19   \n",
       "AAPzwJ1qR2Nw+u1zXpqT9uoVf23PFzBqIMvj9hab1cxL1Yi... TE2PZ4SAZ1QGTLG21     17   \n",
       "AAPzxgn9sTmYGgR6BVwE4m1001qPY6aWsytuHqe4BrN9MdY... MNEVLT311HQ09KTCT     27   \n",
       "AAPzybKsRS1W9u+YhS2OQ6IQlMeL9OuHdoqMqcj5s4I+iUl... CXXPJ0PCU7QMB6KWZ     15   \n",
       "AAPzycAds1sLPV/CTFu7TIjlqV/n2hcfI5jtTPIfVEpuGQO... RKB8X2YW8ZQHJXWH7     15   \n",
       "\n",
       "                                                                      c_pwf_group  \\\n",
       "c_van17                                            c_driveid                        \n",
       "AAI++FbFvGFjTRtS+sYQxbLNvUQn4kc+hsP0LGI6S3ve484... XDVU1W32WZQ9VWHLM           19   \n",
       "AAI+26A37RgahMuzcWes4C9Hv4JkH1vGrsUmlWEPfY8bd9a... 15C7XN9MTXQ7ZR8NE           16   \n",
       "AAI+7mTyMJjfnMPfU+XvKO3HHyzmfBes7caWhgEJJPgkRsF... NBMCRAN0THQGPEEKS           16   \n",
       "AAI+DfQDiYeMURNBU0dTogguwdbaJBBx9EjUlbwLTZj+MP8... 95F7ERPUHLQG32GTG           15   \n",
       "AAI+IitPzy4O25EL9NovKdeUbMX1oA/VG1v0k9Rno9243ar... UGTNSP6PXFQYXJEED           31   \n",
       "...                                                                           ...   \n",
       "AAPztGrxkOpS+Y4Muorqm7CIMpCl3qnQxwznZid4GYd90jn... T0WM5S4ZB4QFGY21F           19   \n",
       "AAPzwJ1qR2Nw+u1zXpqT9uoVf23PFzBqIMvj9hab1cxL1Yi... TE2PZ4SAZ1QGTLG21           17   \n",
       "AAPzxgn9sTmYGgR6BVwE4m1001qPY6aWsytuHqe4BrN9MdY... MNEVLT311HQ09KTCT           27   \n",
       "AAPzybKsRS1W9u+YhS2OQ6IQlMeL9OuHdoqMqcj5s4I+iUl... CXXPJ0PCU7QMB6KWZ           15   \n",
       "AAPzycAds1sLPV/CTFu7TIjlqV/n2hcfI5jtTPIfVEpuGQO... RKB8X2YW8ZQHJXWH7           15   \n",
       "\n",
       "                                                                      c_row_number_drive  \\\n",
       "c_van17                                            c_driveid                               \n",
       "AAI++FbFvGFjTRtS+sYQxbLNvUQn4kc+hsP0LGI6S3ve484... XDVU1W32WZQ9VWHLM                  19   \n",
       "AAI+26A37RgahMuzcWes4C9Hv4JkH1vGrsUmlWEPfY8bd9a... 15C7XN9MTXQ7ZR8NE                  16   \n",
       "AAI+7mTyMJjfnMPfU+XvKO3HHyzmfBes7caWhgEJJPgkRsF... NBMCRAN0THQGPEEKS                  16   \n",
       "AAI+DfQDiYeMURNBU0dTogguwdbaJBBx9EjUlbwLTZj+MP8... 95F7ERPUHLQG32GTG                  15   \n",
       "AAI+IitPzy4O25EL9NovKdeUbMX1oA/VG1v0k9Rno9243ar... UGTNSP6PXFQYXJEED                  31   \n",
       "...                                                                                  ...   \n",
       "AAPztGrxkOpS+Y4Muorqm7CIMpCl3qnQxwznZid4GYd90jn... T0WM5S4ZB4QFGY21F                  19   \n",
       "AAPzwJ1qR2Nw+u1zXpqT9uoVf23PFzBqIMvj9hab1cxL1Yi... TE2PZ4SAZ1QGTLG21                  17   \n",
       "AAPzxgn9sTmYGgR6BVwE4m1001qPY6aWsytuHqe4BrN9MdY... MNEVLT311HQ09KTCT                  27   \n",
       "AAPzybKsRS1W9u+YhS2OQ6IQlMeL9OuHdoqMqcj5s4I+iUl... CXXPJ0PCU7QMB6KWZ                  15   \n",
       "AAPzycAds1sLPV/CTFu7TIjlqV/n2hcfI5jtTPIfVEpuGQO... RKB8X2YW8ZQHJXWH7                  15   \n",
       "\n",
       "                                                                      c_number_of_rows_drive  \\\n",
       "c_van17                                            c_driveid                                   \n",
       "AAI++FbFvGFjTRtS+sYQxbLNvUQn4kc+hsP0LGI6S3ve484... XDVU1W32WZQ9VWHLM                      19   \n",
       "AAI+26A37RgahMuzcWes4C9Hv4JkH1vGrsUmlWEPfY8bd9a... 15C7XN9MTXQ7ZR8NE                      16   \n",
       "AAI+7mTyMJjfnMPfU+XvKO3HHyzmfBes7caWhgEJJPgkRsF... NBMCRAN0THQGPEEKS                      16   \n",
       "AAI+DfQDiYeMURNBU0dTogguwdbaJBBx9EjUlbwLTZj+MP8... 95F7ERPUHLQG32GTG                      15   \n",
       "AAI+IitPzy4O25EL9NovKdeUbMX1oA/VG1v0k9Rno9243ar... UGTNSP6PXFQYXJEED                      31   \n",
       "...                                                                                      ...   \n",
       "AAPztGrxkOpS+Y4Muorqm7CIMpCl3qnQxwznZid4GYd90jn... T0WM5S4ZB4QFGY21F                      19   \n",
       "AAPzwJ1qR2Nw+u1zXpqT9uoVf23PFzBqIMvj9hab1cxL1Yi... TE2PZ4SAZ1QGTLG21                      17   \n",
       "AAPzxgn9sTmYGgR6BVwE4m1001qPY6aWsytuHqe4BrN9MdY... MNEVLT311HQ09KTCT                      27   \n",
       "AAPzybKsRS1W9u+YhS2OQ6IQlMeL9OuHdoqMqcj5s4I+iUl... CXXPJ0PCU7QMB6KWZ                      15   \n",
       "AAPzycAds1sLPV/CTFu7TIjlqV/n2hcfI5jtTPIfVEpuGQO... RKB8X2YW8ZQHJXWH7                      15   \n",
       "\n",
       "                                                                      c_only_driving_duration_sec  \\\n",
       "c_van17                                            c_driveid                                        \n",
       "AAI++FbFvGFjTRtS+sYQxbLNvUQn4kc+hsP0LGI6S3ve484... XDVU1W32WZQ9VWHLM                           19   \n",
       "AAI+26A37RgahMuzcWes4C9Hv4JkH1vGrsUmlWEPfY8bd9a... 15C7XN9MTXQ7ZR8NE                           16   \n",
       "AAI+7mTyMJjfnMPfU+XvKO3HHyzmfBes7caWhgEJJPgkRsF... NBMCRAN0THQGPEEKS                           16   \n",
       "AAI+DfQDiYeMURNBU0dTogguwdbaJBBx9EjUlbwLTZj+MP8... 95F7ERPUHLQG32GTG                           15   \n",
       "AAI+IitPzy4O25EL9NovKdeUbMX1oA/VG1v0k9Rno9243ar... UGTNSP6PXFQYXJEED                           31   \n",
       "...                                                                                           ...   \n",
       "AAPztGrxkOpS+Y4Muorqm7CIMpCl3qnQxwznZid4GYd90jn... T0WM5S4ZB4QFGY21F                           19   \n",
       "AAPzwJ1qR2Nw+u1zXpqT9uoVf23PFzBqIMvj9hab1cxL1Yi... TE2PZ4SAZ1QGTLG21                           17   \n",
       "AAPzxgn9sTmYGgR6BVwE4m1001qPY6aWsytuHqe4BrN9MdY... MNEVLT311HQ09KTCT                           27   \n",
       "AAPzybKsRS1W9u+YhS2OQ6IQlMeL9OuHdoqMqcj5s4I+iUl... CXXPJ0PCU7QMB6KWZ                           15   \n",
       "AAPzycAds1sLPV/CTFu7TIjlqV/n2hcfI5jtTPIfVEpuGQO... RKB8X2YW8ZQHJXWH7                           15   \n",
       "\n",
       "                                                                      c_event_duration_sec  \\\n",
       "c_van17                                            c_driveid                                 \n",
       "AAI++FbFvGFjTRtS+sYQxbLNvUQn4kc+hsP0LGI6S3ve484... XDVU1W32WZQ9VWHLM                    19   \n",
       "AAI+26A37RgahMuzcWes4C9Hv4JkH1vGrsUmlWEPfY8bd9a... 15C7XN9MTXQ7ZR8NE                    16   \n",
       "AAI+7mTyMJjfnMPfU+XvKO3HHyzmfBes7caWhgEJJPgkRsF... NBMCRAN0THQGPEEKS                    16   \n",
       "AAI+DfQDiYeMURNBU0dTogguwdbaJBBx9EjUlbwLTZj+MP8... 95F7ERPUHLQG32GTG                    15   \n",
       "AAI+IitPzy4O25EL9NovKdeUbMX1oA/VG1v0k9Rno9243ar... UGTNSP6PXFQYXJEED                    31   \n",
       "...                                                                                    ...   \n",
       "AAPztGrxkOpS+Y4Muorqm7CIMpCl3qnQxwznZid4GYd90jn... T0WM5S4ZB4QFGY21F                    19   \n",
       "AAPzwJ1qR2Nw+u1zXpqT9uoVf23PFzBqIMvj9hab1cxL1Yi... TE2PZ4SAZ1QGTLG21                    17   \n",
       "AAPzxgn9sTmYGgR6BVwE4m1001qPY6aWsytuHqe4BrN9MdY... MNEVLT311HQ09KTCT                    27   \n",
       "AAPzybKsRS1W9u+YhS2OQ6IQlMeL9OuHdoqMqcj5s4I+iUl... CXXPJ0PCU7QMB6KWZ                    15   \n",
       "AAPzycAds1sLPV/CTFu7TIjlqV/n2hcfI5jtTPIfVEpuGQO... RKB8X2YW8ZQHJXWH7                    15   \n",
       "\n",
       "                                                                      c_min_diff_ms_target_temp  \\\n",
       "c_van17                                            c_driveid                                      \n",
       "AAI++FbFvGFjTRtS+sYQxbLNvUQn4kc+hsP0LGI6S3ve484... XDVU1W32WZQ9VWHLM                         19   \n",
       "AAI+26A37RgahMuzcWes4C9Hv4JkH1vGrsUmlWEPfY8bd9a... 15C7XN9MTXQ7ZR8NE                         16   \n",
       "AAI+7mTyMJjfnMPfU+XvKO3HHyzmfBes7caWhgEJJPgkRsF... NBMCRAN0THQGPEEKS                         16   \n",
       "AAI+DfQDiYeMURNBU0dTogguwdbaJBBx9EjUlbwLTZj+MP8... 95F7ERPUHLQG32GTG                         15   \n",
       "AAI+IitPzy4O25EL9NovKdeUbMX1oA/VG1v0k9Rno9243ar... UGTNSP6PXFQYXJEED                         31   \n",
       "...                                                                                         ...   \n",
       "AAPztGrxkOpS+Y4Muorqm7CIMpCl3qnQxwznZid4GYd90jn... T0WM5S4ZB4QFGY21F                         19   \n",
       "AAPzwJ1qR2Nw+u1zXpqT9uoVf23PFzBqIMvj9hab1cxL1Yi... TE2PZ4SAZ1QGTLG21                         17   \n",
       "AAPzxgn9sTmYGgR6BVwE4m1001qPY6aWsytuHqe4BrN9MdY... MNEVLT311HQ09KTCT                         27   \n",
       "AAPzybKsRS1W9u+YhS2OQ6IQlMeL9OuHdoqMqcj5s4I+iUl... CXXPJ0PCU7QMB6KWZ                         15   \n",
       "AAPzycAds1sLPV/CTFu7TIjlqV/n2hcfI5jtTPIfVEpuGQO... RKB8X2YW8ZQHJXWH7                         15   \n",
       "\n",
       "                                                                      c_min_exteriortemperature_celsius  \\\n",
       "c_van17                                            c_driveid                                              \n",
       "AAI++FbFvGFjTRtS+sYQxbLNvUQn4kc+hsP0LGI6S3ve484... XDVU1W32WZQ9VWHLM                                 19   \n",
       "AAI+26A37RgahMuzcWes4C9Hv4JkH1vGrsUmlWEPfY8bd9a... 15C7XN9MTXQ7ZR8NE                                 16   \n",
       "AAI+7mTyMJjfnMPfU+XvKO3HHyzmfBes7caWhgEJJPgkRsF... NBMCRAN0THQGPEEKS                                 16   \n",
       "AAI+DfQDiYeMURNBU0dTogguwdbaJBBx9EjUlbwLTZj+MP8... 95F7ERPUHLQG32GTG                                 15   \n",
       "AAI+IitPzy4O25EL9NovKdeUbMX1oA/VG1v0k9Rno9243ar... UGTNSP6PXFQYXJEED                                 31   \n",
       "...                                                                                                 ...   \n",
       "AAPztGrxkOpS+Y4Muorqm7CIMpCl3qnQxwznZid4GYd90jn... T0WM5S4ZB4QFGY21F                                 19   \n",
       "AAPzwJ1qR2Nw+u1zXpqT9uoVf23PFzBqIMvj9hab1cxL1Yi... TE2PZ4SAZ1QGTLG21                                 17   \n",
       "AAPzxgn9sTmYGgR6BVwE4m1001qPY6aWsytuHqe4BrN9MdY... MNEVLT311HQ09KTCT                                 27   \n",
       "AAPzybKsRS1W9u+YhS2OQ6IQlMeL9OuHdoqMqcj5s4I+iUl... CXXPJ0PCU7QMB6KWZ                                 15   \n",
       "AAPzycAds1sLPV/CTFu7TIjlqV/n2hcfI5jtTPIfVEpuGQO... RKB8X2YW8ZQHJXWH7                                 15   \n",
       "\n",
       "                                                                      c_exteriortemperature_avg_celsius  \\\n",
       "c_van17                                            c_driveid                                              \n",
       "AAI++FbFvGFjTRtS+sYQxbLNvUQn4kc+hsP0LGI6S3ve484... XDVU1W32WZQ9VWHLM                                 19   \n",
       "AAI+26A37RgahMuzcWes4C9Hv4JkH1vGrsUmlWEPfY8bd9a... 15C7XN9MTXQ7ZR8NE                                 16   \n",
       "AAI+7mTyMJjfnMPfU+XvKO3HHyzmfBes7caWhgEJJPgkRsF... NBMCRAN0THQGPEEKS                                 16   \n",
       "AAI+DfQDiYeMURNBU0dTogguwdbaJBBx9EjUlbwLTZj+MP8... 95F7ERPUHLQG32GTG                                 15   \n",
       "AAI+IitPzy4O25EL9NovKdeUbMX1oA/VG1v0k9Rno9243ar... UGTNSP6PXFQYXJEED                                 31   \n",
       "...                                                                                                 ...   \n",
       "AAPztGrxkOpS+Y4Muorqm7CIMpCl3qnQxwznZid4GYd90jn... T0WM5S4ZB4QFGY21F                                 19   \n",
       "AAPzwJ1qR2Nw+u1zXpqT9uoVf23PFzBqIMvj9hab1cxL1Yi... TE2PZ4SAZ1QGTLG21                                 17   \n",
       "AAPzxgn9sTmYGgR6BVwE4m1001qPY6aWsytuHqe4BrN9MdY... MNEVLT311HQ09KTCT                                 27   \n",
       "AAPzybKsRS1W9u+YhS2OQ6IQlMeL9OuHdoqMqcj5s4I+iUl... CXXPJ0PCU7QMB6KWZ                                 15   \n",
       "AAPzycAds1sLPV/CTFu7TIjlqV/n2hcfI5jtTPIfVEpuGQO... RKB8X2YW8ZQHJXWH7                                 15   \n",
       "\n",
       "                                                                      c_max_exteriortemperature_celsius  \\\n",
       "c_van17                                            c_driveid                                              \n",
       "AAI++FbFvGFjTRtS+sYQxbLNvUQn4kc+hsP0LGI6S3ve484... XDVU1W32WZQ9VWHLM                                 19   \n",
       "AAI+26A37RgahMuzcWes4C9Hv4JkH1vGrsUmlWEPfY8bd9a... 15C7XN9MTXQ7ZR8NE                                 16   \n",
       "AAI+7mTyMJjfnMPfU+XvKO3HHyzmfBes7caWhgEJJPgkRsF... NBMCRAN0THQGPEEKS                                 16   \n",
       "AAI+DfQDiYeMURNBU0dTogguwdbaJBBx9EjUlbwLTZj+MP8... 95F7ERPUHLQG32GTG                                 15   \n",
       "AAI+IitPzy4O25EL9NovKdeUbMX1oA/VG1v0k9Rno9243ar... UGTNSP6PXFQYXJEED                                 31   \n",
       "...                                                                                                 ...   \n",
       "AAPztGrxkOpS+Y4Muorqm7CIMpCl3qnQxwznZid4GYd90jn... T0WM5S4ZB4QFGY21F                                 19   \n",
       "AAPzwJ1qR2Nw+u1zXpqT9uoVf23PFzBqIMvj9hab1cxL1Yi... TE2PZ4SAZ1QGTLG21                                 17   \n",
       "AAPzxgn9sTmYGgR6BVwE4m1001qPY6aWsytuHqe4BrN9MdY... MNEVLT311HQ09KTCT                                 27   \n",
       "AAPzybKsRS1W9u+YhS2OQ6IQlMeL9OuHdoqMqcj5s4I+iUl... CXXPJ0PCU7QMB6KWZ                                 15   \n",
       "AAPzycAds1sLPV/CTFu7TIjlqV/n2hcfI5jtTPIfVEpuGQO... RKB8X2YW8ZQHJXWH7                                 15   \n",
       "\n",
       "                                                                      c_interiortemperature_startup_celsius  \\\n",
       "c_van17                                            c_driveid                                                  \n",
       "AAI++FbFvGFjTRtS+sYQxbLNvUQn4kc+hsP0LGI6S3ve484... XDVU1W32WZQ9VWHLM                                     19   \n",
       "AAI+26A37RgahMuzcWes4C9Hv4JkH1vGrsUmlWEPfY8bd9a... 15C7XN9MTXQ7ZR8NE                                     16   \n",
       "AAI+7mTyMJjfnMPfU+XvKO3HHyzmfBes7caWhgEJJPgkRsF... NBMCRAN0THQGPEEKS                                     16   \n",
       "AAI+DfQDiYeMURNBU0dTogguwdbaJBBx9EjUlbwLTZj+MP8... 95F7ERPUHLQG32GTG                                     15   \n",
       "AAI+IitPzy4O25EL9NovKdeUbMX1oA/VG1v0k9Rno9243ar... UGTNSP6PXFQYXJEED                                     31   \n",
       "...                                                                                                     ...   \n",
       "AAPztGrxkOpS+Y4Muorqm7CIMpCl3qnQxwznZid4GYd90jn... T0WM5S4ZB4QFGY21F                                     19   \n",
       "AAPzwJ1qR2Nw+u1zXpqT9uoVf23PFzBqIMvj9hab1cxL1Yi... TE2PZ4SAZ1QGTLG21                                     17   \n",
       "AAPzxgn9sTmYGgR6BVwE4m1001qPY6aWsytuHqe4BrN9MdY... MNEVLT311HQ09KTCT                                     27   \n",
       "AAPzybKsRS1W9u+YhS2OQ6IQlMeL9OuHdoqMqcj5s4I+iUl... CXXPJ0PCU7QMB6KWZ                                     15   \n",
       "AAPzycAds1sLPV/CTFu7TIjlqV/n2hcfI5jtTPIfVEpuGQO... RKB8X2YW8ZQHJXWH7                                     15   \n",
       "\n",
       "                                                                      c_drive_duration_sec  \\\n",
       "c_van17                                            c_driveid                                 \n",
       "AAI++FbFvGFjTRtS+sYQxbLNvUQn4kc+hsP0LGI6S3ve484... XDVU1W32WZQ9VWHLM                    19   \n",
       "AAI+26A37RgahMuzcWes4C9Hv4JkH1vGrsUmlWEPfY8bd9a... 15C7XN9MTXQ7ZR8NE                    16   \n",
       "AAI+7mTyMJjfnMPfU+XvKO3HHyzmfBes7caWhgEJJPgkRsF... NBMCRAN0THQGPEEKS                    16   \n",
       "AAI+DfQDiYeMURNBU0dTogguwdbaJBBx9EjUlbwLTZj+MP8... 95F7ERPUHLQG32GTG                    15   \n",
       "AAI+IitPzy4O25EL9NovKdeUbMX1oA/VG1v0k9Rno9243ar... UGTNSP6PXFQYXJEED                    31   \n",
       "...                                                                                    ...   \n",
       "AAPztGrxkOpS+Y4Muorqm7CIMpCl3qnQxwznZid4GYd90jn... T0WM5S4ZB4QFGY21F                    19   \n",
       "AAPzwJ1qR2Nw+u1zXpqT9uoVf23PFzBqIMvj9hab1cxL1Yi... TE2PZ4SAZ1QGTLG21                    17   \n",
       "AAPzxgn9sTmYGgR6BVwE4m1001qPY6aWsytuHqe4BrN9MdY... MNEVLT311HQ09KTCT                    27   \n",
       "AAPzybKsRS1W9u+YhS2OQ6IQlMeL9OuHdoqMqcj5s4I+iUl... CXXPJ0PCU7QMB6KWZ                    15   \n",
       "AAPzycAds1sLPV/CTFu7TIjlqV/n2hcfI5jtTPIfVEpuGQO... RKB8X2YW8ZQHJXWH7                    15   \n",
       "\n",
       "                                                                      c_drive_duration_minutes  \\\n",
       "c_van17                                            c_driveid                                     \n",
       "AAI++FbFvGFjTRtS+sYQxbLNvUQn4kc+hsP0LGI6S3ve484... XDVU1W32WZQ9VWHLM                        19   \n",
       "AAI+26A37RgahMuzcWes4C9Hv4JkH1vGrsUmlWEPfY8bd9a... 15C7XN9MTXQ7ZR8NE                        16   \n",
       "AAI+7mTyMJjfnMPfU+XvKO3HHyzmfBes7caWhgEJJPgkRsF... NBMCRAN0THQGPEEKS                        16   \n",
       "AAI+DfQDiYeMURNBU0dTogguwdbaJBBx9EjUlbwLTZj+MP8... 95F7ERPUHLQG32GTG                        15   \n",
       "AAI+IitPzy4O25EL9NovKdeUbMX1oA/VG1v0k9Rno9243ar... UGTNSP6PXFQYXJEED                        31   \n",
       "...                                                                                        ...   \n",
       "AAPztGrxkOpS+Y4Muorqm7CIMpCl3qnQxwznZid4GYd90jn... T0WM5S4ZB4QFGY21F                        19   \n",
       "AAPzwJ1qR2Nw+u1zXpqT9uoVf23PFzBqIMvj9hab1cxL1Yi... TE2PZ4SAZ1QGTLG21                        17   \n",
       "AAPzxgn9sTmYGgR6BVwE4m1001qPY6aWsytuHqe4BrN9MdY... MNEVLT311HQ09KTCT                        27   \n",
       "AAPzybKsRS1W9u+YhS2OQ6IQlMeL9OuHdoqMqcj5s4I+iUl... CXXPJ0PCU7QMB6KWZ                        15   \n",
       "AAPzycAds1sLPV/CTFu7TIjlqV/n2hcfI5jtTPIfVEpuGQO... RKB8X2YW8ZQHJXWH7                        15   \n",
       "\n",
       "                                                                      c_drive_weekday  \\\n",
       "c_van17                                            c_driveid                            \n",
       "AAI++FbFvGFjTRtS+sYQxbLNvUQn4kc+hsP0LGI6S3ve484... XDVU1W32WZQ9VWHLM               19   \n",
       "AAI+26A37RgahMuzcWes4C9Hv4JkH1vGrsUmlWEPfY8bd9a... 15C7XN9MTXQ7ZR8NE               16   \n",
       "AAI+7mTyMJjfnMPfU+XvKO3HHyzmfBes7caWhgEJJPgkRsF... NBMCRAN0THQGPEEKS               16   \n",
       "AAI+DfQDiYeMURNBU0dTogguwdbaJBBx9EjUlbwLTZj+MP8... 95F7ERPUHLQG32GTG               15   \n",
       "AAI+IitPzy4O25EL9NovKdeUbMX1oA/VG1v0k9Rno9243ar... UGTNSP6PXFQYXJEED               31   \n",
       "...                                                                               ...   \n",
       "AAPztGrxkOpS+Y4Muorqm7CIMpCl3qnQxwznZid4GYd90jn... T0WM5S4ZB4QFGY21F               19   \n",
       "AAPzwJ1qR2Nw+u1zXpqT9uoVf23PFzBqIMvj9hab1cxL1Yi... TE2PZ4SAZ1QGTLG21               17   \n",
       "AAPzxgn9sTmYGgR6BVwE4m1001qPY6aWsytuHqe4BrN9MdY... MNEVLT311HQ09KTCT               27   \n",
       "AAPzybKsRS1W9u+YhS2OQ6IQlMeL9OuHdoqMqcj5s4I+iUl... CXXPJ0PCU7QMB6KWZ               15   \n",
       "AAPzycAds1sLPV/CTFu7TIjlqV/n2hcfI5jtTPIfVEpuGQO... RKB8X2YW8ZQHJXWH7               15   \n",
       "\n",
       "                                                                      c_year_month_day  \\\n",
       "c_van17                                            c_driveid                             \n",
       "AAI++FbFvGFjTRtS+sYQxbLNvUQn4kc+hsP0LGI6S3ve484... XDVU1W32WZQ9VWHLM                19   \n",
       "AAI+26A37RgahMuzcWes4C9Hv4JkH1vGrsUmlWEPfY8bd9a... 15C7XN9MTXQ7ZR8NE                16   \n",
       "AAI+7mTyMJjfnMPfU+XvKO3HHyzmfBes7caWhgEJJPgkRsF... NBMCRAN0THQGPEEKS                16   \n",
       "AAI+DfQDiYeMURNBU0dTogguwdbaJBBx9EjUlbwLTZj+MP8... 95F7ERPUHLQG32GTG                15   \n",
       "AAI+IitPzy4O25EL9NovKdeUbMX1oA/VG1v0k9Rno9243ar... UGTNSP6PXFQYXJEED                31   \n",
       "...                                                                                ...   \n",
       "AAPztGrxkOpS+Y4Muorqm7CIMpCl3qnQxwznZid4GYd90jn... T0WM5S4ZB4QFGY21F                19   \n",
       "AAPzwJ1qR2Nw+u1zXpqT9uoVf23PFzBqIMvj9hab1cxL1Yi... TE2PZ4SAZ1QGTLG21                17   \n",
       "AAPzxgn9sTmYGgR6BVwE4m1001qPY6aWsytuHqe4BrN9MdY... MNEVLT311HQ09KTCT                27   \n",
       "AAPzybKsRS1W9u+YhS2OQ6IQlMeL9OuHdoqMqcj5s4I+iUl... CXXPJ0PCU7QMB6KWZ                15   \n",
       "AAPzycAds1sLPV/CTFu7TIjlqV/n2hcfI5jtTPIfVEpuGQO... RKB8X2YW8ZQHJXWH7                15   \n",
       "\n",
       "                                                                      c_weekofyear_year  \\\n",
       "c_van17                                            c_driveid                              \n",
       "AAI++FbFvGFjTRtS+sYQxbLNvUQn4kc+hsP0LGI6S3ve484... XDVU1W32WZQ9VWHLM                 19   \n",
       "AAI+26A37RgahMuzcWes4C9Hv4JkH1vGrsUmlWEPfY8bd9a... 15C7XN9MTXQ7ZR8NE                 16   \n",
       "AAI+7mTyMJjfnMPfU+XvKO3HHyzmfBes7caWhgEJJPgkRsF... NBMCRAN0THQGPEEKS                 16   \n",
       "AAI+DfQDiYeMURNBU0dTogguwdbaJBBx9EjUlbwLTZj+MP8... 95F7ERPUHLQG32GTG                 15   \n",
       "AAI+IitPzy4O25EL9NovKdeUbMX1oA/VG1v0k9Rno9243ar... UGTNSP6PXFQYXJEED                 31   \n",
       "...                                                                                 ...   \n",
       "AAPztGrxkOpS+Y4Muorqm7CIMpCl3qnQxwznZid4GYd90jn... T0WM5S4ZB4QFGY21F                 19   \n",
       "AAPzwJ1qR2Nw+u1zXpqT9uoVf23PFzBqIMvj9hab1cxL1Yi... TE2PZ4SAZ1QGTLG21                 17   \n",
       "AAPzxgn9sTmYGgR6BVwE4m1001qPY6aWsytuHqe4BrN9MdY... MNEVLT311HQ09KTCT                 27   \n",
       "AAPzybKsRS1W9u+YhS2OQ6IQlMeL9OuHdoqMqcj5s4I+iUl... CXXPJ0PCU7QMB6KWZ                 15   \n",
       "AAPzycAds1sLPV/CTFu7TIjlqV/n2hcfI5jtTPIfVEpuGQO... RKB8X2YW8ZQHJXWH7                 15   \n",
       "\n",
       "                                                                      c_weekend_drive  \\\n",
       "c_van17                                            c_driveid                            \n",
       "AAI++FbFvGFjTRtS+sYQxbLNvUQn4kc+hsP0LGI6S3ve484... XDVU1W32WZQ9VWHLM               19   \n",
       "AAI+26A37RgahMuzcWes4C9Hv4JkH1vGrsUmlWEPfY8bd9a... 15C7XN9MTXQ7ZR8NE               16   \n",
       "AAI+7mTyMJjfnMPfU+XvKO3HHyzmfBes7caWhgEJJPgkRsF... NBMCRAN0THQGPEEKS               16   \n",
       "AAI+DfQDiYeMURNBU0dTogguwdbaJBBx9EjUlbwLTZj+MP8... 95F7ERPUHLQG32GTG               15   \n",
       "AAI+IitPzy4O25EL9NovKdeUbMX1oA/VG1v0k9Rno9243ar... UGTNSP6PXFQYXJEED               31   \n",
       "...                                                                               ...   \n",
       "AAPztGrxkOpS+Y4Muorqm7CIMpCl3qnQxwznZid4GYd90jn... T0WM5S4ZB4QFGY21F               19   \n",
       "AAPzwJ1qR2Nw+u1zXpqT9uoVf23PFzBqIMvj9hab1cxL1Yi... TE2PZ4SAZ1QGTLG21               17   \n",
       "AAPzxgn9sTmYGgR6BVwE4m1001qPY6aWsytuHqe4BrN9MdY... MNEVLT311HQ09KTCT               27   \n",
       "AAPzybKsRS1W9u+YhS2OQ6IQlMeL9OuHdoqMqcj5s4I+iUl... CXXPJ0PCU7QMB6KWZ               15   \n",
       "AAPzycAds1sLPV/CTFu7TIjlqV/n2hcfI5jtTPIfVEpuGQO... RKB8X2YW8ZQHJXWH7               15   \n",
       "\n",
       "                                                                      c_vehicle_live_time_days  \\\n",
       "c_van17                                            c_driveid                                     \n",
       "AAI++FbFvGFjTRtS+sYQxbLNvUQn4kc+hsP0LGI6S3ve484... XDVU1W32WZQ9VWHLM                        19   \n",
       "AAI+26A37RgahMuzcWes4C9Hv4JkH1vGrsUmlWEPfY8bd9a... 15C7XN9MTXQ7ZR8NE                        16   \n",
       "AAI+7mTyMJjfnMPfU+XvKO3HHyzmfBes7caWhgEJJPgkRsF... NBMCRAN0THQGPEEKS                        16   \n",
       "AAI+DfQDiYeMURNBU0dTogguwdbaJBBx9EjUlbwLTZj+MP8... 95F7ERPUHLQG32GTG                        15   \n",
       "AAI+IitPzy4O25EL9NovKdeUbMX1oA/VG1v0k9Rno9243ar... UGTNSP6PXFQYXJEED                        31   \n",
       "...                                                                                        ...   \n",
       "AAPztGrxkOpS+Y4Muorqm7CIMpCl3qnQxwznZid4GYd90jn... T0WM5S4ZB4QFGY21F                        19   \n",
       "AAPzwJ1qR2Nw+u1zXpqT9uoVf23PFzBqIMvj9hab1cxL1Yi... TE2PZ4SAZ1QGTLG21                        17   \n",
       "AAPzxgn9sTmYGgR6BVwE4m1001qPY6aWsytuHqe4BrN9MdY... MNEVLT311HQ09KTCT                        27   \n",
       "AAPzybKsRS1W9u+YhS2OQ6IQlMeL9OuHdoqMqcj5s4I+iUl... CXXPJ0PCU7QMB6KWZ                        15   \n",
       "AAPzycAds1sLPV/CTFu7TIjlqV/n2hcfI5jtTPIfVEpuGQO... RKB8X2YW8ZQHJXWH7                        15   \n",
       "\n",
       "                                                                      c_avg_drives_per_day  \\\n",
       "c_van17                                            c_driveid                                 \n",
       "AAI++FbFvGFjTRtS+sYQxbLNvUQn4kc+hsP0LGI6S3ve484... XDVU1W32WZQ9VWHLM                    19   \n",
       "AAI+26A37RgahMuzcWes4C9Hv4JkH1vGrsUmlWEPfY8bd9a... 15C7XN9MTXQ7ZR8NE                    16   \n",
       "AAI+7mTyMJjfnMPfU+XvKO3HHyzmfBes7caWhgEJJPgkRsF... NBMCRAN0THQGPEEKS                    16   \n",
       "AAI+DfQDiYeMURNBU0dTogguwdbaJBBx9EjUlbwLTZj+MP8... 95F7ERPUHLQG32GTG                    15   \n",
       "AAI+IitPzy4O25EL9NovKdeUbMX1oA/VG1v0k9Rno9243ar... UGTNSP6PXFQYXJEED                    31   \n",
       "...                                                                                    ...   \n",
       "AAPztGrxkOpS+Y4Muorqm7CIMpCl3qnQxwznZid4GYd90jn... T0WM5S4ZB4QFGY21F                    19   \n",
       "AAPzwJ1qR2Nw+u1zXpqT9uoVf23PFzBqIMvj9hab1cxL1Yi... TE2PZ4SAZ1QGTLG21                    17   \n",
       "AAPzxgn9sTmYGgR6BVwE4m1001qPY6aWsytuHqe4BrN9MdY... MNEVLT311HQ09KTCT                    27   \n",
       "AAPzybKsRS1W9u+YhS2OQ6IQlMeL9OuHdoqMqcj5s4I+iUl... CXXPJ0PCU7QMB6KWZ                    15   \n",
       "AAPzycAds1sLPV/CTFu7TIjlqV/n2hcfI5jtTPIfVEpuGQO... RKB8X2YW8ZQHJXWH7                    15   \n",
       "\n",
       "                                                                      c_avg_drives_per_week  \\\n",
       "c_van17                                            c_driveid                                  \n",
       "AAI++FbFvGFjTRtS+sYQxbLNvUQn4kc+hsP0LGI6S3ve484... XDVU1W32WZQ9VWHLM                     19   \n",
       "AAI+26A37RgahMuzcWes4C9Hv4JkH1vGrsUmlWEPfY8bd9a... 15C7XN9MTXQ7ZR8NE                     16   \n",
       "AAI+7mTyMJjfnMPfU+XvKO3HHyzmfBes7caWhgEJJPgkRsF... NBMCRAN0THQGPEEKS                     16   \n",
       "AAI+DfQDiYeMURNBU0dTogguwdbaJBBx9EjUlbwLTZj+MP8... 95F7ERPUHLQG32GTG                     15   \n",
       "AAI+IitPzy4O25EL9NovKdeUbMX1oA/VG1v0k9Rno9243ar... UGTNSP6PXFQYXJEED                     31   \n",
       "...                                                                                     ...   \n",
       "AAPztGrxkOpS+Y4Muorqm7CIMpCl3qnQxwznZid4GYd90jn... T0WM5S4ZB4QFGY21F                     19   \n",
       "AAPzwJ1qR2Nw+u1zXpqT9uoVf23PFzBqIMvj9hab1cxL1Yi... TE2PZ4SAZ1QGTLG21                     17   \n",
       "AAPzxgn9sTmYGgR6BVwE4m1001qPY6aWsytuHqe4BrN9MdY... MNEVLT311HQ09KTCT                     27   \n",
       "AAPzybKsRS1W9u+YhS2OQ6IQlMeL9OuHdoqMqcj5s4I+iUl... CXXPJ0PCU7QMB6KWZ                     15   \n",
       "AAPzycAds1sLPV/CTFu7TIjlqV/n2hcfI5jtTPIfVEpuGQO... RKB8X2YW8ZQHJXWH7                     15   \n",
       "\n",
       "                                                                      c_avg_drives_per_month  \\\n",
       "c_van17                                            c_driveid                                   \n",
       "AAI++FbFvGFjTRtS+sYQxbLNvUQn4kc+hsP0LGI6S3ve484... XDVU1W32WZQ9VWHLM                      19   \n",
       "AAI+26A37RgahMuzcWes4C9Hv4JkH1vGrsUmlWEPfY8bd9a... 15C7XN9MTXQ7ZR8NE                      16   \n",
       "AAI+7mTyMJjfnMPfU+XvKO3HHyzmfBes7caWhgEJJPgkRsF... NBMCRAN0THQGPEEKS                      16   \n",
       "AAI+DfQDiYeMURNBU0dTogguwdbaJBBx9EjUlbwLTZj+MP8... 95F7ERPUHLQG32GTG                      15   \n",
       "AAI+IitPzy4O25EL9NovKdeUbMX1oA/VG1v0k9Rno9243ar... UGTNSP6PXFQYXJEED                      31   \n",
       "...                                                                                      ...   \n",
       "AAPztGrxkOpS+Y4Muorqm7CIMpCl3qnQxwznZid4GYd90jn... T0WM5S4ZB4QFGY21F                      19   \n",
       "AAPzwJ1qR2Nw+u1zXpqT9uoVf23PFzBqIMvj9hab1cxL1Yi... TE2PZ4SAZ1QGTLG21                      17   \n",
       "AAPzxgn9sTmYGgR6BVwE4m1001qPY6aWsytuHqe4BrN9MdY... MNEVLT311HQ09KTCT                      27   \n",
       "AAPzybKsRS1W9u+YhS2OQ6IQlMeL9OuHdoqMqcj5s4I+iUl... CXXPJ0PCU7QMB6KWZ                      15   \n",
       "AAPzycAds1sLPV/CTFu7TIjlqV/n2hcfI5jtTPIfVEpuGQO... RKB8X2YW8ZQHJXWH7                      15   \n",
       "\n",
       "                                                                      c_timezonedelta  \\\n",
       "c_van17                                            c_driveid                            \n",
       "AAI++FbFvGFjTRtS+sYQxbLNvUQn4kc+hsP0LGI6S3ve484... XDVU1W32WZQ9VWHLM               19   \n",
       "AAI+26A37RgahMuzcWes4C9Hv4JkH1vGrsUmlWEPfY8bd9a... 15C7XN9MTXQ7ZR8NE               16   \n",
       "AAI+7mTyMJjfnMPfU+XvKO3HHyzmfBes7caWhgEJJPgkRsF... NBMCRAN0THQGPEEKS               16   \n",
       "AAI+DfQDiYeMURNBU0dTogguwdbaJBBx9EjUlbwLTZj+MP8... 95F7ERPUHLQG32GTG               15   \n",
       "AAI+IitPzy4O25EL9NovKdeUbMX1oA/VG1v0k9Rno9243ar... UGTNSP6PXFQYXJEED               31   \n",
       "...                                                                               ...   \n",
       "AAPztGrxkOpS+Y4Muorqm7CIMpCl3qnQxwznZid4GYd90jn... T0WM5S4ZB4QFGY21F               19   \n",
       "AAPzwJ1qR2Nw+u1zXpqT9uoVf23PFzBqIMvj9hab1cxL1Yi... TE2PZ4SAZ1QGTLG21               17   \n",
       "AAPzxgn9sTmYGgR6BVwE4m1001qPY6aWsytuHqe4BrN9MdY... MNEVLT311HQ09KTCT               27   \n",
       "AAPzybKsRS1W9u+YhS2OQ6IQlMeL9OuHdoqMqcj5s4I+iUl... CXXPJ0PCU7QMB6KWZ               15   \n",
       "AAPzycAds1sLPV/CTFu7TIjlqV/n2hcfI5jtTPIfVEpuGQO... RKB8X2YW8ZQHJXWH7               15   \n",
       "\n",
       "                                                                      c_gpsregion_city_drive  \\\n",
       "c_van17                                            c_driveid                                   \n",
       "AAI++FbFvGFjTRtS+sYQxbLNvUQn4kc+hsP0LGI6S3ve484... XDVU1W32WZQ9VWHLM                      19   \n",
       "AAI+26A37RgahMuzcWes4C9Hv4JkH1vGrsUmlWEPfY8bd9a... 15C7XN9MTXQ7ZR8NE                      16   \n",
       "AAI+7mTyMJjfnMPfU+XvKO3HHyzmfBes7caWhgEJJPgkRsF... NBMCRAN0THQGPEEKS                      16   \n",
       "AAI+DfQDiYeMURNBU0dTogguwdbaJBBx9EjUlbwLTZj+MP8... 95F7ERPUHLQG32GTG                      15   \n",
       "AAI+IitPzy4O25EL9NovKdeUbMX1oA/VG1v0k9Rno9243ar... UGTNSP6PXFQYXJEED                      31   \n",
       "...                                                                                      ...   \n",
       "AAPztGrxkOpS+Y4Muorqm7CIMpCl3qnQxwznZid4GYd90jn... T0WM5S4ZB4QFGY21F                      19   \n",
       "AAPzwJ1qR2Nw+u1zXpqT9uoVf23PFzBqIMvj9hab1cxL1Yi... TE2PZ4SAZ1QGTLG21                      17   \n",
       "AAPzxgn9sTmYGgR6BVwE4m1001qPY6aWsytuHqe4BrN9MdY... MNEVLT311HQ09KTCT                      27   \n",
       "AAPzybKsRS1W9u+YhS2OQ6IQlMeL9OuHdoqMqcj5s4I+iUl... CXXPJ0PCU7QMB6KWZ                      15   \n",
       "AAPzycAds1sLPV/CTFu7TIjlqV/n2hcfI5jtTPIfVEpuGQO... RKB8X2YW8ZQHJXWH7                      15   \n",
       "\n",
       "                                                                      c_gpsregion_lat_drive  \\\n",
       "c_van17                                            c_driveid                                  \n",
       "AAI++FbFvGFjTRtS+sYQxbLNvUQn4kc+hsP0LGI6S3ve484... XDVU1W32WZQ9VWHLM                      0   \n",
       "AAI+26A37RgahMuzcWes4C9Hv4JkH1vGrsUmlWEPfY8bd9a... 15C7XN9MTXQ7ZR8NE                     16   \n",
       "AAI+7mTyMJjfnMPfU+XvKO3HHyzmfBes7caWhgEJJPgkRsF... NBMCRAN0THQGPEEKS                     16   \n",
       "AAI+DfQDiYeMURNBU0dTogguwdbaJBBx9EjUlbwLTZj+MP8... 95F7ERPUHLQG32GTG                      0   \n",
       "AAI+IitPzy4O25EL9NovKdeUbMX1oA/VG1v0k9Rno9243ar... UGTNSP6PXFQYXJEED                     31   \n",
       "...                                                                                     ...   \n",
       "AAPztGrxkOpS+Y4Muorqm7CIMpCl3qnQxwznZid4GYd90jn... T0WM5S4ZB4QFGY21F                     19   \n",
       "AAPzwJ1qR2Nw+u1zXpqT9uoVf23PFzBqIMvj9hab1cxL1Yi... TE2PZ4SAZ1QGTLG21                     17   \n",
       "AAPzxgn9sTmYGgR6BVwE4m1001qPY6aWsytuHqe4BrN9MdY... MNEVLT311HQ09KTCT                      0   \n",
       "AAPzybKsRS1W9u+YhS2OQ6IQlMeL9OuHdoqMqcj5s4I+iUl... CXXPJ0PCU7QMB6KWZ                     15   \n",
       "AAPzycAds1sLPV/CTFu7TIjlqV/n2hcfI5jtTPIfVEpuGQO... RKB8X2YW8ZQHJXWH7                     15   \n",
       "\n",
       "                                                                      c_gpsregion_long_drive  \\\n",
       "c_van17                                            c_driveid                                   \n",
       "AAI++FbFvGFjTRtS+sYQxbLNvUQn4kc+hsP0LGI6S3ve484... XDVU1W32WZQ9VWHLM                       0   \n",
       "AAI+26A37RgahMuzcWes4C9Hv4JkH1vGrsUmlWEPfY8bd9a... 15C7XN9MTXQ7ZR8NE                      16   \n",
       "AAI+7mTyMJjfnMPfU+XvKO3HHyzmfBes7caWhgEJJPgkRsF... NBMCRAN0THQGPEEKS                      16   \n",
       "AAI+DfQDiYeMURNBU0dTogguwdbaJBBx9EjUlbwLTZj+MP8... 95F7ERPUHLQG32GTG                       0   \n",
       "AAI+IitPzy4O25EL9NovKdeUbMX1oA/VG1v0k9Rno9243ar... UGTNSP6PXFQYXJEED                      31   \n",
       "...                                                                                      ...   \n",
       "AAPztGrxkOpS+Y4Muorqm7CIMpCl3qnQxwznZid4GYd90jn... T0WM5S4ZB4QFGY21F                      19   \n",
       "AAPzwJ1qR2Nw+u1zXpqT9uoVf23PFzBqIMvj9hab1cxL1Yi... TE2PZ4SAZ1QGTLG21                      17   \n",
       "AAPzxgn9sTmYGgR6BVwE4m1001qPY6aWsytuHqe4BrN9MdY... MNEVLT311HQ09KTCT                       0   \n",
       "AAPzybKsRS1W9u+YhS2OQ6IQlMeL9OuHdoqMqcj5s4I+iUl... CXXPJ0PCU7QMB6KWZ                      15   \n",
       "AAPzycAds1sLPV/CTFu7TIjlqV/n2hcfI5jtTPIfVEpuGQO... RKB8X2YW8ZQHJXWH7                      15   \n",
       "\n",
       "                                                                      c_gpsregion_geohash_drive  \\\n",
       "c_van17                                            c_driveid                                      \n",
       "AAI++FbFvGFjTRtS+sYQxbLNvUQn4kc+hsP0LGI6S3ve484... XDVU1W32WZQ9VWHLM                          0   \n",
       "AAI+26A37RgahMuzcWes4C9Hv4JkH1vGrsUmlWEPfY8bd9a... 15C7XN9MTXQ7ZR8NE                         16   \n",
       "AAI+7mTyMJjfnMPfU+XvKO3HHyzmfBes7caWhgEJJPgkRsF... NBMCRAN0THQGPEEKS                         16   \n",
       "AAI+DfQDiYeMURNBU0dTogguwdbaJBBx9EjUlbwLTZj+MP8... 95F7ERPUHLQG32GTG                          0   \n",
       "AAI+IitPzy4O25EL9NovKdeUbMX1oA/VG1v0k9Rno9243ar... UGTNSP6PXFQYXJEED                         31   \n",
       "...                                                                                         ...   \n",
       "AAPztGrxkOpS+Y4Muorqm7CIMpCl3qnQxwznZid4GYd90jn... T0WM5S4ZB4QFGY21F                         19   \n",
       "AAPzwJ1qR2Nw+u1zXpqT9uoVf23PFzBqIMvj9hab1cxL1Yi... TE2PZ4SAZ1QGTLG21                         17   \n",
       "AAPzxgn9sTmYGgR6BVwE4m1001qPY6aWsytuHqe4BrN9MdY... MNEVLT311HQ09KTCT                          0   \n",
       "AAPzybKsRS1W9u+YhS2OQ6IQlMeL9OuHdoqMqcj5s4I+iUl... CXXPJ0PCU7QMB6KWZ                         15   \n",
       "AAPzycAds1sLPV/CTFu7TIjlqV/n2hcfI5jtTPIfVEpuGQO... RKB8X2YW8ZQHJXWH7                         15   \n",
       "\n",
       "                                                                      c_gps_data_source  \\\n",
       "c_van17                                            c_driveid                              \n",
       "AAI++FbFvGFjTRtS+sYQxbLNvUQn4kc+hsP0LGI6S3ve484... XDVU1W32WZQ9VWHLM                 19   \n",
       "AAI+26A37RgahMuzcWes4C9Hv4JkH1vGrsUmlWEPfY8bd9a... 15C7XN9MTXQ7ZR8NE                 16   \n",
       "AAI+7mTyMJjfnMPfU+XvKO3HHyzmfBes7caWhgEJJPgkRsF... NBMCRAN0THQGPEEKS                 16   \n",
       "AAI+DfQDiYeMURNBU0dTogguwdbaJBBx9EjUlbwLTZj+MP8... 95F7ERPUHLQG32GTG                 15   \n",
       "AAI+IitPzy4O25EL9NovKdeUbMX1oA/VG1v0k9Rno9243ar... UGTNSP6PXFQYXJEED                 31   \n",
       "...                                                                                 ...   \n",
       "AAPztGrxkOpS+Y4Muorqm7CIMpCl3qnQxwznZid4GYd90jn... T0WM5S4ZB4QFGY21F                 19   \n",
       "AAPzwJ1qR2Nw+u1zXpqT9uoVf23PFzBqIMvj9hab1cxL1Yi... TE2PZ4SAZ1QGTLG21                 17   \n",
       "AAPzxgn9sTmYGgR6BVwE4m1001qPY6aWsytuHqe4BrN9MdY... MNEVLT311HQ09KTCT                 27   \n",
       "AAPzybKsRS1W9u+YhS2OQ6IQlMeL9OuHdoqMqcj5s4I+iUl... CXXPJ0PCU7QMB6KWZ                 15   \n",
       "AAPzycAds1sLPV/CTFu7TIjlqV/n2hcfI5jtTPIfVEpuGQO... RKB8X2YW8ZQHJXWH7                 15   \n",
       "\n",
       "                                                                      c_hub  \\\n",
       "c_van17                                            c_driveid                  \n",
       "AAI++FbFvGFjTRtS+sYQxbLNvUQn4kc+hsP0LGI6S3ve484... XDVU1W32WZQ9VWHLM     19   \n",
       "AAI+26A37RgahMuzcWes4C9Hv4JkH1vGrsUmlWEPfY8bd9a... 15C7XN9MTXQ7ZR8NE     16   \n",
       "AAI+7mTyMJjfnMPfU+XvKO3HHyzmfBes7caWhgEJJPgkRsF... NBMCRAN0THQGPEEKS     16   \n",
       "AAI+DfQDiYeMURNBU0dTogguwdbaJBBx9EjUlbwLTZj+MP8... 95F7ERPUHLQG32GTG     15   \n",
       "AAI+IitPzy4O25EL9NovKdeUbMX1oA/VG1v0k9Rno9243ar... UGTNSP6PXFQYXJEED     31   \n",
       "...                                                                     ...   \n",
       "AAPztGrxkOpS+Y4Muorqm7CIMpCl3qnQxwznZid4GYd90jn... T0WM5S4ZB4QFGY21F     19   \n",
       "AAPzwJ1qR2Nw+u1zXpqT9uoVf23PFzBqIMvj9hab1cxL1Yi... TE2PZ4SAZ1QGTLG21     17   \n",
       "AAPzxgn9sTmYGgR6BVwE4m1001qPY6aWsytuHqe4BrN9MdY... MNEVLT311HQ09KTCT     27   \n",
       "AAPzybKsRS1W9u+YhS2OQ6IQlMeL9OuHdoqMqcj5s4I+iUl... CXXPJ0PCU7QMB6KWZ     15   \n",
       "AAPzycAds1sLPV/CTFu7TIjlqV/n2hcfI5jtTPIfVEpuGQO... RKB8X2YW8ZQHJXWH7     15   \n",
       "\n",
       "                                                                      c_country_iso_code  \\\n",
       "c_van17                                            c_driveid                               \n",
       "AAI++FbFvGFjTRtS+sYQxbLNvUQn4kc+hsP0LGI6S3ve484... XDVU1W32WZQ9VWHLM                  19   \n",
       "AAI+26A37RgahMuzcWes4C9Hv4JkH1vGrsUmlWEPfY8bd9a... 15C7XN9MTXQ7ZR8NE                  16   \n",
       "AAI+7mTyMJjfnMPfU+XvKO3HHyzmfBes7caWhgEJJPgkRsF... NBMCRAN0THQGPEEKS                  16   \n",
       "AAI+DfQDiYeMURNBU0dTogguwdbaJBBx9EjUlbwLTZj+MP8... 95F7ERPUHLQG32GTG                  15   \n",
       "AAI+IitPzy4O25EL9NovKdeUbMX1oA/VG1v0k9Rno9243ar... UGTNSP6PXFQYXJEED                  31   \n",
       "...                                                                                  ...   \n",
       "AAPztGrxkOpS+Y4Muorqm7CIMpCl3qnQxwznZid4GYd90jn... T0WM5S4ZB4QFGY21F                  19   \n",
       "AAPzwJ1qR2Nw+u1zXpqT9uoVf23PFzBqIMvj9hab1cxL1Yi... TE2PZ4SAZ1QGTLG21                  17   \n",
       "AAPzxgn9sTmYGgR6BVwE4m1001qPY6aWsytuHqe4BrN9MdY... MNEVLT311HQ09KTCT                  27   \n",
       "AAPzybKsRS1W9u+YhS2OQ6IQlMeL9OuHdoqMqcj5s4I+iUl... CXXPJ0PCU7QMB6KWZ                  15   \n",
       "AAPzycAds1sLPV/CTFu7TIjlqV/n2hcfI5jtTPIfVEpuGQO... RKB8X2YW8ZQHJXWH7                  15   \n",
       "\n",
       "                                                                      c_order_country  \\\n",
       "c_van17                                            c_driveid                            \n",
       "AAI++FbFvGFjTRtS+sYQxbLNvUQn4kc+hsP0LGI6S3ve484... XDVU1W32WZQ9VWHLM               19   \n",
       "AAI+26A37RgahMuzcWes4C9Hv4JkH1vGrsUmlWEPfY8bd9a... 15C7XN9MTXQ7ZR8NE               16   \n",
       "AAI+7mTyMJjfnMPfU+XvKO3HHyzmfBes7caWhgEJJPgkRsF... NBMCRAN0THQGPEEKS               16   \n",
       "AAI+DfQDiYeMURNBU0dTogguwdbaJBBx9EjUlbwLTZj+MP8... 95F7ERPUHLQG32GTG               15   \n",
       "AAI+IitPzy4O25EL9NovKdeUbMX1oA/VG1v0k9Rno9243ar... UGTNSP6PXFQYXJEED               31   \n",
       "...                                                                               ...   \n",
       "AAPztGrxkOpS+Y4Muorqm7CIMpCl3qnQxwznZid4GYd90jn... T0WM5S4ZB4QFGY21F               19   \n",
       "AAPzwJ1qR2Nw+u1zXpqT9uoVf23PFzBqIMvj9hab1cxL1Yi... TE2PZ4SAZ1QGTLG21               17   \n",
       "AAPzxgn9sTmYGgR6BVwE4m1001qPY6aWsytuHqe4BrN9MdY... MNEVLT311HQ09KTCT               27   \n",
       "AAPzybKsRS1W9u+YhS2OQ6IQlMeL9OuHdoqMqcj5s4I+iUl... CXXPJ0PCU7QMB6KWZ               15   \n",
       "AAPzycAds1sLPV/CTFu7TIjlqV/n2hcfI5jtTPIfVEpuGQO... RKB8X2YW8ZQHJXWH7               15   \n",
       "\n",
       "                                                                      c_brand  \\\n",
       "c_van17                                            c_driveid                    \n",
       "AAI++FbFvGFjTRtS+sYQxbLNvUQn4kc+hsP0LGI6S3ve484... XDVU1W32WZQ9VWHLM       19   \n",
       "AAI+26A37RgahMuzcWes4C9Hv4JkH1vGrsUmlWEPfY8bd9a... 15C7XN9MTXQ7ZR8NE       16   \n",
       "AAI+7mTyMJjfnMPfU+XvKO3HHyzmfBes7caWhgEJJPgkRsF... NBMCRAN0THQGPEEKS       16   \n",
       "AAI+DfQDiYeMURNBU0dTogguwdbaJBBx9EjUlbwLTZj+MP8... 95F7ERPUHLQG32GTG       15   \n",
       "AAI+IitPzy4O25EL9NovKdeUbMX1oA/VG1v0k9Rno9243ar... UGTNSP6PXFQYXJEED       31   \n",
       "...                                                                       ...   \n",
       "AAPztGrxkOpS+Y4Muorqm7CIMpCl3qnQxwznZid4GYd90jn... T0WM5S4ZB4QFGY21F       19   \n",
       "AAPzwJ1qR2Nw+u1zXpqT9uoVf23PFzBqIMvj9hab1cxL1Yi... TE2PZ4SAZ1QGTLG21       17   \n",
       "AAPzxgn9sTmYGgR6BVwE4m1001qPY6aWsytuHqe4BrN9MdY... MNEVLT311HQ09KTCT       27   \n",
       "AAPzybKsRS1W9u+YhS2OQ6IQlMeL9OuHdoqMqcj5s4I+iUl... CXXPJ0PCU7QMB6KWZ       15   \n",
       "AAPzycAds1sLPV/CTFu7TIjlqV/n2hcfI5jtTPIfVEpuGQO... RKB8X2YW8ZQHJXWH7       15   \n",
       "\n",
       "                                                                      c_derivat  \\\n",
       "c_van17                                            c_driveid                      \n",
       "AAI++FbFvGFjTRtS+sYQxbLNvUQn4kc+hsP0LGI6S3ve484... XDVU1W32WZQ9VWHLM         19   \n",
       "AAI+26A37RgahMuzcWes4C9Hv4JkH1vGrsUmlWEPfY8bd9a... 15C7XN9MTXQ7ZR8NE         16   \n",
       "AAI+7mTyMJjfnMPfU+XvKO3HHyzmfBes7caWhgEJJPgkRsF... NBMCRAN0THQGPEEKS         16   \n",
       "AAI+DfQDiYeMURNBU0dTogguwdbaJBBx9EjUlbwLTZj+MP8... 95F7ERPUHLQG32GTG         15   \n",
       "AAI+IitPzy4O25EL9NovKdeUbMX1oA/VG1v0k9Rno9243ar... UGTNSP6PXFQYXJEED         31   \n",
       "...                                                                         ...   \n",
       "AAPztGrxkOpS+Y4Muorqm7CIMpCl3qnQxwznZid4GYd90jn... T0WM5S4ZB4QFGY21F         19   \n",
       "AAPzwJ1qR2Nw+u1zXpqT9uoVf23PFzBqIMvj9hab1cxL1Yi... TE2PZ4SAZ1QGTLG21         17   \n",
       "AAPzxgn9sTmYGgR6BVwE4m1001qPY6aWsytuHqe4BrN9MdY... MNEVLT311HQ09KTCT         27   \n",
       "AAPzybKsRS1W9u+YhS2OQ6IQlMeL9OuHdoqMqcj5s4I+iUl... CXXPJ0PCU7QMB6KWZ         15   \n",
       "AAPzycAds1sLPV/CTFu7TIjlqV/n2hcfI5jtTPIfVEpuGQO... RKB8X2YW8ZQHJXWH7         15   \n",
       "\n",
       "                                                                      c_marketing_name  \\\n",
       "c_van17                                            c_driveid                             \n",
       "AAI++FbFvGFjTRtS+sYQxbLNvUQn4kc+hsP0LGI6S3ve484... XDVU1W32WZQ9VWHLM                19   \n",
       "AAI+26A37RgahMuzcWes4C9Hv4JkH1vGrsUmlWEPfY8bd9a... 15C7XN9MTXQ7ZR8NE                16   \n",
       "AAI+7mTyMJjfnMPfU+XvKO3HHyzmfBes7caWhgEJJPgkRsF... NBMCRAN0THQGPEEKS                16   \n",
       "AAI+DfQDiYeMURNBU0dTogguwdbaJBBx9EjUlbwLTZj+MP8... 95F7ERPUHLQG32GTG                15   \n",
       "AAI+IitPzy4O25EL9NovKdeUbMX1oA/VG1v0k9Rno9243ar... UGTNSP6PXFQYXJEED                31   \n",
       "...                                                                                ...   \n",
       "AAPztGrxkOpS+Y4Muorqm7CIMpCl3qnQxwznZid4GYd90jn... T0WM5S4ZB4QFGY21F                19   \n",
       "AAPzwJ1qR2Nw+u1zXpqT9uoVf23PFzBqIMvj9hab1cxL1Yi... TE2PZ4SAZ1QGTLG21                17   \n",
       "AAPzxgn9sTmYGgR6BVwE4m1001qPY6aWsytuHqe4BrN9MdY... MNEVLT311HQ09KTCT                27   \n",
       "AAPzybKsRS1W9u+YhS2OQ6IQlMeL9OuHdoqMqcj5s4I+iUl... CXXPJ0PCU7QMB6KWZ                15   \n",
       "AAPzycAds1sLPV/CTFu7TIjlqV/n2hcfI5jtTPIfVEpuGQO... RKB8X2YW8ZQHJXWH7                15   \n",
       "\n",
       "                                                                      c_steering_wheel_position  \\\n",
       "c_van17                                            c_driveid                                      \n",
       "AAI++FbFvGFjTRtS+sYQxbLNvUQn4kc+hsP0LGI6S3ve484... XDVU1W32WZQ9VWHLM                         19   \n",
       "AAI+26A37RgahMuzcWes4C9Hv4JkH1vGrsUmlWEPfY8bd9a... 15C7XN9MTXQ7ZR8NE                         16   \n",
       "AAI+7mTyMJjfnMPfU+XvKO3HHyzmfBes7caWhgEJJPgkRsF... NBMCRAN0THQGPEEKS                         16   \n",
       "AAI+DfQDiYeMURNBU0dTogguwdbaJBBx9EjUlbwLTZj+MP8... 95F7ERPUHLQG32GTG                         15   \n",
       "AAI+IitPzy4O25EL9NovKdeUbMX1oA/VG1v0k9Rno9243ar... UGTNSP6PXFQYXJEED                         31   \n",
       "...                                                                                         ...   \n",
       "AAPztGrxkOpS+Y4Muorqm7CIMpCl3qnQxwznZid4GYd90jn... T0WM5S4ZB4QFGY21F                         19   \n",
       "AAPzwJ1qR2Nw+u1zXpqT9uoVf23PFzBqIMvj9hab1cxL1Yi... TE2PZ4SAZ1QGTLG21                         17   \n",
       "AAPzxgn9sTmYGgR6BVwE4m1001qPY6aWsytuHqe4BrN9MdY... MNEVLT311HQ09KTCT                         27   \n",
       "AAPzybKsRS1W9u+YhS2OQ6IQlMeL9OuHdoqMqcj5s4I+iUl... CXXPJ0PCU7QMB6KWZ                         15   \n",
       "AAPzycAds1sLPV/CTFu7TIjlqV/n2hcfI5jtTPIfVEpuGQO... RKB8X2YW8ZQHJXWH7                         15   \n",
       "\n",
       "                                                                      c_product_line  \\\n",
       "c_van17                                            c_driveid                           \n",
       "AAI++FbFvGFjTRtS+sYQxbLNvUQn4kc+hsP0LGI6S3ve484... XDVU1W32WZQ9VWHLM              19   \n",
       "AAI+26A37RgahMuzcWes4C9Hv4JkH1vGrsUmlWEPfY8bd9a... 15C7XN9MTXQ7ZR8NE              16   \n",
       "AAI+7mTyMJjfnMPfU+XvKO3HHyzmfBes7caWhgEJJPgkRsF... NBMCRAN0THQGPEEKS              16   \n",
       "AAI+DfQDiYeMURNBU0dTogguwdbaJBBx9EjUlbwLTZj+MP8... 95F7ERPUHLQG32GTG              15   \n",
       "AAI+IitPzy4O25EL9NovKdeUbMX1oA/VG1v0k9Rno9243ar... UGTNSP6PXFQYXJEED              31   \n",
       "...                                                                              ...   \n",
       "AAPztGrxkOpS+Y4Muorqm7CIMpCl3qnQxwznZid4GYd90jn... T0WM5S4ZB4QFGY21F              19   \n",
       "AAPzwJ1qR2Nw+u1zXpqT9uoVf23PFzBqIMvj9hab1cxL1Yi... TE2PZ4SAZ1QGTLG21              17   \n",
       "AAPzxgn9sTmYGgR6BVwE4m1001qPY6aWsytuHqe4BrN9MdY... MNEVLT311HQ09KTCT              27   \n",
       "AAPzybKsRS1W9u+YhS2OQ6IQlMeL9OuHdoqMqcj5s4I+iUl... CXXPJ0PCU7QMB6KWZ              15   \n",
       "AAPzycAds1sLPV/CTFu7TIjlqV/n2hcfI5jtTPIfVEpuGQO... RKB8X2YW8ZQHJXWH7              15   \n",
       "\n",
       "                                                                      c_hybridkennzeichen  \\\n",
       "c_van17                                            c_driveid                                \n",
       "AAI++FbFvGFjTRtS+sYQxbLNvUQn4kc+hsP0LGI6S3ve484... XDVU1W32WZQ9VWHLM                   19   \n",
       "AAI+26A37RgahMuzcWes4C9Hv4JkH1vGrsUmlWEPfY8bd9a... 15C7XN9MTXQ7ZR8NE                   16   \n",
       "AAI+7mTyMJjfnMPfU+XvKO3HHyzmfBes7caWhgEJJPgkRsF... NBMCRAN0THQGPEEKS                   16   \n",
       "AAI+DfQDiYeMURNBU0dTogguwdbaJBBx9EjUlbwLTZj+MP8... 95F7ERPUHLQG32GTG                   15   \n",
       "AAI+IitPzy4O25EL9NovKdeUbMX1oA/VG1v0k9Rno9243ar... UGTNSP6PXFQYXJEED                   31   \n",
       "...                                                                                   ...   \n",
       "AAPztGrxkOpS+Y4Muorqm7CIMpCl3qnQxwznZid4GYd90jn... T0WM5S4ZB4QFGY21F                   19   \n",
       "AAPzwJ1qR2Nw+u1zXpqT9uoVf23PFzBqIMvj9hab1cxL1Yi... TE2PZ4SAZ1QGTLG21                   17   \n",
       "AAPzxgn9sTmYGgR6BVwE4m1001qPY6aWsytuHqe4BrN9MdY... MNEVLT311HQ09KTCT                   27   \n",
       "AAPzybKsRS1W9u+YhS2OQ6IQlMeL9OuHdoqMqcj5s4I+iUl... CXXPJ0PCU7QMB6KWZ                   15   \n",
       "AAPzycAds1sLPV/CTFu7TIjlqV/n2hcfI5jtTPIfVEpuGQO... RKB8X2YW8ZQHJXWH7                   15   \n",
       "\n",
       "                                                                      c_fuel_type_corrected_description  \\\n",
       "c_van17                                            c_driveid                                              \n",
       "AAI++FbFvGFjTRtS+sYQxbLNvUQn4kc+hsP0LGI6S3ve484... XDVU1W32WZQ9VWHLM                                 19   \n",
       "AAI+26A37RgahMuzcWes4C9Hv4JkH1vGrsUmlWEPfY8bd9a... 15C7XN9MTXQ7ZR8NE                                 16   \n",
       "AAI+7mTyMJjfnMPfU+XvKO3HHyzmfBes7caWhgEJJPgkRsF... NBMCRAN0THQGPEEKS                                 16   \n",
       "AAI+DfQDiYeMURNBU0dTogguwdbaJBBx9EjUlbwLTZj+MP8... 95F7ERPUHLQG32GTG                                 15   \n",
       "AAI+IitPzy4O25EL9NovKdeUbMX1oA/VG1v0k9Rno9243ar... UGTNSP6PXFQYXJEED                                 31   \n",
       "...                                                                                                 ...   \n",
       "AAPztGrxkOpS+Y4Muorqm7CIMpCl3qnQxwznZid4GYd90jn... T0WM5S4ZB4QFGY21F                                 19   \n",
       "AAPzwJ1qR2Nw+u1zXpqT9uoVf23PFzBqIMvj9hab1cxL1Yi... TE2PZ4SAZ1QGTLG21                                 17   \n",
       "AAPzxgn9sTmYGgR6BVwE4m1001qPY6aWsytuHqe4BrN9MdY... MNEVLT311HQ09KTCT                                 27   \n",
       "AAPzybKsRS1W9u+YhS2OQ6IQlMeL9OuHdoqMqcj5s4I+iUl... CXXPJ0PCU7QMB6KWZ                                 15   \n",
       "AAPzycAds1sLPV/CTFu7TIjlqV/n2hcfI5jtTPIfVEpuGQO... RKB8X2YW8ZQHJXWH7                                 15   \n",
       "\n",
       "                                                                      c_vehicle_class  \\\n",
       "c_van17                                            c_driveid                            \n",
       "AAI++FbFvGFjTRtS+sYQxbLNvUQn4kc+hsP0LGI6S3ve484... XDVU1W32WZQ9VWHLM               19   \n",
       "AAI+26A37RgahMuzcWes4C9Hv4JkH1vGrsUmlWEPfY8bd9a... 15C7XN9MTXQ7ZR8NE               16   \n",
       "AAI+7mTyMJjfnMPfU+XvKO3HHyzmfBes7caWhgEJJPgkRsF... NBMCRAN0THQGPEEKS               16   \n",
       "AAI+DfQDiYeMURNBU0dTogguwdbaJBBx9EjUlbwLTZj+MP8... 95F7ERPUHLQG32GTG               15   \n",
       "AAI+IitPzy4O25EL9NovKdeUbMX1oA/VG1v0k9Rno9243ar... UGTNSP6PXFQYXJEED               31   \n",
       "...                                                                               ...   \n",
       "AAPztGrxkOpS+Y4Muorqm7CIMpCl3qnQxwznZid4GYd90jn... T0WM5S4ZB4QFGY21F               19   \n",
       "AAPzwJ1qR2Nw+u1zXpqT9uoVf23PFzBqIMvj9hab1cxL1Yi... TE2PZ4SAZ1QGTLG21               17   \n",
       "AAPzxgn9sTmYGgR6BVwE4m1001qPY6aWsytuHqe4BrN9MdY... MNEVLT311HQ09KTCT               27   \n",
       "AAPzybKsRS1W9u+YhS2OQ6IQlMeL9OuHdoqMqcj5s4I+iUl... CXXPJ0PCU7QMB6KWZ               15   \n",
       "AAPzycAds1sLPV/CTFu7TIjlqV/n2hcfI5jtTPIfVEpuGQO... RKB8X2YW8ZQHJXWH7               15   \n",
       "\n",
       "                                                                      c_script_version  \\\n",
       "c_van17                                            c_driveid                             \n",
       "AAI++FbFvGFjTRtS+sYQxbLNvUQn4kc+hsP0LGI6S3ve484... XDVU1W32WZQ9VWHLM                19   \n",
       "AAI+26A37RgahMuzcWes4C9Hv4JkH1vGrsUmlWEPfY8bd9a... 15C7XN9MTXQ7ZR8NE                16   \n",
       "AAI+7mTyMJjfnMPfU+XvKO3HHyzmfBes7caWhgEJJPgkRsF... NBMCRAN0THQGPEEKS                16   \n",
       "AAI+DfQDiYeMURNBU0dTogguwdbaJBBx9EjUlbwLTZj+MP8... 95F7ERPUHLQG32GTG                15   \n",
       "AAI+IitPzy4O25EL9NovKdeUbMX1oA/VG1v0k9Rno9243ar... UGTNSP6PXFQYXJEED                31   \n",
       "...                                                                                ...   \n",
       "AAPztGrxkOpS+Y4Muorqm7CIMpCl3qnQxwznZid4GYd90jn... T0WM5S4ZB4QFGY21F                19   \n",
       "AAPzwJ1qR2Nw+u1zXpqT9uoVf23PFzBqIMvj9hab1cxL1Yi... TE2PZ4SAZ1QGTLG21                17   \n",
       "AAPzxgn9sTmYGgR6BVwE4m1001qPY6aWsytuHqe4BrN9MdY... MNEVLT311HQ09KTCT                27   \n",
       "AAPzybKsRS1W9u+YhS2OQ6IQlMeL9OuHdoqMqcj5s4I+iUl... CXXPJ0PCU7QMB6KWZ                15   \n",
       "AAPzycAds1sLPV/CTFu7TIjlqV/n2hcfI5jtTPIfVEpuGQO... RKB8X2YW8ZQHJXWH7                15   \n",
       "\n",
       "                                                                      c_mean_speed  \\\n",
       "c_van17                                            c_driveid                         \n",
       "AAI++FbFvGFjTRtS+sYQxbLNvUQn4kc+hsP0LGI6S3ve484... XDVU1W32WZQ9VWHLM            19   \n",
       "AAI+26A37RgahMuzcWes4C9Hv4JkH1vGrsUmlWEPfY8bd9a... 15C7XN9MTXQ7ZR8NE            16   \n",
       "AAI+7mTyMJjfnMPfU+XvKO3HHyzmfBes7caWhgEJJPgkRsF... NBMCRAN0THQGPEEKS            16   \n",
       "AAI+DfQDiYeMURNBU0dTogguwdbaJBBx9EjUlbwLTZj+MP8... 95F7ERPUHLQG32GTG            15   \n",
       "AAI+IitPzy4O25EL9NovKdeUbMX1oA/VG1v0k9Rno9243ar... UGTNSP6PXFQYXJEED            31   \n",
       "...                                                                            ...   \n",
       "AAPztGrxkOpS+Y4Muorqm7CIMpCl3qnQxwznZid4GYd90jn... T0WM5S4ZB4QFGY21F            19   \n",
       "AAPzwJ1qR2Nw+u1zXpqT9uoVf23PFzBqIMvj9hab1cxL1Yi... TE2PZ4SAZ1QGTLG21            17   \n",
       "AAPzxgn9sTmYGgR6BVwE4m1001qPY6aWsytuHqe4BrN9MdY... MNEVLT311HQ09KTCT            27   \n",
       "AAPzybKsRS1W9u+YhS2OQ6IQlMeL9OuHdoqMqcj5s4I+iUl... CXXPJ0PCU7QMB6KWZ            15   \n",
       "AAPzycAds1sLPV/CTFu7TIjlqV/n2hcfI5jtTPIfVEpuGQO... RKB8X2YW8ZQHJXWH7            15   \n",
       "\n",
       "                                                                      c_mileage_start  \\\n",
       "c_van17                                            c_driveid                            \n",
       "AAI++FbFvGFjTRtS+sYQxbLNvUQn4kc+hsP0LGI6S3ve484... XDVU1W32WZQ9VWHLM               19   \n",
       "AAI+26A37RgahMuzcWes4C9Hv4JkH1vGrsUmlWEPfY8bd9a... 15C7XN9MTXQ7ZR8NE               16   \n",
       "AAI+7mTyMJjfnMPfU+XvKO3HHyzmfBes7caWhgEJJPgkRsF... NBMCRAN0THQGPEEKS               16   \n",
       "AAI+DfQDiYeMURNBU0dTogguwdbaJBBx9EjUlbwLTZj+MP8... 95F7ERPUHLQG32GTG               15   \n",
       "AAI+IitPzy4O25EL9NovKdeUbMX1oA/VG1v0k9Rno9243ar... UGTNSP6PXFQYXJEED               31   \n",
       "...                                                                               ...   \n",
       "AAPztGrxkOpS+Y4Muorqm7CIMpCl3qnQxwznZid4GYd90jn... T0WM5S4ZB4QFGY21F               19   \n",
       "AAPzwJ1qR2Nw+u1zXpqT9uoVf23PFzBqIMvj9hab1cxL1Yi... TE2PZ4SAZ1QGTLG21               17   \n",
       "AAPzxgn9sTmYGgR6BVwE4m1001qPY6aWsytuHqe4BrN9MdY... MNEVLT311HQ09KTCT               27   \n",
       "AAPzybKsRS1W9u+YhS2OQ6IQlMeL9OuHdoqMqcj5s4I+iUl... CXXPJ0PCU7QMB6KWZ               15   \n",
       "AAPzycAds1sLPV/CTFu7TIjlqV/n2hcfI5jtTPIfVEpuGQO... RKB8X2YW8ZQHJXWH7               15   \n",
       "\n",
       "                                                                      c_mileage_stop  \\\n",
       "c_van17                                            c_driveid                           \n",
       "AAI++FbFvGFjTRtS+sYQxbLNvUQn4kc+hsP0LGI6S3ve484... XDVU1W32WZQ9VWHLM              19   \n",
       "AAI+26A37RgahMuzcWes4C9Hv4JkH1vGrsUmlWEPfY8bd9a... 15C7XN9MTXQ7ZR8NE              16   \n",
       "AAI+7mTyMJjfnMPfU+XvKO3HHyzmfBes7caWhgEJJPgkRsF... NBMCRAN0THQGPEEKS              16   \n",
       "AAI+DfQDiYeMURNBU0dTogguwdbaJBBx9EjUlbwLTZj+MP8... 95F7ERPUHLQG32GTG              15   \n",
       "AAI+IitPzy4O25EL9NovKdeUbMX1oA/VG1v0k9Rno9243ar... UGTNSP6PXFQYXJEED              31   \n",
       "...                                                                              ...   \n",
       "AAPztGrxkOpS+Y4Muorqm7CIMpCl3qnQxwznZid4GYd90jn... T0WM5S4ZB4QFGY21F              19   \n",
       "AAPzwJ1qR2Nw+u1zXpqT9uoVf23PFzBqIMvj9hab1cxL1Yi... TE2PZ4SAZ1QGTLG21              17   \n",
       "AAPzxgn9sTmYGgR6BVwE4m1001qPY6aWsytuHqe4BrN9MdY... MNEVLT311HQ09KTCT              27   \n",
       "AAPzybKsRS1W9u+YhS2OQ6IQlMeL9OuHdoqMqcj5s4I+iUl... CXXPJ0PCU7QMB6KWZ              15   \n",
       "AAPzycAds1sLPV/CTFu7TIjlqV/n2hcfI5jtTPIfVEpuGQO... RKB8X2YW8ZQHJXWH7              15   \n",
       "\n",
       "                                                                      c_mileage_delta  \\\n",
       "c_van17                                            c_driveid                            \n",
       "AAI++FbFvGFjTRtS+sYQxbLNvUQn4kc+hsP0LGI6S3ve484... XDVU1W32WZQ9VWHLM               19   \n",
       "AAI+26A37RgahMuzcWes4C9Hv4JkH1vGrsUmlWEPfY8bd9a... 15C7XN9MTXQ7ZR8NE               16   \n",
       "AAI+7mTyMJjfnMPfU+XvKO3HHyzmfBes7caWhgEJJPgkRsF... NBMCRAN0THQGPEEKS               16   \n",
       "AAI+DfQDiYeMURNBU0dTogguwdbaJBBx9EjUlbwLTZj+MP8... 95F7ERPUHLQG32GTG               15   \n",
       "AAI+IitPzy4O25EL9NovKdeUbMX1oA/VG1v0k9Rno9243ar... UGTNSP6PXFQYXJEED               31   \n",
       "...                                                                               ...   \n",
       "AAPztGrxkOpS+Y4Muorqm7CIMpCl3qnQxwznZid4GYd90jn... T0WM5S4ZB4QFGY21F               19   \n",
       "AAPzwJ1qR2Nw+u1zXpqT9uoVf23PFzBqIMvj9hab1cxL1Yi... TE2PZ4SAZ1QGTLG21               17   \n",
       "AAPzxgn9sTmYGgR6BVwE4m1001qPY6aWsytuHqe4BrN9MdY... MNEVLT311HQ09KTCT               27   \n",
       "AAPzybKsRS1W9u+YhS2OQ6IQlMeL9OuHdoqMqcj5s4I+iUl... CXXPJ0PCU7QMB6KWZ               15   \n",
       "AAPzycAds1sLPV/CTFu7TIjlqV/n2hcfI5jtTPIfVEpuGQO... RKB8X2YW8ZQHJXWH7               15   \n",
       "\n",
       "                                                                      c_bcbehvenergystart_kwh  \\\n",
       "c_van17                                            c_driveid                                    \n",
       "AAI++FbFvGFjTRtS+sYQxbLNvUQn4kc+hsP0LGI6S3ve484... XDVU1W32WZQ9VWHLM                       19   \n",
       "AAI+26A37RgahMuzcWes4C9Hv4JkH1vGrsUmlWEPfY8bd9a... 15C7XN9MTXQ7ZR8NE                       16   \n",
       "AAI+7mTyMJjfnMPfU+XvKO3HHyzmfBes7caWhgEJJPgkRsF... NBMCRAN0THQGPEEKS                        0   \n",
       "AAI+DfQDiYeMURNBU0dTogguwdbaJBBx9EjUlbwLTZj+MP8... 95F7ERPUHLQG32GTG                        0   \n",
       "AAI+IitPzy4O25EL9NovKdeUbMX1oA/VG1v0k9Rno9243ar... UGTNSP6PXFQYXJEED                       31   \n",
       "...                                                                                       ...   \n",
       "AAPztGrxkOpS+Y4Muorqm7CIMpCl3qnQxwznZid4GYd90jn... T0WM5S4ZB4QFGY21F                       19   \n",
       "AAPzwJ1qR2Nw+u1zXpqT9uoVf23PFzBqIMvj9hab1cxL1Yi... TE2PZ4SAZ1QGTLG21                       17   \n",
       "AAPzxgn9sTmYGgR6BVwE4m1001qPY6aWsytuHqe4BrN9MdY... MNEVLT311HQ09KTCT                       27   \n",
       "AAPzybKsRS1W9u+YhS2OQ6IQlMeL9OuHdoqMqcj5s4I+iUl... CXXPJ0PCU7QMB6KWZ                        0   \n",
       "AAPzycAds1sLPV/CTFu7TIjlqV/n2hcfI5jtTPIfVEpuGQO... RKB8X2YW8ZQHJXWH7                       15   \n",
       "\n",
       "                                                                      c_bcbehvenergyend_kwh  \\\n",
       "c_van17                                            c_driveid                                  \n",
       "AAI++FbFvGFjTRtS+sYQxbLNvUQn4kc+hsP0LGI6S3ve484... XDVU1W32WZQ9VWHLM                     19   \n",
       "AAI+26A37RgahMuzcWes4C9Hv4JkH1vGrsUmlWEPfY8bd9a... 15C7XN9MTXQ7ZR8NE                     16   \n",
       "AAI+7mTyMJjfnMPfU+XvKO3HHyzmfBes7caWhgEJJPgkRsF... NBMCRAN0THQGPEEKS                      0   \n",
       "AAI+DfQDiYeMURNBU0dTogguwdbaJBBx9EjUlbwLTZj+MP8... 95F7ERPUHLQG32GTG                      0   \n",
       "AAI+IitPzy4O25EL9NovKdeUbMX1oA/VG1v0k9Rno9243ar... UGTNSP6PXFQYXJEED                     31   \n",
       "...                                                                                     ...   \n",
       "AAPztGrxkOpS+Y4Muorqm7CIMpCl3qnQxwznZid4GYd90jn... T0WM5S4ZB4QFGY21F                     19   \n",
       "AAPzwJ1qR2Nw+u1zXpqT9uoVf23PFzBqIMvj9hab1cxL1Yi... TE2PZ4SAZ1QGTLG21                     17   \n",
       "AAPzxgn9sTmYGgR6BVwE4m1001qPY6aWsytuHqe4BrN9MdY... MNEVLT311HQ09KTCT                     27   \n",
       "AAPzybKsRS1W9u+YhS2OQ6IQlMeL9OuHdoqMqcj5s4I+iUl... CXXPJ0PCU7QMB6KWZ                      0   \n",
       "AAPzycAds1sLPV/CTFu7TIjlqV/n2hcfI5jtTPIfVEpuGQO... RKB8X2YW8ZQHJXWH7                     15   \n",
       "\n",
       "                                                                      c_drive_number_per_car  \\\n",
       "c_van17                                            c_driveid                                   \n",
       "AAI++FbFvGFjTRtS+sYQxbLNvUQn4kc+hsP0LGI6S3ve484... XDVU1W32WZQ9VWHLM                      19   \n",
       "AAI+26A37RgahMuzcWes4C9Hv4JkH1vGrsUmlWEPfY8bd9a... 15C7XN9MTXQ7ZR8NE                      16   \n",
       "AAI+7mTyMJjfnMPfU+XvKO3HHyzmfBes7caWhgEJJPgkRsF... NBMCRAN0THQGPEEKS                      16   \n",
       "AAI+DfQDiYeMURNBU0dTogguwdbaJBBx9EjUlbwLTZj+MP8... 95F7ERPUHLQG32GTG                      15   \n",
       "AAI+IitPzy4O25EL9NovKdeUbMX1oA/VG1v0k9Rno9243ar... UGTNSP6PXFQYXJEED                      31   \n",
       "...                                                                                      ...   \n",
       "AAPztGrxkOpS+Y4Muorqm7CIMpCl3qnQxwznZid4GYd90jn... T0WM5S4ZB4QFGY21F                      19   \n",
       "AAPzwJ1qR2Nw+u1zXpqT9uoVf23PFzBqIMvj9hab1cxL1Yi... TE2PZ4SAZ1QGTLG21                      17   \n",
       "AAPzxgn9sTmYGgR6BVwE4m1001qPY6aWsytuHqe4BrN9MdY... MNEVLT311HQ09KTCT                      27   \n",
       "AAPzybKsRS1W9u+YhS2OQ6IQlMeL9OuHdoqMqcj5s4I+iUl... CXXPJ0PCU7QMB6KWZ                      15   \n",
       "AAPzycAds1sLPV/CTFu7TIjlqV/n2hcfI5jtTPIfVEpuGQO... RKB8X2YW8ZQHJXWH7                      15   \n",
       "\n",
       "                                                                      c_number_of_drives_per_car  \\\n",
       "c_van17                                            c_driveid                                       \n",
       "AAI++FbFvGFjTRtS+sYQxbLNvUQn4kc+hsP0LGI6S3ve484... XDVU1W32WZQ9VWHLM                          19   \n",
       "AAI+26A37RgahMuzcWes4C9Hv4JkH1vGrsUmlWEPfY8bd9a... 15C7XN9MTXQ7ZR8NE                          16   \n",
       "AAI+7mTyMJjfnMPfU+XvKO3HHyzmfBes7caWhgEJJPgkRsF... NBMCRAN0THQGPEEKS                          16   \n",
       "AAI+DfQDiYeMURNBU0dTogguwdbaJBBx9EjUlbwLTZj+MP8... 95F7ERPUHLQG32GTG                          15   \n",
       "AAI+IitPzy4O25EL9NovKdeUbMX1oA/VG1v0k9Rno9243ar... UGTNSP6PXFQYXJEED                          31   \n",
       "...                                                                                          ...   \n",
       "AAPztGrxkOpS+Y4Muorqm7CIMpCl3qnQxwznZid4GYd90jn... T0WM5S4ZB4QFGY21F                          19   \n",
       "AAPzwJ1qR2Nw+u1zXpqT9uoVf23PFzBqIMvj9hab1cxL1Yi... TE2PZ4SAZ1QGTLG21                          17   \n",
       "AAPzxgn9sTmYGgR6BVwE4m1001qPY6aWsytuHqe4BrN9MdY... MNEVLT311HQ09KTCT                          27   \n",
       "AAPzybKsRS1W9u+YhS2OQ6IQlMeL9OuHdoqMqcj5s4I+iUl... CXXPJ0PCU7QMB6KWZ                          15   \n",
       "AAPzycAds1sLPV/CTFu7TIjlqV/n2hcfI5jtTPIfVEpuGQO... RKB8X2YW8ZQHJXWH7                          15   \n",
       "\n",
       "                                                                      c_gcad  \\\n",
       "c_van17                                            c_driveid                   \n",
       "AAI++FbFvGFjTRtS+sYQxbLNvUQn4kc+hsP0LGI6S3ve484... XDVU1W32WZQ9VWHLM      19   \n",
       "AAI+26A37RgahMuzcWes4C9Hv4JkH1vGrsUmlWEPfY8bd9a... 15C7XN9MTXQ7ZR8NE      16   \n",
       "AAI+7mTyMJjfnMPfU+XvKO3HHyzmfBes7caWhgEJJPgkRsF... NBMCRAN0THQGPEEKS      16   \n",
       "AAI+DfQDiYeMURNBU0dTogguwdbaJBBx9EjUlbwLTZj+MP8... 95F7ERPUHLQG32GTG      15   \n",
       "AAI+IitPzy4O25EL9NovKdeUbMX1oA/VG1v0k9Rno9243ar... UGTNSP6PXFQYXJEED      31   \n",
       "...                                                                      ...   \n",
       "AAPztGrxkOpS+Y4Muorqm7CIMpCl3qnQxwznZid4GYd90jn... T0WM5S4ZB4QFGY21F      19   \n",
       "AAPzwJ1qR2Nw+u1zXpqT9uoVf23PFzBqIMvj9hab1cxL1Yi... TE2PZ4SAZ1QGTLG21      17   \n",
       "AAPzxgn9sTmYGgR6BVwE4m1001qPY6aWsytuHqe4BrN9MdY... MNEVLT311HQ09KTCT      27   \n",
       "AAPzybKsRS1W9u+YhS2OQ6IQlMeL9OuHdoqMqcj5s4I+iUl... CXXPJ0PCU7QMB6KWZ      15   \n",
       "AAPzycAds1sLPV/CTFu7TIjlqV/n2hcfI5jtTPIfVEpuGQO... RKB8X2YW8ZQHJXWH7      15   \n",
       "\n",
       "                                                                      c_is_active_profile  \\\n",
       "c_van17                                            c_driveid                                \n",
       "AAI++FbFvGFjTRtS+sYQxbLNvUQn4kc+hsP0LGI6S3ve484... XDVU1W32WZQ9VWHLM                   19   \n",
       "AAI+26A37RgahMuzcWes4C9Hv4JkH1vGrsUmlWEPfY8bd9a... 15C7XN9MTXQ7ZR8NE                   16   \n",
       "AAI+7mTyMJjfnMPfU+XvKO3HHyzmfBes7caWhgEJJPgkRsF... NBMCRAN0THQGPEEKS                   16   \n",
       "AAI+DfQDiYeMURNBU0dTogguwdbaJBBx9EjUlbwLTZj+MP8... 95F7ERPUHLQG32GTG                   15   \n",
       "AAI+IitPzy4O25EL9NovKdeUbMX1oA/VG1v0k9Rno9243ar... UGTNSP6PXFQYXJEED                   31   \n",
       "...                                                                                   ...   \n",
       "AAPztGrxkOpS+Y4Muorqm7CIMpCl3qnQxwznZid4GYd90jn... T0WM5S4ZB4QFGY21F                   19   \n",
       "AAPzwJ1qR2Nw+u1zXpqT9uoVf23PFzBqIMvj9hab1cxL1Yi... TE2PZ4SAZ1QGTLG21                   17   \n",
       "AAPzxgn9sTmYGgR6BVwE4m1001qPY6aWsytuHqe4BrN9MdY... MNEVLT311HQ09KTCT                   27   \n",
       "AAPzybKsRS1W9u+YhS2OQ6IQlMeL9OuHdoqMqcj5s4I+iUl... CXXPJ0PCU7QMB6KWZ                   15   \n",
       "AAPzycAds1sLPV/CTFu7TIjlqV/n2hcfI5jtTPIfVEpuGQO... RKB8X2YW8ZQHJXWH7                   15   \n",
       "\n",
       "                                                                      c_is_guest_profile  \\\n",
       "c_van17                                            c_driveid                               \n",
       "AAI++FbFvGFjTRtS+sYQxbLNvUQn4kc+hsP0LGI6S3ve484... XDVU1W32WZQ9VWHLM                  19   \n",
       "AAI+26A37RgahMuzcWes4C9Hv4JkH1vGrsUmlWEPfY8bd9a... 15C7XN9MTXQ7ZR8NE                  16   \n",
       "AAI+7mTyMJjfnMPfU+XvKO3HHyzmfBes7caWhgEJJPgkRsF... NBMCRAN0THQGPEEKS                  16   \n",
       "AAI+DfQDiYeMURNBU0dTogguwdbaJBBx9EjUlbwLTZj+MP8... 95F7ERPUHLQG32GTG                  15   \n",
       "AAI+IitPzy4O25EL9NovKdeUbMX1oA/VG1v0k9Rno9243ar... UGTNSP6PXFQYXJEED                  31   \n",
       "...                                                                                  ...   \n",
       "AAPztGrxkOpS+Y4Muorqm7CIMpCl3qnQxwznZid4GYd90jn... T0WM5S4ZB4QFGY21F                  19   \n",
       "AAPzwJ1qR2Nw+u1zXpqT9uoVf23PFzBqIMvj9hab1cxL1Yi... TE2PZ4SAZ1QGTLG21                  17   \n",
       "AAPzxgn9sTmYGgR6BVwE4m1001qPY6aWsytuHqe4BrN9MdY... MNEVLT311HQ09KTCT                  27   \n",
       "AAPzybKsRS1W9u+YhS2OQ6IQlMeL9OuHdoqMqcj5s4I+iUl... CXXPJ0PCU7QMB6KWZ                  15   \n",
       "AAPzycAds1sLPV/CTFu7TIjlqV/n2hcfI5jtTPIfVEpuGQO... RKB8X2YW8ZQHJXWH7                  15   \n",
       "\n",
       "                                                                      c_touchscreen_used  \\\n",
       "c_van17                                            c_driveid                               \n",
       "AAI++FbFvGFjTRtS+sYQxbLNvUQn4kc+hsP0LGI6S3ve484... XDVU1W32WZQ9VWHLM                  19   \n",
       "AAI+26A37RgahMuzcWes4C9Hv4JkH1vGrsUmlWEPfY8bd9a... 15C7XN9MTXQ7ZR8NE                  16   \n",
       "AAI+7mTyMJjfnMPfU+XvKO3HHyzmfBes7caWhgEJJPgkRsF... NBMCRAN0THQGPEEKS                  16   \n",
       "AAI+DfQDiYeMURNBU0dTogguwdbaJBBx9EjUlbwLTZj+MP8... 95F7ERPUHLQG32GTG                  15   \n",
       "AAI+IitPzy4O25EL9NovKdeUbMX1oA/VG1v0k9Rno9243ar... UGTNSP6PXFQYXJEED                  31   \n",
       "...                                                                                  ...   \n",
       "AAPztGrxkOpS+Y4Muorqm7CIMpCl3qnQxwznZid4GYd90jn... T0WM5S4ZB4QFGY21F                  19   \n",
       "AAPzwJ1qR2Nw+u1zXpqT9uoVf23PFzBqIMvj9hab1cxL1Yi... TE2PZ4SAZ1QGTLG21                  17   \n",
       "AAPzxgn9sTmYGgR6BVwE4m1001qPY6aWsytuHqe4BrN9MdY... MNEVLT311HQ09KTCT                  27   \n",
       "AAPzybKsRS1W9u+YhS2OQ6IQlMeL9OuHdoqMqcj5s4I+iUl... CXXPJ0PCU7QMB6KWZ                  15   \n",
       "AAPzycAds1sLPV/CTFu7TIjlqV/n2hcfI5jtTPIfVEpuGQO... RKB8X2YW8ZQHJXWH7                  15   \n",
       "\n",
       "                                                                      c_touchscreen_used_count  \\\n",
       "c_van17                                            c_driveid                                     \n",
       "AAI++FbFvGFjTRtS+sYQxbLNvUQn4kc+hsP0LGI6S3ve484... XDVU1W32WZQ9VWHLM                        19   \n",
       "AAI+26A37RgahMuzcWes4C9Hv4JkH1vGrsUmlWEPfY8bd9a... 15C7XN9MTXQ7ZR8NE                        16   \n",
       "AAI+7mTyMJjfnMPfU+XvKO3HHyzmfBes7caWhgEJJPgkRsF... NBMCRAN0THQGPEEKS                        16   \n",
       "AAI+DfQDiYeMURNBU0dTogguwdbaJBBx9EjUlbwLTZj+MP8... 95F7ERPUHLQG32GTG                        15   \n",
       "AAI+IitPzy4O25EL9NovKdeUbMX1oA/VG1v0k9Rno9243ar... UGTNSP6PXFQYXJEED                        31   \n",
       "...                                                                                        ...   \n",
       "AAPztGrxkOpS+Y4Muorqm7CIMpCl3qnQxwznZid4GYd90jn... T0WM5S4ZB4QFGY21F                        19   \n",
       "AAPzwJ1qR2Nw+u1zXpqT9uoVf23PFzBqIMvj9hab1cxL1Yi... TE2PZ4SAZ1QGTLG21                        17   \n",
       "AAPzxgn9sTmYGgR6BVwE4m1001qPY6aWsytuHqe4BrN9MdY... MNEVLT311HQ09KTCT                        27   \n",
       "AAPzybKsRS1W9u+YhS2OQ6IQlMeL9OuHdoqMqcj5s4I+iUl... CXXPJ0PCU7QMB6KWZ                        15   \n",
       "AAPzycAds1sLPV/CTFu7TIjlqV/n2hcfI5jtTPIfVEpuGQO... RKB8X2YW8ZQHJXWH7                        15   \n",
       "\n",
       "                                                                      c_first_last_mode  \n",
       "c_van17                                            c_driveid                             \n",
       "AAI++FbFvGFjTRtS+sYQxbLNvUQn4kc+hsP0LGI6S3ve484... XDVU1W32WZQ9VWHLM                 19  \n",
       "AAI+26A37RgahMuzcWes4C9Hv4JkH1vGrsUmlWEPfY8bd9a... 15C7XN9MTXQ7ZR8NE                 16  \n",
       "AAI+7mTyMJjfnMPfU+XvKO3HHyzmfBes7caWhgEJJPgkRsF... NBMCRAN0THQGPEEKS                 16  \n",
       "AAI+DfQDiYeMURNBU0dTogguwdbaJBBx9EjUlbwLTZj+MP8... 95F7ERPUHLQG32GTG                 15  \n",
       "AAI+IitPzy4O25EL9NovKdeUbMX1oA/VG1v0k9Rno9243ar... UGTNSP6PXFQYXJEED                 31  \n",
       "...                                                                                 ...  \n",
       "AAPztGrxkOpS+Y4Muorqm7CIMpCl3qnQxwznZid4GYd90jn... T0WM5S4ZB4QFGY21F                 19  \n",
       "AAPzwJ1qR2Nw+u1zXpqT9uoVf23PFzBqIMvj9hab1cxL1Yi... TE2PZ4SAZ1QGTLG21                 17  \n",
       "AAPzxgn9sTmYGgR6BVwE4m1001qPY6aWsytuHqe4BrN9MdY... MNEVLT311HQ09KTCT                 27  \n",
       "AAPzybKsRS1W9u+YhS2OQ6IQlMeL9OuHdoqMqcj5s4I+iUl... CXXPJ0PCU7QMB6KWZ                 15  \n",
       "AAPzycAds1sLPV/CTFu7TIjlqV/n2hcfI5jtTPIfVEpuGQO... RKB8X2YW8ZQHJXWH7                 15  \n",
       "\n",
       "[10000 rows x 67 columns]"
      ]
     },
     "execution_count": 9,
     "metadata": {},
     "output_type": "execute_result"
    }
   ],
   "source": [
    "climate_data_2021.groupby(['c_van17', 'c_driveid']).count()"
   ]
  },
  {
   "cell_type": "code",
   "execution_count": 5,
   "id": "d58d2880-17b8-4e85-89ae-24a6533292ca",
   "metadata": {
    "tags": []
   },
   "outputs": [
    {
     "data": {
      "text/html": [
       "<div>\n",
       "<style scoped>\n",
       "    .dataframe tbody tr th:only-of-type {\n",
       "        vertical-align: middle;\n",
       "    }\n",
       "\n",
       "    .dataframe tbody tr th {\n",
       "        vertical-align: top;\n",
       "    }\n",
       "\n",
       "    .dataframe thead th {\n",
       "        text-align: right;\n",
       "    }\n",
       "</style>\n",
       "<table border=\"1\" class=\"dataframe\">\n",
       "  <thead>\n",
       "    <tr style=\"text-align: right;\">\n",
       "      <th></th>\n",
       "      <th>c_van17</th>\n",
       "      <th>c_driveid</th>\n",
       "      <th>c_drive_timestamp_start</th>\n",
       "      <th>c_drive_timestamp_stop</th>\n",
       "      <th>c_msg_creation_timestamp</th>\n",
       "      <th>c_target_temp</th>\n",
       "      <th>c_blower_combined</th>\n",
       "      <th>c_air_mode_combined</th>\n",
       "      <th>c_blower_level</th>\n",
       "      <th>c_min_diff_ms_blower_level</th>\n",
       "      <th>c_blower_style</th>\n",
       "      <th>c_min_diff_ms_blower_style</th>\n",
       "      <th>c_air_dist</th>\n",
       "      <th>c_min_diff_ms_air_dist</th>\n",
       "      <th>c_auto_mode</th>\n",
       "      <th>c_min_diff_ms_auto_mode</th>\n",
       "      <th>c_pwf</th>\n",
       "      <th>c_pwf_group</th>\n",
       "      <th>c_row_number_drive</th>\n",
       "      <th>c_number_of_rows_drive</th>\n",
       "      <th>c_only_driving_duration_sec</th>\n",
       "      <th>c_event_duration_sec</th>\n",
       "      <th>c_min_diff_ms_target_temp</th>\n",
       "      <th>c_min_exteriortemperature_celsius</th>\n",
       "      <th>c_exteriortemperature_avg_celsius</th>\n",
       "      <th>c_max_exteriortemperature_celsius</th>\n",
       "      <th>c_interiortemperature_startup_celsius</th>\n",
       "      <th>c_drive_duration_sec</th>\n",
       "      <th>c_drive_duration_minutes</th>\n",
       "      <th>c_drive_weekday</th>\n",
       "      <th>c_year_month_day</th>\n",
       "      <th>c_weekofyear_year</th>\n",
       "      <th>c_weekend_drive</th>\n",
       "      <th>c_vehicle_live_time_days</th>\n",
       "      <th>c_avg_drives_per_day</th>\n",
       "      <th>c_avg_drives_per_week</th>\n",
       "      <th>c_avg_drives_per_month</th>\n",
       "      <th>c_timezonedelta</th>\n",
       "      <th>c_gpsregion_city_drive</th>\n",
       "      <th>c_gpsregion_lat_drive</th>\n",
       "      <th>c_gpsregion_long_drive</th>\n",
       "      <th>c_gpsregion_geohash_drive</th>\n",
       "      <th>c_gps_data_source</th>\n",
       "      <th>c_hub</th>\n",
       "      <th>c_country_iso_code</th>\n",
       "      <th>c_order_country</th>\n",
       "      <th>c_brand</th>\n",
       "      <th>c_derivat</th>\n",
       "      <th>c_marketing_name</th>\n",
       "      <th>c_steering_wheel_position</th>\n",
       "      <th>c_product_line</th>\n",
       "      <th>c_hybridkennzeichen</th>\n",
       "      <th>c_fuel_type_corrected_description</th>\n",
       "      <th>c_vehicle_class</th>\n",
       "      <th>c_script_version</th>\n",
       "      <th>c_mean_speed</th>\n",
       "      <th>c_mileage_start</th>\n",
       "      <th>c_mileage_stop</th>\n",
       "      <th>c_mileage_delta</th>\n",
       "      <th>c_bcbehvenergystart_kwh</th>\n",
       "      <th>c_bcbehvenergyend_kwh</th>\n",
       "      <th>c_drive_number_per_car</th>\n",
       "      <th>c_number_of_drives_per_car</th>\n",
       "      <th>c_gcad</th>\n",
       "      <th>c_is_active_profile</th>\n",
       "      <th>c_is_guest_profile</th>\n",
       "      <th>c_touchscreen_used</th>\n",
       "      <th>c_touchscreen_used_count</th>\n",
       "      <th>c_first_last_mode</th>\n",
       "    </tr>\n",
       "  </thead>\n",
       "  <tbody>\n",
       "    <tr>\n",
       "      <th>0</th>\n",
       "      <td>AAOR8ycnhk+g59Qlb3CesnGXOxEP0kucNid6FrcnlhY9EP...</td>\n",
       "      <td>63EVC1UH5AQ90EZMF</td>\n",
       "      <td>2021-05-20 06:30:37.627</td>\n",
       "      <td>2021-05-20 06:52:29.125</td>\n",
       "      <td>2021-05-20 06:30:37.899</td>\n",
       "      <td>18.5</td>\n",
       "      <td>Off</td>\n",
       "      <td>OFF</td>\n",
       "      <td>Off</td>\n",
       "      <td>258.0</td>\n",
       "      <td>KS_1</td>\n",
       "      <td>193.0</td>\n",
       "      <td>MITTE</td>\n",
       "      <td>inf</td>\n",
       "      <td>AUTO_OFF</td>\n",
       "      <td>2195.0</td>\n",
       "      <td>STAFKT_KUNDE_NICHT_IM_FZG</td>\n",
       "      <td>STAFKT_KUNDE_NICHT_IM_FZG</td>\n",
       "      <td>1</td>\n",
       "      <td>16</td>\n",
       "      <td>1026</td>\n",
       "      <td>0</td>\n",
       "      <td>1.0</td>\n",
       "      <td>35.0</td>\n",
       "      <td>36.0</td>\n",
       "      <td>37.0</td>\n",
       "      <td>25.7</td>\n",
       "      <td>1312</td>\n",
       "      <td>21.9</td>\n",
       "      <td>Thu</td>\n",
       "      <td>2021_5_20</td>\n",
       "      <td>20_2021</td>\n",
       "      <td>False</td>\n",
       "      <td>789.01</td>\n",
       "      <td>2.26</td>\n",
       "      <td>15.82</td>\n",
       "      <td>68.79</td>\n",
       "      <td>8.0</td>\n",
       "      <td>NaN</td>\n",
       "      <td>NaN</td>\n",
       "      <td>NaN</td>\n",
       "      <td>NaN</td>\n",
       "      <td>not_available</td>\n",
       "      <td>CN</td>\n",
       "      <td>NaN</td>\n",
       "      <td>CN</td>\n",
       "      <td>BMW</td>\n",
       "      <td>G08</td>\n",
       "      <td>iX3</td>\n",
       "      <td>LL</td>\n",
       "      <td>LK</td>\n",
       "      <td>BEVE</td>\n",
       "      <td>electrical</td>\n",
       "      <td>KKL+</td>\n",
       "      <td>MGUV6</td>\n",
       "      <td>14.86</td>\n",
       "      <td>5212.9</td>\n",
       "      <td>5218.35</td>\n",
       "      <td>5.45</td>\n",
       "      <td>NaN</td>\n",
       "      <td>NaN</td>\n",
       "      <td>902</td>\n",
       "      <td>1782</td>\n",
       "      <td>NOT VALID GCAD</td>\n",
       "      <td>False</td>\n",
       "      <td>False</td>\n",
       "      <td>True</td>\n",
       "      <td>63</td>\n",
       "      <td>OFF -&gt; OFF</td>\n",
       "    </tr>\n",
       "    <tr>\n",
       "      <th>1</th>\n",
       "      <td>AAOR8ycnhk+g59Qlb3CesnGXOxEP0kucNid6FrcnlhY9EP...</td>\n",
       "      <td>63EVC1UH5AQ90EZMF</td>\n",
       "      <td>2021-05-20 06:30:37.627</td>\n",
       "      <td>2021-05-20 06:52:29.125</td>\n",
       "      <td>2021-05-20 06:30:37.900</td>\n",
       "      <td>20.0</td>\n",
       "      <td>Off</td>\n",
       "      <td>OFF</td>\n",
       "      <td>Off</td>\n",
       "      <td>258.0</td>\n",
       "      <td>KS_1</td>\n",
       "      <td>193.0</td>\n",
       "      <td>MITTE</td>\n",
       "      <td>inf</td>\n",
       "      <td>AUTO_OFF</td>\n",
       "      <td>2195.0</td>\n",
       "      <td>STAFKT_KUNDE_NICHT_IM_FZG</td>\n",
       "      <td>STAFKT_KUNDE_NICHT_IM_FZG</td>\n",
       "      <td>2</td>\n",
       "      <td>16</td>\n",
       "      <td>1026</td>\n",
       "      <td>24</td>\n",
       "      <td>1.0</td>\n",
       "      <td>35.0</td>\n",
       "      <td>36.0</td>\n",
       "      <td>37.0</td>\n",
       "      <td>25.7</td>\n",
       "      <td>1312</td>\n",
       "      <td>21.9</td>\n",
       "      <td>Thu</td>\n",
       "      <td>2021_5_20</td>\n",
       "      <td>20_2021</td>\n",
       "      <td>False</td>\n",
       "      <td>789.01</td>\n",
       "      <td>2.26</td>\n",
       "      <td>15.82</td>\n",
       "      <td>68.79</td>\n",
       "      <td>8.0</td>\n",
       "      <td>NaN</td>\n",
       "      <td>NaN</td>\n",
       "      <td>NaN</td>\n",
       "      <td>NaN</td>\n",
       "      <td>not_available</td>\n",
       "      <td>CN</td>\n",
       "      <td>NaN</td>\n",
       "      <td>CN</td>\n",
       "      <td>BMW</td>\n",
       "      <td>G08</td>\n",
       "      <td>iX3</td>\n",
       "      <td>LL</td>\n",
       "      <td>LK</td>\n",
       "      <td>BEVE</td>\n",
       "      <td>electrical</td>\n",
       "      <td>KKL+</td>\n",
       "      <td>MGUV6</td>\n",
       "      <td>14.86</td>\n",
       "      <td>5212.9</td>\n",
       "      <td>5218.35</td>\n",
       "      <td>5.45</td>\n",
       "      <td>NaN</td>\n",
       "      <td>NaN</td>\n",
       "      <td>902</td>\n",
       "      <td>1782</td>\n",
       "      <td>NOT VALID GCAD</td>\n",
       "      <td>False</td>\n",
       "      <td>False</td>\n",
       "      <td>True</td>\n",
       "      <td>63</td>\n",
       "      <td>OFF -&gt; OFF</td>\n",
       "    </tr>\n",
       "    <tr>\n",
       "      <th>2</th>\n",
       "      <td>AAOR8ycnhk+g59Qlb3CesnGXOxEP0kucNid6FrcnlhY9EP...</td>\n",
       "      <td>63EVC1UH5AQ90EZMF</td>\n",
       "      <td>2021-05-20 06:30:37.627</td>\n",
       "      <td>2021-05-20 06:52:29.125</td>\n",
       "      <td>2021-05-20 06:31:01.323</td>\n",
       "      <td>20.0</td>\n",
       "      <td>Off</td>\n",
       "      <td>OFF</td>\n",
       "      <td>Off</td>\n",
       "      <td>258.0</td>\n",
       "      <td>KS_5</td>\n",
       "      <td>193.0</td>\n",
       "      <td>MITTE</td>\n",
       "      <td>inf</td>\n",
       "      <td>AUTO_OFF</td>\n",
       "      <td>2195.0</td>\n",
       "      <td>WOHNEN</td>\n",
       "      <td>WOHNEN</td>\n",
       "      <td>3</td>\n",
       "      <td>16</td>\n",
       "      <td>1026</td>\n",
       "      <td>5</td>\n",
       "      <td>1.0</td>\n",
       "      <td>35.0</td>\n",
       "      <td>36.0</td>\n",
       "      <td>37.0</td>\n",
       "      <td>25.7</td>\n",
       "      <td>1312</td>\n",
       "      <td>21.9</td>\n",
       "      <td>Thu</td>\n",
       "      <td>2021_5_20</td>\n",
       "      <td>20_2021</td>\n",
       "      <td>False</td>\n",
       "      <td>789.01</td>\n",
       "      <td>2.26</td>\n",
       "      <td>15.82</td>\n",
       "      <td>68.79</td>\n",
       "      <td>8.0</td>\n",
       "      <td>NaN</td>\n",
       "      <td>NaN</td>\n",
       "      <td>NaN</td>\n",
       "      <td>NaN</td>\n",
       "      <td>not_available</td>\n",
       "      <td>CN</td>\n",
       "      <td>NaN</td>\n",
       "      <td>CN</td>\n",
       "      <td>BMW</td>\n",
       "      <td>G08</td>\n",
       "      <td>iX3</td>\n",
       "      <td>LL</td>\n",
       "      <td>LK</td>\n",
       "      <td>BEVE</td>\n",
       "      <td>electrical</td>\n",
       "      <td>KKL+</td>\n",
       "      <td>MGUV6</td>\n",
       "      <td>14.86</td>\n",
       "      <td>5212.9</td>\n",
       "      <td>5218.35</td>\n",
       "      <td>5.45</td>\n",
       "      <td>NaN</td>\n",
       "      <td>NaN</td>\n",
       "      <td>902</td>\n",
       "      <td>1782</td>\n",
       "      <td>NOT VALID GCAD</td>\n",
       "      <td>False</td>\n",
       "      <td>False</td>\n",
       "      <td>True</td>\n",
       "      <td>63</td>\n",
       "      <td>OFF -&gt; OFF</td>\n",
       "    </tr>\n",
       "    <tr>\n",
       "      <th>3</th>\n",
       "      <td>AAOR8ycnhk+g59Qlb3CesnGXOxEP0kucNid6FrcnlhY9EP...</td>\n",
       "      <td>63EVC1UH5AQ90EZMF</td>\n",
       "      <td>2021-05-20 06:30:37.627</td>\n",
       "      <td>2021-05-20 06:52:29.125</td>\n",
       "      <td>2021-05-20 06:31:06.786</td>\n",
       "      <td>20.0</td>\n",
       "      <td>Off</td>\n",
       "      <td>OFF</td>\n",
       "      <td>Off</td>\n",
       "      <td>258.0</td>\n",
       "      <td>KS_5</td>\n",
       "      <td>193.0</td>\n",
       "      <td>MITTE</td>\n",
       "      <td>inf</td>\n",
       "      <td>AUTO_OFF</td>\n",
       "      <td>2195.0</td>\n",
       "      <td>FAHREN</td>\n",
       "      <td>FAHREN</td>\n",
       "      <td>4</td>\n",
       "      <td>16</td>\n",
       "      <td>1026</td>\n",
       "      <td>18</td>\n",
       "      <td>1.0</td>\n",
       "      <td>35.0</td>\n",
       "      <td>36.0</td>\n",
       "      <td>37.0</td>\n",
       "      <td>25.7</td>\n",
       "      <td>1312</td>\n",
       "      <td>21.9</td>\n",
       "      <td>Thu</td>\n",
       "      <td>2021_5_20</td>\n",
       "      <td>20_2021</td>\n",
       "      <td>False</td>\n",
       "      <td>789.01</td>\n",
       "      <td>2.26</td>\n",
       "      <td>15.82</td>\n",
       "      <td>68.79</td>\n",
       "      <td>8.0</td>\n",
       "      <td>NaN</td>\n",
       "      <td>NaN</td>\n",
       "      <td>NaN</td>\n",
       "      <td>NaN</td>\n",
       "      <td>not_available</td>\n",
       "      <td>CN</td>\n",
       "      <td>NaN</td>\n",
       "      <td>CN</td>\n",
       "      <td>BMW</td>\n",
       "      <td>G08</td>\n",
       "      <td>iX3</td>\n",
       "      <td>LL</td>\n",
       "      <td>LK</td>\n",
       "      <td>BEVE</td>\n",
       "      <td>electrical</td>\n",
       "      <td>KKL+</td>\n",
       "      <td>MGUV6</td>\n",
       "      <td>14.86</td>\n",
       "      <td>5212.9</td>\n",
       "      <td>5218.35</td>\n",
       "      <td>5.45</td>\n",
       "      <td>NaN</td>\n",
       "      <td>NaN</td>\n",
       "      <td>902</td>\n",
       "      <td>1782</td>\n",
       "      <td>NOT VALID GCAD</td>\n",
       "      <td>False</td>\n",
       "      <td>False</td>\n",
       "      <td>True</td>\n",
       "      <td>63</td>\n",
       "      <td>OFF -&gt; OFF</td>\n",
       "    </tr>\n",
       "    <tr>\n",
       "      <th>4</th>\n",
       "      <td>AAOR8ycnhk+g59Qlb3CesnGXOxEP0kucNid6FrcnlhY9EP...</td>\n",
       "      <td>63EVC1UH5AQ90EZMF</td>\n",
       "      <td>2021-05-20 06:30:37.627</td>\n",
       "      <td>2021-05-20 06:52:29.125</td>\n",
       "      <td>2021-05-20 06:31:24.081</td>\n",
       "      <td>16.0</td>\n",
       "      <td>KS_5</td>\n",
       "      <td>AUTO</td>\n",
       "      <td>BL_5</td>\n",
       "      <td>258.0</td>\n",
       "      <td>KS_5</td>\n",
       "      <td>193.0</td>\n",
       "      <td>MITTE</td>\n",
       "      <td>inf</td>\n",
       "      <td>AUTO_ON</td>\n",
       "      <td>2195.0</td>\n",
       "      <td>FAHREN</td>\n",
       "      <td>FAHREN</td>\n",
       "      <td>5</td>\n",
       "      <td>16</td>\n",
       "      <td>1026</td>\n",
       "      <td>3</td>\n",
       "      <td>1.0</td>\n",
       "      <td>35.0</td>\n",
       "      <td>36.0</td>\n",
       "      <td>37.0</td>\n",
       "      <td>25.7</td>\n",
       "      <td>1312</td>\n",
       "      <td>21.9</td>\n",
       "      <td>Thu</td>\n",
       "      <td>2021_5_20</td>\n",
       "      <td>20_2021</td>\n",
       "      <td>False</td>\n",
       "      <td>789.01</td>\n",
       "      <td>2.26</td>\n",
       "      <td>15.82</td>\n",
       "      <td>68.79</td>\n",
       "      <td>8.0</td>\n",
       "      <td>NaN</td>\n",
       "      <td>NaN</td>\n",
       "      <td>NaN</td>\n",
       "      <td>NaN</td>\n",
       "      <td>not_available</td>\n",
       "      <td>CN</td>\n",
       "      <td>NaN</td>\n",
       "      <td>CN</td>\n",
       "      <td>BMW</td>\n",
       "      <td>G08</td>\n",
       "      <td>iX3</td>\n",
       "      <td>LL</td>\n",
       "      <td>LK</td>\n",
       "      <td>BEVE</td>\n",
       "      <td>electrical</td>\n",
       "      <td>KKL+</td>\n",
       "      <td>MGUV6</td>\n",
       "      <td>14.86</td>\n",
       "      <td>5212.9</td>\n",
       "      <td>5218.35</td>\n",
       "      <td>5.45</td>\n",
       "      <td>NaN</td>\n",
       "      <td>NaN</td>\n",
       "      <td>902</td>\n",
       "      <td>1782</td>\n",
       "      <td>NOT VALID GCAD</td>\n",
       "      <td>False</td>\n",
       "      <td>False</td>\n",
       "      <td>True</td>\n",
       "      <td>63</td>\n",
       "      <td>OFF -&gt; OFF</td>\n",
       "    </tr>\n",
       "  </tbody>\n",
       "</table>\n",
       "</div>"
      ],
      "text/plain": [
       "                                             c_van17          c_driveid  \\\n",
       "0  AAOR8ycnhk+g59Qlb3CesnGXOxEP0kucNid6FrcnlhY9EP...  63EVC1UH5AQ90EZMF   \n",
       "1  AAOR8ycnhk+g59Qlb3CesnGXOxEP0kucNid6FrcnlhY9EP...  63EVC1UH5AQ90EZMF   \n",
       "2  AAOR8ycnhk+g59Qlb3CesnGXOxEP0kucNid6FrcnlhY9EP...  63EVC1UH5AQ90EZMF   \n",
       "3  AAOR8ycnhk+g59Qlb3CesnGXOxEP0kucNid6FrcnlhY9EP...  63EVC1UH5AQ90EZMF   \n",
       "4  AAOR8ycnhk+g59Qlb3CesnGXOxEP0kucNid6FrcnlhY9EP...  63EVC1UH5AQ90EZMF   \n",
       "\n",
       "   c_drive_timestamp_start   c_drive_timestamp_stop c_msg_creation_timestamp  \\\n",
       "0  2021-05-20 06:30:37.627  2021-05-20 06:52:29.125  2021-05-20 06:30:37.899   \n",
       "1  2021-05-20 06:30:37.627  2021-05-20 06:52:29.125  2021-05-20 06:30:37.900   \n",
       "2  2021-05-20 06:30:37.627  2021-05-20 06:52:29.125  2021-05-20 06:31:01.323   \n",
       "3  2021-05-20 06:30:37.627  2021-05-20 06:52:29.125  2021-05-20 06:31:06.786   \n",
       "4  2021-05-20 06:30:37.627  2021-05-20 06:52:29.125  2021-05-20 06:31:24.081   \n",
       "\n",
       "   c_target_temp c_blower_combined c_air_mode_combined c_blower_level  \\\n",
       "0           18.5               Off                 OFF            Off   \n",
       "1           20.0               Off                 OFF            Off   \n",
       "2           20.0               Off                 OFF            Off   \n",
       "3           20.0               Off                 OFF            Off   \n",
       "4           16.0              KS_5                AUTO           BL_5   \n",
       "\n",
       "   c_min_diff_ms_blower_level c_blower_style  c_min_diff_ms_blower_style  \\\n",
       "0                       258.0           KS_1                       193.0   \n",
       "1                       258.0           KS_1                       193.0   \n",
       "2                       258.0           KS_5                       193.0   \n",
       "3                       258.0           KS_5                       193.0   \n",
       "4                       258.0           KS_5                       193.0   \n",
       "\n",
       "  c_air_dist  c_min_diff_ms_air_dist c_auto_mode  c_min_diff_ms_auto_mode  \\\n",
       "0      MITTE                     inf    AUTO_OFF                   2195.0   \n",
       "1      MITTE                     inf    AUTO_OFF                   2195.0   \n",
       "2      MITTE                     inf    AUTO_OFF                   2195.0   \n",
       "3      MITTE                     inf    AUTO_OFF                   2195.0   \n",
       "4      MITTE                     inf     AUTO_ON                   2195.0   \n",
       "\n",
       "                       c_pwf                c_pwf_group  c_row_number_drive  \\\n",
       "0  STAFKT_KUNDE_NICHT_IM_FZG  STAFKT_KUNDE_NICHT_IM_FZG                   1   \n",
       "1  STAFKT_KUNDE_NICHT_IM_FZG  STAFKT_KUNDE_NICHT_IM_FZG                   2   \n",
       "2                     WOHNEN                     WOHNEN                   3   \n",
       "3                     FAHREN                     FAHREN                   4   \n",
       "4                     FAHREN                     FAHREN                   5   \n",
       "\n",
       "   c_number_of_rows_drive  c_only_driving_duration_sec  c_event_duration_sec  \\\n",
       "0                      16                         1026                     0   \n",
       "1                      16                         1026                    24   \n",
       "2                      16                         1026                     5   \n",
       "3                      16                         1026                    18   \n",
       "4                      16                         1026                     3   \n",
       "\n",
       "   c_min_diff_ms_target_temp  c_min_exteriortemperature_celsius  \\\n",
       "0                        1.0                               35.0   \n",
       "1                        1.0                               35.0   \n",
       "2                        1.0                               35.0   \n",
       "3                        1.0                               35.0   \n",
       "4                        1.0                               35.0   \n",
       "\n",
       "   c_exteriortemperature_avg_celsius  c_max_exteriortemperature_celsius  \\\n",
       "0                               36.0                               37.0   \n",
       "1                               36.0                               37.0   \n",
       "2                               36.0                               37.0   \n",
       "3                               36.0                               37.0   \n",
       "4                               36.0                               37.0   \n",
       "\n",
       "   c_interiortemperature_startup_celsius  c_drive_duration_sec  \\\n",
       "0                                   25.7                  1312   \n",
       "1                                   25.7                  1312   \n",
       "2                                   25.7                  1312   \n",
       "3                                   25.7                  1312   \n",
       "4                                   25.7                  1312   \n",
       "\n",
       "   c_drive_duration_minutes c_drive_weekday c_year_month_day  \\\n",
       "0                      21.9             Thu        2021_5_20   \n",
       "1                      21.9             Thu        2021_5_20   \n",
       "2                      21.9             Thu        2021_5_20   \n",
       "3                      21.9             Thu        2021_5_20   \n",
       "4                      21.9             Thu        2021_5_20   \n",
       "\n",
       "  c_weekofyear_year  c_weekend_drive  c_vehicle_live_time_days  \\\n",
       "0           20_2021            False                    789.01   \n",
       "1           20_2021            False                    789.01   \n",
       "2           20_2021            False                    789.01   \n",
       "3           20_2021            False                    789.01   \n",
       "4           20_2021            False                    789.01   \n",
       "\n",
       "   c_avg_drives_per_day  c_avg_drives_per_week  c_avg_drives_per_month  \\\n",
       "0                  2.26                  15.82                   68.79   \n",
       "1                  2.26                  15.82                   68.79   \n",
       "2                  2.26                  15.82                   68.79   \n",
       "3                  2.26                  15.82                   68.79   \n",
       "4                  2.26                  15.82                   68.79   \n",
       "\n",
       "   c_timezonedelta c_gpsregion_city_drive  c_gpsregion_lat_drive  \\\n",
       "0              8.0                    NaN                    NaN   \n",
       "1              8.0                    NaN                    NaN   \n",
       "2              8.0                    NaN                    NaN   \n",
       "3              8.0                    NaN                    NaN   \n",
       "4              8.0                    NaN                    NaN   \n",
       "\n",
       "   c_gpsregion_long_drive c_gpsregion_geohash_drive c_gps_data_source c_hub  \\\n",
       "0                     NaN                       NaN     not_available    CN   \n",
       "1                     NaN                       NaN     not_available    CN   \n",
       "2                     NaN                       NaN     not_available    CN   \n",
       "3                     NaN                       NaN     not_available    CN   \n",
       "4                     NaN                       NaN     not_available    CN   \n",
       "\n",
       "  c_country_iso_code c_order_country c_brand c_derivat c_marketing_name  \\\n",
       "0                NaN              CN     BMW       G08              iX3   \n",
       "1                NaN              CN     BMW       G08              iX3   \n",
       "2                NaN              CN     BMW       G08              iX3   \n",
       "3                NaN              CN     BMW       G08              iX3   \n",
       "4                NaN              CN     BMW       G08              iX3   \n",
       "\n",
       "  c_steering_wheel_position c_product_line c_hybridkennzeichen  \\\n",
       "0                        LL             LK                BEVE   \n",
       "1                        LL             LK                BEVE   \n",
       "2                        LL             LK                BEVE   \n",
       "3                        LL             LK                BEVE   \n",
       "4                        LL             LK                BEVE   \n",
       "\n",
       "  c_fuel_type_corrected_description c_vehicle_class c_script_version  \\\n",
       "0                        electrical            KKL+            MGUV6   \n",
       "1                        electrical            KKL+            MGUV6   \n",
       "2                        electrical            KKL+            MGUV6   \n",
       "3                        electrical            KKL+            MGUV6   \n",
       "4                        electrical            KKL+            MGUV6   \n",
       "\n",
       "   c_mean_speed  c_mileage_start  c_mileage_stop  c_mileage_delta  \\\n",
       "0         14.86           5212.9         5218.35             5.45   \n",
       "1         14.86           5212.9         5218.35             5.45   \n",
       "2         14.86           5212.9         5218.35             5.45   \n",
       "3         14.86           5212.9         5218.35             5.45   \n",
       "4         14.86           5212.9         5218.35             5.45   \n",
       "\n",
       "   c_bcbehvenergystart_kwh  c_bcbehvenergyend_kwh  c_drive_number_per_car  \\\n",
       "0                      NaN                    NaN                     902   \n",
       "1                      NaN                    NaN                     902   \n",
       "2                      NaN                    NaN                     902   \n",
       "3                      NaN                    NaN                     902   \n",
       "4                      NaN                    NaN                     902   \n",
       "\n",
       "   c_number_of_drives_per_car          c_gcad  c_is_active_profile  \\\n",
       "0                        1782  NOT VALID GCAD                False   \n",
       "1                        1782  NOT VALID GCAD                False   \n",
       "2                        1782  NOT VALID GCAD                False   \n",
       "3                        1782  NOT VALID GCAD                False   \n",
       "4                        1782  NOT VALID GCAD                False   \n",
       "\n",
       "   c_is_guest_profile  c_touchscreen_used  c_touchscreen_used_count  \\\n",
       "0               False                True                        63   \n",
       "1               False                True                        63   \n",
       "2               False                True                        63   \n",
       "3               False                True                        63   \n",
       "4               False                True                        63   \n",
       "\n",
       "  c_first_last_mode  \n",
       "0        OFF -> OFF  \n",
       "1        OFF -> OFF  \n",
       "2        OFF -> OFF  \n",
       "3        OFF -> OFF  \n",
       "4        OFF -> OFF  "
      ]
     },
     "execution_count": 5,
     "metadata": {},
     "output_type": "execute_result"
    }
   ],
   "source": [
    "climate_data_2021.head()"
   ]
  },
  {
   "cell_type": "code",
   "execution_count": null,
   "id": "284d4c5a-229a-4729-9733-34e03377bf91",
   "metadata": {},
   "outputs": [],
   "source": []
  },
  {
   "cell_type": "code",
   "execution_count": 6,
   "id": "f3c62bdb-d4d4-4a89-93ac-0de0af0d89bf",
   "metadata": {
    "tags": []
   },
   "outputs": [
    {
     "data": {
      "text/plain": [
       "['c_min_diff_ms_blower_level',\n",
       " 'c_min_diff_ms_blower_style',\n",
       " 'c_min_diff_ms_air_dist',\n",
       " 'c_min_diff_ms_auto_mode',\n",
       " 'c_min_diff_ms_target_temp',\n",
       " 'c_interiortemperature_startup_celsius',\n",
       " 'c_vehicle_live_time_days',\n",
       " 'c_gpsregion_geohash_drive',\n",
       " 'c_gps_data_source',\n",
       " 'c_hub',\n",
       " 'c_bcbehvenergystart_kwh',\n",
       " 'c_bcbehvenergyend_kwh',\n",
       " 'c_first_last_mode']"
      ]
     },
     "execution_count": 6,
     "metadata": {},
     "output_type": "execute_result"
    }
   ],
   "source": [
    "not_relevant_columns = [\n",
    "    'c_min_diff_ms_blower_level',\n",
    "    'c_min_diff_ms_blower_style',\n",
    "    'c_min_diff_ms_air_dist',\n",
    "    'c_min_diff_ms_auto_mode',\n",
    "    'c_min_diff_ms_target_temp',\n",
    "    'c_interiortemperature_startup_celsius',\n",
    "    'c_vehicle_live_time_days',\n",
    "    'c_gpsregion_geohash_drive',\n",
    "    'c_gps_data_source',\n",
    "    'c_hub',\n",
    "#     'c_country_iso_code',\n",
    "#     'c_hybriennzeichen',\n",
    "    'c_bcbehvenergystart_kwh',\n",
    "    'c_bcbehvenergyend_kwh',\n",
    "#     'c_touchscreen_used_count',\n",
    "    'c_first_last_mode',\n",
    "]\n",
    "not_relevant_columns"
   ]
  },
  {
   "cell_type": "code",
   "execution_count": 7,
   "id": "f30676db-0289-46d2-85e6-17a1db6bcf57",
   "metadata": {
    "tags": []
   },
   "outputs": [
    {
     "data": {
      "text/plain": [
       "(176374, 56)"
      ]
     },
     "execution_count": 7,
     "metadata": {},
     "output_type": "execute_result"
    }
   ],
   "source": [
    "climate_data_2021 = climate_data_2021.drop(columns = not_relevant_columns)\n",
    "climate_data_2021.shape"
   ]
  },
  {
   "attachments": {},
   "cell_type": "markdown",
   "id": "d3fc2cea",
   "metadata": {},
   "source": [
    "## Missing values check"
   ]
  },
  {
   "cell_type": "code",
   "execution_count": 8,
   "id": "688308b9-5ede-41a3-a7e4-acb56036131b",
   "metadata": {
    "scrolled": true,
    "tags": []
   },
   "outputs": [],
   "source": [
    "missing_vals_check = climate_data_2021.isna().sum()"
   ]
  },
  {
   "cell_type": "code",
   "execution_count": 9,
   "id": "ff3195d1",
   "metadata": {
    "tags": []
   },
   "outputs": [
    {
     "data": {
      "text/plain": [
       "['c_timezonedelta',\n",
       " 'c_gpsregion_city_drive',\n",
       " 'c_gpsregion_lat_drive',\n",
       " 'c_gpsregion_long_drive',\n",
       " 'c_country_iso_code']"
      ]
     },
     "execution_count": 9,
     "metadata": {},
     "output_type": "execute_result"
    }
   ],
   "source": [
    "missing_val_feature_and_count = missing_vals_check[missing_vals_check>0]\n",
    "missing_val_cols = missing_val_feature_and_count.keys().tolist()\n",
    "missing_val_cols"
   ]
  },
  {
   "cell_type": "code",
   "execution_count": 10,
   "id": "c2b3fdc6",
   "metadata": {
    "tags": []
   },
   "outputs": [
    {
     "data": {
      "text/plain": [
       "(176374, 51)"
      ]
     },
     "execution_count": 10,
     "metadata": {},
     "output_type": "execute_result"
    }
   ],
   "source": [
    "# Dropt the columns with missing values\n",
    "climate_data_2021 = climate_data_2021.drop(missing_val_cols, axis=1)\n",
    "climate_data_2021.shape"
   ]
  },
  {
   "cell_type": "code",
   "execution_count": 11,
   "id": "8ba82e7a",
   "metadata": {
    "scrolled": true,
    "tags": []
   },
   "outputs": [
    {
     "data": {
      "text/plain": [
       "c_van17                              0\n",
       "c_driveid                            0\n",
       "c_drive_timestamp_start              0\n",
       "c_drive_timestamp_stop               0\n",
       "c_msg_creation_timestamp             0\n",
       "c_target_temp                        0\n",
       "c_blower_combined                    0\n",
       "c_air_mode_combined                  0\n",
       "c_blower_level                       0\n",
       "c_blower_style                       0\n",
       "c_air_dist                           0\n",
       "c_auto_mode                          0\n",
       "c_pwf                                0\n",
       "c_pwf_group                          0\n",
       "c_row_number_drive                   0\n",
       "c_number_of_rows_drive               0\n",
       "c_only_driving_duration_sec          0\n",
       "c_event_duration_sec                 0\n",
       "c_min_exteriortemperature_celsius    0\n",
       "c_exteriortemperature_avg_celsius    0\n",
       "c_max_exteriortemperature_celsius    0\n",
       "c_drive_duration_sec                 0\n",
       "c_drive_duration_minutes             0\n",
       "c_drive_weekday                      0\n",
       "c_year_month_day                     0\n",
       "c_weekofyear_year                    0\n",
       "c_weekend_drive                      0\n",
       "c_avg_drives_per_day                 0\n",
       "c_avg_drives_per_week                0\n",
       "c_avg_drives_per_month               0\n",
       "c_order_country                      0\n",
       "c_brand                              0\n",
       "c_derivat                            0\n",
       "c_marketing_name                     0\n",
       "c_steering_wheel_position            0\n",
       "c_product_line                       0\n",
       "c_hybridkennzeichen                  0\n",
       "c_fuel_type_corrected_description    0\n",
       "c_vehicle_class                      0\n",
       "c_script_version                     0\n",
       "c_mean_speed                         0\n",
       "c_mileage_start                      0\n",
       "c_mileage_stop                       0\n",
       "c_mileage_delta                      0\n",
       "c_drive_number_per_car               0\n",
       "c_number_of_drives_per_car           0\n",
       "c_gcad                               0\n",
       "c_is_active_profile                  0\n",
       "c_is_guest_profile                   0\n",
       "c_touchscreen_used                   0\n",
       "c_touchscreen_used_count             0\n",
       "dtype: int64"
      ]
     },
     "execution_count": 11,
     "metadata": {},
     "output_type": "execute_result"
    }
   ],
   "source": [
    "climate_data_2021.isna().sum()"
   ]
  },
  {
   "attachments": {},
   "cell_type": "markdown",
   "id": "7bd29f54",
   "metadata": {},
   "source": [
    "## Uniquely identifyable cars"
   ]
  },
  {
   "cell_type": "code",
   "execution_count": null,
   "id": "1227299f",
   "metadata": {
    "tags": []
   },
   "outputs": [],
   "source": [
    "group_by_columns = ['c_marketing_name', \n",
    "     'c_steering_wheel_position', \n",
    "     'c_brand', \n",
    "     'c_product_line',\n",
    "     'c_derivat',\n",
    "     'c_brand',\n",
    "     'c_order_country',\n",
    "     'c_hybridkennzeichen',\n",
    "     'c_vehicle_class',\n",
    "    ]"
   ]
  },
  {
   "cell_type": "code",
   "execution_count": null,
   "id": "1f3540ee",
   "metadata": {
    "scrolled": true,
    "tags": []
   },
   "outputs": [],
   "source": [
    "# We are not using this rather using the c_van17\n",
    "total_uniq_cars = climate_data_2021.groupby(\n",
    "    group_by_columns).count()\n",
    "print(f\"Total number of uniquely identifyable cars: {total_uniq_cars.shape[0]}\")"
   ]
  },
  {
   "attachments": {},
   "cell_type": "markdown",
   "id": "1036ae4b",
   "metadata": {},
   "source": [
    "## Number of events per drive"
   ]
  },
  {
   "cell_type": "code",
   "execution_count": 12,
   "id": "a8eea09d",
   "metadata": {
    "tags": []
   },
   "outputs": [
    {
     "data": {
      "text/plain": [
       "(15, 88, 17.6374, 16.0)"
      ]
     },
     "execution_count": 12,
     "metadata": {},
     "output_type": "execute_result"
    }
   ],
   "source": [
    "# Getting the number of events per drive\n",
    "number_of_events_per_drive = climate_data_2021['c_driveid'].value_counts()\n",
    "# min, max, mean and median event count per drive\n",
    "number_of_events_per_drive.min(), number_of_events_per_drive.max(), number_of_events_per_drive.mean(), number_of_events_per_drive.median()"
   ]
  },
  {
   "cell_type": "code",
   "execution_count": 13,
   "id": "ee9ed7e0",
   "metadata": {
    "tags": []
   },
   "outputs": [
    {
     "data": {
      "image/png": "[encoded data removed]",
      "text/plain": [
       "<Figure size 640x480 with 1 Axes>"
      ]
     },
     "metadata": {},
     "output_type": "display_data"
    }
   ],
   "source": [
    "sns.histplot(number_of_events_per_drive)\n",
    "plt.xlabel('number of events per drive')\n",
    "plt.show()"
   ]
  },
  {
   "attachments": {},
   "cell_type": "markdown",
   "id": "20d859a7",
   "metadata": {},
   "source": [
    "## Drive count per car"
   ]
  },
  {
   "cell_type": "code",
   "execution_count": 64,
   "id": "706295a9",
   "metadata": {},
   "outputs": [
    {
     "data": {
      "text/plain": [
       "(1, 4, 1.0264832683227263, 1.0)"
      ]
     },
     "execution_count": 64,
     "metadata": {},
     "output_type": "execute_result"
    }
   ],
   "source": [
    "drive_per_van = climate_data_2021.groupby('c_van17')['c_driveid'].nunique()\n",
    "drive_per_van.min(), drive_per_van.max(), drive_per_van.mean(), drive_per_van.median()"
   ]
  },
  {
   "cell_type": "code",
   "execution_count": null,
   "id": "d863dc84",
   "metadata": {
    "tags": []
   },
   "outputs": [],
   "source": [
    "# We are not using this anymore since we are using the c_van17 for identifying vehicles\n",
    "\n",
    "# drive_count_per_car = climate_data_2021.groupby(\n",
    "#     group_by_columns).count()\n",
    "# print(f\"Total number of uniquely identifyable cars: {drive_count_per_car.shape[0]}\")"
   ]
  },
  {
   "cell_type": "code",
   "execution_count": 14,
   "id": "d152ecf9",
   "metadata": {
    "tags": []
   },
   "outputs": [
    {
     "name": "stdout",
     "output_type": "stream",
     "text": [
      "Total number of unique vehicles: 9742\n"
     ]
    }
   ],
   "source": [
    "drive_count_per_car = climate_data_2021['c_van17'].value_counts()\n",
    "print(f\"Total number of unique vehicles: {drive_count_per_car.shape[0]}\")"
   ]
  },
  {
   "cell_type": "code",
   "execution_count": 15,
   "id": "57495df8",
   "metadata": {
    "tags": []
   },
   "outputs": [
    {
     "data": {
      "text/plain": [
       "(15, 107, 18.104495996715254, 16.0)"
      ]
     },
     "execution_count": 15,
     "metadata": {},
     "output_type": "execute_result"
    }
   ],
   "source": [
    "# min, max, mean and median number of drives per car\n",
    "drive_count_per_car.min(), drive_count_per_car.max(), drive_count_per_car.mean(), drive_count_per_car.median()"
   ]
  },
  {
   "cell_type": "code",
   "execution_count": 16,
   "id": "5590a2a8",
   "metadata": {
    "tags": []
   },
   "outputs": [
    {
     "data": {
      "image/png": "[encoded data removed]",
      "text/plain": [
       "<Figure size 640x480 with 1 Axes>"
      ]
     },
     "metadata": {},
     "output_type": "display_data"
    }
   ],
   "source": [
    "# Drive count per car distribution\n",
    "sns.histplot(drive_count_per_car)\n",
    "plt.xlabel('drive count per car')\n",
    "plt.show()"
   ]
  },
  {
   "cell_type": "markdown",
   "id": "04acdf77",
   "metadata": {},
   "source": [
    "## Check the status of the vechile when the event happened"
   ]
  },
  {
   "cell_type": "code",
   "execution_count": 123,
   "id": "51899b13",
   "metadata": {},
   "outputs": [
    {
     "data": {
      "text/plain": [
       "array(['STAFKT_KUNDE_NICHT_IM_FZG', 'WOHNEN', 'FAHREN', 'PARKEN_BN_IO'],\n",
       "      dtype=object)"
      ]
     },
     "execution_count": 123,
     "metadata": {},
     "output_type": "execute_result"
    }
   ],
   "source": [
    "climate_data_2021['c_pwf_group'].unique()"
   ]
  },
  {
   "cell_type": "code",
   "execution_count": 114,
   "id": "8cdf30fd",
   "metadata": {},
   "outputs": [],
   "source": [
    "only_fahren_data = climate_data_2021[climate_data_2021['c_pwf_group'] == 'FAHREN']"
   ]
  },
  {
   "cell_type": "code",
   "execution_count": 118,
   "id": "f98f2572",
   "metadata": {},
   "outputs": [
    {
     "data": {
      "text/plain": [
       "1118"
      ]
     },
     "execution_count": 118,
     "metadata": {},
     "output_type": "execute_result"
    }
   ],
   "source": [
    "(only_fahren_data['c_driveid'].value_counts() >= 15).sum()"
   ]
  },
  {
   "cell_type": "code",
   "execution_count": 112,
   "id": "b669277b",
   "metadata": {},
   "outputs": [],
   "source": [
    "pwf_group_status_per_drive = climate_data_2021.groupby('c_driveid')['c_pwf'].nunique()"
   ]
  },
  {
   "cell_type": "code",
   "execution_count": 89,
   "id": "03bce74b",
   "metadata": {},
   "outputs": [
    {
     "data": {
      "text/plain": [
       "(10000,)"
      ]
     },
     "execution_count": 89,
     "metadata": {},
     "output_type": "execute_result"
    }
   ],
   "source": [
    "pwf_group_status_per_drive.shape"
   ]
  },
  {
   "cell_type": "code",
   "execution_count": 120,
   "id": "e2f824a3",
   "metadata": {},
   "outputs": [],
   "source": [
    "first_pwf_group_status_per_drive = climate_data_2021.groupby('c_driveid')['c_pwf_group'].first()"
   ]
  },
  {
   "cell_type": "code",
   "execution_count": 121,
   "id": "f4797d4d",
   "metadata": {},
   "outputs": [
    {
     "data": {
      "text/plain": [
       "c_driveid\n",
       "0000HR5MBWQ67BX7Y    STAFKT_KUNDE_NICHT_IM_FZG\n",
       "003G0YGN49Q8FSD6C                       WOHNEN\n",
       "007Y6B5N3NQ3V784T                       WOHNEN\n",
       "008M99XMUTQKUSLFB    STAFKT_KUNDE_NICHT_IM_FZG\n",
       "008TW5EL5KQWW9KZP                       FAHREN\n",
       "                               ...            \n",
       "ZZ1M05B75WQEY06Y6                       WOHNEN\n",
       "ZZ6P08NDBAQRSRLH1                       WOHNEN\n",
       "ZZASNZHK4SQ2JKHCL    STAFKT_KUNDE_NICHT_IM_FZG\n",
       "ZZJJ3AX7H0Q7G2RU9    STAFKT_KUNDE_NICHT_IM_FZG\n",
       "ZZMP7SUTKPQ8HCRKT                       FAHREN\n",
       "Name: c_pwf_group, Length: 10000, dtype: object"
      ]
     },
     "execution_count": 121,
     "metadata": {},
     "output_type": "execute_result"
    }
   ],
   "source": [
    "first_pwf_group_status_per_drive"
   ]
  },
  {
   "cell_type": "code",
   "execution_count": 122,
   "id": "b37a5415",
   "metadata": {},
   "outputs": [
    {
     "data": {
      "text/plain": [
       "([0, 1, 2, 3],\n",
       " [Text(0, 0, 'STAFKT_KUNDE_NICHT_IM_FZG'),\n",
       "  Text(1, 0, 'WOHNEN'),\n",
       "  Text(2, 0, 'FAHREN'),\n",
       "  Text(3, 0, 'PARKEN_BN_IO')])"
      ]
     },
     "execution_count": 122,
     "metadata": {},
     "output_type": "execute_result"
    },
    {
     "data": {
      "image/png": "[encoded data removed]",
      "text/plain": [
       "<Figure size 640x480 with 1 Axes>"
      ]
     },
     "metadata": {},
     "output_type": "display_data"
    }
   ],
   "source": [
    "sns.histplot(first_pwf_group_status_per_drive)\n",
    "plt.xticks(rotation=90)"
   ]
  },
  {
   "cell_type": "code",
   "execution_count": 102,
   "id": "9bb24cc5",
   "metadata": {},
   "outputs": [
    {
     "data": {
      "text/plain": [
       "4184"
      ]
     },
     "execution_count": 102,
     "metadata": {},
     "output_type": "execute_result"
    }
   ],
   "source": [
    "(first_pwf_group_status_per_drive == 'WOHNEN').sum()"
   ]
  },
  {
   "cell_type": "code",
   "execution_count": 95,
   "id": "eaeb5f30",
   "metadata": {},
   "outputs": [
    {
     "data": {
      "text/plain": [
       "(9931,)"
      ]
     },
     "execution_count": 95,
     "metadata": {},
     "output_type": "execute_result"
    }
   ],
   "source": [
    "pwf_group_status_per_drive[pwf_group_status_per_drive == 3].shape"
   ]
  },
  {
   "cell_type": "markdown",
   "id": "c0caef7c",
   "metadata": {},
   "source": [
    "## Check the blower status"
   ]
  },
  {
   "cell_type": "code",
   "execution_count": 124,
   "id": "9663f45e",
   "metadata": {},
   "outputs": [
    {
     "data": {
      "text/plain": [
       "Index(['c_van17', 'c_driveid', 'c_drive_timestamp_start',\n",
       "       'c_drive_timestamp_stop', 'c_msg_creation_timestamp', 'c_target_temp',\n",
       "       'c_blower_combined', 'c_air_mode_combined', 'c_blower_level',\n",
       "       'c_min_diff_ms_blower_level', 'c_blower_style',\n",
       "       'c_min_diff_ms_blower_style', 'c_air_dist', 'c_min_diff_ms_air_dist',\n",
       "       'c_auto_mode', 'c_min_diff_ms_auto_mode', 'c_pwf', 'c_pwf_group',\n",
       "       'c_row_number_drive', 'c_number_of_rows_drive',\n",
       "       'c_only_driving_duration_sec', 'c_event_duration_sec',\n",
       "       'c_min_diff_ms_target_temp', 'c_min_exteriortemperature_celsius',\n",
       "       'c_exteriortemperature_avg_celsius',\n",
       "       'c_max_exteriortemperature_celsius',\n",
       "       'c_interiortemperature_startup_celsius', 'c_drive_duration_sec',\n",
       "       'c_drive_duration_minutes', 'c_drive_weekday', 'c_year_month_day',\n",
       "       'c_weekofyear_year', 'c_weekend_drive', 'c_vehicle_live_time_days',\n",
       "       'c_avg_drives_per_day', 'c_avg_drives_per_week',\n",
       "       'c_avg_drives_per_month', 'c_timezonedelta', 'c_gpsregion_city_drive',\n",
       "       'c_gpsregion_lat_drive', 'c_gpsregion_long_drive',\n",
       "       'c_gpsregion_geohash_drive', 'c_gps_data_source', 'c_hub',\n",
       "       'c_country_iso_code', 'c_order_country', 'c_brand', 'c_derivat',\n",
       "       'c_marketing_name', 'c_steering_wheel_position', 'c_product_line',\n",
       "       'c_hybridkennzeichen', 'c_fuel_type_corrected_description',\n",
       "       'c_vehicle_class', 'c_script_version', 'c_mean_speed',\n",
       "       'c_mileage_start', 'c_mileage_stop', 'c_mileage_delta',\n",
       "       'c_bcbehvenergystart_kwh', 'c_bcbehvenergyend_kwh',\n",
       "       'c_drive_number_per_car', 'c_number_of_drives_per_car', 'c_gcad',\n",
       "       'c_is_active_profile', 'c_is_guest_profile', 'c_touchscreen_used',\n",
       "       'c_touchscreen_used_count', 'c_first_last_mode'],\n",
       "      dtype='object')"
      ]
     },
     "execution_count": 124,
     "metadata": {},
     "output_type": "execute_result"
    }
   ],
   "source": [
    "climate_data_2021.columns"
   ]
  },
  {
   "cell_type": "code",
   "execution_count": 125,
   "id": "bd4715c2",
   "metadata": {},
   "outputs": [
    {
     "data": {
      "text/html": [
       "<div>\n",
       "<style scoped>\n",
       "    .dataframe tbody tr th:only-of-type {\n",
       "        vertical-align: middle;\n",
       "    }\n",
       "\n",
       "    .dataframe tbody tr th {\n",
       "        vertical-align: top;\n",
       "    }\n",
       "\n",
       "    .dataframe thead th {\n",
       "        text-align: right;\n",
       "    }\n",
       "</style>\n",
       "<table border=\"1\" class=\"dataframe\">\n",
       "  <thead>\n",
       "    <tr style=\"text-align: right;\">\n",
       "      <th></th>\n",
       "      <th>c_blower_combined</th>\n",
       "      <th>c_auto_mode</th>\n",
       "    </tr>\n",
       "  </thead>\n",
       "  <tbody>\n",
       "    <tr>\n",
       "      <th>0</th>\n",
       "      <td>Off</td>\n",
       "      <td>AUTO_OFF</td>\n",
       "    </tr>\n",
       "    <tr>\n",
       "      <th>1</th>\n",
       "      <td>Off</td>\n",
       "      <td>AUTO_OFF</td>\n",
       "    </tr>\n",
       "    <tr>\n",
       "      <th>2</th>\n",
       "      <td>Off</td>\n",
       "      <td>AUTO_OFF</td>\n",
       "    </tr>\n",
       "    <tr>\n",
       "      <th>3</th>\n",
       "      <td>Off</td>\n",
       "      <td>AUTO_OFF</td>\n",
       "    </tr>\n",
       "    <tr>\n",
       "      <th>4</th>\n",
       "      <td>KS_5</td>\n",
       "      <td>AUTO_ON</td>\n",
       "    </tr>\n",
       "    <tr>\n",
       "      <th>...</th>\n",
       "      <td>...</td>\n",
       "      <td>...</td>\n",
       "    </tr>\n",
       "    <tr>\n",
       "      <th>176369</th>\n",
       "      <td>BL_9</td>\n",
       "      <td>AUTO_OFF</td>\n",
       "    </tr>\n",
       "    <tr>\n",
       "      <th>176370</th>\n",
       "      <td>BL_9</td>\n",
       "      <td>AUTO_OFF</td>\n",
       "    </tr>\n",
       "    <tr>\n",
       "      <th>176371</th>\n",
       "      <td>Off</td>\n",
       "      <td>AUTO_OFF</td>\n",
       "    </tr>\n",
       "    <tr>\n",
       "      <th>176372</th>\n",
       "      <td>Off</td>\n",
       "      <td>AUTO_OFF</td>\n",
       "    </tr>\n",
       "    <tr>\n",
       "      <th>176373</th>\n",
       "      <td>Off</td>\n",
       "      <td>AUTO_OFF</td>\n",
       "    </tr>\n",
       "  </tbody>\n",
       "</table>\n",
       "<p>176374 rows × 2 columns</p>\n",
       "</div>"
      ],
      "text/plain": [
       "       c_blower_combined c_auto_mode\n",
       "0                    Off    AUTO_OFF\n",
       "1                    Off    AUTO_OFF\n",
       "2                    Off    AUTO_OFF\n",
       "3                    Off    AUTO_OFF\n",
       "4                   KS_5     AUTO_ON\n",
       "...                  ...         ...\n",
       "176369              BL_9    AUTO_OFF\n",
       "176370              BL_9    AUTO_OFF\n",
       "176371               Off    AUTO_OFF\n",
       "176372               Off    AUTO_OFF\n",
       "176373               Off    AUTO_OFF\n",
       "\n",
       "[176374 rows x 2 columns]"
      ]
     },
     "execution_count": 125,
     "metadata": {},
     "output_type": "execute_result"
    }
   ],
   "source": [
    "climate_data_2021[['c_blower_combined', 'c_auto_mode']]"
   ]
  },
  {
   "cell_type": "code",
   "execution_count": 126,
   "id": "0a0c5bec",
   "metadata": {},
   "outputs": [
    {
     "data": {
      "text/plain": [
       "array(['AUTO_OFF', 'AUTO_ON'], dtype=object)"
      ]
     },
     "execution_count": 126,
     "metadata": {},
     "output_type": "execute_result"
    }
   ],
   "source": [
    "climate_data_2021['c_auto_mode'].unique()"
   ]
  },
  {
   "attachments": {},
   "cell_type": "markdown",
   "id": "ed1a8271",
   "metadata": {},
   "source": [
    "## Event duration across all events"
   ]
  },
  {
   "cell_type": "code",
   "execution_count": 17,
   "id": "87495342",
   "metadata": {
    "tags": []
   },
   "outputs": [
    {
     "data": {
      "text/plain": [
       "(0, 15714, 344.8267318312223, 86.0)"
      ]
     },
     "execution_count": 17,
     "metadata": {},
     "output_type": "execute_result"
    }
   ],
   "source": [
    "# Average event duration in seconds among all drives\n",
    "climate_data_2021['c_event_duration_sec'].min(), climate_data_2021['c_event_duration_sec'].max(), climate_data_2021['c_event_duration_sec'].mean(), climate_data_2021['c_event_duration_sec'].median()"
   ]
  },
  {
   "attachments": {},
   "cell_type": "markdown",
   "id": "1be4c816",
   "metadata": {},
   "source": [
    "##### TODO: Why 0 seconds?"
   ]
  },
  {
   "cell_type": "code",
   "execution_count": 18,
   "id": "1d6dc9ac",
   "metadata": {},
   "outputs": [
    {
     "data": {
      "text/plain": [
       "1804"
      ]
     },
     "execution_count": 18,
     "metadata": {},
     "output_type": "execute_result"
    }
   ],
   "source": [
    "# Total number of events with 0 second duration\n",
    "(climate_data_2021['c_event_duration_sec'] == 0).sum()"
   ]
  },
  {
   "cell_type": "code",
   "execution_count": 19,
   "id": "28d47632",
   "metadata": {
    "tags": []
   },
   "outputs": [
    {
     "data": {
      "image/png": "[encoded data removed]",
      "text/plain": [
       "<Figure size 640x480 with 1 Axes>"
      ]
     },
     "metadata": {},
     "output_type": "display_data"
    }
   ],
   "source": [
    "event_durations = climate_data_2021['c_event_duration_sec']\n",
    "sns.histplot(event_durations)\n",
    "plt.title(f\"Distribution of event duration across {climate_data_2021['c_driveid'].nunique()} drives\")\n",
    "plt.show()"
   ]
  },
  {
   "attachments": {},
   "cell_type": "markdown",
   "id": "65b3bd9a",
   "metadata": {},
   "source": [
    "## Elapsed time between the drive start and the occurence of the first event"
   ]
  },
  {
   "cell_type": "code",
   "execution_count": 20,
   "id": "c13ae850",
   "metadata": {
    "tags": []
   },
   "outputs": [
    {
     "data": {
      "text/plain": [
       "c_driveid\n",
       "0000HR5MBWQ67BX7Y    0.945\n",
       "003G0YGN49Q8FSD6C    0.105\n",
       "007Y6B5N3NQ3V784T    0.129\n",
       "008M99XMUTQKUSLFB    0.558\n",
       "008TW5EL5KQWW9KZP    0.449\n",
       "                     ...  \n",
       "ZZ1M05B75WQEY06Y6    0.862\n",
       "ZZ6P08NDBAQRSRLH1    0.077\n",
       "ZZASNZHK4SQ2JKHCL    0.166\n",
       "ZZJJ3AX7H0Q7G2RU9    0.675\n",
       "ZZMP7SUTKPQ8HCRKT    0.106\n",
       "Length: 10000, dtype: float64"
      ]
     },
     "execution_count": 20,
     "metadata": {},
     "output_type": "execute_result"
    }
   ],
   "source": [
    "climate_data_2021['c_drive_timestamp_start'] =  pd.to_datetime(climate_data_2021['c_drive_timestamp_start'])\n",
    "climate_data_2021['c_msg_creation_timestamp'] = pd.to_datetime(climate_data_2021['c_msg_creation_timestamp'])\n",
    "climate_data_2021['c_drive_timestamp_stop'] = pd.to_datetime(climate_data_2021['c_drive_timestamp_stop'])\n",
    "\n",
    "grouped_data = climate_data_2021.groupby('c_driveid')\n",
    "drive_start_to_first_event = (grouped_data['c_msg_creation_timestamp'].min() - grouped_data['c_drive_timestamp_start'].first()).dt.total_seconds()\n",
    "drive_start_to_first_event"
   ]
  },
  {
   "cell_type": "code",
   "execution_count": 21,
   "id": "0d6d9515",
   "metadata": {
    "tags": []
   },
   "outputs": [
    {
     "data": {
      "text/plain": [
       "9454"
      ]
     },
     "execution_count": 21,
     "metadata": {},
     "output_type": "execute_result"
    }
   ],
   "source": [
    "(drive_start_to_first_event < 1).sum()"
   ]
  },
  {
   "cell_type": "code",
   "execution_count": 22,
   "id": "dd503511",
   "metadata": {
    "tags": []
   },
   "outputs": [
    {
     "data": {
      "text/plain": [
       "(0.001, 7.583, 0.3518887, 0.226)"
      ]
     },
     "execution_count": 22,
     "metadata": {},
     "output_type": "execute_result"
    }
   ],
   "source": [
    "drive_start_to_first_event.min(), drive_start_to_first_event.max(), drive_start_to_first_event.mean(), drive_start_to_first_event.median()"
   ]
  },
  {
   "attachments": {},
   "cell_type": "markdown",
   "id": "8592b0e6",
   "metadata": {},
   "source": [
    "##### TODO: See the drive status and other relevant features to find out the reason behind 1 ms time diff"
   ]
  },
  {
   "cell_type": "code",
   "execution_count": 23,
   "id": "9d2f796d",
   "metadata": {
    "tags": []
   },
   "outputs": [
    {
     "data": {
      "image/png": "[encoded data removed]",
      "text/plain": [
       "<Figure size 640x480 with 1 Axes>"
      ]
     },
     "metadata": {},
     "output_type": "display_data"
    }
   ],
   "source": [
    "sns.histplot(drive_start_to_first_event)\n",
    "plt.title('Distribution of the elapsed time between the drive start and the occurence of the first event')\n",
    "plt.xlabel('elapsed seconds')\n",
    "plt.show()"
   ]
  },
  {
   "cell_type": "code",
   "execution_count": 24,
   "id": "72815755",
   "metadata": {
    "scrolled": true,
    "tags": []
   },
   "outputs": [
    {
     "data": {
      "text/plain": [
       "0"
      ]
     },
     "execution_count": 24,
     "metadata": {},
     "output_type": "execute_result"
    }
   ],
   "source": [
    "# Events that took place after 0 second of the start of the drive\n",
    "(drive_start_to_first_event==0.0).sum()"
   ]
  },
  {
   "cell_type": "code",
   "execution_count": 25,
   "id": "8e5487db",
   "metadata": {
    "scrolled": true,
    "tags": []
   },
   "outputs": [
    {
     "data": {
      "text/plain": [
       "c_driveid\n",
       "0000HR5MBWQ67BX7Y    1.781\n",
       "003G0YGN49Q8FSD6C    1.088\n",
       "007Y6B5N3NQ3V784T    1.544\n",
       "008M99XMUTQKUSLFB    1.772\n",
       "008TW5EL5KQWW9KZP    1.816\n",
       "                     ...  \n",
       "ZZ1M05B75WQEY06Y6    2.038\n",
       "ZZ6P08NDBAQRSRLH1    2.409\n",
       "ZZASNZHK4SQ2JKHCL    1.346\n",
       "ZZJJ3AX7H0Q7G2RU9    1.834\n",
       "ZZMP7SUTKPQ8HCRKT    1.175\n",
       "Length: 10000, dtype: float64"
      ]
     },
     "execution_count": 25,
     "metadata": {},
     "output_type": "execute_result"
    }
   ],
   "source": [
    "last_event_to_drive_end = (grouped_data['c_drive_timestamp_stop'].first() - grouped_data['c_msg_creation_timestamp'].max()).dt.total_seconds()\n",
    "\n",
    "# abs(pd.to_datetime(climate_data_2021.groupby(['c_driveid', 'c_drive_timestamp_stop'])['c_msg_creation_timestamp'].transform(\"max\")) - pd.to_datetime(climate_data_2021['c_drive_timestamp_stop'])).dt.total_seconds() * 1000\n",
    "last_event_to_drive_end"
   ]
  },
  {
   "cell_type": "code",
   "execution_count": 26,
   "id": "a5b58115",
   "metadata": {
    "tags": []
   },
   "outputs": [
    {
     "data": {
      "text/plain": [
       "(0.0, 5692.863, 5.769684599999999, 1.577)"
      ]
     },
     "execution_count": 26,
     "metadata": {},
     "output_type": "execute_result"
    }
   ],
   "source": [
    "last_event_to_drive_end.min(), last_event_to_drive_end.max(), last_event_to_drive_end.mean(), last_event_to_drive_end.median()"
   ]
  },
  {
   "cell_type": "code",
   "execution_count": 27,
   "id": "7ba753a9",
   "metadata": {},
   "outputs": [
    {
     "data": {
      "text/plain": [
       "9"
      ]
     },
     "execution_count": 27,
     "metadata": {},
     "output_type": "execute_result"
    }
   ],
   "source": [
    "(last_event_to_drive_end==0.0).sum()"
   ]
  },
  {
   "cell_type": "code",
   "execution_count": 28,
   "id": "046f770a",
   "metadata": {},
   "outputs": [],
   "source": [
    "# sns.histplot(last_event_to_drive_end)\n",
    "# plt.title('Distribution of the elapsed time between the last event and the drive end time')\n",
    "# plt.xlabel('elapsed seconds')"
   ]
  },
  {
   "attachments": {},
   "cell_type": "markdown",
   "id": "a2af8e4f",
   "metadata": {},
   "source": [
    "## Drive day distribution"
   ]
  },
  {
   "cell_type": "code",
   "execution_count": 29,
   "id": "012f5c59",
   "metadata": {
    "tags": []
   },
   "outputs": [
    {
     "data": {
      "text/html": [
       "<div>\n",
       "<style scoped>\n",
       "    .dataframe tbody tr th:only-of-type {\n",
       "        vertical-align: middle;\n",
       "    }\n",
       "\n",
       "    .dataframe tbody tr th {\n",
       "        vertical-align: top;\n",
       "    }\n",
       "\n",
       "    .dataframe thead th {\n",
       "        text-align: right;\n",
       "    }\n",
       "</style>\n",
       "<table border=\"1\" class=\"dataframe\">\n",
       "  <thead>\n",
       "    <tr style=\"text-align: right;\">\n",
       "      <th></th>\n",
       "      <th>Weekday</th>\n",
       "      <th>Count</th>\n",
       "    </tr>\n",
       "  </thead>\n",
       "  <tbody>\n",
       "    <tr>\n",
       "      <th>0</th>\n",
       "      <td>Sat</td>\n",
       "      <td>30488</td>\n",
       "    </tr>\n",
       "    <tr>\n",
       "      <th>1</th>\n",
       "      <td>Fri</td>\n",
       "      <td>28554</td>\n",
       "    </tr>\n",
       "    <tr>\n",
       "      <th>2</th>\n",
       "      <td>Sun</td>\n",
       "      <td>27571</td>\n",
       "    </tr>\n",
       "    <tr>\n",
       "      <th>3</th>\n",
       "      <td>Thu</td>\n",
       "      <td>23580</td>\n",
       "    </tr>\n",
       "    <tr>\n",
       "      <th>4</th>\n",
       "      <td>Mon</td>\n",
       "      <td>23258</td>\n",
       "    </tr>\n",
       "    <tr>\n",
       "      <th>5</th>\n",
       "      <td>Tue</td>\n",
       "      <td>21581</td>\n",
       "    </tr>\n",
       "    <tr>\n",
       "      <th>6</th>\n",
       "      <td>Wed</td>\n",
       "      <td>21342</td>\n",
       "    </tr>\n",
       "  </tbody>\n",
       "</table>\n",
       "</div>"
      ],
      "text/plain": [
       "  Weekday  Count\n",
       "0     Sat  30488\n",
       "1     Fri  28554\n",
       "2     Sun  27571\n",
       "3     Thu  23580\n",
       "4     Mon  23258\n",
       "5     Tue  21581\n",
       "6     Wed  21342"
      ]
     },
     "execution_count": 29,
     "metadata": {},
     "output_type": "execute_result"
    }
   ],
   "source": [
    "# weekday_drive_count = climate_data_2021.groupby('c_drive_weekday').count()\n",
    "# weekday_drive_count\n",
    "\n",
    "weekday_drive_counts = climate_data_2021['c_drive_weekday'].value_counts().reset_index()\n",
    "weekday_drive_counts\n",
    "weekday_drive_counts.columns = ['Weekday', 'Count']\n",
    "weekday_drive_counts"
   ]
  },
  {
   "cell_type": "code",
   "execution_count": 30,
   "id": "92f1cb81",
   "metadata": {
    "tags": []
   },
   "outputs": [
    {
     "data": {
      "image/png": "[encoded data removed]",
      "text/plain": [
       "<Figure size 800x600 with 1 Axes>"
      ]
     },
     "metadata": {},
     "output_type": "display_data"
    }
   ],
   "source": [
    "plt.figure(figsize=(8, 6))\n",
    "sns.barplot(x='Weekday', y='Count', data=weekday_drive_counts, palette='viridis')\n",
    "plt.title('Distribution of drives on different Weekdays')\n",
    "plt.xlabel('Weekday')\n",
    "plt.ylabel('Count')\n",
    "plt.show()"
   ]
  },
  {
   "cell_type": "code",
   "execution_count": 31,
   "id": "eb75aa66",
   "metadata": {
    "tags": []
   },
   "outputs": [
    {
     "data": {
      "text/plain": [
       "58370"
      ]
     },
     "execution_count": 31,
     "metadata": {},
     "output_type": "execute_result"
    }
   ],
   "source": [
    "climate_data_2021['c_weekend_drive'].sum()"
   ]
  },
  {
   "cell_type": "code",
   "execution_count": 32,
   "id": "f63bce4e",
   "metadata": {
    "tags": []
   },
   "outputs": [
    {
     "name": "stdout",
     "output_type": "stream",
     "text": [
      "Drive Counts:\n",
      "   Time Interval  Drive Counts\n",
      "0    01:00-03:00         11174\n",
      "1    03:00-05:00         12305\n",
      "2    05:00-07:00         18334\n",
      "3    07:00-09:00         19820\n",
      "4    09:00-11:00         19614\n",
      "5    11:00-13:00         19834\n",
      "6    13:00-15:00         18667\n",
      "7    15:00-17:00         16678\n",
      "8    17:00-19:00         13682\n",
      "9    19:00-21:00          9573\n",
      "10   21:00-23:00          8182\n",
      "11   23:00-01:00          3620\n"
     ]
    }
   ],
   "source": [
    "# Find the drive distribution according to different time intervals\n",
    "# Convert the 'timestamp' column to datetime type\n",
    "# df['timestamp'] = pd.to_datetime(df['timestamp'])\n",
    "\n",
    "# Define the time intervals\n",
    "time_intervals = ['01:00-03:00', \n",
    "                  '03:00-05:00', \n",
    "                  '05:00-07:00',\n",
    "                  '07:00-09:00', \n",
    "                  '09:00-11:00', \n",
    "                  '11:00-13:00', \n",
    "                  '13:00-15:00', \n",
    "                  '15:00-17:00', \n",
    "                  '17:00-19:00', \n",
    "                  '19:00-21:00', \n",
    "                  '21:00-23:00',\n",
    "                  '23:00-01:00'\n",
    "                 ]\n",
    "bins = [1, 3, 5, 7, 9, 11, 13, 15, 17, 19, 21, 23, 25]\n",
    "\n",
    "# Create a new column to represent the time interval\n",
    "climate_data_2021['time_interval'] = pd.cut(pd.to_datetime(climate_data_2021['c_drive_timestamp_start']).dt.hour, bins=bins, labels=time_intervals, right=False)\n",
    "\n",
    "# Count the number of rides in each time interval\n",
    "drive_counts = climate_data_2021['time_interval'].value_counts().sort_index().reset_index()\n",
    "drive_counts.columns = ['Time Interval', 'Drive Counts']\n",
    "\n",
    "# Print the counts\n",
    "print(\"Drive Counts:\")\n",
    "print(drive_counts)"
   ]
  },
  {
   "cell_type": "code",
   "execution_count": 33,
   "id": "506b176f",
   "metadata": {
    "tags": []
   },
   "outputs": [
    {
     "data": {
      "image/png": "[encoded data removed]",
      "text/plain": [
       "<Figure size 640x480 with 1 Axes>"
      ]
     },
     "metadata": {},
     "output_type": "display_data"
    }
   ],
   "source": [
    "# Plot the distribution\n",
    "\n",
    "drive_counts\n",
    "# Plot the barplot\n",
    "sns.barplot(data=drive_counts, x='Time Interval', y='Drive Counts')\n",
    "plt.xlabel('Time Interval')\n",
    "plt.ylabel('Drive Counts')\n",
    "plt.xticks(rotation=90) \n",
    "plt.title('Distribution of Drive Counts in different hours of the day')\n",
    "plt.show()"
   ]
  },
  {
   "attachments": {},
   "cell_type": "markdown",
   "id": "09e862d1",
   "metadata": {
    "tags": []
   },
   "source": [
    "## Distribution of the drive duration"
   ]
  },
  {
   "cell_type": "code",
   "execution_count": 34,
   "id": "b2e82bca",
   "metadata": {},
   "outputs": [],
   "source": [
    "unique_drive_durations = climate_data_2021['c_drive_duration_sec'].unique()"
   ]
  },
  {
   "cell_type": "code",
   "execution_count": 35,
   "id": "1a2d7719",
   "metadata": {
    "tags": []
   },
   "outputs": [
    {
     "data": {
      "text/plain": [
       "(80, 17957, 6302.727885062424, 5347.0)"
      ]
     },
     "execution_count": 35,
     "metadata": {},
     "output_type": "execute_result"
    }
   ],
   "source": [
    "# min, max, mean and median drive durations\n",
    "climate_data_2021['c_drive_duration_sec'].min(), climate_data_2021['c_drive_duration_sec'].max(), climate_data_2021['c_drive_duration_sec'].mean(), climate_data_2021['c_drive_duration_sec'].median()"
   ]
  },
  {
   "cell_type": "code",
   "execution_count": 36,
   "id": "2c01491f",
   "metadata": {
    "tags": []
   },
   "outputs": [
    {
     "data": {
      "image/png": "[encoded data removed]",
      "text/plain": [
       "<Figure size 640x480 with 1 Axes>"
      ]
     },
     "metadata": {},
     "output_type": "display_data"
    }
   ],
   "source": [
    "# Plot histogram\n",
    "sns.histplot(data=climate_data_2021['c_drive_duration_sec'], kde=True)\n",
    "plt.xlabel('Drive Duration (seconds)')\n",
    "plt.ylabel('Frequency')\n",
    "plt.title('Distribution of Drive Durations in seconds')\n",
    "plt.show()"
   ]
  },
  {
   "cell_type": "code",
   "execution_count": 37,
   "id": "a315402c",
   "metadata": {
    "tags": []
   },
   "outputs": [],
   "source": [
    "# Do longer drives have more events?\n"
   ]
  },
  {
   "attachments": {},
   "cell_type": "markdown",
   "id": "4658cfc1",
   "metadata": {},
   "source": [
    "### Average time gap between successive events"
   ]
  },
  {
   "cell_type": "code",
   "execution_count": 38,
   "id": "5a84a157",
   "metadata": {
    "tags": []
   },
   "outputs": [],
   "source": [
    "# Sorting the dataset with c_driveid and c_msg_creation_timestamp ascendingly\n",
    "climate_data_2021.sort_values(['c_driveid', 'c_msg_creation_timestamp'], inplace=True)"
   ]
  },
  {
   "attachments": {},
   "cell_type": "markdown",
   "id": "ea9e9a41",
   "metadata": {},
   "source": [
    "### Analyzing the drive with maximum event count"
   ]
  },
  {
   "cell_type": "code",
   "execution_count": 39,
   "id": "4c983fce",
   "metadata": {
    "tags": []
   },
   "outputs": [
    {
     "data": {
      "text/plain": [
       "'DRC585UJ2TQ95ZWRN'"
      ]
     },
     "execution_count": 39,
     "metadata": {},
     "output_type": "execute_result"
    }
   ],
   "source": [
    "drive_id_of_max_events = climate_data_2021['c_driveid'].value_counts().idxmax()\n",
    "drive_id_of_max_events"
   ]
  },
  {
   "cell_type": "code",
   "execution_count": 41,
   "id": "a6913c0b",
   "metadata": {
    "tags": []
   },
   "outputs": [
    {
     "data": {
      "text/plain": [
       "(88, 52)"
      ]
     },
     "execution_count": 41,
     "metadata": {},
     "output_type": "execute_result"
    }
   ],
   "source": [
    "drive_with_highest_events = climate_data_2021[climate_data_2021['c_driveid'] == drive_id_of_max_events]\n",
    "drive_with_highest_events.shape"
   ]
  },
  {
   "cell_type": "code",
   "execution_count": 42,
   "id": "92a8ffb0",
   "metadata": {
    "tags": []
   },
   "outputs": [
    {
     "data": {
      "image/png": "[encoded data removed]",
      "text/plain": [
       "<Figure size 640x480 with 1 Axes>"
      ]
     },
     "metadata": {},
     "output_type": "display_data"
    }
   ],
   "source": [
    "plt.plot(drive_with_highest_events['c_msg_creation_timestamp'], drive_with_highest_events['c_target_temp'])\n",
    "plt.xlabel('Timestamp')\n",
    "plt.ylabel('Target temp (deg. cel)')\n",
    "plt.title('Change of target temperature over Time (Drive ID: {})'.format(drive_id_of_max_events))\n",
    "plt.show()"
   ]
  },
  {
   "attachments": {},
   "cell_type": "markdown",
   "id": "4d2ec69a",
   "metadata": {},
   "source": [
    "### Capturing the event change within drives"
   ]
  },
  {
   "attachments": {},
   "cell_type": "markdown",
   "id": "9b48bfbf",
   "metadata": {},
   "source": [
    "##### A event change is defined as a change in the target_temp value"
   ]
  },
  {
   "cell_type": "code",
   "execution_count": 43,
   "id": "34402fef",
   "metadata": {
    "tags": []
   },
   "outputs": [
    {
     "data": {
      "text/plain": [
       "(1, 14, 3.0269, 3.0)"
      ]
     },
     "execution_count": 43,
     "metadata": {},
     "output_type": "execute_result"
    }
   ],
   "source": [
    "# To see how many unique temp values each drive has - a distribution\n",
    "climate_data_2021.groupby('c_driveid')['c_target_temp'].nunique().min(), climate_data_2021.groupby('c_driveid')['c_target_temp'].nunique().max(), climate_data_2021.groupby('c_driveid')['c_target_temp'].nunique().mean(), climate_data_2021.groupby('c_driveid')['c_target_temp'].nunique().median()"
   ]
  },
  {
   "cell_type": "code",
   "execution_count": 57,
   "id": "2335b19c",
   "metadata": {},
   "outputs": [
    {
     "data": {
      "text/plain": [
       "([0, 1, 2, 3, 4, 5, 6, 7, 8, 9],\n",
       " [Text(0, 0, 'UNTEN'),\n",
       "  Text(1, 0, 'MITTE'),\n",
       "  Text(2, 0, 'MAX_AC'),\n",
       "  Text(3, 0, 'MITTE_S_UNTEN'),\n",
       "  Text(4, 0, 'OBEN_S_MITTE'),\n",
       "  Text(5, 0, 'OBEN_S_MITTE_S_UNTEN'),\n",
       "  Text(6, 0, 'OFF'),\n",
       "  Text(7, 0, 'DEFROST'),\n",
       "  Text(8, 0, 'OBEN_S_UNTEN'),\n",
       "  Text(9, 0, 'OBEN')])"
      ]
     },
     "execution_count": 57,
     "metadata": {},
     "output_type": "execute_result"
    },
    {
     "data": {
      "image/png": "[encoded data removed]",
      "text/plain": [
       "<Figure size 640x480 with 1 Axes>"
      ]
     },
     "metadata": {},
     "output_type": "display_data"
    }
   ],
   "source": [
    "sns.histplot(climate_data_2021.c_air_dist)\n",
    "plt.xticks(rotation=90)"
   ]
  },
  {
   "cell_type": "code",
   "execution_count": 47,
   "id": "29a32c0b",
   "metadata": {},
   "outputs": [
    {
     "data": {
      "text/plain": [
       "<Axes: xlabel='c_blower_level', ylabel='Count'>"
      ]
     },
     "execution_count": 47,
     "metadata": {},
     "output_type": "execute_result"
    },
    {
     "data": {
      "image/png": "[encoded data removed]",
      "text/plain": [
       "<Figure size 640x480 with 1 Axes>"
      ]
     },
     "metadata": {},
     "output_type": "display_data"
    }
   ],
   "source": [
    "sns.histplot(climate_data_2021.c_blower_level)"
   ]
  },
  {
   "cell_type": "code",
   "execution_count": 44,
   "id": "08cc23b1",
   "metadata": {
    "tags": []
   },
   "outputs": [
    {
     "data": {
      "text/html": [
       "<div>\n",
       "<style scoped>\n",
       "    .dataframe tbody tr th:only-of-type {\n",
       "        vertical-align: middle;\n",
       "    }\n",
       "\n",
       "    .dataframe tbody tr th {\n",
       "        vertical-align: top;\n",
       "    }\n",
       "\n",
       "    .dataframe thead th {\n",
       "        text-align: right;\n",
       "    }\n",
       "</style>\n",
       "<table border=\"1\" class=\"dataframe\">\n",
       "  <thead>\n",
       "    <tr style=\"text-align: right;\">\n",
       "      <th></th>\n",
       "      <th>c_van17</th>\n",
       "      <th>c_driveid</th>\n",
       "      <th>c_drive_timestamp_start</th>\n",
       "      <th>c_drive_timestamp_stop</th>\n",
       "      <th>c_msg_creation_timestamp</th>\n",
       "      <th>c_target_temp</th>\n",
       "      <th>c_blower_combined</th>\n",
       "      <th>c_air_mode_combined</th>\n",
       "      <th>c_blower_level</th>\n",
       "      <th>c_blower_style</th>\n",
       "      <th>c_air_dist</th>\n",
       "      <th>c_auto_mode</th>\n",
       "      <th>c_pwf</th>\n",
       "      <th>c_pwf_group</th>\n",
       "      <th>c_row_number_drive</th>\n",
       "      <th>c_number_of_rows_drive</th>\n",
       "      <th>c_only_driving_duration_sec</th>\n",
       "      <th>c_event_duration_sec</th>\n",
       "      <th>c_min_exteriortemperature_celsius</th>\n",
       "      <th>c_exteriortemperature_avg_celsius</th>\n",
       "      <th>c_max_exteriortemperature_celsius</th>\n",
       "      <th>c_drive_duration_sec</th>\n",
       "      <th>c_drive_duration_minutes</th>\n",
       "      <th>c_drive_weekday</th>\n",
       "      <th>c_year_month_day</th>\n",
       "      <th>c_weekofyear_year</th>\n",
       "      <th>c_weekend_drive</th>\n",
       "      <th>c_avg_drives_per_day</th>\n",
       "      <th>c_avg_drives_per_week</th>\n",
       "      <th>c_avg_drives_per_month</th>\n",
       "      <th>c_order_country</th>\n",
       "      <th>c_brand</th>\n",
       "      <th>c_derivat</th>\n",
       "      <th>c_marketing_name</th>\n",
       "      <th>c_steering_wheel_position</th>\n",
       "      <th>c_product_line</th>\n",
       "      <th>c_hybridkennzeichen</th>\n",
       "      <th>c_fuel_type_corrected_description</th>\n",
       "      <th>c_vehicle_class</th>\n",
       "      <th>c_script_version</th>\n",
       "      <th>c_mean_speed</th>\n",
       "      <th>c_mileage_start</th>\n",
       "      <th>c_mileage_stop</th>\n",
       "      <th>c_mileage_delta</th>\n",
       "      <th>c_drive_number_per_car</th>\n",
       "      <th>c_number_of_drives_per_car</th>\n",
       "      <th>c_gcad</th>\n",
       "      <th>c_is_active_profile</th>\n",
       "      <th>c_is_guest_profile</th>\n",
       "      <th>c_touchscreen_used</th>\n",
       "      <th>c_touchscreen_used_count</th>\n",
       "      <th>time_interval</th>\n",
       "      <th>d_diff_in_target_temp</th>\n",
       "    </tr>\n",
       "  </thead>\n",
       "  <tbody>\n",
       "    <tr>\n",
       "      <th>99579</th>\n",
       "      <td>AAP0ykjqgedw8N3AwpeOM1M2rrV80LDMbgO1pO/ulSoYD6...</td>\n",
       "      <td>0000HR5MBWQ67BX7Y</td>\n",
       "      <td>2021-03-03 05:57:09.331</td>\n",
       "      <td>2021-03-03 07:07:40.712</td>\n",
       "      <td>2021-03-03 05:57:10.276</td>\n",
       "      <td>21.5</td>\n",
       "      <td>KS_2</td>\n",
       "      <td>OFF</td>\n",
       "      <td>Off</td>\n",
       "      <td>KS_2</td>\n",
       "      <td>UNTEN</td>\n",
       "      <td>AUTO_ON</td>\n",
       "      <td>STAFKT_KUNDE_NICHT_IM_FZG</td>\n",
       "      <td>STAFKT_KUNDE_NICHT_IM_FZG</td>\n",
       "      <td>1</td>\n",
       "      <td>15</td>\n",
       "      <td>4072</td>\n",
       "      <td>0</td>\n",
       "      <td>-3.0</td>\n",
       "      <td>1.75</td>\n",
       "      <td>6.5</td>\n",
       "      <td>4231</td>\n",
       "      <td>70.5</td>\n",
       "      <td>Wed</td>\n",
       "      <td>2021_3_3</td>\n",
       "      <td>9_2021</td>\n",
       "      <td>False</td>\n",
       "      <td>2.10</td>\n",
       "      <td>14.70</td>\n",
       "      <td>63.92</td>\n",
       "      <td>DE</td>\n",
       "      <td>BMW</td>\n",
       "      <td>G16</td>\n",
       "      <td>840d xDrive</td>\n",
       "      <td>LL</td>\n",
       "      <td>LG</td>\n",
       "      <td>NOHY</td>\n",
       "      <td>diesel</td>\n",
       "      <td>GKL+</td>\n",
       "      <td>MGUV6</td>\n",
       "      <td>89.70</td>\n",
       "      <td>23527.65</td>\n",
       "      <td>23633.80</td>\n",
       "      <td>106.15</td>\n",
       "      <td>548</td>\n",
       "      <td>1896</td>\n",
       "      <td>ACTIVE_PROFILE</td>\n",
       "      <td>True</td>\n",
       "      <td>False</td>\n",
       "      <td>True</td>\n",
       "      <td>19</td>\n",
       "      <td>05:00-07:00</td>\n",
       "      <td>NaN</td>\n",
       "    </tr>\n",
       "    <tr>\n",
       "      <th>99580</th>\n",
       "      <td>AAP0ykjqgedw8N3AwpeOM1M2rrV80LDMbgO1pO/ulSoYD6...</td>\n",
       "      <td>0000HR5MBWQ67BX7Y</td>\n",
       "      <td>2021-03-03 05:57:09.331</td>\n",
       "      <td>2021-03-03 07:07:40.712</td>\n",
       "      <td>2021-03-03 05:57:10.278</td>\n",
       "      <td>20.5</td>\n",
       "      <td>KS_2</td>\n",
       "      <td>OFF</td>\n",
       "      <td>Off</td>\n",
       "      <td>KS_2</td>\n",
       "      <td>UNTEN</td>\n",
       "      <td>AUTO_ON</td>\n",
       "      <td>STAFKT_KUNDE_NICHT_IM_FZG</td>\n",
       "      <td>STAFKT_KUNDE_NICHT_IM_FZG</td>\n",
       "      <td>2</td>\n",
       "      <td>15</td>\n",
       "      <td>4072</td>\n",
       "      <td>35</td>\n",
       "      <td>-3.0</td>\n",
       "      <td>1.75</td>\n",
       "      <td>6.5</td>\n",
       "      <td>4231</td>\n",
       "      <td>70.5</td>\n",
       "      <td>Wed</td>\n",
       "      <td>2021_3_3</td>\n",
       "      <td>9_2021</td>\n",
       "      <td>False</td>\n",
       "      <td>2.10</td>\n",
       "      <td>14.70</td>\n",
       "      <td>63.92</td>\n",
       "      <td>DE</td>\n",
       "      <td>BMW</td>\n",
       "      <td>G16</td>\n",
       "      <td>840d xDrive</td>\n",
       "      <td>LL</td>\n",
       "      <td>LG</td>\n",
       "      <td>NOHY</td>\n",
       "      <td>diesel</td>\n",
       "      <td>GKL+</td>\n",
       "      <td>MGUV6</td>\n",
       "      <td>89.70</td>\n",
       "      <td>23527.65</td>\n",
       "      <td>23633.80</td>\n",
       "      <td>106.15</td>\n",
       "      <td>548</td>\n",
       "      <td>1896</td>\n",
       "      <td>ACTIVE_PROFILE</td>\n",
       "      <td>True</td>\n",
       "      <td>False</td>\n",
       "      <td>True</td>\n",
       "      <td>19</td>\n",
       "      <td>05:00-07:00</td>\n",
       "      <td>-1.0</td>\n",
       "    </tr>\n",
       "    <tr>\n",
       "      <th>99581</th>\n",
       "      <td>AAP0ykjqgedw8N3AwpeOM1M2rrV80LDMbgO1pO/ulSoYD6...</td>\n",
       "      <td>0000HR5MBWQ67BX7Y</td>\n",
       "      <td>2021-03-03 05:57:09.331</td>\n",
       "      <td>2021-03-03 07:07:40.712</td>\n",
       "      <td>2021-03-03 05:57:45.286</td>\n",
       "      <td>20.5</td>\n",
       "      <td>KS_2</td>\n",
       "      <td>OFF</td>\n",
       "      <td>Off</td>\n",
       "      <td>KS_2</td>\n",
       "      <td>UNTEN</td>\n",
       "      <td>AUTO_ON</td>\n",
       "      <td>WOHNEN</td>\n",
       "      <td>WOHNEN</td>\n",
       "      <td>3</td>\n",
       "      <td>15</td>\n",
       "      <td>4072</td>\n",
       "      <td>25</td>\n",
       "      <td>-3.0</td>\n",
       "      <td>1.75</td>\n",
       "      <td>6.5</td>\n",
       "      <td>4231</td>\n",
       "      <td>70.5</td>\n",
       "      <td>Wed</td>\n",
       "      <td>2021_3_3</td>\n",
       "      <td>9_2021</td>\n",
       "      <td>False</td>\n",
       "      <td>2.10</td>\n",
       "      <td>14.70</td>\n",
       "      <td>63.92</td>\n",
       "      <td>DE</td>\n",
       "      <td>BMW</td>\n",
       "      <td>G16</td>\n",
       "      <td>840d xDrive</td>\n",
       "      <td>LL</td>\n",
       "      <td>LG</td>\n",
       "      <td>NOHY</td>\n",
       "      <td>diesel</td>\n",
       "      <td>GKL+</td>\n",
       "      <td>MGUV6</td>\n",
       "      <td>89.70</td>\n",
       "      <td>23527.65</td>\n",
       "      <td>23633.80</td>\n",
       "      <td>106.15</td>\n",
       "      <td>548</td>\n",
       "      <td>1896</td>\n",
       "      <td>ACTIVE_PROFILE</td>\n",
       "      <td>True</td>\n",
       "      <td>False</td>\n",
       "      <td>True</td>\n",
       "      <td>19</td>\n",
       "      <td>05:00-07:00</td>\n",
       "      <td>0.0</td>\n",
       "    </tr>\n",
       "    <tr>\n",
       "      <th>99582</th>\n",
       "      <td>AAP0ykjqgedw8N3AwpeOM1M2rrV80LDMbgO1pO/ulSoYD6...</td>\n",
       "      <td>0000HR5MBWQ67BX7Y</td>\n",
       "      <td>2021-03-03 05:57:09.331</td>\n",
       "      <td>2021-03-03 07:07:40.712</td>\n",
       "      <td>2021-03-03 05:58:10.513</td>\n",
       "      <td>20.5</td>\n",
       "      <td>KS_2</td>\n",
       "      <td>OFF</td>\n",
       "      <td>Off</td>\n",
       "      <td>KS_2</td>\n",
       "      <td>UNTEN</td>\n",
       "      <td>AUTO_ON</td>\n",
       "      <td>STAFKT_KUNDE_NICHT_IM_FZG</td>\n",
       "      <td>STAFKT_KUNDE_NICHT_IM_FZG</td>\n",
       "      <td>4</td>\n",
       "      <td>15</td>\n",
       "      <td>4072</td>\n",
       "      <td>30</td>\n",
       "      <td>-3.0</td>\n",
       "      <td>1.75</td>\n",
       "      <td>6.5</td>\n",
       "      <td>4231</td>\n",
       "      <td>70.5</td>\n",
       "      <td>Wed</td>\n",
       "      <td>2021_3_3</td>\n",
       "      <td>9_2021</td>\n",
       "      <td>False</td>\n",
       "      <td>2.10</td>\n",
       "      <td>14.70</td>\n",
       "      <td>63.92</td>\n",
       "      <td>DE</td>\n",
       "      <td>BMW</td>\n",
       "      <td>G16</td>\n",
       "      <td>840d xDrive</td>\n",
       "      <td>LL</td>\n",
       "      <td>LG</td>\n",
       "      <td>NOHY</td>\n",
       "      <td>diesel</td>\n",
       "      <td>GKL+</td>\n",
       "      <td>MGUV6</td>\n",
       "      <td>89.70</td>\n",
       "      <td>23527.65</td>\n",
       "      <td>23633.80</td>\n",
       "      <td>106.15</td>\n",
       "      <td>548</td>\n",
       "      <td>1896</td>\n",
       "      <td>ACTIVE_PROFILE</td>\n",
       "      <td>True</td>\n",
       "      <td>False</td>\n",
       "      <td>True</td>\n",
       "      <td>19</td>\n",
       "      <td>05:00-07:00</td>\n",
       "      <td>0.0</td>\n",
       "    </tr>\n",
       "    <tr>\n",
       "      <th>99583</th>\n",
       "      <td>AAP0ykjqgedw8N3AwpeOM1M2rrV80LDMbgO1pO/ulSoYD6...</td>\n",
       "      <td>0000HR5MBWQ67BX7Y</td>\n",
       "      <td>2021-03-03 05:57:09.331</td>\n",
       "      <td>2021-03-03 07:07:40.712</td>\n",
       "      <td>2021-03-03 05:58:40.773</td>\n",
       "      <td>20.5</td>\n",
       "      <td>KS_2</td>\n",
       "      <td>AUTO</td>\n",
       "      <td>BL_2</td>\n",
       "      <td>KS_2</td>\n",
       "      <td>UNTEN</td>\n",
       "      <td>AUTO_ON</td>\n",
       "      <td>WOHNEN</td>\n",
       "      <td>WOHNEN</td>\n",
       "      <td>5</td>\n",
       "      <td>15</td>\n",
       "      <td>4072</td>\n",
       "      <td>9</td>\n",
       "      <td>-3.0</td>\n",
       "      <td>1.75</td>\n",
       "      <td>6.5</td>\n",
       "      <td>4231</td>\n",
       "      <td>70.5</td>\n",
       "      <td>Wed</td>\n",
       "      <td>2021_3_3</td>\n",
       "      <td>9_2021</td>\n",
       "      <td>False</td>\n",
       "      <td>2.10</td>\n",
       "      <td>14.70</td>\n",
       "      <td>63.92</td>\n",
       "      <td>DE</td>\n",
       "      <td>BMW</td>\n",
       "      <td>G16</td>\n",
       "      <td>840d xDrive</td>\n",
       "      <td>LL</td>\n",
       "      <td>LG</td>\n",
       "      <td>NOHY</td>\n",
       "      <td>diesel</td>\n",
       "      <td>GKL+</td>\n",
       "      <td>MGUV6</td>\n",
       "      <td>89.70</td>\n",
       "      <td>23527.65</td>\n",
       "      <td>23633.80</td>\n",
       "      <td>106.15</td>\n",
       "      <td>548</td>\n",
       "      <td>1896</td>\n",
       "      <td>ACTIVE_PROFILE</td>\n",
       "      <td>True</td>\n",
       "      <td>False</td>\n",
       "      <td>True</td>\n",
       "      <td>19</td>\n",
       "      <td>05:00-07:00</td>\n",
       "      <td>0.0</td>\n",
       "    </tr>\n",
       "    <tr>\n",
       "      <th>...</th>\n",
       "      <td>...</td>\n",
       "      <td>...</td>\n",
       "      <td>...</td>\n",
       "      <td>...</td>\n",
       "      <td>...</td>\n",
       "      <td>...</td>\n",
       "      <td>...</td>\n",
       "      <td>...</td>\n",
       "      <td>...</td>\n",
       "      <td>...</td>\n",
       "      <td>...</td>\n",
       "      <td>...</td>\n",
       "      <td>...</td>\n",
       "      <td>...</td>\n",
       "      <td>...</td>\n",
       "      <td>...</td>\n",
       "      <td>...</td>\n",
       "      <td>...</td>\n",
       "      <td>...</td>\n",
       "      <td>...</td>\n",
       "      <td>...</td>\n",
       "      <td>...</td>\n",
       "      <td>...</td>\n",
       "      <td>...</td>\n",
       "      <td>...</td>\n",
       "      <td>...</td>\n",
       "      <td>...</td>\n",
       "      <td>...</td>\n",
       "      <td>...</td>\n",
       "      <td>...</td>\n",
       "      <td>...</td>\n",
       "      <td>...</td>\n",
       "      <td>...</td>\n",
       "      <td>...</td>\n",
       "      <td>...</td>\n",
       "      <td>...</td>\n",
       "      <td>...</td>\n",
       "      <td>...</td>\n",
       "      <td>...</td>\n",
       "      <td>...</td>\n",
       "      <td>...</td>\n",
       "      <td>...</td>\n",
       "      <td>...</td>\n",
       "      <td>...</td>\n",
       "      <td>...</td>\n",
       "      <td>...</td>\n",
       "      <td>...</td>\n",
       "      <td>...</td>\n",
       "      <td>...</td>\n",
       "      <td>...</td>\n",
       "      <td>...</td>\n",
       "      <td>...</td>\n",
       "      <td>...</td>\n",
       "    </tr>\n",
       "    <tr>\n",
       "      <th>109610</th>\n",
       "      <td>AAIOqy1qhNnVcRxlRx1QR5euDKKhEr6D65Kb/apHDH7Ig1...</td>\n",
       "      <td>ZZMP7SUTKPQ8HCRKT</td>\n",
       "      <td>2021-09-05 12:25:51.350</td>\n",
       "      <td>2021-09-05 14:23:52.098</td>\n",
       "      <td>2021-09-05 13:23:20.159</td>\n",
       "      <td>20.0</td>\n",
       "      <td>KS_4</td>\n",
       "      <td>AUTO</td>\n",
       "      <td>BL_4</td>\n",
       "      <td>KS_4</td>\n",
       "      <td>UNTEN</td>\n",
       "      <td>AUTO_ON</td>\n",
       "      <td>FAHREN</td>\n",
       "      <td>FAHREN</td>\n",
       "      <td>11</td>\n",
       "      <td>15</td>\n",
       "      <td>5977</td>\n",
       "      <td>2488</td>\n",
       "      <td>20.0</td>\n",
       "      <td>22.00</td>\n",
       "      <td>24.0</td>\n",
       "      <td>7081</td>\n",
       "      <td>118.0</td>\n",
       "      <td>Sun</td>\n",
       "      <td>2021_9_5</td>\n",
       "      <td>35_2021</td>\n",
       "      <td>True</td>\n",
       "      <td>1.04</td>\n",
       "      <td>7.28</td>\n",
       "      <td>31.65</td>\n",
       "      <td>GB</td>\n",
       "      <td>BMW</td>\n",
       "      <td>G29</td>\n",
       "      <td>Z4 sDrive20i</td>\n",
       "      <td>RL</td>\n",
       "      <td>LK</td>\n",
       "      <td>NOHY</td>\n",
       "      <td>petrol</td>\n",
       "      <td>KKL+</td>\n",
       "      <td>MGUV6</td>\n",
       "      <td>35.06</td>\n",
       "      <td>1923.10</td>\n",
       "      <td>1992.05</td>\n",
       "      <td>68.95</td>\n",
       "      <td>90</td>\n",
       "      <td>563</td>\n",
       "      <td>ACTIVE_PROFILE</td>\n",
       "      <td>True</td>\n",
       "      <td>False</td>\n",
       "      <td>True</td>\n",
       "      <td>9</td>\n",
       "      <td>11:00-13:00</td>\n",
       "      <td>0.0</td>\n",
       "    </tr>\n",
       "    <tr>\n",
       "      <th>109611</th>\n",
       "      <td>AAIOqy1qhNnVcRxlRx1QR5euDKKhEr6D65Kb/apHDH7Ig1...</td>\n",
       "      <td>ZZMP7SUTKPQ8HCRKT</td>\n",
       "      <td>2021-09-05 12:25:51.350</td>\n",
       "      <td>2021-09-05 14:23:52.098</td>\n",
       "      <td>2021-09-05 14:04:48.010</td>\n",
       "      <td>20.0</td>\n",
       "      <td>KS_4</td>\n",
       "      <td>OFF</td>\n",
       "      <td>Off</td>\n",
       "      <td>KS_4</td>\n",
       "      <td>UNTEN</td>\n",
       "      <td>AUTO_ON</td>\n",
       "      <td>WOHNEN</td>\n",
       "      <td>WOHNEN</td>\n",
       "      <td>12</td>\n",
       "      <td>15</td>\n",
       "      <td>5977</td>\n",
       "      <td>322</td>\n",
       "      <td>20.0</td>\n",
       "      <td>22.00</td>\n",
       "      <td>24.0</td>\n",
       "      <td>7081</td>\n",
       "      <td>118.0</td>\n",
       "      <td>Sun</td>\n",
       "      <td>2021_9_5</td>\n",
       "      <td>35_2021</td>\n",
       "      <td>True</td>\n",
       "      <td>1.04</td>\n",
       "      <td>7.28</td>\n",
       "      <td>31.65</td>\n",
       "      <td>GB</td>\n",
       "      <td>BMW</td>\n",
       "      <td>G29</td>\n",
       "      <td>Z4 sDrive20i</td>\n",
       "      <td>RL</td>\n",
       "      <td>LK</td>\n",
       "      <td>NOHY</td>\n",
       "      <td>petrol</td>\n",
       "      <td>KKL+</td>\n",
       "      <td>MGUV6</td>\n",
       "      <td>35.06</td>\n",
       "      <td>1923.10</td>\n",
       "      <td>1992.05</td>\n",
       "      <td>68.95</td>\n",
       "      <td>90</td>\n",
       "      <td>563</td>\n",
       "      <td>ACTIVE_PROFILE</td>\n",
       "      <td>True</td>\n",
       "      <td>False</td>\n",
       "      <td>True</td>\n",
       "      <td>9</td>\n",
       "      <td>11:00-13:00</td>\n",
       "      <td>0.0</td>\n",
       "    </tr>\n",
       "    <tr>\n",
       "      <th>109612</th>\n",
       "      <td>AAIOqy1qhNnVcRxlRx1QR5euDKKhEr6D65Kb/apHDH7Ig1...</td>\n",
       "      <td>ZZMP7SUTKPQ8HCRKT</td>\n",
       "      <td>2021-09-05 12:25:51.350</td>\n",
       "      <td>2021-09-05 14:23:52.098</td>\n",
       "      <td>2021-09-05 14:10:10.535</td>\n",
       "      <td>20.0</td>\n",
       "      <td>KS_4</td>\n",
       "      <td>AUTO</td>\n",
       "      <td>BL_4</td>\n",
       "      <td>KS_4</td>\n",
       "      <td>UNTEN</td>\n",
       "      <td>AUTO_ON</td>\n",
       "      <td>FAHREN</td>\n",
       "      <td>FAHREN</td>\n",
       "      <td>13</td>\n",
       "      <td>15</td>\n",
       "      <td>5977</td>\n",
       "      <td>276</td>\n",
       "      <td>20.0</td>\n",
       "      <td>22.00</td>\n",
       "      <td>24.0</td>\n",
       "      <td>7081</td>\n",
       "      <td>118.0</td>\n",
       "      <td>Sun</td>\n",
       "      <td>2021_9_5</td>\n",
       "      <td>35_2021</td>\n",
       "      <td>True</td>\n",
       "      <td>1.04</td>\n",
       "      <td>7.28</td>\n",
       "      <td>31.65</td>\n",
       "      <td>GB</td>\n",
       "      <td>BMW</td>\n",
       "      <td>G29</td>\n",
       "      <td>Z4 sDrive20i</td>\n",
       "      <td>RL</td>\n",
       "      <td>LK</td>\n",
       "      <td>NOHY</td>\n",
       "      <td>petrol</td>\n",
       "      <td>KKL+</td>\n",
       "      <td>MGUV6</td>\n",
       "      <td>35.06</td>\n",
       "      <td>1923.10</td>\n",
       "      <td>1992.05</td>\n",
       "      <td>68.95</td>\n",
       "      <td>90</td>\n",
       "      <td>563</td>\n",
       "      <td>ACTIVE_PROFILE</td>\n",
       "      <td>True</td>\n",
       "      <td>False</td>\n",
       "      <td>True</td>\n",
       "      <td>9</td>\n",
       "      <td>11:00-13:00</td>\n",
       "      <td>0.0</td>\n",
       "    </tr>\n",
       "    <tr>\n",
       "      <th>109613</th>\n",
       "      <td>AAIOqy1qhNnVcRxlRx1QR5euDKKhEr6D65Kb/apHDH7Ig1...</td>\n",
       "      <td>ZZMP7SUTKPQ8HCRKT</td>\n",
       "      <td>2021-09-05 12:25:51.350</td>\n",
       "      <td>2021-09-05 14:23:52.098</td>\n",
       "      <td>2021-09-05 14:14:46.661</td>\n",
       "      <td>20.0</td>\n",
       "      <td>KS_4</td>\n",
       "      <td>OFF</td>\n",
       "      <td>Off</td>\n",
       "      <td>KS_4</td>\n",
       "      <td>UNTEN</td>\n",
       "      <td>AUTO_ON</td>\n",
       "      <td>WOHNEN</td>\n",
       "      <td>WOHNEN</td>\n",
       "      <td>14</td>\n",
       "      <td>15</td>\n",
       "      <td>5977</td>\n",
       "      <td>544</td>\n",
       "      <td>20.0</td>\n",
       "      <td>22.00</td>\n",
       "      <td>24.0</td>\n",
       "      <td>7081</td>\n",
       "      <td>118.0</td>\n",
       "      <td>Sun</td>\n",
       "      <td>2021_9_5</td>\n",
       "      <td>35_2021</td>\n",
       "      <td>True</td>\n",
       "      <td>1.04</td>\n",
       "      <td>7.28</td>\n",
       "      <td>31.65</td>\n",
       "      <td>GB</td>\n",
       "      <td>BMW</td>\n",
       "      <td>G29</td>\n",
       "      <td>Z4 sDrive20i</td>\n",
       "      <td>RL</td>\n",
       "      <td>LK</td>\n",
       "      <td>NOHY</td>\n",
       "      <td>petrol</td>\n",
       "      <td>KKL+</td>\n",
       "      <td>MGUV6</td>\n",
       "      <td>35.06</td>\n",
       "      <td>1923.10</td>\n",
       "      <td>1992.05</td>\n",
       "      <td>68.95</td>\n",
       "      <td>90</td>\n",
       "      <td>563</td>\n",
       "      <td>ACTIVE_PROFILE</td>\n",
       "      <td>True</td>\n",
       "      <td>False</td>\n",
       "      <td>True</td>\n",
       "      <td>9</td>\n",
       "      <td>11:00-13:00</td>\n",
       "      <td>0.0</td>\n",
       "    </tr>\n",
       "    <tr>\n",
       "      <th>109614</th>\n",
       "      <td>AAIOqy1qhNnVcRxlRx1QR5euDKKhEr6D65Kb/apHDH7Ig1...</td>\n",
       "      <td>ZZMP7SUTKPQ8HCRKT</td>\n",
       "      <td>2021-09-05 12:25:51.350</td>\n",
       "      <td>2021-09-05 14:23:52.098</td>\n",
       "      <td>2021-09-05 14:23:50.923</td>\n",
       "      <td>20.0</td>\n",
       "      <td>KS_4</td>\n",
       "      <td>OFF</td>\n",
       "      <td>Off</td>\n",
       "      <td>KS_4</td>\n",
       "      <td>UNTEN</td>\n",
       "      <td>AUTO_ON</td>\n",
       "      <td>STAFKT_KUNDE_NICHT_IM_FZG</td>\n",
       "      <td>STAFKT_KUNDE_NICHT_IM_FZG</td>\n",
       "      <td>15</td>\n",
       "      <td>15</td>\n",
       "      <td>5977</td>\n",
       "      <td>2</td>\n",
       "      <td>20.0</td>\n",
       "      <td>22.00</td>\n",
       "      <td>24.0</td>\n",
       "      <td>7081</td>\n",
       "      <td>118.0</td>\n",
       "      <td>Sun</td>\n",
       "      <td>2021_9_5</td>\n",
       "      <td>35_2021</td>\n",
       "      <td>True</td>\n",
       "      <td>1.04</td>\n",
       "      <td>7.28</td>\n",
       "      <td>31.65</td>\n",
       "      <td>GB</td>\n",
       "      <td>BMW</td>\n",
       "      <td>G29</td>\n",
       "      <td>Z4 sDrive20i</td>\n",
       "      <td>RL</td>\n",
       "      <td>LK</td>\n",
       "      <td>NOHY</td>\n",
       "      <td>petrol</td>\n",
       "      <td>KKL+</td>\n",
       "      <td>MGUV6</td>\n",
       "      <td>35.06</td>\n",
       "      <td>1923.10</td>\n",
       "      <td>1992.05</td>\n",
       "      <td>68.95</td>\n",
       "      <td>90</td>\n",
       "      <td>563</td>\n",
       "      <td>ACTIVE_PROFILE</td>\n",
       "      <td>True</td>\n",
       "      <td>False</td>\n",
       "      <td>True</td>\n",
       "      <td>9</td>\n",
       "      <td>11:00-13:00</td>\n",
       "      <td>0.0</td>\n",
       "    </tr>\n",
       "  </tbody>\n",
       "</table>\n",
       "<p>176374 rows × 53 columns</p>\n",
       "</div>"
      ],
      "text/plain": [
       "                                                  c_van17          c_driveid  \\\n",
       "99579   AAP0ykjqgedw8N3AwpeOM1M2rrV80LDMbgO1pO/ulSoYD6...  0000HR5MBWQ67BX7Y   \n",
       "99580   AAP0ykjqgedw8N3AwpeOM1M2rrV80LDMbgO1pO/ulSoYD6...  0000HR5MBWQ67BX7Y   \n",
       "99581   AAP0ykjqgedw8N3AwpeOM1M2rrV80LDMbgO1pO/ulSoYD6...  0000HR5MBWQ67BX7Y   \n",
       "99582   AAP0ykjqgedw8N3AwpeOM1M2rrV80LDMbgO1pO/ulSoYD6...  0000HR5MBWQ67BX7Y   \n",
       "99583   AAP0ykjqgedw8N3AwpeOM1M2rrV80LDMbgO1pO/ulSoYD6...  0000HR5MBWQ67BX7Y   \n",
       "...                                                   ...                ...   \n",
       "109610  AAIOqy1qhNnVcRxlRx1QR5euDKKhEr6D65Kb/apHDH7Ig1...  ZZMP7SUTKPQ8HCRKT   \n",
       "109611  AAIOqy1qhNnVcRxlRx1QR5euDKKhEr6D65Kb/apHDH7Ig1...  ZZMP7SUTKPQ8HCRKT   \n",
       "109612  AAIOqy1qhNnVcRxlRx1QR5euDKKhEr6D65Kb/apHDH7Ig1...  ZZMP7SUTKPQ8HCRKT   \n",
       "109613  AAIOqy1qhNnVcRxlRx1QR5euDKKhEr6D65Kb/apHDH7Ig1...  ZZMP7SUTKPQ8HCRKT   \n",
       "109614  AAIOqy1qhNnVcRxlRx1QR5euDKKhEr6D65Kb/apHDH7Ig1...  ZZMP7SUTKPQ8HCRKT   \n",
       "\n",
       "       c_drive_timestamp_start  c_drive_timestamp_stop  \\\n",
       "99579  2021-03-03 05:57:09.331 2021-03-03 07:07:40.712   \n",
       "99580  2021-03-03 05:57:09.331 2021-03-03 07:07:40.712   \n",
       "99581  2021-03-03 05:57:09.331 2021-03-03 07:07:40.712   \n",
       "99582  2021-03-03 05:57:09.331 2021-03-03 07:07:40.712   \n",
       "99583  2021-03-03 05:57:09.331 2021-03-03 07:07:40.712   \n",
       "...                        ...                     ...   \n",
       "109610 2021-09-05 12:25:51.350 2021-09-05 14:23:52.098   \n",
       "109611 2021-09-05 12:25:51.350 2021-09-05 14:23:52.098   \n",
       "109612 2021-09-05 12:25:51.350 2021-09-05 14:23:52.098   \n",
       "109613 2021-09-05 12:25:51.350 2021-09-05 14:23:52.098   \n",
       "109614 2021-09-05 12:25:51.350 2021-09-05 14:23:52.098   \n",
       "\n",
       "       c_msg_creation_timestamp  c_target_temp c_blower_combined  \\\n",
       "99579   2021-03-03 05:57:10.276           21.5              KS_2   \n",
       "99580   2021-03-03 05:57:10.278           20.5              KS_2   \n",
       "99581   2021-03-03 05:57:45.286           20.5              KS_2   \n",
       "99582   2021-03-03 05:58:10.513           20.5              KS_2   \n",
       "99583   2021-03-03 05:58:40.773           20.5              KS_2   \n",
       "...                         ...            ...               ...   \n",
       "109610  2021-09-05 13:23:20.159           20.0              KS_4   \n",
       "109611  2021-09-05 14:04:48.010           20.0              KS_4   \n",
       "109612  2021-09-05 14:10:10.535           20.0              KS_4   \n",
       "109613  2021-09-05 14:14:46.661           20.0              KS_4   \n",
       "109614  2021-09-05 14:23:50.923           20.0              KS_4   \n",
       "\n",
       "       c_air_mode_combined c_blower_level c_blower_style c_air_dist  \\\n",
       "99579                  OFF            Off           KS_2      UNTEN   \n",
       "99580                  OFF            Off           KS_2      UNTEN   \n",
       "99581                  OFF            Off           KS_2      UNTEN   \n",
       "99582                  OFF            Off           KS_2      UNTEN   \n",
       "99583                 AUTO           BL_2           KS_2      UNTEN   \n",
       "...                    ...            ...            ...        ...   \n",
       "109610                AUTO           BL_4           KS_4      UNTEN   \n",
       "109611                 OFF            Off           KS_4      UNTEN   \n",
       "109612                AUTO           BL_4           KS_4      UNTEN   \n",
       "109613                 OFF            Off           KS_4      UNTEN   \n",
       "109614                 OFF            Off           KS_4      UNTEN   \n",
       "\n",
       "       c_auto_mode                      c_pwf                c_pwf_group  \\\n",
       "99579      AUTO_ON  STAFKT_KUNDE_NICHT_IM_FZG  STAFKT_KUNDE_NICHT_IM_FZG   \n",
       "99580      AUTO_ON  STAFKT_KUNDE_NICHT_IM_FZG  STAFKT_KUNDE_NICHT_IM_FZG   \n",
       "99581      AUTO_ON                     WOHNEN                     WOHNEN   \n",
       "99582      AUTO_ON  STAFKT_KUNDE_NICHT_IM_FZG  STAFKT_KUNDE_NICHT_IM_FZG   \n",
       "99583      AUTO_ON                     WOHNEN                     WOHNEN   \n",
       "...            ...                        ...                        ...   \n",
       "109610     AUTO_ON                     FAHREN                     FAHREN   \n",
       "109611     AUTO_ON                     WOHNEN                     WOHNEN   \n",
       "109612     AUTO_ON                     FAHREN                     FAHREN   \n",
       "109613     AUTO_ON                     WOHNEN                     WOHNEN   \n",
       "109614     AUTO_ON  STAFKT_KUNDE_NICHT_IM_FZG  STAFKT_KUNDE_NICHT_IM_FZG   \n",
       "\n",
       "        c_row_number_drive  c_number_of_rows_drive  \\\n",
       "99579                    1                      15   \n",
       "99580                    2                      15   \n",
       "99581                    3                      15   \n",
       "99582                    4                      15   \n",
       "99583                    5                      15   \n",
       "...                    ...                     ...   \n",
       "109610                  11                      15   \n",
       "109611                  12                      15   \n",
       "109612                  13                      15   \n",
       "109613                  14                      15   \n",
       "109614                  15                      15   \n",
       "\n",
       "        c_only_driving_duration_sec  c_event_duration_sec  \\\n",
       "99579                          4072                     0   \n",
       "99580                          4072                    35   \n",
       "99581                          4072                    25   \n",
       "99582                          4072                    30   \n",
       "99583                          4072                     9   \n",
       "...                             ...                   ...   \n",
       "109610                         5977                  2488   \n",
       "109611                         5977                   322   \n",
       "109612                         5977                   276   \n",
       "109613                         5977                   544   \n",
       "109614                         5977                     2   \n",
       "\n",
       "        c_min_exteriortemperature_celsius  c_exteriortemperature_avg_celsius  \\\n",
       "99579                                -3.0                               1.75   \n",
       "99580                                -3.0                               1.75   \n",
       "99581                                -3.0                               1.75   \n",
       "99582                                -3.0                               1.75   \n",
       "99583                                -3.0                               1.75   \n",
       "...                                   ...                                ...   \n",
       "109610                               20.0                              22.00   \n",
       "109611                               20.0                              22.00   \n",
       "109612                               20.0                              22.00   \n",
       "109613                               20.0                              22.00   \n",
       "109614                               20.0                              22.00   \n",
       "\n",
       "        c_max_exteriortemperature_celsius  c_drive_duration_sec  \\\n",
       "99579                                 6.5                  4231   \n",
       "99580                                 6.5                  4231   \n",
       "99581                                 6.5                  4231   \n",
       "99582                                 6.5                  4231   \n",
       "99583                                 6.5                  4231   \n",
       "...                                   ...                   ...   \n",
       "109610                               24.0                  7081   \n",
       "109611                               24.0                  7081   \n",
       "109612                               24.0                  7081   \n",
       "109613                               24.0                  7081   \n",
       "109614                               24.0                  7081   \n",
       "\n",
       "        c_drive_duration_minutes c_drive_weekday c_year_month_day  \\\n",
       "99579                       70.5             Wed         2021_3_3   \n",
       "99580                       70.5             Wed         2021_3_3   \n",
       "99581                       70.5             Wed         2021_3_3   \n",
       "99582                       70.5             Wed         2021_3_3   \n",
       "99583                       70.5             Wed         2021_3_3   \n",
       "...                          ...             ...              ...   \n",
       "109610                     118.0             Sun         2021_9_5   \n",
       "109611                     118.0             Sun         2021_9_5   \n",
       "109612                     118.0             Sun         2021_9_5   \n",
       "109613                     118.0             Sun         2021_9_5   \n",
       "109614                     118.0             Sun         2021_9_5   \n",
       "\n",
       "       c_weekofyear_year  c_weekend_drive  c_avg_drives_per_day  \\\n",
       "99579             9_2021            False                  2.10   \n",
       "99580             9_2021            False                  2.10   \n",
       "99581             9_2021            False                  2.10   \n",
       "99582             9_2021            False                  2.10   \n",
       "99583             9_2021            False                  2.10   \n",
       "...                  ...              ...                   ...   \n",
       "109610           35_2021             True                  1.04   \n",
       "109611           35_2021             True                  1.04   \n",
       "109612           35_2021             True                  1.04   \n",
       "109613           35_2021             True                  1.04   \n",
       "109614           35_2021             True                  1.04   \n",
       "\n",
       "        c_avg_drives_per_week  c_avg_drives_per_month c_order_country c_brand  \\\n",
       "99579                   14.70                   63.92              DE     BMW   \n",
       "99580                   14.70                   63.92              DE     BMW   \n",
       "99581                   14.70                   63.92              DE     BMW   \n",
       "99582                   14.70                   63.92              DE     BMW   \n",
       "99583                   14.70                   63.92              DE     BMW   \n",
       "...                       ...                     ...             ...     ...   \n",
       "109610                   7.28                   31.65              GB     BMW   \n",
       "109611                   7.28                   31.65              GB     BMW   \n",
       "109612                   7.28                   31.65              GB     BMW   \n",
       "109613                   7.28                   31.65              GB     BMW   \n",
       "109614                   7.28                   31.65              GB     BMW   \n",
       "\n",
       "       c_derivat c_marketing_name c_steering_wheel_position c_product_line  \\\n",
       "99579        G16      840d xDrive                        LL             LG   \n",
       "99580        G16      840d xDrive                        LL             LG   \n",
       "99581        G16      840d xDrive                        LL             LG   \n",
       "99582        G16      840d xDrive                        LL             LG   \n",
       "99583        G16      840d xDrive                        LL             LG   \n",
       "...          ...              ...                       ...            ...   \n",
       "109610       G29     Z4 sDrive20i                        RL             LK   \n",
       "109611       G29     Z4 sDrive20i                        RL             LK   \n",
       "109612       G29     Z4 sDrive20i                        RL             LK   \n",
       "109613       G29     Z4 sDrive20i                        RL             LK   \n",
       "109614       G29     Z4 sDrive20i                        RL             LK   \n",
       "\n",
       "       c_hybridkennzeichen c_fuel_type_corrected_description c_vehicle_class  \\\n",
       "99579                 NOHY                            diesel            GKL+   \n",
       "99580                 NOHY                            diesel            GKL+   \n",
       "99581                 NOHY                            diesel            GKL+   \n",
       "99582                 NOHY                            diesel            GKL+   \n",
       "99583                 NOHY                            diesel            GKL+   \n",
       "...                    ...                               ...             ...   \n",
       "109610                NOHY                            petrol            KKL+   \n",
       "109611                NOHY                            petrol            KKL+   \n",
       "109612                NOHY                            petrol            KKL+   \n",
       "109613                NOHY                            petrol            KKL+   \n",
       "109614                NOHY                            petrol            KKL+   \n",
       "\n",
       "       c_script_version  c_mean_speed  c_mileage_start  c_mileage_stop  \\\n",
       "99579             MGUV6         89.70         23527.65        23633.80   \n",
       "99580             MGUV6         89.70         23527.65        23633.80   \n",
       "99581             MGUV6         89.70         23527.65        23633.80   \n",
       "99582             MGUV6         89.70         23527.65        23633.80   \n",
       "99583             MGUV6         89.70         23527.65        23633.80   \n",
       "...                 ...           ...              ...             ...   \n",
       "109610            MGUV6         35.06          1923.10         1992.05   \n",
       "109611            MGUV6         35.06          1923.10         1992.05   \n",
       "109612            MGUV6         35.06          1923.10         1992.05   \n",
       "109613            MGUV6         35.06          1923.10         1992.05   \n",
       "109614            MGUV6         35.06          1923.10         1992.05   \n",
       "\n",
       "        c_mileage_delta  c_drive_number_per_car  c_number_of_drives_per_car  \\\n",
       "99579            106.15                     548                        1896   \n",
       "99580            106.15                     548                        1896   \n",
       "99581            106.15                     548                        1896   \n",
       "99582            106.15                     548                        1896   \n",
       "99583            106.15                     548                        1896   \n",
       "...                 ...                     ...                         ...   \n",
       "109610            68.95                      90                         563   \n",
       "109611            68.95                      90                         563   \n",
       "109612            68.95                      90                         563   \n",
       "109613            68.95                      90                         563   \n",
       "109614            68.95                      90                         563   \n",
       "\n",
       "                c_gcad  c_is_active_profile  c_is_guest_profile  \\\n",
       "99579   ACTIVE_PROFILE                 True               False   \n",
       "99580   ACTIVE_PROFILE                 True               False   \n",
       "99581   ACTIVE_PROFILE                 True               False   \n",
       "99582   ACTIVE_PROFILE                 True               False   \n",
       "99583   ACTIVE_PROFILE                 True               False   \n",
       "...                ...                  ...                 ...   \n",
       "109610  ACTIVE_PROFILE                 True               False   \n",
       "109611  ACTIVE_PROFILE                 True               False   \n",
       "109612  ACTIVE_PROFILE                 True               False   \n",
       "109613  ACTIVE_PROFILE                 True               False   \n",
       "109614  ACTIVE_PROFILE                 True               False   \n",
       "\n",
       "        c_touchscreen_used  c_touchscreen_used_count time_interval  \\\n",
       "99579                 True                        19   05:00-07:00   \n",
       "99580                 True                        19   05:00-07:00   \n",
       "99581                 True                        19   05:00-07:00   \n",
       "99582                 True                        19   05:00-07:00   \n",
       "99583                 True                        19   05:00-07:00   \n",
       "...                    ...                       ...           ...   \n",
       "109610                True                         9   11:00-13:00   \n",
       "109611                True                         9   11:00-13:00   \n",
       "109612                True                         9   11:00-13:00   \n",
       "109613                True                         9   11:00-13:00   \n",
       "109614                True                         9   11:00-13:00   \n",
       "\n",
       "        d_diff_in_target_temp  \n",
       "99579                     NaN  \n",
       "99580                    -1.0  \n",
       "99581                     0.0  \n",
       "99582                     0.0  \n",
       "99583                     0.0  \n",
       "...                       ...  \n",
       "109610                    0.0  \n",
       "109611                    0.0  \n",
       "109612                    0.0  \n",
       "109613                    0.0  \n",
       "109614                    0.0  \n",
       "\n",
       "[176374 rows x 53 columns]"
      ]
     },
     "execution_count": 44,
     "metadata": {},
     "output_type": "execute_result"
    }
   ],
   "source": [
    "# Calculate the difference in target teamp in two successive timestamps for each driveid\n",
    "climate_data_2021['d_diff_in_target_temp'] = climate_data_2021.sort_values(['c_driveid', 'c_msg_creation_timestamp']).groupby('c_driveid')['c_target_temp'].diff()\n",
    "climate_data_2021"
   ]
  },
  {
   "attachments": {},
   "cell_type": "markdown",
   "id": "d98931b9",
   "metadata": {},
   "source": [
    "#### Curate the dataset\n",
    "1. delete the drives which had only temperatures 16 and 28\n",
    "2. delete the events where there was no change in the temp (not yet)\n",
    "3. delet the events with 0 second duration"
   ]
  },
  {
   "cell_type": "code",
   "execution_count": null,
   "id": "e4cff211",
   "metadata": {
    "tags": []
   },
   "outputs": [],
   "source": [
    "climate_data_2021_modified = climate_data_2021.copy()"
   ]
  },
  {
   "cell_type": "code",
   "execution_count": null,
   "id": "9b4f5ae5",
   "metadata": {
    "tags": []
   },
   "outputs": [],
   "source": [
    "# Uncomment this line if we need to revert back to this dataset\n",
    "climate_data_2021 = climate_data_2021_modified.copy()\n",
    "climate_data_2021.shape"
   ]
  },
  {
   "cell_type": "code",
   "execution_count": null,
   "id": "37f619a2",
   "metadata": {
    "tags": []
   },
   "outputs": [],
   "source": [
    "# Check across how many drives the temperature didn't change at all\n",
    "drive_wise_temp_change = (climate_data_2021.groupby('c_driveid')['d_diff_in_target_temp'].agg(lambda x: abs(x).sum()) == 0.0)\n",
    "drive_wise_temp_change.sum()"
   ]
  },
  {
   "cell_type": "code",
   "execution_count": null,
   "id": "6ac9ef07",
   "metadata": {
    "tags": []
   },
   "outputs": [],
   "source": [
    "# Get those drive ids where the temp didn't change at all during the drive\n",
    "drive_ids_with_no_temp_change = drive_wise_temp_change[drive_wise_temp_change == True].index.tolist()\n",
    "len(drive_ids_with_no_temp_change)"
   ]
  },
  {
   "cell_type": "code",
   "execution_count": null,
   "id": "85703b75",
   "metadata": {
    "tags": []
   },
   "outputs": [],
   "source": [
    "# Just check one drive to validate\n",
    "climate_data_2021[climate_data_2021['c_driveid'] == drive_ids_with_no_temp_change[0]]['c_target_temp']"
   ]
  },
  {
   "cell_type": "code",
   "execution_count": null,
   "id": "109d54f4",
   "metadata": {
    "tags": []
   },
   "outputs": [],
   "source": [
    "# How many events had temperatures of only 16.0 or 28.0\n",
    "df_with_no_temp_change = climate_data_2021[climate_data_2021['c_driveid'].isin(drive_ids_with_no_temp_change)]\n",
    "\n",
    "# number of drives where the temp was 16 or 28 throughout the whole drive\n",
    "df_with_no_temp_change[df_with_no_temp_change['c_target_temp'].isin([16.0, 28.0])]['c_driveid'].nunique()"
   ]
  },
  {
   "cell_type": "code",
   "execution_count": null,
   "id": "0d8373f9",
   "metadata": {
    "tags": []
   },
   "outputs": [],
   "source": [
    "# Get the drive ids where the temp was either 16 or 28 throughout the whole drive\n",
    "drive_ids_of_16_and_28 = df_with_no_temp_change[df_with_no_temp_change['c_target_temp'].isin([16.0, 28.0])]['c_driveid'].tolist()"
   ]
  },
  {
   "attachments": {},
   "cell_type": "markdown",
   "id": "4d24defb",
   "metadata": {},
   "source": [
    "#### Deletion"
   ]
  },
  {
   "cell_type": "code",
   "execution_count": null,
   "id": "b0230f46",
   "metadata": {
    "tags": []
   },
   "outputs": [],
   "source": [
    "# Delete the drives which had only 16 and 28 as temperatures. Is it a good idea?\n",
    "climate_data_2021 = climate_data_2021[~climate_data_2021['c_driveid'].isin(drive_ids_of_16_and_28)]\n",
    "climate_data_2021.shape"
   ]
  },
  {
   "attachments": {},
   "cell_type": "markdown",
   "id": "176ad291-0f81-4a07-b82b-dbd5d6a38715",
   "metadata": {},
   "source": [
    "##### delete the events with 0 seconds duration"
   ]
  },
  {
   "cell_type": "code",
   "execution_count": null,
   "id": "a61ef4a8-1b0d-494d-84d6-ad9fda6c3824",
   "metadata": {
    "tags": []
   },
   "outputs": [],
   "source": [
    "climate_data_2021 = climate_data_2021[~(climate_data_2021['c_event_duration_sec'] == 0)]\n",
    "climate_data_2021.shape"
   ]
  },
  {
   "cell_type": "code",
   "execution_count": null,
   "id": "9edbb3cb-4670-40e3-8314-86086f3115a9",
   "metadata": {
    "tags": []
   },
   "outputs": [],
   "source": [
    "(climate_data_2021['c_event_duration_sec'] == 0).sum()"
   ]
  },
  {
   "cell_type": "code",
   "execution_count": null,
   "id": "e3c1132d-4f22-4918-8c32-040b7fc6e4ae",
   "metadata": {
    "tags": []
   },
   "outputs": [],
   "source": [
    "# What was the drive duration distribution of these drives where the temp was at 16 or 28?\n",
    "sns.histplot(df_with_no_temp_change[df_with_no_temp_change['c_target_temp'] == 16.0]['c_drive_duration_sec'], kde=True)\n",
    "plt.title(\"Distribution of the drive duration of the drives where the target temp was 16.0\")\n",
    "plt.show()"
   ]
  },
  {
   "cell_type": "code",
   "execution_count": null,
   "id": "99e2675b-b19f-48b8-ba17-bfd6eb8335f3",
   "metadata": {
    "tags": []
   },
   "outputs": [],
   "source": [
    "# How many drives are remaining after deleting?\n",
    "climate_data_2021['c_driveid'].nunique()"
   ]
  },
  {
   "cell_type": "code",
   "execution_count": null,
   "id": "1f29e860",
   "metadata": {
    "tags": []
   },
   "outputs": [],
   "source": [
    "# After deleting, number of drives where the target_temp didn't change at all\n",
    "(climate_data_2021.groupby('c_driveid')['d_diff_in_target_temp'].agg(lambda x: abs(x).sum()) == 0.0).sum()"
   ]
  },
  {
   "attachments": {},
   "cell_type": "markdown",
   "id": "1cecc860-eb47-4e3b-95d3-7ad0462546d9",
   "metadata": {},
   "source": [
    "\n",
    "##### TODO: What is the temperature distributions for these drives where the temp doesn't change at all?"
   ]
  },
  {
   "cell_type": "code",
   "execution_count": null,
   "id": "d32ebe8d-8fa4-4524-99ab-7667d6cbac5d",
   "metadata": {},
   "outputs": [],
   "source": []
  },
  {
   "cell_type": "code",
   "execution_count": null,
   "id": "b771a7ae",
   "metadata": {
    "tags": []
   },
   "outputs": [],
   "source": [
    "# Trying to find out events where the temp changed in successive steps\n",
    "climate_data_2021_with_events = climate_data_2021[~(climate_data_2021['d_diff_in_target_temp'] == 0.0)]\n",
    "climate_data_2021_with_events.shape"
   ]
  },
  {
   "attachments": {},
   "cell_type": "markdown",
   "id": "ed06608f-8ca6-4104-8d9c-cb8b0749e172",
   "metadata": {},
   "source": [
    "#### Let's investigate the instances where the target_temp was set at 16.0 and 28.0"
   ]
  },
  {
   "attachments": {},
   "cell_type": "markdown",
   "id": "6c25ab01-b78c-4caa-bc19-d656fb57b9db",
   "metadata": {},
   "source": [
    "##### Investigate the seasonal change"
   ]
  },
  {
   "cell_type": "code",
   "execution_count": null,
   "id": "3e055df7",
   "metadata": {
    "tags": []
   },
   "outputs": [],
   "source": [
    "def get_season(date):\n",
    "    month = int(date.split('_')[1])\n",
    "    if month in [3, 4, 5]:\n",
    "        return 'Spring'\n",
    "    elif month in [6, 7, 8]:\n",
    "        return 'Summer'\n",
    "    elif month in [9, 10, 11]:\n",
    "        return 'Autumn'\n",
    "    else:\n",
    "        return 'Winter'"
   ]
  },
  {
   "cell_type": "code",
   "execution_count": null,
   "id": "7772667c",
   "metadata": {
    "tags": []
   },
   "outputs": [],
   "source": [
    "df_with_no_temp_change['d_season'] = df_with_no_temp_change['c_year_month_day'].apply(get_season)\n",
    "df_with_no_temp_change.shape"
   ]
  },
  {
   "cell_type": "code",
   "execution_count": null,
   "id": "f1822a6a",
   "metadata": {
    "tags": []
   },
   "outputs": [],
   "source": [
    "df_with_no_temp_change['d_season'].value_counts()"
   ]
  },
  {
   "cell_type": "code",
   "execution_count": null,
   "id": "7d363643",
   "metadata": {
    "tags": []
   },
   "outputs": [],
   "source": [
    "df_with_no_temp_change[df_with_no_temp_change['c_target_temp'] == 16.0]['d_season'].value_counts()"
   ]
  },
  {
   "cell_type": "code",
   "execution_count": null,
   "id": "bcdd1964",
   "metadata": {
    "tags": []
   },
   "outputs": [],
   "source": [
    "chosen_season = 'Autumn'\n",
    "ext_avg_temp_season_wise = df_with_no_temp_change[(df_with_no_temp_change['c_target_temp'] == 16.0) & (df_with_no_temp_change['d_season'] == chosen_season)][['c_exteriortemperature_avg_celsius']]"
   ]
  },
  {
   "cell_type": "code",
   "execution_count": null,
   "id": "5b76fe20",
   "metadata": {
    "tags": []
   },
   "outputs": [],
   "source": [
    "ext_avg_temp_season_wise.min(), ext_avg_temp_season_wise.max(), ext_avg_temp_season_wise.mean(), ext_avg_temp_season_wise.median()"
   ]
  },
  {
   "cell_type": "code",
   "execution_count": null,
   "id": "ade6c53d",
   "metadata": {
    "tags": []
   },
   "outputs": [],
   "source": [
    "sns.histplot(ext_avg_temp_season_wise)\n",
    "plt.title('Distribution of the average exterior temperature during {} for target_temp 16 deg cel'.format(chosen_season))\n",
    "plt.xlabel('average exterior temp')\n",
    "plt.show()"
   ]
  },
  {
   "cell_type": "code",
   "execution_count": null,
   "id": "17ac35f3-6096-43c6-bf23-4b08a8f714ed",
   "metadata": {
    "tags": []
   },
   "outputs": [],
   "source": [
    "climate_data_2021[climate_data_2021['d_diff_in_target_temp'] != 0.0]['c_driveid'].nunique()"
   ]
  },
  {
   "cell_type": "code",
   "execution_count": null,
   "id": "2607c78b-7a7d-4d3e-9a96-7f95b97fc9a0",
   "metadata": {
    "tags": []
   },
   "outputs": [],
   "source": [
    "(climate_data_2021['c_driveid'].value_counts() >= 15).sum()"
   ]
  },
  {
   "cell_type": "code",
   "execution_count": null,
   "id": "eb124adf-945f-428f-bcef-155a03bb5c0c",
   "metadata": {
    "tags": []
   },
   "outputs": [],
   "source": [
    "(climate_data_2021[climate_data_2021['d_diff_in_target_temp'] != 0.0]['c_driveid'].value_counts() >= 15).sum()"
   ]
  },
  {
   "cell_type": "code",
   "execution_count": null,
   "id": "fcf8719d-5458-4daa-a071-95a317ec7582",
   "metadata": {
    "tags": []
   },
   "outputs": [],
   "source": [
    "climate_data_2021[climate_data_2021['d_diff_in_target_temp'] != 0.0][['c_target_temp', 'd_diff_in_target_temp']]"
   ]
  },
  {
   "cell_type": "code",
   "execution_count": null,
   "id": "9690406c",
   "metadata": {
    "tags": []
   },
   "outputs": [],
   "source": [
    "# Now calculate the time difference distribution between two different target_temp change events\n",
    "time_diff_bet_succ_events = climate_data_2021[climate_data_2021['d_diff_in_target_temp'] != 0.0].groupby('c_driveid')['c_msg_creation_timestamp'].diff().dt.total_seconds()\n",
    "time_diff_bet_succ_events"
   ]
  },
  {
   "cell_type": "code",
   "execution_count": null,
   "id": "e0530dbd",
   "metadata": {
    "tags": []
   },
   "outputs": [],
   "source": [
    "time_diff_bet_succ_events.shape"
   ]
  },
  {
   "cell_type": "code",
   "execution_count": null,
   "id": "55557ad5",
   "metadata": {},
   "outputs": [],
   "source": [
    "# different target temp in the same timestamp\n",
    "(time_diff_bet_succ_events==0).sum()"
   ]
  },
  {
   "cell_type": "code",
   "execution_count": null,
   "id": "4c3a05a7",
   "metadata": {},
   "outputs": [],
   "source": [
    "# Distribution of target_temp change events drivewise now\n",
    "climate_data_2021[climate_data_2021['d_diff_in_target_temp'] != 0.0]['c_driveid'].value_counts().min(), climate_data_2021[climate_data_2021['d_diff_in_target_temp'] != 0.0]['c_driveid'].value_counts().max(), climate_data_2021[climate_data_2021['d_diff_in_target_temp'] != 0.0]['c_driveid'].value_counts().mean(), climate_data_2021[climate_data_2021['d_diff_in_target_temp'] != 0.0]['c_driveid'].value_counts().median()"
   ]
  },
  {
   "cell_type": "code",
   "execution_count": null,
   "id": "85c1c6f5",
   "metadata": {},
   "outputs": [],
   "source": [
    "# Plot of the time difference\n",
    "sns.histplot(time_diff_bet_succ_events)"
   ]
  },
  {
   "cell_type": "code",
   "execution_count": null,
   "id": "31d1db7b",
   "metadata": {},
   "outputs": [],
   "source": []
  },
  {
   "attachments": {},
   "cell_type": "markdown",
   "id": "b7edeade",
   "metadata": {},
   "source": [
    "### Analyze the distribution of target_temp"
   ]
  },
  {
   "cell_type": "code",
   "execution_count": null,
   "id": "1a66ea74",
   "metadata": {
    "tags": []
   },
   "outputs": [],
   "source": [
    "ticks = np.arange(16, 28.5, 0.5)\n",
    "sns.histplot(climate_data_2021['c_target_temp'])\n",
    "plt.xticks(ticks)\n",
    "plt.xticks(rotation=90)\n",
    "plt.show()"
   ]
  },
  {
   "cell_type": "code",
   "execution_count": null,
   "id": "00df6469",
   "metadata": {
    "tags": []
   },
   "outputs": [],
   "source": [
    "# How many temperature values are there\n",
    "len(sorted(climate_data_2021['c_target_temp'].unique()))"
   ]
  },
  {
   "cell_type": "code",
   "execution_count": null,
   "id": "5fb2e575",
   "metadata": {},
   "outputs": [],
   "source": [
    "sns.histplot(climate_data_2021[climate_data_2021['c_target_temp'] == 16.0]['c_drive_duration_sec'], kde=True)"
   ]
  },
  {
   "cell_type": "code",
   "execution_count": null,
   "id": "2aa1dfdc-0efc-4a69-9fe8-43149766c6e4",
   "metadata": {
    "tags": []
   },
   "outputs": [],
   "source": [
    "sns.histplot(climate_data_2021[climate_data_2021['c_target_temp'] == 28.0]['c_drive_duration_sec'], kde=True)"
   ]
  },
  {
   "cell_type": "code",
   "execution_count": null,
   "id": "a5d0c3d6",
   "metadata": {},
   "outputs": [],
   "source": [
    "climate_data_2021[climate_data_2021['c_target_temp'] == 16.0][['c_min_exteriortemperature_celsius', 'c_max_exteriortemperature_celsius']]"
   ]
  },
  {
   "attachments": {},
   "cell_type": "markdown",
   "id": "e78daf44",
   "metadata": {},
   "source": [
    "### Correlation analysis"
   ]
  },
  {
   "cell_type": "code",
   "execution_count": null,
   "id": "3317189e",
   "metadata": {
    "tags": []
   },
   "outputs": [],
   "source": [
    "numerical_columns = climate_data_2021.select_dtypes(include='number').columns\n",
    "correlation_matrix = climate_data_2021[numerical_columns].corr()\n",
    "# print(correlation_matrix)\n",
    "correlation_matrix"
   ]
  },
  {
   "cell_type": "code",
   "execution_count": null,
   "id": "5a7a4dab",
   "metadata": {
    "tags": []
   },
   "outputs": [],
   "source": [
    "correlation_threshold = 0.8  # Define the correlation threshold\n",
    "\n",
    "# Filter the correlation matrix for features with correlation above the threshold\n",
    "high_correlation_features = correlation_matrix[np.abs(correlation_matrix) > correlation_threshold].stack().dropna()\n"
   ]
  },
  {
   "cell_type": "code",
   "execution_count": null,
   "id": "8dd61846",
   "metadata": {
    "scrolled": true,
    "tags": []
   },
   "outputs": [],
   "source": [
    "high_correlation_features"
   ]
  },
  {
   "cell_type": "code",
   "execution_count": null,
   "id": "c39f9c48",
   "metadata": {
    "tags": []
   },
   "outputs": [],
   "source": [
    "correlation_matrix"
   ]
  },
  {
   "cell_type": "code",
   "execution_count": null,
   "id": "b4b86d5f",
   "metadata": {
    "scrolled": true,
    "tags": []
   },
   "outputs": [],
   "source": [
    "correlation_matrix[np.abs(correlation_matrix) > correlation_threshold]"
   ]
  },
  {
   "attachments": {},
   "cell_type": "markdown",
   "id": "dced2083",
   "metadata": {},
   "source": [
    "## Prepare the dataset for Decision Transformer (Ongoing)"
   ]
  },
  {
   "cell_type": "code",
   "execution_count": null,
   "id": "86f48071-da1c-4499-9db6-aaec525b22c7",
   "metadata": {
    "tags": []
   },
   "outputs": [],
   "source": [
    "# climate_data_2021 = climate_data_2021_copy.copy()\n",
    "# climate_data_2021.shape"
   ]
  },
  {
   "cell_type": "code",
   "execution_count": null,
   "id": "1bebca8f-ea5b-4573-8a01-de0e7bae0d06",
   "metadata": {
    "tags": []
   },
   "outputs": [],
   "source": [
    "climate_data_2021.shape"
   ]
  },
  {
   "cell_type": "code",
   "execution_count": null,
   "id": "bb813bb4-df17-4a69-aec1-047719031088",
   "metadata": {
    "tags": []
   },
   "outputs": [],
   "source": [
    "climate_data_2021['c_air_dist'].unique()"
   ]
  },
  {
   "cell_type": "code",
   "execution_count": null,
   "id": "ba03ac9d-1f24-4132-af6e-4de7c32002ec",
   "metadata": {
    "tags": []
   },
   "outputs": [],
   "source": [
    "climate_data_2021['c_air_mode_combined'].unique()"
   ]
  },
  {
   "cell_type": "code",
   "execution_count": null,
   "id": "3e803bef-9d08-460e-8126-12f20c72e241",
   "metadata": {
    "tags": []
   },
   "outputs": [],
   "source": [
    "climate_data_2021[['c_blower_style', 'c_blower_combined']]"
   ]
  },
  {
   "cell_type": "code",
   "execution_count": null,
   "id": "167c59e3-e2cd-43c9-97e7-b2ca621fa5cf",
   "metadata": {
    "tags": []
   },
   "outputs": [],
   "source": [
    "(climate_data_2021['c_blower_style'] !=  climate_data_2021['c_blower_combined']).sum()"
   ]
  },
  {
   "cell_type": "code",
   "execution_count": null,
   "id": "5f794b7e-1e4a-40e4-9ec9-84c34c6c00c2",
   "metadata": {
    "tags": []
   },
   "outputs": [],
   "source": [
    "columns_to_drop_while_training = [\n",
    "    'c_drive_duration_minutes',\n",
    "    'c_number_of_rows_drive',\n",
    "    'c_event_duration_sec',\n",
    "    'c_year_month_day',\n",
    "    'c_row_number_drive',\n",
    "    'c_weekofyear_year',\n",
    "    'c_avg_drives_per_day',\n",
    "    'c_avg_drives_per_week',\n",
    "    'c_avg_drives_per_month',\n",
    "    'c_mileage_start',\n",
    "    'c_mileage_stop',\n",
    "    'c_mileage_delta',\n",
    "    'c_drive_number_per_car',\n",
    "    'c_number_of_drives_per_car',\n",
    "    'time_interval',\n",
    "    'd_diff_in_target_temp',\n",
    "    'c_only_driving_duration_sec',\n",
    "    'c_drive_timestamp_stop',\n",
    "]"
   ]
  },
  {
   "cell_type": "code",
   "execution_count": null,
   "id": "dcf784c3-4c81-4819-98a9-3e4c399b1639",
   "metadata": {
    "tags": []
   },
   "outputs": [],
   "source": [
    "climate_data_2021_copy = climate_data_2021.copy()\n",
    "climate_data_2021_copy.shape"
   ]
  },
  {
   "cell_type": "code",
   "execution_count": null,
   "id": "37881acf-e1a6-45cd-b99f-65b1b83aab72",
   "metadata": {
    "tags": []
   },
   "outputs": [],
   "source": [
    "climate_data_2021.drop(columns_to_drop_while_training, axis= 1, inplace=True)\n",
    "climate_data_2021.shape"
   ]
  },
  {
   "cell_type": "code",
   "execution_count": null,
   "id": "12e79753-8dd5-4511-ba9f-29e550e7c69c",
   "metadata": {
    "tags": []
   },
   "outputs": [],
   "source": [
    "climate_data_2021.dtypes"
   ]
  },
  {
   "cell_type": "code",
   "execution_count": null,
   "id": "5368d1b1-2966-4840-ae28-acc95c6cac37",
   "metadata": {
    "tags": []
   },
   "outputs": [],
   "source": [
    "numerical_columns = climate_data_2021.select_dtypes(include='number').columns\n",
    "numerical_columns.shape"
   ]
  },
  {
   "attachments": {},
   "cell_type": "markdown",
   "id": "bb74e6d8-f62c-4559-a4d1-fb843f836fa1",
   "metadata": {},
   "source": [
    "#### Preprocessing of the features"
   ]
  },
  {
   "attachments": {},
   "cell_type": "markdown",
   "id": "e3bdbd86-00fd-4499-b84d-bb48d5fc0c99",
   "metadata": {},
   "source": [
    "##### One-hot encode the categorical features"
   ]
  },
  {
   "cell_type": "code",
   "execution_count": null,
   "id": "4b15196b-9d4c-42f3-81ff-013290779c9b",
   "metadata": {
    "tags": []
   },
   "outputs": [],
   "source": [
    "categorical_columns = climate_data_2021.select_dtypes(include=['object']).columns.tolist()\n",
    "categorical_columns"
   ]
  },
  {
   "cell_type": "code",
   "execution_count": null,
   "id": "67b89d8b-e44c-4a43-8a6e-fee76699684f",
   "metadata": {
    "tags": []
   },
   "outputs": [],
   "source": [
    "cat_cols_excluded = ['c_van17', 'c_driveid']\n",
    "for cat_col in cat_cols_excluded:\n",
    "    categorical_columns.remove(cat_col)\n",
    "categorical_columns"
   ]
  },
  {
   "cell_type": "code",
   "execution_count": null,
   "id": "180f7f26-dfe9-4504-85fb-f38530339dbb",
   "metadata": {
    "tags": []
   },
   "outputs": [],
   "source": [
    "one_hot_cols = categorical_columns"
   ]
  },
  {
   "cell_type": "code",
   "execution_count": null,
   "id": "ecfa5549-3ee0-472c-9ef3-82fa5467f0ca",
   "metadata": {
    "tags": []
   },
   "outputs": [],
   "source": [
    "climate_data_2021 = pd.get_dummies(climate_data_2021, columns=one_hot_cols)\n",
    "climate_data_2021.shape"
   ]
  },
  {
   "attachments": {},
   "cell_type": "markdown",
   "id": "e2bc9587-e2cc-4e52-a1da-981b928c1bd6",
   "metadata": {},
   "source": [
    "##### Convert the bool cols to int 0/1"
   ]
  },
  {
   "cell_type": "code",
   "execution_count": null,
   "id": "72bc4b1e-622f-4482-8209-a4e33aff67bc",
   "metadata": {
    "tags": []
   },
   "outputs": [],
   "source": [
    "bool_columns = climate_data_2021.select_dtypes(include=['bool']).columns\n",
    "bool_columns"
   ]
  },
  {
   "cell_type": "code",
   "execution_count": null,
   "id": "709539e8-38be-4e5a-94a2-ddc3a7e1fe48",
   "metadata": {
    "tags": []
   },
   "outputs": [],
   "source": [
    "climate_data_2021[bool_columns] = climate_data_2021[bool_columns].astype('int')\n",
    "climate_data_2021.head()"
   ]
  },
  {
   "attachments": {},
   "cell_type": "markdown",
   "id": "3fc9296b-8879-42d3-847b-66495ab52c62",
   "metadata": {},
   "source": [
    "#### Finally, produce the data for decision transformer"
   ]
  },
  {
   "cell_type": "code",
   "execution_count": null,
   "id": "9bf81f42-f8f2-41f2-9b33-6dbbd63b15b1",
   "metadata": {
    "tags": []
   },
   "outputs": [],
   "source": [
    "# Sort the dataframe in ascending manner according to timestamp\n",
    "climate_data_2021.sort_values(by=['c_van17', 'c_driveid', 'c_drive_timestamp_start', 'c_msg_creation_timestamp'], inplace=True)\n",
    "climate_data_2021.shape"
   ]
  },
  {
   "cell_type": "code",
   "execution_count": null,
   "id": "0c0629cf-9aa1-4952-868e-2bd305387cb9",
   "metadata": {
    "tags": []
   },
   "outputs": [],
   "source": [
    "# climate_data_2021['d_drive_uid'] = climate_data_2021.apply(lambda row: ('_'.join(row[['c_van17', 'c_driveid']])).lower(), axis=1)"
   ]
  },
  {
   "cell_type": "code",
   "execution_count": null,
   "id": "55d92013-697a-4746-be35-75c91b39291d",
   "metadata": {
    "tags": []
   },
   "outputs": [],
   "source": [
    "# climate_data_2021['d_drive_uid'].nunique()"
   ]
  },
  {
   "cell_type": "code",
   "execution_count": null,
   "id": "c8b7e902-83af-4db3-80f5-7cf4013fd9b5",
   "metadata": {
    "tags": []
   },
   "outputs": [],
   "source": [
    "climate_data_2021['d_drive_uid'] = climate_data_2021['c_van17'] + '_' + climate_data_2021['c_driveid']\n",
    "climate_data_2021['d_drive_uid'].nunique()"
   ]
  },
  {
   "cell_type": "code",
   "execution_count": null,
   "id": "53c7d233-4945-4d60-96b5-c0928494bddb",
   "metadata": {
    "tags": []
   },
   "outputs": [],
   "source": [
    "# for idx, row in climate_data_2021.iterrows():\n",
    "#     print(row.ilo)"
   ]
  },
  {
   "cell_type": "code",
   "execution_count": null,
   "id": "3835e9ac-d93b-4705-9010-1e2f578d4141",
   "metadata": {
    "tags": []
   },
   "outputs": [],
   "source": [
    "# Drop the van and drive id cols\n",
    "# We have already concatenated them\n",
    "climate_data_2021.drop(['c_van17', 'c_driveid'], axis=1, inplace=True)\n",
    "climate_data_2021.shape"
   ]
  },
  {
   "cell_type": "code",
   "execution_count": null,
   "id": "1378014c",
   "metadata": {},
   "outputs": [],
   "source": [
    "climate_data_2021.head()"
   ]
  },
  {
   "cell_type": "code",
   "execution_count": null,
   "id": "b4dbac73",
   "metadata": {},
   "outputs": [],
   "source": [
    "sample_drive_uid = climate_data_2021['d_drive_uid'].unique()[0]"
   ]
  },
  {
   "cell_type": "code",
   "execution_count": null,
   "id": "9ef8bd90",
   "metadata": {},
   "outputs": [],
   "source": [
    "obs = np.array(climate_data_2021[climate_data_2021['d_drive_uid'] == sample_drive_uid])"
   ]
  },
  {
   "cell_type": "code",
   "execution_count": null,
   "id": "5b90b055",
   "metadata": {},
   "outputs": [],
   "source": [
    "obs[:, 2:].shape"
   ]
  },
  {
   "cell_type": "code",
   "execution_count": null,
   "id": "609c9aa5",
   "metadata": {},
   "outputs": [],
   "source": [
    "len(climate_data_2021[climate_data_2021['d_drive_uid'] == sample_drive_uid].values.tolist())"
   ]
  },
  {
   "cell_type": "code",
   "execution_count": null,
   "id": "6b51b8c1",
   "metadata": {},
   "outputs": [],
   "source": [
    "target_temp = climate_data_2021[climate_data_2021['d_drive_uid'] == sample_drive_uid]['c_target_temp']\n",
    "mapped_temp = [temp for temp in target_temp]"
   ]
  },
  {
   "cell_type": "code",
   "execution_count": null,
   "id": "0d659acc",
   "metadata": {},
   "outputs": [],
   "source": [
    "(climate_data_2021['d_drive_uid'].value_counts() == 15).sum()"
   ]
  },
  {
   "cell_type": "code",
   "execution_count": null,
   "id": "8b3f9aee",
   "metadata": {},
   "outputs": [],
   "source": [
    "2809*15"
   ]
  },
  {
   "cell_type": "code",
   "execution_count": null,
   "id": "deb0f758",
   "metadata": {},
   "outputs": [],
   "source": [
    "climate_data_2021.shape[0] * 0.2"
   ]
  },
  {
   "cell_type": "code",
   "execution_count": null,
   "id": "243545ae-1e90-4cc0-a658-74ebd2fa4967",
   "metadata": {
    "tags": []
   },
   "outputs": [],
   "source": [
    "# def prepare_trajectory(df):\n",
    "#     actions = np.arange(16, 28.5, 0.5)\n",
    "#     custom_act_to_orig_act = {idx: action for idx, action in enumerate(actions)}\n",
    "#     orig_act_to_custom_act = {action: idx for idx, action in enumerate(actions)}\n",
    "#     observations = []\n",
    "#     next_observations = []\n",
    "#     actions = []\n",
    "#     rewards = []\n",
    "#     terminals = []\n",
    "#     trajectory = {}\n",
    "#     test_traj = {}\n",
    "#     target_temp = df['c_target_temp']\n",
    "#     df.drop(['d_drive_uid', 'c_msg_creation_timestamp', 'c_drive_timestamp_start', 'c_target_temp'], axis=1, inplace=True)\n",
    "#     observations = df.values.tolist()\n",
    "#     # print(f'obs shape: {obs.shape}')\n",
    "#     actions = [orig_act_to_custom_act[temp] for temp in target_temp]\n",
    "#     # print(f\"converted action: {actions[-1]}\")\n",
    "#     # rewards.append(0)\n",
    "#     terminals = np.full(len(observations)-1, True, dtype=bool)\n",
    "#     next_observations = observations.copy()\n",
    "#     observations.pop(df.shape[0]-1)\n",
    "#     actions.pop(df.shape[0]-1)\n",
    "    \n",
    "    \n",
    "#     next_observations.pop(0)\n",
    "#     terminals[len(terminals)-1] = True\n",
    "    \n",
    "#     observations = np.array(observations)\n",
    "#     next_observations = np.array(next_observations)\n",
    "#     actions = np.array(observations.shape)\n",
    "#     rewards = np.zeros(observations.shape[0])\n",
    "#     terminals = np.array(terminals)\n",
    "#     # return observations, next_observations, actions, rewards, terminals\n",
    "#     # return trajectory\n",
    "#     # print(f'observations shape: {len(observations)} and next_observations shape: {len(next_observations)}')\n",
    "#     # print(f'observations shape: {observations.shape} and next_observations shape: {next_observations.shape}, terminals.shape: {terminals.shape}, rewards.shape: {rewards.shape}')\n",
    "#     # We will use a 70-30 split for training and testing\n",
    "#     # First select the indices for training and testing\n",
    "#     # test_sample_size = int(len(observations) * 0.2)\n",
    "#     # indices = {i for i in range(len(observations))}\n",
    "#     # # print(f'total indices: {len(indices)}')\n",
    "#     # # Randomly select indices for training and testing\n",
    "#     # test_indices = list(np.random.choice(list(indices), size=round(0.3*len(indices)), replace=False))\n",
    "\n",
    "#     # train_indices = list(indices.difference(test_indices))\n",
    "#     trajectory['observations'] = observations\n",
    "#     trajectory['next_observations'] = next_observations\n",
    "#     trajectory['actions'] = actions\n",
    "#     trajectory['rewards'] = rewards\n",
    "#     trajectory['terminals'] = terminals\n",
    "\n",
    "#     return trajectory\n",
    "#     # print(f\"train instances: {len(train_indices)} and test indices: {len(test_indices)}\")\n",
    "    \n"
   ]
  },
  {
   "cell_type": "code",
   "execution_count": null,
   "id": "8cb24f8e-53d1-46d5-b6f3-0d3532077348",
   "metadata": {
    "tags": []
   },
   "outputs": [],
   "source": [
    "def prepare_trajectory(df):\n",
    "    actions = np.arange(16, 28.5, 0.5)\n",
    "    custom_act_to_orig_act = {idx: action for idx, action in enumerate(actions)}\n",
    "    orig_act_to_custom_act = {action: idx for idx, action in enumerate(actions)}\n",
    "    \n",
    "    target_temp = df['c_target_temp'].tolist()\n",
    "    \n",
    "    observations = df.drop(['d_drive_uid', 'c_msg_creation_timestamp', 'c_drive_timestamp_start', 'c_target_temp'], axis=1).values.tolist()\n",
    "    \n",
    "    actions = [orig_act_to_custom_act[temp] for temp in target_temp]\n",
    "    \n",
    "    terminals = np.full(len(observations)-1, False, dtype=bool)\n",
    "    terminals[-1] = True  # Set the last terminal as True\n",
    "    \n",
    "    next_observations = observations[1:] + [observations[-1]]\n",
    "    next_observations[-1] = np.zeros_like(next_observations[-1])  # Set the last next_observation as zeros\n",
    "    \n",
    "    rewards = np.zeros(len(observations))\n",
    "    \n",
    "    trajectory = {\n",
    "        'observations': np.array(observations[:-1]),\n",
    "        'next_observations': np.array(next_observations[:-1]),\n",
    "        'actions': np.array(actions[:-1]),\n",
    "        'rewards': rewards[:-1],\n",
    "        'terminals': terminals\n",
    "    }\n",
    "\n",
    "    return trajectory"
   ]
  },
  {
   "cell_type": "code",
   "execution_count": null,
   "id": "003f471e-f5ce-4afa-affe-46af40e91b0d",
   "metadata": {
    "tags": []
   },
   "outputs": [],
   "source": [
    "%%time\n",
    "drive_uids = climate_data_2021['d_drive_uid'].unique()\n",
    "trajectories = []\n",
    "\n",
    "for drive_uid in drive_uids:\n",
    "    df_to_prepare = climate_data_2021[climate_data_2021['d_drive_uid'] == drive_uid]\n",
    "    train_traj = prepare_trajectory(df_to_prepare)\n",
    "    trajectories.append(train_traj)"
   ]
  },
  {
   "cell_type": "code",
   "execution_count": null,
   "id": "e85ec34d",
   "metadata": {
    "tags": []
   },
   "outputs": [],
   "source": [
    "len(trajectories)"
   ]
  },
  {
   "attachments": {},
   "cell_type": "markdown",
   "id": "81eb9acb",
   "metadata": {},
   "source": [
    "#### Prepare the validation and test dataset."
   ]
  },
  {
   "cell_type": "code",
   "execution_count": null,
   "id": "8543947f-88f0-4f59-870d-f1545546d616",
   "metadata": {
    "tags": []
   },
   "outputs": [],
   "source": [
    "# Calculate the size for the training set\n",
    "indices = {i for i in range(len(trajectories))}\n",
    "test_indices = list(np.random.choice(list(indices), size=round(0.2*len(indices)), replace=False))\n",
    "print(f\"total test drives: {len(test_indices)}\")\n",
    "\n",
    "train_indices = list(indices.difference(test_indices))\n",
    "print(f\"total train drives: {len(train_indices)}\")\n",
    "\n",
    "train_set = [trajectories[idx]for idx in train_indices]\n",
    "test_set = [trajectories[idx]for idx in test_indices]\n",
    "\n",
    "print(\"Train set:\", len(train_set))\n",
    "print(\"Test set:\", len(test_set))"
   ]
  },
  {
   "cell_type": "code",
   "execution_count": null,
   "id": "d2375a1c",
   "metadata": {},
   "outputs": [],
   "source": [
    "all_temps = [traj['actions'].tolist() for traj in train_set]"
   ]
  },
  {
   "cell_type": "code",
   "execution_count": null,
   "id": "d52371e7",
   "metadata": {},
   "outputs": [],
   "source": [
    "all_temps = np.concatenate(all_temps)\n",
    "len(all_temps)"
   ]
  },
  {
   "cell_type": "code",
   "execution_count": null,
   "id": "77cb8437",
   "metadata": {},
   "outputs": [],
   "source": [
    "sns.histplot(all_temps)"
   ]
  },
  {
   "cell_type": "code",
   "execution_count": null,
   "id": "802aa8fc-81b7-45b5-ac35-56a1fe6cffb9",
   "metadata": {
    "tags": []
   },
   "outputs": [],
   "source": [
    "train_total_events = [len(traj['observations']) for traj in test_set]\n",
    "sum(train_total_events)"
   ]
  },
  {
   "cell_type": "code",
   "execution_count": null,
   "id": "84a702b7",
   "metadata": {},
   "outputs": [],
   "source": [
    "# Save the train and test trajectories as pickle files to load them later\n",
    "import pickle\n",
    "with open('/home/q621464/Desktop/Thesis/code/decision-transformer-thesis/atari/data/smart-climate-train-trajectories.pkl', 'wb') as f:\n",
    "    pickle.dump(train_set, f)\n",
    "    \n",
    "with open('/home/q621464/Desktop/Thesis/code/decision-transformer-thesis/atari/data/smart-climate-test-trajectories.pkl', 'wb') as f:\n",
    "    pickle.dump(test_set, f)"
   ]
  },
  {
   "cell_type": "code",
   "execution_count": null,
   "id": "e5571fff-2ce2-4877-8c3d-d3ad37042ece",
   "metadata": {
    "tags": []
   },
   "outputs": [],
   "source": [
    "import numpy as np\n",
    "def create_smart_climate_dataset(trajectories):\n",
    "    # with open(data_dir, 'rb') as f:\n",
    "    #     trajectories = pickle.load(f)\n",
    "    obss = []\n",
    "    actions = []\n",
    "    returns = [0]\n",
    "    done_idxs = []\n",
    "    stepwise_returns = []    \n",
    "    for traj in trajectories:\n",
    "        obss += traj['observations'].tolist()\n",
    "        actions += traj['actions'].tolist()\n",
    "        stepwise_returns += traj['rewards'].tolist()\n",
    "        done_idxs += [len(obss)]\n",
    "        returns += [0]\n",
    "\n",
    "    actions = np.array(actions)\n",
    "    returns = np.array(returns)\n",
    "    stepwise_returns = np.array(stepwise_returns)\n",
    "    done_idxs = np.array(done_idxs)\n",
    "\n",
    "    # -- create reward-to-go dataset\n",
    "    start_index = 0\n",
    "    rtg = np.zeros_like(stepwise_returns)\n",
    "    for i in done_idxs:\n",
    "        i = int(i)\n",
    "        curr_traj_returns = stepwise_returns[start_index:i]\n",
    "        for j in range(i-1, start_index-1, -1): # start from i-1\n",
    "            rtg_j = curr_traj_returns[j-start_index:i-start_index]\n",
    "            rtg[j] = sum(rtg_j)\n",
    "        start_index = i\n",
    "    print('max rtg is %d' % max(rtg))\n",
    "\n",
    "    # -- create timestep dataset\n",
    "    start_index = 0\n",
    "    timesteps = np.zeros(len(actions)+1, dtype=int)\n",
    "    print(f\"total done idx: {len(done_idxs)}\")\n",
    "    for i in done_idxs:\n",
    "        # print(f\"done_idx: {i}\")\n",
    "        i = int(i)\n",
    "        timesteps[start_index:i+1] = np.arange(i+1 - start_index)\n",
    "        start_index = i+1\n",
    "    print('max timestep is %d' % max(timesteps))\n",
    "\n",
    "    return obss, actions, returns, done_idxs, rtg, timesteps"
   ]
  },
  {
   "cell_type": "code",
   "execution_count": null,
   "id": "013fb86c",
   "metadata": {},
   "outputs": [],
   "source": [
    "from torch.utils.data import Dataset\n",
    "import torch\n",
    "class StateActionReturnDataset(Dataset):\n",
    "\n",
    "    def __init__(self, data, block_size, actions, done_idxs, rtgs, timesteps):        \n",
    "        self.block_size = block_size\n",
    "        self.vocab_size = max(actions) + 1 # TODO: needs to be changed. Does it change dynamically based on the sampled data?\n",
    "        self.data = data\n",
    "        self.actions = actions\n",
    "        self.done_idxs = done_idxs\n",
    "        self.rtgs = rtgs\n",
    "        self.timesteps = timesteps\n",
    "        # print(f\"vocab_size: {self.vocab_size} and the block_size: {self.block_size}\")\n",
    "    \n",
    "    def __len__(self):\n",
    "        return len(self.data) - self.block_size\n",
    "\n",
    "    def __getitem__(self, idx):\n",
    "        block_size = self.block_size // 3\n",
    "        done_idx = idx + block_size # TODO: needs change in the prepared datset for Mlens\n",
    "        # print(f\"done_idx initially: {done_idx}\")\n",
    "        for i in self.done_idxs:\n",
    "            # print(f\"i={i} and idx={idx}\")\n",
    "            if i >= idx + block_size: # first done_idx greater than idx\n",
    "                done_idx = min(int(i), done_idx)\n",
    "                break\n",
    "        idx = done_idx - block_size\n",
    "        # print(f\"done_idx after: {done_idx} and start_idx: {idx}\")\n",
    "        \n",
    "        states = torch.tensor(np.array(self.data[idx:done_idx]), dtype=torch.float32).reshape(block_size, -1) # (block_size, 4*84*84)\n",
    "        states = states / 255.\n",
    "        \n",
    "        # print(f\"In the dataset's getitem() method\")\n",
    "        # print(f\"states shape: {states.shape}\")\n",
    "        # print(f\"sampled state: {states.shape}\")\n",
    "        actions = torch.tensor(self.actions[idx:done_idx], dtype=torch.long).unsqueeze(1) # (block_size, 1)\n",
    "        rtgs = torch.tensor(self.rtgs[idx:done_idx], dtype=torch.float32).unsqueeze(1)\n",
    "        timesteps = torch.tensor(self.timesteps[idx:idx+1], dtype=torch.int64).unsqueeze(1)\n",
    "\n",
    "        return states, actions, rtgs, timesteps\n"
   ]
  },
  {
   "cell_type": "code",
   "execution_count": null,
   "id": "8c423dec",
   "metadata": {},
   "outputs": [],
   "source": [
    "import pickle\n",
    "with open(\"/home/q621464/Desktop/Thesis/code/decision-transformer-thesis/atari/data/smart-climate-train-trajectories.pkl\", 'rb') as f:\n",
    "    train_set = pickle.load(f)"
   ]
  },
  {
   "cell_type": "code",
   "execution_count": null,
   "id": "7fa9f6cc",
   "metadata": {},
   "outputs": [],
   "source": [
    "obss, actions, returns, done_idxs, rtg, timesteps = create_smart_climate_dataset(train_set)"
   ]
  },
  {
   "cell_type": "code",
   "execution_count": null,
   "id": "147bd302",
   "metadata": {},
   "outputs": [],
   "source": [
    "obss = np.array(obss)\n",
    "obss.shape"
   ]
  },
  {
   "cell_type": "code",
   "execution_count": null,
   "id": "f0a89948",
   "metadata": {},
   "outputs": [],
   "source": [
    "np.isnan(obss).any()"
   ]
  },
  {
   "cell_type": "code",
   "execution_count": null,
   "id": "77a69fc0",
   "metadata": {},
   "outputs": [],
   "source": [
    "obss.shape"
   ]
  },
  {
   "cell_type": "code",
   "execution_count": null,
   "id": "36dd052d",
   "metadata": {},
   "outputs": [],
   "source": [
    "np.isnan(obss[-120360: 120363]).any()"
   ]
  },
  {
   "cell_type": "code",
   "execution_count": null,
   "id": "788044f7",
   "metadata": {},
   "outputs": [],
   "source": [
    "import torch\n",
    "class_weights = [6, 2, 7, 1, 9, 0, 3, 0, 2, 0]\n",
    "weights = torch.tensor(class_weights, device='cuda', dtype=torch.float32)\n",
    "loss = 2.71234\n",
    "(loss*weights).mean()"
   ]
  },
  {
   "cell_type": "code",
   "execution_count": null,
   "id": "15b18a6f",
   "metadata": {},
   "outputs": [],
   "source": [
    "mlens_test_data['observations']"
   ]
  },
  {
   "cell_type": "code",
   "execution_count": null,
   "id": "bac4feac",
   "metadata": {},
   "outputs": [],
   "source": [
    "# Dummy data with a batch of 5 samples, each having 3 features\n",
    "batch_size = 5\n",
    "num_features = 3\n",
    "\n",
    "# Generate random dummy data\n",
    "data = torch.randn(batch_size, num_features)\n",
    "\n",
    "# Calculate mean and standard deviation along the batch dimension (axis=0)\n",
    "mean = data.mean(dim=0)\n",
    "std = data.std(dim=0)\n",
    "\n",
    "print(f\"mean: {mean}, std: {std}\")\n",
    "# Normalize the data by subtracting the mean and dividing by the standard deviation\n",
    "normalized_data = (data - mean) / std\n",
    "\n",
    "print(\"Original data:\")\n",
    "print(data)\n",
    "\n",
    "print(\"\\nNormalized data:\")\n",
    "print(normalized_data)"
   ]
  },
  {
   "cell_type": "code",
   "execution_count": null,
   "id": "820fb78f",
   "metadata": {},
   "outputs": [],
   "source": [
    "logits = torch.rand((128, 30, 25))\n",
    "targets = torch.randint(low=1, high=5, size=(128, 30, 1))"
   ]
  },
  {
   "cell_type": "code",
   "execution_count": null,
   "id": "9d200a68",
   "metadata": {},
   "outputs": [],
   "source": [
    "logits.reshape(-1, logits.size(-1)).shape"
   ]
  },
  {
   "cell_type": "code",
   "execution_count": null,
   "id": "899ef748",
   "metadata": {},
   "outputs": [],
   "source": [
    "targets.reshape(-1).shape"
   ]
  },
  {
   "cell_type": "code",
   "execution_count": null,
   "id": "66033444",
   "metadata": {},
   "outputs": [],
   "source": [
    "logits.view(-1, logits.size(-1)).shape"
   ]
  },
  {
   "cell_type": "code",
   "execution_count": null,
   "id": "6dc7468e",
   "metadata": {},
   "outputs": [],
   "source": [
    "obss, actions, returns, done_idxs, rtgs, timesteps = create_smart_climate_dataset(train_set)"
   ]
  },
  {
   "cell_type": "code",
   "execution_count": null,
   "id": "df68d10b",
   "metadata": {},
   "outputs": [],
   "source": [
    "context_length = 30\n",
    "train_dataset = StateActionReturnDataset(obss, context_length*3, actions, done_idxs, rtgs, timesteps)"
   ]
  },
  {
   "cell_type": "code",
   "execution_count": null,
   "id": "a767087d",
   "metadata": {},
   "outputs": [],
   "source": [
    "train_dataset.__getitem__(1)"
   ]
  },
  {
   "cell_type": "code",
   "execution_count": null,
   "id": "b1340394",
   "metadata": {},
   "outputs": [],
   "source": [
    "from tqdm import tqdm\n",
    "from torch.utils.data.dataloader import DataLoader\n",
    "import torch\n",
    "data = train_dataset\n",
    "batch_size = 128\n",
    "num_workers = 4\n",
    "loader = DataLoader(data, shuffle=True, pin_memory=True,\n",
    "                    batch_size=batch_size,\n",
    "                    num_workers=num_workers)\n",
    "pbar = tqdm(enumerate(loader), total=len(loader))\n",
    "\n",
    "device = 'cuda'\n",
    "total_elements = 0\n",
    "for it, (x, y, r, t) in pbar:\n",
    "\n",
    "    # place data on the correct device\n",
    "    x = x.to(device)\n",
    "    y = y.to(device)\n",
    "    r = r.to(device)\n",
    "    t = t.to(device)\n",
    "    total_elements += torch.numel(y)\n",
    "    # print(f\"Sampled batch size: {x.shape}\")"
   ]
  },
  {
   "cell_type": "code",
   "execution_count": null,
   "id": "abd671de",
   "metadata": {},
   "outputs": [],
   "source": [
    "# state_representing_columns = [\n",
    "#     'c_blower_combined',\n",
    "#     'c_air_mode_combined',\n",
    "#     'c_blower_level',\n",
    "#     'c_blower_style',\n",
    "#     'c_air_dist',\n",
    "#     'c_auto_mode',\n",
    "#     'c_pwf_group',\n",
    "# #     'c_exteriortemperature_avg_celsius',\n",
    "#     'c_drive_duration_sec',\n",
    "#     'c_mean_speed',\n",
    "#     'c_target_temp'\n",
    "#     'c_min_exteriortemperature_celsius',\n",
    "#     'c_max_exteriortemperature_celsius'\n",
    "# ]\n"
   ]
  },
  {
   "cell_type": "code",
   "execution_count": null,
   "id": "a4e09b4c-bb4f-425a-90ba-67e3cc402ad9",
   "metadata": {},
   "outputs": [],
   "source": []
  },
  {
   "attachments": {},
   "cell_type": "markdown",
   "id": "266d83e2-86bf-4fd6-b2d3-669e1f1e1d77",
   "metadata": {},
   "source": [
    "### Analyzing the drive for which the time difference between successive events had the highest and lowest STD"
   ]
  },
  {
   "cell_type": "code",
   "execution_count": null,
   "id": "57a195ef",
   "metadata": {
    "tags": []
   },
   "outputs": [],
   "source": [
    "# Drive ID for which the time diff between successive events had the highest std\n",
    "climate_data_2021.groupby('c_driveid')['d_time_difference_sec'].std().idxmax()"
   ]
  },
  {
   "cell_type": "code",
   "execution_count": null,
   "id": "890d0fcf",
   "metadata": {},
   "outputs": [],
   "source": [
    "# Let's plot the target_temp values over time\n",
    "df = climate_data_2021[climate_data_2021['c_driveid']=='VFLYK3KWJKQB7S61L']\n",
    "plt.plot(df['c_msg_creation_timestamp'], df['c_target_temp'])\n",
    "plt.xlabel('Timestamp')\n",
    "plt.ylabel('target_temp')\n",
    "plt.title('Change of target_temp over Time (Drive ID: VFLYK3KWJKQB7S61L)')\n",
    "plt.show()\n"
   ]
  },
  {
   "cell_type": "code",
   "execution_count": null,
   "id": "a2e356ec",
   "metadata": {},
   "outputs": [],
   "source": [
    "# Drive ID for which the time diff between successive events had the lowest std\n",
    "climate_data_2021.groupby('c_driveid')['d_time_difference_sec'].std().idxmin()"
   ]
  },
  {
   "cell_type": "code",
   "execution_count": null,
   "id": "dda40d78",
   "metadata": {},
   "outputs": [],
   "source": [
    "# Let's plot the temp values over time\n",
    "plt.plot(climate_data_2021[climate_data_2021['c_driveid']=='3J4T647RX0QTCDZ7Z']['c_target_temp'])\n",
    "plt.xlabel('Timestamp')\n",
    "plt.ylabel('target_temp')\n",
    "plt.title('Change of target_temp over Time (Drive ID: 3J4T647RX0QTCDZ7Z)')\n",
    "plt.show()\n"
   ]
  },
  {
   "attachments": {},
   "cell_type": "markdown",
   "id": "e6749d12-1710-4789-bdb5-549cecbde2b1",
   "metadata": {},
   "source": [
    "### Analyzing the drive for which the target temperature had the highest STD"
   ]
  },
  {
   "cell_type": "code",
   "execution_count": null,
   "id": "46d3da79",
   "metadata": {
    "tags": []
   },
   "outputs": [],
   "source": [
    "# Drive ID for which the target temp has the highest std\n",
    "climate_data_2021.groupby('c_driveid')['c_target_temp'].std().idxmax()"
   ]
  },
  {
   "cell_type": "code",
   "execution_count": null,
   "id": "fee51852",
   "metadata": {
    "tags": []
   },
   "outputs": [],
   "source": [
    "# Interesting: Only two extreme values\n",
    "climate_data_2021[climate_data_2021['c_driveid']=='SZ93Y029BMQB1K94E']['c_target_temp'].unique()"
   ]
  },
  {
   "cell_type": "code",
   "execution_count": null,
   "id": "3a925fe8",
   "metadata": {
    "tags": []
   },
   "outputs": [],
   "source": [
    "# Let's analyze how many such drives are there where we have these two extreme temperatures only\n",
    "# 16->28 or 28->16, no other values in between\n",
    "climate_data_2021.groupby('c_driveid')['c_target_temp'].unique().reset_index()['c_target_temp'].apply(lambda row: np.array_equal(row, [16.0, 28.0])).sum()"
   ]
  },
  {
   "attachments": {},
   "cell_type": "markdown",
   "id": "f50fe8a2-36c1-48c5-8c64-b09cd0985ff3",
   "metadata": {},
   "source": [
    "### Analyze the drive which had the most varied number of temperature values"
   ]
  },
  {
   "cell_type": "code",
   "execution_count": null,
   "id": "92e27580",
   "metadata": {
    "tags": []
   },
   "outputs": [],
   "source": [
    "# Drive id which had the most unique number of temperature values\n",
    "drive_id_with_most_uniq_temps = climate_data_2021.groupby('c_driveid')['c_target_temp'].nunique().idxmax()\n",
    "drive_id_with_most_uniq_temps"
   ]
  },
  {
   "cell_type": "code",
   "execution_count": null,
   "id": "ae5d3a29",
   "metadata": {
    "scrolled": true,
    "tags": []
   },
   "outputs": [],
   "source": [
    "climate_data_2021[climate_data_2021['c_driveid']==drive_id_with_most_uniq_temps].shape"
   ]
  },
  {
   "cell_type": "code",
   "execution_count": null,
   "id": "5b30e36f",
   "metadata": {
    "tags": []
   },
   "outputs": [],
   "source": [
    "# Let's plot the temp values over time\n",
    "plt.plot(climate_data_2021[climate_data_2021['c_driveid']==drive_id_with_most_uniq_temps]['c_target_temp'])\n",
    "plt.xlabel('Timestamp')\n",
    "plt.ylabel('target_temp')\n",
    "plt.title('Change of target_temp over Time (Drive ID: {})'.format(drive_id_with_most_uniq_temps))\n",
    "plt.show()\n"
   ]
  },
  {
   "cell_type": "markdown",
   "id": "52374fb6-8bf6-4028-a789-9b9498503041",
   "metadata": {},
   "source": [
    "#### Analyze the train set"
   ]
  },
  {
   "cell_type": "code",
   "execution_count": null,
   "id": "14b273c5",
   "metadata": {},
   "outputs": [],
   "source": [
    "import pickle\n",
    "with open(\"/home/q621464/Desktop/Thesis/code/decision-transformer-thesis/atari/data/smart-climate-train-trajectories.pkl\", 'rb') as f:\n",
    "    train_set = pickle.load(f)"
   ]
  },
  {
   "cell_type": "code",
   "execution_count": null,
   "id": "be3f7619",
   "metadata": {},
   "outputs": [],
   "source": [
    "train_set[0]['observations'][0]"
   ]
  },
  {
   "attachments": {},
   "cell_type": "markdown",
   "id": "fc306608",
   "metadata": {},
   "source": [
    "#### Some questions\n",
    "1. Should we avoid the events with 0 sec duration. "
   ]
  },
  {
   "attachments": {},
   "cell_type": "markdown",
   "id": "e091b3fa",
   "metadata": {},
   "source": [
    "### Important notes"
   ]
  },
  {
   "attachments": {},
   "cell_type": "markdown",
   "id": "80314670",
   "metadata": {},
   "source": [
    "Some columns need to be used carefully: \n",
    "1. c_number_of_drives_per_car: this column represents the number from the whole dataset, we have a subset here\n",
    "2. c_drive_number_per_car: same applies for this column\n"
   ]
  },
  {
   "attachments": {},
   "cell_type": "markdown",
   "id": "afd5c986",
   "metadata": {},
   "source": [
    "### Identifying individual cars/users"
   ]
  },
  {
   "attachments": {},
   "cell_type": "markdown",
   "id": "5c2c93ff",
   "metadata": {},
   "source": [
    "Original SQL Query:\n",
    "```sql\n",
    "SELECT LOWER(CONCAT(c_marketing_name, '_', c_steering_wheel_position, '_', c_brand, '_', c_country_iso_code, '_', c_product_line, '_', c_derivat, '_', c_brand, '_', c_order_country, '_', c_hybridkennzeichen, '_', c_vehicle_class)) AS unique_combination, COUNT(*) AS combination_count\n",
    "FROM \"vehicle_airflow_airdist_pre\".\"t_airflow_control_2021\"\n",
    "GROUP BY LOWER(CONCAT(c_marketing_name, '_', c_steering_wheel_position, '_', c_brand, '_', c_country_iso_code, '_', c_product_line, '_', c_derivat, '_', c_brand, '_', c_order_country, '_', c_hybridkennzeichen, '_', c_vehicle_class))\n",
    "\n",
    "```\n"
   ]
  },
  {
   "cell_type": "code",
   "execution_count": null,
   "id": "1f9af3b4",
   "metadata": {},
   "outputs": [],
   "source": [
    "concat_cols = \"\"\n",
    "for i, col in enumerate(group_by_columns):\n",
    "    if i != len(group_by_columns) - 1:\n",
    "        concat_cols += f\"{col}_\"\n",
    "    else:\n",
    "        concat_cols += f\"{col}\"\n",
    "concat_cols"
   ]
  },
  {
   "cell_type": "code",
   "execution_count": null,
   "id": "5cdd3b3e",
   "metadata": {},
   "outputs": [],
   "source": [
    "drive_count_per_car"
   ]
  },
  {
   "cell_type": "code",
   "execution_count": null,
   "id": "70ec8812",
   "metadata": {},
   "outputs": [],
   "source": [
    "climate_data_2021.head()"
   ]
  },
  {
   "cell_type": "code",
   "execution_count": null,
   "id": "3eb537fa",
   "metadata": {},
   "outputs": [],
   "source": [
    "climate_data_2021.head()"
   ]
  },
  {
   "cell_type": "code",
   "execution_count": null,
   "id": "71a2813e",
   "metadata": {},
   "outputs": [],
   "source": [
    "climate_data_2021.dtypes"
   ]
  },
  {
   "attachments": {},
   "cell_type": "markdown",
   "id": "3bb5095e",
   "metadata": {},
   "source": [
    "#### Some features that might contain duplicate info:\n",
    "1. c_drive_duration_sec, c_drive_duration_minutes\n",
    "2. c_year_month_day, c_weekofyear_year\n",
    "3. c_drive_weekday, c_weekend_drive (if not one, then the other)\n",
    "4. c_avg_drives_per_day, c_avg_drives_per_week, c_avg_drives_per_month\n",
    "\n",
    "#### Some features that might need to be derived:\n",
    "1. 1st message creation offset from drive_start time: This might give an idea of how eager or impatient the user is. May be we can categorize the user based on this.\n",
    "2. offset between messages: to see how frequently the user changes or plays with the climate functions. But, we will not have this during testing. So, it might not be a good idea to use this derived feature. Should we predict the message creation time then?\n",
    "3. \n",
    "\n",
    "#### Some questions:\n",
    "1. Correlation between no. of messages and drive duration: the number of messages might be lower for a shorter drive.\n",
    "2. Correlation between outside temperature and the target_temperature.\n",
    "\n",
    "#### Feature that might not be available in test time:\n",
    "1. c_drive_timestamp_stop\n",
    "2. c_only_driving_duration_sec\n",
    "3. \n"
   ]
  },
  {
   "attachments": {},
   "cell_type": "markdown",
   "id": "2d558226",
   "metadata": {},
   "source": [
    "### Other not relevant part now"
   ]
  },
  {
   "cell_type": "code",
   "execution_count": null,
   "id": "b153fefe",
   "metadata": {},
   "outputs": [],
   "source": []
  },
  {
   "cell_type": "code",
   "execution_count": null,
   "id": "9171ecc5-c119-4f42-8add-e5b2da201a29",
   "metadata": {
    "tags": []
   },
   "outputs": [],
   "source": [
    "from dask.distributed import Client\n",
    "\n",
    "client = Client(n_workers=4)\n",
    "client"
   ]
  },
  {
   "cell_type": "code",
   "execution_count": null,
   "id": "9b7a7914-f1bc-4524-9c44-a3f09ffa3801",
   "metadata": {
    "tags": []
   },
   "outputs": [],
   "source": [
    "import os\n",
    "import dask"
   ]
  },
  {
   "cell_type": "code",
   "execution_count": null,
   "id": "26c48478-4db1-4824-a53b-2df75f271c72",
   "metadata": {
    "tags": []
   },
   "outputs": [],
   "source": [
    "import dask.dataframe as dd\n",
    "dtype={'c_bcbehvenergyend_kwh': 'float64',\n",
    "       'c_bcbehvenergystart_kwh': 'float64',\n",
    "       'c_target_temp': 'float64',\n",
    "       'c_timezonedelta': 'float64'}\n",
    "ddf = dd.read_csv(\n",
    "    s3_uri,\n",
    "    dtype = dtype\n",
    ")\n",
    "ddf"
   ]
  },
  {
   "cell_type": "code",
   "execution_count": null,
   "id": "ca1ff187-669b-4e88-90e0-087741dc6180",
   "metadata": {
    "tags": []
   },
   "outputs": [],
   "source": [
    "ddf.head()"
   ]
  },
  {
   "cell_type": "code",
   "execution_count": null,
   "id": "6e8af7c1-5a1c-4bbf-bc84-3546a9c65e53",
   "metadata": {
    "tags": []
   },
   "outputs": [],
   "source": [
    "ddf.tail()"
   ]
  },
  {
   "cell_type": "code",
   "execution_count": null,
   "id": "d3cef98e-dfde-491a-bcee-44e0e0bb01c9",
   "metadata": {
    "tags": []
   },
   "outputs": [],
   "source": [
    "ddf['c_van17'].unique().compute()"
   ]
  },
  {
   "cell_type": "code",
   "execution_count": null,
   "id": "43146077-c7ec-4252-a7c8-9ba788f2b32c",
   "metadata": {},
   "outputs": [],
   "source": []
  }
 ],
 "metadata": {
  "kernelspec": {
   "display_name": "decision-transformer-gym",
   "language": "python",
   "name": "python3"
  },
  "language_info": {
   "codemirror_mode": {
    "name": "ipython",
    "version": 3
   },
   "file_extension": ".py",
   "mimetype": "text/x-python",
   "name": "python",
   "nbconvert_exporter": "python",
   "pygments_lexer": "ipython3",
   "version": "3.8.5"
  }
 },
 "nbformat": 4,
 "nbformat_minor": 5
}
